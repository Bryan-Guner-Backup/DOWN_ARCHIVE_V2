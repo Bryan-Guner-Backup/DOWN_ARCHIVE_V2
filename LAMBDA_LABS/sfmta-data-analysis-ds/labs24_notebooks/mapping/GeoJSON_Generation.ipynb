{
 "cells": [
  {
   "cell_type": "markdown",
   "metadata": {
    "colab_type": "text",
    "id": "ijbM_cXls_8b"
   },
   "source": [
    "# Creating GeoJSON for mapping"
   ]
  },
  {
   "cell_type": "markdown",
   "metadata": {
    "colab_type": "text",
    "id": "MqkP25TXtITE"
   },
   "source": [
    "## Loading data"
   ]
  },
  {
   "cell_type": "code",
   "execution_count": null,
   "metadata": {
    "colab": {},
    "colab_type": "code",
    "id": "6P5mNsWTVx58"
   },
   "outputs": [],
   "source": [
    "import requests\n",
    "import pandas as pd\n",
    "from time import time\n",
    "import numpy as np\n",
    "import json"
   ]
  },
  {
   "cell_type": "markdown",
   "metadata": {
    "colab_type": "text",
    "id": "fMRTKvCTtOFt"
   },
   "source": [
    "### A single day's (05/24/2020) full data pulled from api"
   ]
  },
  {
   "cell_type": "code",
   "execution_count": null,
   "metadata": {
    "colab": {},
    "colab_type": "code",
    "id": "M7B5rUEuYQTf"
   },
   "outputs": [],
   "source": [
    "url = 'http://sfmta-ds.eba-hqpuyrup.us-east-1.elasticbeanstalk.com/daily-general-json'"
   ]
  },
  {
   "cell_type": "code",
   "execution_count": null,
   "metadata": {
    "colab": {},
    "colab_type": "code",
    "id": "JrO1UgcxVz1b"
   },
   "outputs": [],
   "source": [
    "json_data = requests.get(url, params={'day': '2020-05-24'}).json()"
   ]
  },
  {
   "cell_type": "code",
   "execution_count": null,
   "metadata": {
    "colab": {},
    "colab_type": "code",
    "id": "CQ-s4xEnV3yQ"
   },
   "outputs": [],
   "source": [
    "# making df\n",
    "\n",
    "full_data = pd.DataFrame(data=json_data).sort_values('timestamp')"
   ]
  },
  {
   "cell_type": "markdown",
   "metadata": {
    "colab_type": "text",
    "id": "ikLyGEHNuSLd"
   },
   "source": [
    "## GeoJSON Generation"
   ]
  },
  {
   "cell_type": "code",
   "execution_count": null,
   "metadata": {
    "colab": {},
    "colab_type": "code",
    "id": "kmNUwChemZH_"
   },
   "outputs": [],
   "source": [
    "def create_simple_geojson(df, route=None):\n",
    "    \"\"\"\n",
    "    Function to generate a GeoJSON with basic info for plotting\n",
    "\n",
    "    Args:\n",
    "    df = dataframe of daily data from db or api\n",
    "         requires timestamp, age, rid, vid, latitude, longitude columns\n",
    "    \n",
    "    route = optional, str\n",
    "            id of route requested\n",
    "            if unspecified returns all routes in different format\n",
    "    \"\"\"\n",
    "    start = time()\n",
    "\n",
    "    # filtering by route if necessary\n",
    "    if route:\n",
    "        df = df[df.rid.eq(route)].copy()\n",
    "\n",
    "    # for readability\n",
    "    times = df.timestamp.values\n",
    "    ages = df.age.values\n",
    "\n",
    "    # adjusting timestamps by age of report\n",
    "    df['adjusted_timestamp'] = [pd.Timestamp(times[x]) - \n",
    "                                pd.Timedelta(seconds=ages[x]) \n",
    "                                for x in range(len(df.timestamp))]\n",
    "\n",
    "    print(f'Prep work done => {time()-start} seconds')\n",
    "\n",
    "    # generating only for queried route if specified\n",
    "    if route:\n",
    "        # list of dataframes by vehicle id\n",
    "        # verifying indexed by correct timestamp\n",
    "        divided_dfs = [df[df.vid.eq(x)].set_index('adjusted_timestamp') \n",
    "                      for x in df.vid.unique()]\n",
    "\n",
    "        print(f'Separated by Vehicle ID => {time()-start} seconds')\n",
    "\n",
    "        # creating geojson\n",
    "        geojson = {'type': 'FeatureCollection',\n",
    "                   'route': route, \n",
    "                   'vehicles': {str(x.vid[0]): create_geojson_features(x) \n",
    "                                for x in divided_dfs}}\n",
    "\n",
    "        print(f'GeoJSON created => {time()-start} seconds')\n",
    "        \n",
    "    else:\n",
    "        # list of dataframes by route id\n",
    "        divided_dfs = [df[df.rid.eq(x)].set_index('adjusted_timestamp')\n",
    "                       for x in df.rid.unique()]\n",
    "\n",
    "        print(f'Separated by Route ID => {time()-start} seconds')\n",
    "\n",
    "        # creating geojson\n",
    "        geojson = {'type': 'FeatureCollection',\n",
    "                   'routes': {x.rid[0]: create_geojson_features(x) \n",
    "                             for x in divided_dfs}}\n",
    "\n",
    "        print(f'GeoJSON created => {time()-start} seconds')\n",
    "\n",
    "    return geojson"
   ]
  },
  {
   "cell_type": "code",
   "execution_count": null,
   "metadata": {
    "colab": {},
    "colab_type": "code",
    "id": "4IDexFWWraWd"
   },
   "outputs": [],
   "source": [
    "def create_geojson_features(df):\n",
    "    \"\"\"\n",
    "    function to generate list of geojson features\n",
    "    for plotting vehicle locations on timestamped map\n",
    "\n",
    "    Expects a dataframe containing lat/lon, vid, timestamp\n",
    "    returns list of basic geojson formatted features:\n",
    "\n",
    "    {\n",
    "      type: Feature\n",
    "      geometry: {\n",
    "        type: Point,\n",
    "        coordinates:[lat, lon]\n",
    "      },\n",
    "      properties: {\n",
    "        route_id: rid\n",
    "        vehicle_id: vid\n",
    "        time: timestamp\n",
    "      }\n",
    "    }\n",
    "    \"\"\"\n",
    "    # initializing empty features list\n",
    "    features = []\n",
    "\n",
    "    # iterating through df to pull coords, vid, timestamp\n",
    "    # and format for json\n",
    "    for index, row in df.iterrows():\n",
    "      feature = {\n",
    "          'type': 'Feature',\n",
    "          'geometry': {\n",
    "              'type':'Point', \n",
    "              'coordinates':[row.latitude, row.longitude]\n",
    "          },\n",
    "          'properties': {\n",
    "              'route_id': row.rid.__str__(),\n",
    "              'vehicle_id': row.vid.__str__(),\n",
    "              'time': row.timestamp.__str__(),\n",
    "          }\n",
    "      }\n",
    "      features.append(feature) # adding point to features list\n",
    "    return features"
   ]
  },
  {
   "cell_type": "code",
   "execution_count": 72,
   "metadata": {
    "colab": {
     "base_uri": "https://localhost:8080/",
     "height": 67
    },
    "colab_type": "code",
    "id": "6plTkfuupQRO",
    "outputId": "e7e799d3-4789-4ab5-fc61-86a94e9fbc22"
   },
   "outputs": [
    {
     "name": "stdout",
     "output_type": "stream",
     "text": [
      "Prep work done => 0.4732964038848877 seconds\n",
      "Separated by Vehicle ID => 0.518723726272583 seconds\n",
      "GeoJSON created => 3.169445753097534 seconds\n"
     ]
    }
   ],
   "source": [
    "# generating for the cali 1 line\n",
    "\n",
    "test_json = create_simple_geojson(full_data, '1')"
   ]
  },
  {
   "cell_type": "code",
   "execution_count": null,
   "metadata": {
    "colab": {},
    "colab_type": "code",
    "id": "XtpK0_3fdVDm"
   },
   "outputs": [],
   "source": [
    "# saving json file\n",
    "\n",
    "with open('05-24-cali1.txt', 'w') as outfile:\n",
    "  json.dump(test_json, outfile)"
   ]
  },
  {
   "cell_type": "markdown",
   "metadata": {
    "colab_type": "text",
    "id": "c_m1uyukCyWx"
   },
   "source": [
    "## Updates\n",
    "\n",
    "Now generating basic GeoJSON files for Web.\n",
    "\n",
    "Followed simplest common formatting I could find; tested with plotly and folium,\n",
    "should play beautifully with mapbox but haven't personally tested.\n",
    "\n",
    "### GeoJSON structure - Route Specified:\n",
    "```\n",
    "{\n",
    "  \"type\": \"FeatureCollection\",\n",
    "  \"route\": \"route_specified_here\",\n",
    "  \"vehicles\": {\n",
    "    \"8624\": [\n",
    "      {\n",
    "        \"type\": \"Feature\",\n",
    "        \"geometry\": {\n",
    "          \"type\": \"Point\",\n",
    "          \"coordinates\": [\n",
    "            37.7099,\n",
    "            -122.404\n",
    "          ]\n",
    "        },\n",
    "        \"properties\": {\n",
    "          \"route_id\": \"90\",\n",
    "          \"vehicle_id\": \"8624\",\n",
    "          \"time\": \"2020-05-24 00:00:13\"\n",
    "        }\n",
    "      },\n",
    "      {\n",
    "        \"type\": \"Feature\",\n",
    "        \"geometry\": {\n",
    "          \"type\": \"Point\",\n",
    "          \"coordinates\": [\n",
    "            37.7099,\n",
    "            -122.404\n",
    "          ]\n",
    "        },\n",
    "        \"properties\": {\n",
    "          \"route_id\": \"90\",\n",
    "          \"vehicle_id\": \"8624\",\n",
    "          \"time\": \"2020-05-24 00:01:13\"\n",
    "        }\n",
    "      }\n",
    "    \"8810\": [\n",
    "      {\n",
    "        \"type\": \"Feature\",\n",
    "        etc. etc. etc.\n",
    "```\n",
    "\n",
    "### GeoJSON Structure - Route Unspecified:\n",
    "```\n",
    "{\n",
    "  \"type\": \"FeatureCollection\",\n",
    "  \"routes\": {\n",
    "    \"1\": [\n",
    "      {\n",
    "        \"type\": \"Feature\",\n",
    "        \"geometry\": {\n",
    "          \"type\": \"Point\",\n",
    "          \"coordinates\": [\n",
    "            37.7906,\n",
    "            -122.428\n",
    "          ]\n",
    "        },\n",
    "        \"properties\": {\n",
    "          \"route_id\": \"1\",\n",
    "          \"vehicle_id\": \"5805\",\n",
    "          \"time\": \"2020-05-24 03:40:12\"\n",
    "        }\n",
    "      },\n",
    "      {\n",
    "        \"type\": \"Feature\",\n",
    "        \"geometry\": {\n",
    "          \"type\": \"Point\",\n",
    "          \"coordinates\": [\n",
    "            37.7908,\n",
    "            -122.426\n",
    "          ]\n",
    "        },\n",
    "        \"properties\": {\n",
    "          \"route_id\": \"1\",\n",
    "          \"vehicle_id\": \"5805\",\n",
    "          \"time\": \"2020-05-24 03:41:13\"\n",
    "        }\n",
    "      }\n",
    "    ]\n",
    "    \"2\": [\n",
    "      {\n",
    "        \"type: \"Feature\",\n",
    "        etc. etc. etc.\n",
    "```\n",
    "\n",
    "It seems to me the general use case is by route; mapping whole transit types could be way too cluttered to be useful. Nevertheless, the functionality is there if needed.\n",
    "\n",
    "Generating the JSON for a single route adds a negligible amount of time to the time spent generating a hypothetical daily report. Highly dependent on number of vehicles to parse but between .3 seconds and 4 seconds min and max during testing. Generating for all routes takes ~40 seconds. Given that we're generating scheduled daily reports and aren't worried about generating and serving this data live except under very specific use cases, I don't foresee this being an issue either way. \n",
    "\n",
    "Probably some optimization to be done there but definitely not worth taking the time until we actually have MVP out.\n",
    "\n",
    "One (maybe more pressing) concern is JSON size; not sure what is reasonable, but largest for a single route is ~3.5mb. I imagine there is optimization to be done in formatting to cut down on that size but this is outside of my wheelhouse.\n",
    "\n",
    "Given that we're timestamping for slider instead of just plotting all at once my understanding is that we're locked into a certain amount of bloat to ensure relationships between points and timestamps."
   ]
  }
 ],
 "metadata": {
  "colab": {
   "collapsed_sections": [],
   "name": "GeoJSON_Generation.ipynb",
   "provenance": []
  },
  "kernelspec": {
   "display_name": "Python 3",
   "language": "python",
   "name": "python3"
  },
  "language_info": {
   "codemirror_mode": {
    "name": "ipython",
    "version": 3
   },
   "file_extension": ".py",
   "mimetype": "text/x-python",
   "name": "python",
   "nbconvert_exporter": "python",
   "pygments_lexer": "ipython3",
   "version": "3.7.5"
  }
 },
 "nbformat": 4,
 "nbformat_minor": 4
}
