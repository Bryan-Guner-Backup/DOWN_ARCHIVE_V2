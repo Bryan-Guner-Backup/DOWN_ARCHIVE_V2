{
 "cells": [
  {
   "cell_type": "markdown",
   "metadata": {
    "colab_type": "text",
    "id": "ijbM_cXls_8b"
   },
   "source": [
    "# Iterating On Stop Assignment"
   ]
  },
  {
   "cell_type": "markdown",
   "metadata": {
    "colab_type": "text",
    "id": "MqkP25TXtITE"
   },
   "source": [
    "## Loading data"
   ]
  },
  {
   "cell_type": "code",
   "execution_count": 1,
   "metadata": {},
   "outputs": [
    {
     "name": "stdout",
     "output_type": "stream",
     "text": [
      "Requirement already satisfied: folium in /usr/local/lib/python3.7/site-packages (0.11.0)\n",
      "Requirement already satisfied: branca>=0.3.0 in /usr/local/lib/python3.7/site-packages (from folium) (0.4.1)\n",
      "Requirement already satisfied: jinja2>=2.9 in /usr/local/lib/python3.7/site-packages (from folium) (2.11.1)\n",
      "Requirement already satisfied: numpy in /usr/local/lib/python3.7/site-packages (from folium) (1.17.3)\n",
      "Requirement already satisfied: requests in /usr/local/lib/python3.7/site-packages (from folium) (2.22.0)\n",
      "Requirement already satisfied: MarkupSafe>=0.23 in /usr/local/lib/python3.7/site-packages (from jinja2>=2.9->folium) (1.1.1)\n",
      "Requirement already satisfied: certifi>=2017.4.17 in /usr/local/lib/python3.7/site-packages (from requests->folium) (2019.11.28)\n",
      "Requirement already satisfied: idna<2.9,>=2.5 in /usr/local/lib/python3.7/site-packages (from requests->folium) (2.8)\n",
      "Requirement already satisfied: chardet<3.1.0,>=3.0.2 in /usr/local/lib/python3.7/site-packages (from requests->folium) (3.0.4)\n",
      "Requirement already satisfied: urllib3!=1.25.0,!=1.25.1,<1.26,>=1.21.1 in /usr/local/lib/python3.7/site-packages (from requests->folium) (1.24.3)\n",
      "Note: you may need to restart the kernel to use updated packages.\n"
     ]
    }
   ],
   "source": [
    "pip install folium"
   ]
  },
  {
   "cell_type": "code",
   "execution_count": 2,
   "metadata": {
    "colab": {},
    "colab_type": "code",
    "id": "6P5mNsWTVx58"
   },
   "outputs": [],
   "source": [
    "import requests\n",
    "import pandas as pd\n",
    "from operator import itemgetter\n",
    "from math import sqrt, cos\n",
    "from time import time, mktime\n",
    "import folium\n",
    "from folium.plugins import TimestampedGeoJson\n",
    "import datetime\n",
    "import numpy as np"
   ]
  },
  {
   "cell_type": "code",
   "execution_count": 3,
   "metadata": {},
   "outputs": [],
   "source": [
    "# Muting chained assignment warning; needs refactoring\n",
    "# but doesn't affect performance\n",
    "\n",
    "pd.set_option('mode.chained_assignment', None)"
   ]
  },
  {
   "cell_type": "markdown",
   "metadata": {
    "colab_type": "text",
    "id": "fMRTKvCTtOFt"
   },
   "source": [
    "### A single day's (05/24/2020) full data pulled from api"
   ]
  },
  {
   "cell_type": "code",
   "execution_count": 4,
   "metadata": {
    "colab": {},
    "colab_type": "code",
    "id": "M7B5rUEuYQTf"
   },
   "outputs": [],
   "source": [
    "url = 'http://sfmta-ds.eba-hqpuyrup.us-east-1.elasticbeanstalk.com/daily-general-json'"
   ]
  },
  {
   "cell_type": "code",
   "execution_count": 5,
   "metadata": {
    "colab": {},
    "colab_type": "code",
    "id": "JrO1UgcxVz1b"
   },
   "outputs": [],
   "source": [
    "json_data = requests.get(url, params={'day': '2020-05-24'}).json()"
   ]
  },
  {
   "cell_type": "code",
   "execution_count": 6,
   "metadata": {
    "colab": {},
    "colab_type": "code",
    "id": "CQ-s4xEnV3yQ"
   },
   "outputs": [],
   "source": [
    "# making df\n",
    "\n",
    "full_data = pd.DataFrame(data=json_data).sort_values('timestamp')"
   ]
  },
  {
   "cell_type": "code",
   "execution_count": 7,
   "metadata": {
    "colab": {},
    "colab_type": "code",
    "id": "IBIOysQgYMux"
   },
   "outputs": [],
   "source": [
    "# sub dfs for testing\n",
    "# single route, all vehicles\n",
    "# single route, single vehicle\n",
    "\n",
    "nbus = full_data[full_data['rid']=='NBUS']\n",
    "nbus_highest = nbus[nbus['vid']==(nbus['vid'].value_counts().index[0])].sort_values('timestamp')"
   ]
  },
  {
   "cell_type": "code",
   "execution_count": 8,
   "metadata": {
    "colab": {},
    "colab_type": "code",
    "id": "EAug_TTTlkZm"
   },
   "outputs": [],
   "source": [
    "# using stops gathered by Labs 22 for expediency\n",
    "# all stops\n",
    "# all stops in one route\n",
    "\n",
    "stops = pd.read_csv('https://raw.githubusercontent.com/Lambda-School-Labs/sfmta-data-analysis-ds/master/deprecated_assets/datasets/route_info.csv')\n",
    "nbus_stops = stops[stops['route_id']=='NBUS']"
   ]
  },
  {
   "cell_type": "markdown",
   "metadata": {
    "colab_type": "text",
    "id": "0qbU2ZvatpRG"
   },
   "source": [
    "## Engineering Probable Nearest Stop and Distance (For Confidence)"
   ]
  },
  {
   "cell_type": "markdown",
   "metadata": {
    "colab_type": "text",
    "id": "p30mZ9Fl9NaG"
   },
   "source": [
    "### Original helper function for wrangling"
   ]
  },
  {
   "cell_type": "code",
   "execution_count": 9,
   "metadata": {
    "colab": {},
    "colab_type": "code",
    "id": "tb-Kk_JpfgJB"
   },
   "outputs": [],
   "source": [
    "def wrangle_bus(df):\n",
    "    \"\"\"\n",
    "    preps dataframe for a single bus\n",
    "    gives accurate timestamps and naively calculates \n",
    "    dwell time as 1min per checkin with motion (kph <= 0)\n",
    "    \n",
    "    Largest bottleneck for time-cost in df prep\n",
    "    currently not implemented until refactor\n",
    "    \"\"\"\n",
    "    \n",
    "    times = df['timestamp'].values\n",
    "    ages = df['age'].values\n",
    "    \n",
    "    df['adjusted_timestamp'] = [pd.Timestamp(times[x]) - pd.Timedelta(seconds=ages[x]) for \n",
    "                                x in range(len(df['timestamp']))]\n",
    "    \n",
    "    df['timestamp'] = [pd.Timestamp(times[x]) for x in range(len(df['timestamp']))]\n",
    "\n",
    "    dwell_count = 0\n",
    "    dwell_totals = []\n",
    "\n",
    "    for x in df['kph']:\n",
    "        if x <= 0:\n",
    "          dwell_count += 1\n",
    "          dwell_totals.append(dwell_count)\n",
    "        elif x > 0:\n",
    "          dwell_totals.append(0)\n",
    "          dwell_count = 0\n",
    "            \n",
    "    df['dwell'] = [dwell_totals[x] for x in range(len(df))]\n",
    "\n",
    "    return df"
   ]
  },
  {
   "cell_type": "markdown",
   "metadata": {
    "colab_type": "text",
    "id": "yvhKXiHi9Sbn"
   },
   "source": [
    "### Function to calculate nearest stop within $X$ km by projected euclidean distance"
   ]
  },
  {
   "cell_type": "code",
   "execution_count": 10,
   "metadata": {},
   "outputs": [],
   "source": [
    "def fcc_projection(loc1, loc2):\n",
    "    \"\"\"\n",
    "    function to apply FCC recommended formulae\n",
    "    for calculating distances on earth projected to a plane\n",
    "    \n",
    "    significantly faster computationally, negligible loss in accuracy\n",
    "    \n",
    "    Args: \n",
    "    loc1 - a tuple of lat/lon\n",
    "    loc2 - a tuple of lat/lon\n",
    "    \"\"\"\n",
    "    lat1, lat2 = loc1[0], loc2[0]\n",
    "    lon1, lon2 = loc1[1], loc2[1]\n",
    "    \n",
    "    mean_lat = (lat1+lat2)/2\n",
    "    delta_lat = lat2 - lat1\n",
    "    delta_lon = lon2 - lon1\n",
    "    \n",
    "    k1 = 111.13209 - 0.56605*cos(2*mean_lat) + .0012*cos(4*mean_lat)\n",
    "    k2 = 111.41513*cos(mean_lat) - 0.09455*cos(3*mean_lat) + 0.00012*cos(5*mean_lat)\n",
    "    \n",
    "    distance = sqrt((k1*delta_lat)**2 + (k2*delta_lon)**2)\n",
    "    \n",
    "    return distance"
   ]
  },
  {
   "cell_type": "code",
   "execution_count": 11,
   "metadata": {
    "colab": {},
    "colab_type": "code",
    "id": "cvbkTZWpmps1"
   },
   "outputs": [],
   "source": [
    "def assign_stop(df, stops):\n",
    "    \"\"\"\n",
    "    applies basic wrangling function\n",
    "    calculates nearest stop from reported location in km\n",
    "    returns dataframe with reported location, \n",
    "    nearest stop (coords and name), and distance between\n",
    "\n",
    "    tested with single buses on single routes on a single day;\n",
    "    technically route/vehicle/time agnostic\n",
    "    don't foresee any issues generalizing\n",
    "    \n",
    "    implements FCC projection formulae for calculating distance\n",
    "    \n",
    "    Args:\n",
    "    df - dataframe of transit data, requires 'latitude', 'longitude' columns\n",
    "    stops - datafram of stops data, requires 'lat', 'lon', 'title' columns\n",
    "    \"\"\"\n",
    "    \n",
    "    # TO-DO: error handling for missing routes from either df or stops\n",
    "    # Currently handling by intersecting sets during function call\n",
    "    \n",
    "    start = time()\n",
    "    \n",
    "    # wrangle_bus function is now largest time bottleneck - may be removed\n",
    "    wrangle_bus(df)\n",
    "\n",
    "    # creating list of lat/lon dictionaries for stops and reported bus locations\n",
    "    stop_lats = stops['lat'].values\n",
    "    stop_lons = stops['lon'].values\n",
    "\n",
    "    reported_lats = df['latitude'].values\n",
    "    reported_lons = df['longitude'].values\n",
    "\n",
    "    stop_points = [{'latitude': stop_lats[x], 'longitude': stop_lons[x]} \n",
    "                 for x in range(len(stops))]\n",
    "\n",
    "    reported_points = [{'latitude': reported_lats[x], \n",
    "                      'longitude': reported_lons[x]} \n",
    "                     for x in range(len(df))]\n",
    "\n",
    "    # to minimize possible overlap between probable stops\n",
    "    # 500 ft as km\n",
    "    # upper end of previous range for minimum distance between stops according to sfmta\n",
    "    # this value seems good but could use more testing\n",
    "    radius = .1524\n",
    "\n",
    "    # dict to tuples to play nice with geopy\n",
    "    stop_point_tuples = [tuple(stop_points[x].values()) \n",
    "                       for x in range(len(stop_points))]\n",
    "\n",
    "    reported_point_tuples = [tuple(reported_points[x].values()) \n",
    "                           for x in range(len(reported_points))]\n",
    "\n",
    "    df['reported_location'] = reported_point_tuples\n",
    "    \n",
    "    print('Prep Complete')\n",
    "    \n",
    "    # generating ((lat/lon), distance) tuples for nearest stop within range\n",
    "    # using FCC ellipsoidal earth projection\n",
    "    distances = [{x: fcc_projection(location, x) \n",
    "                 for x in stop_point_tuples} \n",
    "                 for location in reported_point_tuples]\n",
    "    \n",
    "    print(f'Distances Generated => {len(distances)}')\n",
    "    \n",
    "    # sorting for nearest stop\n",
    "    distances_sorted = [{k: v for k, v in sorted(distances[x].items(), \n",
    "                                                 key=itemgetter(1))}\n",
    "                       for x in range(len(distances))]\n",
    "    \n",
    "    print(f'Distances Sorted => {len(distances_sorted)}')\n",
    "    \n",
    "    # creating list of nearest stops\n",
    "    # nearest stop if nearest stop within radius, else None\n",
    "    point_stops = [next(iter(distances_sorted[x].items())) \n",
    "                   if next(iter(distances_sorted[x].items()))[1] <= radius \n",
    "                   else None\n",
    "                   for x in range(len(distances_sorted))]\n",
    "    \n",
    "    print(f'Stops Created => {len(point_stops)}')\n",
    "    \n",
    "    # assigning stop name from stops table based on lat/lon from previous step\n",
    "    stop_tuples = list(zip(stops['lat'], stops['lon']))\n",
    "    stop_titles = [stops['title'].iloc[stop_tuples.index(stop[0])] \n",
    "                   if stop != None\n",
    "                   else None \n",
    "                   for stop in point_stops]\n",
    "    \n",
    "    print(f'Titles Created => {len(stop_titles)}')\n",
    "    \n",
    "    # pulling lat/lon and distance from tuples for df\n",
    "    df['nearest_stop'] = [x[0] if x != None else None for x in point_stops]\n",
    "    df['distance_in_km'] = [x[1] if x != None else None for x in point_stops]\n",
    "\n",
    "    # pulling stop names from list for df\n",
    "    df['stops'] = stop_titles\n",
    "\n",
    "    # dropping columns of redundant information\n",
    "    df = df.drop(columns=['age', 'rid', 'vid', 'latitude', 'longitude'])\n",
    "    end = time()\n",
    "    \n",
    "    print(f'DF Complete\\nTime Elapsed: {end-start} seconds\\n')\n",
    "    \n",
    "    return df"
   ]
  },
  {
   "cell_type": "markdown",
   "metadata": {
    "colab_type": "text",
    "id": "2QQksl4bJdt8"
   },
   "source": [
    "### Full Day - Single Route, Single Bus"
   ]
  },
  {
   "cell_type": "code",
   "execution_count": 12,
   "metadata": {},
   "outputs": [
    {
     "name": "stdout",
     "output_type": "stream",
     "text": [
      "Prep Complete\n",
      "Distances Generated => 979\n",
      "Distances Sorted => 979\n",
      "Stops Created => 979\n",
      "Titles Created => 979\n",
      "DF Complete\n",
      "Time Elapsed: 0.356719970703125 seconds\n",
      "\n"
     ]
    }
   ],
   "source": [
    "nbus_highest_wrangled = assign_stop(nbus_highest, nbus_stops)"
   ]
  },
  {
   "cell_type": "markdown",
   "metadata": {
    "colab_type": "text",
    "id": "2QQksl4bJdt8"
   },
   "source": [
    "## Binning Avg. Bus Locations by Time (5 min)\n",
    "\n",
    "Below functions are predicated on data wrangled by above functions;\\\n",
    "specifically, they depend on the adjusted_timestamp and reported_location.\n",
    "\n",
    "BIG SPAGHETTTT in here"
   ]
  },
  {
   "cell_type": "code",
   "execution_count": 13,
   "metadata": {},
   "outputs": [],
   "source": [
    "def time_wrangling(df, delta=5):\n",
    "    \n",
    "    delta = datetime.timedelta(minutes=delta)\n",
    "    \n",
    "    df['unix_timestamp'] = df['adjusted_timestamp'].apply(lambda d: \n",
    "                                                          mktime(d.timetuple()))\n",
    "    \n",
    "    df = df.set_index('adjusted_timestamp')\n",
    "    \n",
    "    bins = np.arange(min(df['unix_timestamp']),\n",
    "                     max(df['unix_timestamp'])\n",
    "                     + delta.seconds, delta.seconds)\n",
    "    \n",
    "    binned_df = df.groupby(df['unix_timestamp']\n",
    "                           .map(lambda t: datetime.datetime.fromtimestamp(bin_from_timestamp(t, bins))))\n",
    "    \n",
    "    binned_locs = {str(x): binned_df.get_group(str(x))['reported_location'] for x, y in binned_df}\n",
    "    \n",
    "    avg_locs = {x: avg_coords(binned_locs[x][:])\n",
    "                for x in binned_locs}\n",
    "    \n",
    "    return avg_locs"
   ]
  },
  {
   "cell_type": "code",
   "execution_count": 14,
   "metadata": {},
   "outputs": [],
   "source": [
    "def bin_from_timestamp(timestamp, bins):\n",
    "\n",
    "    diffs = [abs(timestamp - bin) for bin in bins]\n",
    "    return bins[diffs.index(min(diffs))]"
   ]
  },
  {
   "cell_type": "code",
   "execution_count": 15,
   "metadata": {},
   "outputs": [],
   "source": [
    "def avg_coords(coords):\n",
    "    avg = tuple(map(lambda y: sum(y) / float(len(y)), zip(*coords)))\n",
    "    return avg"
   ]
  },
  {
   "cell_type": "markdown",
   "metadata": {
    "colab_type": "text",
    "id": "2QQksl4bJdt8"
   },
   "source": [
    "## Mapping!"
   ]
  },
  {
   "cell_type": "markdown",
   "metadata": {
    "colab_type": "text",
    "id": "2QQksl4bJdt8"
   },
   "source": [
    "### Creating GeoJson for playback of timestamped locations"
   ]
  },
  {
   "cell_type": "code",
   "execution_count": 16,
   "metadata": {},
   "outputs": [],
   "source": [
    "def create_geojson_features(time_locs):\n",
    "    print('> Creating GeoJSON features...')\n",
    "    features = []\n",
    "    for entry in time_locs:\n",
    "        feature = {\n",
    "            'type': 'Feature',\n",
    "            'geometry': {\n",
    "                'type':'Point', \n",
    "                'coordinates':[time_locs[entry][1],time_locs[entry][0]]\n",
    "            },\n",
    "            'properties': {\n",
    "                'time': entry.__str__(),\n",
    "                'style': {'color' : 'blue'},\n",
    "                'icon': 'circle',\n",
    "                'iconstyle':{\n",
    "                    'fillColor': 'blue',\n",
    "                    'fillOpacity': 0.8,\n",
    "                    'stroke': 'true',\n",
    "                    'radius': 7\n",
    "                }\n",
    "            }\n",
    "        }\n",
    "        features.append(feature)\n",
    "    return features"
   ]
  },
  {
   "cell_type": "markdown",
   "metadata": {
    "colab_type": "text",
    "id": "2QQksl4bJdt8"
   },
   "source": [
    "### Defining map and geojson params for playback"
   ]
  },
  {
   "cell_type": "code",
   "execution_count": 17,
   "metadata": {},
   "outputs": [],
   "source": [
    "def make_map(features, delta, duration):\n",
    "    print('> Making map...')\n",
    "    bus_map = folium.Map(location=[37.77293534218353, -122.44596170151804], \n",
    "                         control_scale=True, \n",
    "                         zoom_start=14)\n",
    "\n",
    "    TimestampedGeoJson(\n",
    "        {'type': 'FeatureCollection',\n",
    "        'features': features},\n",
    "        period=f'PT{delta}M',\n",
    "        add_last_point=True,\n",
    "        auto_play=False,\n",
    "        loop=False,\n",
    "        max_speed=2,\n",
    "        loop_button=True,\n",
    "        date_options='HH:mm:ss',\n",
    "        time_slider_drag_update=True,\n",
    "        duration=f'PT{duration}M'\n",
    "    ).add_to(bus_map)\n",
    "    print('> Done.')\n",
    "    return bus_map\n",
    "\n",
    "def plot_map(time_locs, delta=5, duration=5):\n",
    "    features = create_geojson_features(time_locs)\n",
    "    return make_map(features, delta, duration)"
   ]
  },
  {
   "cell_type": "markdown",
   "metadata": {
    "colab_type": "text",
    "id": "2QQksl4bJdt8"
   },
   "source": [
    "### It's a map!"
   ]
  },
  {
   "cell_type": "code",
   "execution_count": 18,
   "metadata": {},
   "outputs": [
    {
     "name": "stdout",
     "output_type": "stream",
     "text": [
      "> Creating GeoJSON features...\n",
      "> Making map...\n",
      "> Done.\n"
     ]
    },
    {
     "data": {
      "text/html": [
       "<div style=\"width:100%;\"><div style=\"position:relative;width:100%;height:0;padding-bottom:60%;\"><span style=\"color:#565656\">Make this Notebook Trusted to load map: File -> Trust Notebook</span><iframe src=\"about:blank\" style=\"position:absolute;width:100%;height:100%;left:0;top:0;border:none !important;\" data-html=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 onload=\"this.contentDocument.open();this.contentDocument.write(atob(this.getAttribute('data-html')));this.contentDocument.close();\" allowfullscreen webkitallowfullscreen mozallowfullscreen></iframe></div></div>"
      ],
      "text/plain": [
       "<folium.folium.Map at 0x1178bdc50>"
      ]
     },
     "execution_count": 18,
     "metadata": {},
     "output_type": "execute_result"
    }
   ],
   "source": [
    "plot_map(time_wrangling(nbus_highest_wrangled, delta=5), delta=5, duration=5)"
   ]
  },
  {
   "cell_type": "code",
   "execution_count": 19,
   "metadata": {},
   "outputs": [
    {
     "name": "stdout",
     "output_type": "stream",
     "text": [
      "> Creating GeoJSON features...\n",
      "> Making map...\n",
      "> Done.\n"
     ]
    }
   ],
   "source": [
    "# saving map\n",
    "\n",
    "nbus_single_map = plot_map(time_wrangling(nbus_highest_wrangled, delta=5), delta=5, duration=5)\n",
    "nbus_single_map.save('nbus_single.html')"
   ]
  },
  {
   "cell_type": "markdown",
   "metadata": {
    "colab_type": "text",
    "id": "2QQksl4bJdt8"
   },
   "source": [
    "## Moving Forward\n",
    "\n",
    "The above is a very rough-and-ready approach to mapping, but Folium is a fairly powerful and flexible package\\\n",
    "for mapping, and offers plug-and-play for timestamped heatmapping as well.\n",
    "\n",
    "The immediate issue with above is that currently my code only handles single vehicles. It needs refactoring\\\n",
    "to be able to handle multiple vehicles on the same route. I imagine that process would also make it viable for\\\n",
    "mapping multiple routes (maybe useful), all routes for a transit type (maybe not useful), and all transit (not useful?) ¯\\\\_(ツ)_/¯\n",
    "\n",
    "However I think the general direction is worth pursuing; we can generate these maps as a part of our daily report,\\\n",
    "with flexibilty of possibly allowing user input as far as timedeltas, visibility durations, etc. on reports generated\\\n",
    "at will, and FE can serve them as ebmedded html. (Something something iframes?)\n",
    "\n",
    "If it ends up being better for Web to own map generation, this at least gives a foundation for the data\\\n",
    "we actually have to serve for them to be able to do that, and a quick platform for testing.\n",
    "\n",
    "While rendering all vehicles on a route (or even generating the right data for such) is currently broken,\\\n",
    "I did do a small amount of testing as far as execution time goes on full-route data;\\\n",
    "assuming I don't do a completely horrific job during refactor, generating these maps or the data for them\\\n",
    "should be a negligble part of daily report generation."
   ]
  }
 ],
 "metadata": {
  "colab": {
   "collapsed_sections": [],
   "name": "CalculatingStops_FirstLook.ipynb",
   "provenance": []
  },
  "kernelspec": {
   "display_name": "Python 3",
   "language": "python",
   "name": "python3"
  },
  "language_info": {
   "codemirror_mode": {
    "name": "ipython",
    "version": 3
   },
   "file_extension": ".py",
   "mimetype": "text/x-python",
   "name": "python",
   "nbconvert_exporter": "python",
   "pygments_lexer": "ipython3",
   "version": "3.7.5"
  }
 },
 "nbformat": 4,
 "nbformat_minor": 4
}
