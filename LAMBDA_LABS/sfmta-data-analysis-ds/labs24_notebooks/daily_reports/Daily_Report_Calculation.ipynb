{
  "nbformat": 4,
  "nbformat_minor": 0,
  "metadata": {
    "colab": {
      "name": "Daily_Report_Calculation.ipynb",
      "provenance": [],
      "toc_visible": true
    },
    "kernelspec": {
      "name": "python3",
      "display_name": "Python 3"
    }
  },
  "cells": [
    {
      "cell_type": "markdown",
      "metadata": {
        "id": "R2fn1hFUu9pd",
        "colab_type": "text"
      },
      "source": [
        "# Exploring data to calculate bunches and gaps\n",
        "\n",
        "This first half of this notebook is the exploratory code I used to find this method in the first place.  The second half will be a cleaned version that can be run on its own."
      ]
    },
    {
      "cell_type": "markdown",
      "metadata": {
        "id": "6qFIYoKEI99G",
        "colab_type": "text"
      },
      "source": [
        "## Initialize database connection\n",
        "\n",
        "So I can load the data I'll need"
      ]
    },
    {
      "cell_type": "code",
      "metadata": {
        "id": "hbOEAgENEdZF",
        "colab_type": "code",
        "outputId": "c3a95c91-5f44-458a-aae8-5d406f8f5293",
        "colab": {
          "base_uri": "https://localhost:8080/",
          "height": 71
        }
      },
      "source": [
        "import getpass\n",
        "import psycopg2 as pg\n",
        "import pandas as pd\n",
        "import pandas.io.sql as sqlio\n",
        "import plotly.express as px"
      ],
      "execution_count": 0,
      "outputs": [
        {
          "output_type": "stream",
          "text": [
            "/usr/local/lib/python3.6/dist-packages/psycopg2/__init__.py:144: UserWarning: The psycopg2 wheel package will be renamed from release 2.8; in order to keep installing from binary please use \"pip install psycopg2-binary\" instead. For details see: <http://initd.org/psycopg/docs/install.html#binary-install-from-pypi>.\n",
            "  \"\"\")\n"
          ],
          "name": "stderr"
        }
      ]
    },
    {
      "cell_type": "code",
      "metadata": {
        "id": "ZPNVIrIdEWKg",
        "colab_type": "code",
        "outputId": "7dc334a0-fe5e-4c4d-86a6-aefab4b99709",
        "colab": {
          "base_uri": "https://localhost:8080/",
          "height": 119
        }
      },
      "source": [
        "# Enter database credentials.  Requires you to paste in the user and\n",
        "# password so it isn't saved in the notebook file\n",
        "print(\"Enter database username:\")\n",
        "user = getpass.getpass()\n",
        "print(\"Enter database password:\")\n",
        "password = getpass.getpass()\n",
        "\n",
        "creds = {\n",
        "  'user': user,\n",
        "  'password': password,\n",
        "  'host': \"lambdalabs24sfmta.cykkiwxbfvpg.us-east-1.rds.amazonaws.com\",\n",
        "  'dbname': \"historicalTransitData\"\n",
        "}\n",
        "\n",
        "# Set up connection to database\n",
        "cnx = pg.connect(**creds)\n",
        "cursor = cnx.cursor()\n",
        "\n",
        "print('\\nDatabase connection successful')"
      ],
      "execution_count": 0,
      "outputs": [
        {
          "output_type": "stream",
          "text": [
            "Enter database username:\n",
            "··········\n",
            "Enter database password:\n",
            "··········\n",
            "\n",
            "Database connection successful\n"
          ],
          "name": "stdout"
        }
      ]
    },
    {
      "cell_type": "markdown",
      "metadata": {
        "id": "XGH3ieMyJDiq",
        "colab_type": "text"
      },
      "source": [
        "## Load route configuration and schedule data using custom classes\n",
        "\n",
        "Allows me to build on previous work"
      ]
    },
    {
      "cell_type": "code",
      "metadata": {
        "id": "FEXHnK_xLxnE",
        "colab_type": "code",
        "colab": {}
      },
      "source": [
        "# Change this one cell and run all to change to a different route/day\n",
        "rid = \"1\"\n",
        "begin = \"2020/6/1 07:00:00\"\n",
        "end = \"2020/6/2 07:00:00\"  # non-inclusive"
      ],
      "execution_count": 0,
      "outputs": []
    },
    {
      "cell_type": "code",
      "metadata": {
        "id": "NONHdn4TE6wB",
        "colab_type": "code",
        "outputId": "2bb103bb-b286-429d-ab7b-7a9d99380884",
        "colab": {
          "base_uri": "https://localhost:8080/",
          "height": 34
        }
      },
      "source": [
        "# Load in the other classes I wrote (I uploaded class files to colab manually for this)\n",
        "from schedule import Schedule\n",
        "from route import Route\n",
        "\n",
        "# Day is not working right.  We currently have the same data for all days available, so this will still work\n",
        "# I will investigate why my class isn't pulling data right later, it worked before...\n",
        "day = \"2020-5-20\"\n",
        "\n",
        "schedule = Schedule(rid, day, cnx)\n",
        "route = Route(rid, day, cnx)"
      ],
      "execution_count": 0,
      "outputs": [
        {
          "output_type": "stream",
          "text": [
            "WARNING: 2 unused sub-paths\n"
          ],
          "name": "stdout"
        }
      ]
    },
    {
      "cell_type": "code",
      "metadata": {
        "id": "FSPCsrUMI0Ix",
        "colab_type": "code",
        "outputId": "3b69b638-85a6-4e91-efc5-782611bf475f",
        "colab": {
          "base_uri": "https://localhost:8080/",
          "height": 359
        }
      },
      "source": [
        "# One thing I was after there\n",
        "schedule.inbound_table.head(10)"
      ],
      "execution_count": 0,
      "outputs": [
        {
          "output_type": "execute_result",
          "data": {
            "text/html": [
              "<div>\n",
              "<style scoped>\n",
              "    .dataframe tbody tr th:only-of-type {\n",
              "        vertical-align: middle;\n",
              "    }\n",
              "\n",
              "    .dataframe tbody tr th {\n",
              "        vertical-align: top;\n",
              "    }\n",
              "\n",
              "    .dataframe thead th {\n",
              "        text-align: right;\n",
              "    }\n",
              "</style>\n",
              "<table border=\"1\" class=\"dataframe\">\n",
              "  <thead>\n",
              "    <tr style=\"text-align: right;\">\n",
              "      <th></th>\n",
              "      <th>4277</th>\n",
              "      <th>3825</th>\n",
              "      <th>3893</th>\n",
              "      <th>3848</th>\n",
              "      <th>6296</th>\n",
              "      <th>4026</th>\n",
              "      <th>4027</th>\n",
              "      <th>4028</th>\n",
              "      <th>34015</th>\n",
              "    </tr>\n",
              "  </thead>\n",
              "  <tbody>\n",
              "    <tr>\n",
              "      <th>0</th>\n",
              "      <td>NaN</td>\n",
              "      <td>NaN</td>\n",
              "      <td>NaN</td>\n",
              "      <td>04:32:00</td>\n",
              "      <td>04:37:00</td>\n",
              "      <td>04:44:00</td>\n",
              "      <td>04:50:00</td>\n",
              "      <td>04:56:00</td>\n",
              "      <td>04:59:00</td>\n",
              "    </tr>\n",
              "    <tr>\n",
              "      <th>1</th>\n",
              "      <td>NaN</td>\n",
              "      <td>NaN</td>\n",
              "      <td>NaN</td>\n",
              "      <td>04:40:00</td>\n",
              "      <td>04:45:00</td>\n",
              "      <td>04:52:00</td>\n",
              "      <td>04:58:00</td>\n",
              "      <td>05:04:00</td>\n",
              "      <td>05:07:00</td>\n",
              "    </tr>\n",
              "    <tr>\n",
              "      <th>2</th>\n",
              "      <td>NaN</td>\n",
              "      <td>NaN</td>\n",
              "      <td>NaN</td>\n",
              "      <td>04:48:00</td>\n",
              "      <td>04:53:00</td>\n",
              "      <td>05:00:00</td>\n",
              "      <td>05:06:00</td>\n",
              "      <td>05:12:00</td>\n",
              "      <td>05:15:00</td>\n",
              "    </tr>\n",
              "    <tr>\n",
              "      <th>3</th>\n",
              "      <td>NaN</td>\n",
              "      <td>NaN</td>\n",
              "      <td>NaN</td>\n",
              "      <td>04:56:00</td>\n",
              "      <td>05:01:00</td>\n",
              "      <td>05:08:00</td>\n",
              "      <td>05:14:00</td>\n",
              "      <td>05:20:00</td>\n",
              "      <td>05:23:00</td>\n",
              "    </tr>\n",
              "    <tr>\n",
              "      <th>4</th>\n",
              "      <td>NaN</td>\n",
              "      <td>NaN</td>\n",
              "      <td>NaN</td>\n",
              "      <td>05:04:00</td>\n",
              "      <td>05:09:00</td>\n",
              "      <td>05:16:00</td>\n",
              "      <td>05:22:00</td>\n",
              "      <td>05:28:00</td>\n",
              "      <td>05:31:00</td>\n",
              "    </tr>\n",
              "    <tr>\n",
              "      <th>5</th>\n",
              "      <td>NaN</td>\n",
              "      <td>NaN</td>\n",
              "      <td>NaN</td>\n",
              "      <td>05:12:00</td>\n",
              "      <td>05:17:00</td>\n",
              "      <td>05:24:00</td>\n",
              "      <td>05:30:00</td>\n",
              "      <td>05:36:00</td>\n",
              "      <td>05:39:00</td>\n",
              "    </tr>\n",
              "    <tr>\n",
              "      <th>6</th>\n",
              "      <td>05:00:00</td>\n",
              "      <td>05:10:00</td>\n",
              "      <td>05:16:00</td>\n",
              "      <td>NaN</td>\n",
              "      <td>05:21:00</td>\n",
              "      <td>05:28:00</td>\n",
              "      <td>05:34:00</td>\n",
              "      <td>05:40:00</td>\n",
              "      <td>05:43:00</td>\n",
              "    </tr>\n",
              "    <tr>\n",
              "      <th>7</th>\n",
              "      <td>NaN</td>\n",
              "      <td>NaN</td>\n",
              "      <td>NaN</td>\n",
              "      <td>05:20:00</td>\n",
              "      <td>05:25:00</td>\n",
              "      <td>05:32:00</td>\n",
              "      <td>05:38:00</td>\n",
              "      <td>05:44:00</td>\n",
              "      <td>05:47:00</td>\n",
              "    </tr>\n",
              "    <tr>\n",
              "      <th>8</th>\n",
              "      <td>05:08:00</td>\n",
              "      <td>05:18:00</td>\n",
              "      <td>05:24:00</td>\n",
              "      <td>NaN</td>\n",
              "      <td>05:29:00</td>\n",
              "      <td>05:36:00</td>\n",
              "      <td>05:42:00</td>\n",
              "      <td>05:48:00</td>\n",
              "      <td>05:51:00</td>\n",
              "    </tr>\n",
              "    <tr>\n",
              "      <th>9</th>\n",
              "      <td>05:16:00</td>\n",
              "      <td>05:26:00</td>\n",
              "      <td>05:32:00</td>\n",
              "      <td>NaN</td>\n",
              "      <td>05:37:00</td>\n",
              "      <td>05:44:00</td>\n",
              "      <td>05:50:00</td>\n",
              "      <td>05:56:00</td>\n",
              "      <td>05:59:00</td>\n",
              "    </tr>\n",
              "  </tbody>\n",
              "</table>\n",
              "</div>"
            ],
            "text/plain": [
              "       4277      3825      3893  ...      4027      4028     34015\n",
              "0       NaN       NaN       NaN  ...  04:50:00  04:56:00  04:59:00\n",
              "1       NaN       NaN       NaN  ...  04:58:00  05:04:00  05:07:00\n",
              "2       NaN       NaN       NaN  ...  05:06:00  05:12:00  05:15:00\n",
              "3       NaN       NaN       NaN  ...  05:14:00  05:20:00  05:23:00\n",
              "4       NaN       NaN       NaN  ...  05:22:00  05:28:00  05:31:00\n",
              "5       NaN       NaN       NaN  ...  05:30:00  05:36:00  05:39:00\n",
              "6  05:00:00  05:10:00  05:16:00  ...  05:34:00  05:40:00  05:43:00\n",
              "7       NaN       NaN       NaN  ...  05:38:00  05:44:00  05:47:00\n",
              "8  05:08:00  05:18:00  05:24:00  ...  05:42:00  05:48:00  05:51:00\n",
              "9  05:16:00  05:26:00  05:32:00  ...  05:50:00  05:56:00  05:59:00\n",
              "\n",
              "[10 rows x 9 columns]"
            ]
          },
          "metadata": {
            "tags": []
          },
          "execution_count": 7
        }
      ]
    },
    {
      "cell_type": "code",
      "metadata": {
        "id": "2QNeXgQLJo8R",
        "colab_type": "code",
        "outputId": "71b10677-7bfc-4e53-db35-656d5d2dc3e7",
        "colab": {
          "base_uri": "https://localhost:8080/",
          "height": 204
        }
      },
      "source": [
        "# I didn't have the stops functionality complete in my class, so I'll write it here\n",
        "# Read in route configuration data\n",
        "stops = pd.DataFrame(route.route_data['stop'])\n",
        "directions = pd.DataFrame(route.route_data['direction'])\n",
        "\n",
        "# Change stop arrays to just the list of numbers\n",
        "for i in range(len(directions)):\n",
        "  directions.at[i, 'stop'] = [s['tag'] for s in directions.at[i, 'stop']]\n",
        "\n",
        "# Find which stops are inbound or outbound\n",
        "inbound = []\n",
        "for stop_list in directions[directions['name'] == \"Inbound\"]['stop']:\n",
        "  for stop in stop_list:\n",
        "    if stop not in inbound:\n",
        "      inbound.append(stop)\n",
        "\n",
        "outbound = []\n",
        "for stop_list in directions[directions['name'] == \"Outbound\"]['stop']:\n",
        "  for stop in stop_list:\n",
        "    if stop not in inbound:\n",
        "      outbound.append(stop)\n",
        "\n",
        "# Label each stop as inbound or outbound\n",
        "stops['direction'] = ['none'] * len(stops)\n",
        "for i in range(len(stops)):\n",
        "  if stops.at[i, 'tag'] in inbound:\n",
        "    stops.at[i, 'direction'] = 'inbound'\n",
        "  elif stops.at[i, 'tag'] in outbound:\n",
        "    stops.at[i, 'direction'] = 'outbound'\n",
        "\n",
        "# Convert from string to float\n",
        "stops['lat'] = stops['lat'].astype(float)\n",
        "stops['lon'] = stops['lon'].astype(float)\n",
        "\n",
        "stops.head()"
      ],
      "execution_count": 0,
      "outputs": [
        {
          "output_type": "execute_result",
          "data": {
            "text/html": [
              "<div>\n",
              "<style scoped>\n",
              "    .dataframe tbody tr th:only-of-type {\n",
              "        vertical-align: middle;\n",
              "    }\n",
              "\n",
              "    .dataframe tbody tr th {\n",
              "        vertical-align: top;\n",
              "    }\n",
              "\n",
              "    .dataframe thead th {\n",
              "        text-align: right;\n",
              "    }\n",
              "</style>\n",
              "<table border=\"1\" class=\"dataframe\">\n",
              "  <thead>\n",
              "    <tr style=\"text-align: right;\">\n",
              "      <th></th>\n",
              "      <th>lat</th>\n",
              "      <th>lon</th>\n",
              "      <th>tag</th>\n",
              "      <th>title</th>\n",
              "      <th>stopId</th>\n",
              "      <th>direction</th>\n",
              "    </tr>\n",
              "  </thead>\n",
              "  <tbody>\n",
              "    <tr>\n",
              "      <th>0</th>\n",
              "      <td>37.79544</td>\n",
              "      <td>-122.39682</td>\n",
              "      <td>4015</td>\n",
              "      <td>Clay St &amp; Drumm St</td>\n",
              "      <td>14015</td>\n",
              "      <td>outbound</td>\n",
              "    </tr>\n",
              "    <tr>\n",
              "      <th>1</th>\n",
              "      <td>37.79450</td>\n",
              "      <td>-122.39761</td>\n",
              "      <td>6294</td>\n",
              "      <td>Sacramento St &amp; Davis St</td>\n",
              "      <td>16294</td>\n",
              "      <td>outbound</td>\n",
              "    </tr>\n",
              "    <tr>\n",
              "      <th>2</th>\n",
              "      <td>37.79418</td>\n",
              "      <td>-122.40028</td>\n",
              "      <td>6290</td>\n",
              "      <td>Sacramento St &amp; Battery St</td>\n",
              "      <td>16290</td>\n",
              "      <td>outbound</td>\n",
              "    </tr>\n",
              "    <tr>\n",
              "      <th>3</th>\n",
              "      <td>37.79403</td>\n",
              "      <td>-122.40155</td>\n",
              "      <td>6314</td>\n",
              "      <td>Sacramento St &amp; Sansome St</td>\n",
              "      <td>16314</td>\n",
              "      <td>outbound</td>\n",
              "    </tr>\n",
              "    <tr>\n",
              "      <th>4</th>\n",
              "      <td>37.79384</td>\n",
              "      <td>-122.40307</td>\n",
              "      <td>6307</td>\n",
              "      <td>Sacramento St &amp; Montgomery St</td>\n",
              "      <td>16307</td>\n",
              "      <td>outbound</td>\n",
              "    </tr>\n",
              "  </tbody>\n",
              "</table>\n",
              "</div>"
            ],
            "text/plain": [
              "        lat        lon   tag                          title stopId direction\n",
              "0  37.79544 -122.39682  4015             Clay St & Drumm St  14015  outbound\n",
              "1  37.79450 -122.39761  6294       Sacramento St & Davis St  16294  outbound\n",
              "2  37.79418 -122.40028  6290     Sacramento St & Battery St  16290  outbound\n",
              "3  37.79403 -122.40155  6314     Sacramento St & Sansome St  16314  outbound\n",
              "4  37.79384 -122.40307  6307  Sacramento St & Montgomery St  16307  outbound"
            ]
          },
          "metadata": {
            "tags": []
          },
          "execution_count": 8
        }
      ]
    },
    {
      "cell_type": "code",
      "metadata": {
        "id": "LQW85tZJKt-K",
        "colab_type": "code",
        "outputId": "143cb7de-72b9-4d23-95b6-25d3179a858a",
        "colab": {
          "base_uri": "https://localhost:8080/",
          "height": 204
        }
      },
      "source": [
        "# Combine with the schedule class\n",
        "# Add a boolean that is true if the stop is also in the schedule table (not all stops get scheduled)\n",
        "scheduled_stops = list(schedule.inbound_table) + list(schedule.outbound_table)\n",
        "stops['scheduled'] = [(tag in scheduled_stops) for tag in stops['tag']]\n",
        "\n",
        "stops.head()"
      ],
      "execution_count": 0,
      "outputs": [
        {
          "output_type": "execute_result",
          "data": {
            "text/html": [
              "<div>\n",
              "<style scoped>\n",
              "    .dataframe tbody tr th:only-of-type {\n",
              "        vertical-align: middle;\n",
              "    }\n",
              "\n",
              "    .dataframe tbody tr th {\n",
              "        vertical-align: top;\n",
              "    }\n",
              "\n",
              "    .dataframe thead th {\n",
              "        text-align: right;\n",
              "    }\n",
              "</style>\n",
              "<table border=\"1\" class=\"dataframe\">\n",
              "  <thead>\n",
              "    <tr style=\"text-align: right;\">\n",
              "      <th></th>\n",
              "      <th>lat</th>\n",
              "      <th>lon</th>\n",
              "      <th>tag</th>\n",
              "      <th>title</th>\n",
              "      <th>stopId</th>\n",
              "      <th>direction</th>\n",
              "      <th>scheduled</th>\n",
              "    </tr>\n",
              "  </thead>\n",
              "  <tbody>\n",
              "    <tr>\n",
              "      <th>0</th>\n",
              "      <td>37.79544</td>\n",
              "      <td>-122.39682</td>\n",
              "      <td>4015</td>\n",
              "      <td>Clay St &amp; Drumm St</td>\n",
              "      <td>14015</td>\n",
              "      <td>outbound</td>\n",
              "      <td>True</td>\n",
              "    </tr>\n",
              "    <tr>\n",
              "      <th>1</th>\n",
              "      <td>37.79450</td>\n",
              "      <td>-122.39761</td>\n",
              "      <td>6294</td>\n",
              "      <td>Sacramento St &amp; Davis St</td>\n",
              "      <td>16294</td>\n",
              "      <td>outbound</td>\n",
              "      <td>False</td>\n",
              "    </tr>\n",
              "    <tr>\n",
              "      <th>2</th>\n",
              "      <td>37.79418</td>\n",
              "      <td>-122.40028</td>\n",
              "      <td>6290</td>\n",
              "      <td>Sacramento St &amp; Battery St</td>\n",
              "      <td>16290</td>\n",
              "      <td>outbound</td>\n",
              "      <td>False</td>\n",
              "    </tr>\n",
              "    <tr>\n",
              "      <th>3</th>\n",
              "      <td>37.79403</td>\n",
              "      <td>-122.40155</td>\n",
              "      <td>6314</td>\n",
              "      <td>Sacramento St &amp; Sansome St</td>\n",
              "      <td>16314</td>\n",
              "      <td>outbound</td>\n",
              "      <td>True</td>\n",
              "    </tr>\n",
              "    <tr>\n",
              "      <th>4</th>\n",
              "      <td>37.79384</td>\n",
              "      <td>-122.40307</td>\n",
              "      <td>6307</td>\n",
              "      <td>Sacramento St &amp; Montgomery St</td>\n",
              "      <td>16307</td>\n",
              "      <td>outbound</td>\n",
              "      <td>False</td>\n",
              "    </tr>\n",
              "  </tbody>\n",
              "</table>\n",
              "</div>"
            ],
            "text/plain": [
              "        lat        lon   tag  ... stopId direction scheduled\n",
              "0  37.79544 -122.39682  4015  ...  14015  outbound      True\n",
              "1  37.79450 -122.39761  6294  ...  16294  outbound     False\n",
              "2  37.79418 -122.40028  6290  ...  16290  outbound     False\n",
              "3  37.79403 -122.40155  6314  ...  16314  outbound      True\n",
              "4  37.79384 -122.40307  6307  ...  16307  outbound     False\n",
              "\n",
              "[5 rows x 7 columns]"
            ]
          },
          "metadata": {
            "tags": []
          },
          "execution_count": 9
        }
      ]
    },
    {
      "cell_type": "markdown",
      "metadata": {
        "id": "GNVCfn2MJMwS",
        "colab_type": "text"
      },
      "source": [
        "## Load bus data for the day\n",
        "\n",
        "I'm directly accessing the database for this"
      ]
    },
    {
      "cell_type": "code",
      "metadata": {
        "id": "jEdKNCbFJWCj",
        "colab_type": "code",
        "outputId": "1fdb0774-b247-452d-c846-8bbd5d190a77",
        "colab": {
          "base_uri": "https://localhost:8080/",
          "height": 204
        }
      },
      "source": [
        "# Build query to select location data\n",
        "query = f\"\"\"\n",
        "  SELECT *\n",
        "  FROM locations\n",
        "  WHERE rid = '{rid}' AND\n",
        "    timestamp > '{begin}'::TIMESTAMP AND\n",
        "    timestamp < '{end}'::TIMESTAMP\n",
        "  ORDER BY id;\n",
        "\"\"\"\n",
        "\n",
        "# read the query directly into pandas\n",
        "locations = sqlio.read_sql_query(query, cnx)\n",
        "locations.head()"
      ],
      "execution_count": 0,
      "outputs": [
        {
          "output_type": "execute_result",
          "data": {
            "text/html": [
              "<div>\n",
              "<style scoped>\n",
              "    .dataframe tbody tr th:only-of-type {\n",
              "        vertical-align: middle;\n",
              "    }\n",
              "\n",
              "    .dataframe tbody tr th {\n",
              "        vertical-align: top;\n",
              "    }\n",
              "\n",
              "    .dataframe thead th {\n",
              "        text-align: right;\n",
              "    }\n",
              "</style>\n",
              "<table border=\"1\" class=\"dataframe\">\n",
              "  <thead>\n",
              "    <tr style=\"text-align: right;\">\n",
              "      <th></th>\n",
              "      <th>id</th>\n",
              "      <th>timestamp</th>\n",
              "      <th>rid</th>\n",
              "      <th>vid</th>\n",
              "      <th>age</th>\n",
              "      <th>kph</th>\n",
              "      <th>heading</th>\n",
              "      <th>latitude</th>\n",
              "      <th>longitude</th>\n",
              "      <th>direction</th>\n",
              "    </tr>\n",
              "  </thead>\n",
              "  <tbody>\n",
              "    <tr>\n",
              "      <th>0</th>\n",
              "      <td>2852834</td>\n",
              "      <td>2020-06-01 11:40:12</td>\n",
              "      <td>1</td>\n",
              "      <td>5797</td>\n",
              "      <td>2</td>\n",
              "      <td>18</td>\n",
              "      <td>75</td>\n",
              "      <td>37.7919</td>\n",
              "      <td>-122.425</td>\n",
              "      <td>1____I_S00</td>\n",
              "    </tr>\n",
              "    <tr>\n",
              "      <th>1</th>\n",
              "      <td>2852871</td>\n",
              "      <td>2020-06-01 11:41:12</td>\n",
              "      <td>1</td>\n",
              "      <td>5797</td>\n",
              "      <td>13</td>\n",
              "      <td>0</td>\n",
              "      <td>83</td>\n",
              "      <td>37.7921</td>\n",
              "      <td>-122.423</td>\n",
              "      <td>1____I_S00</td>\n",
              "    </tr>\n",
              "    <tr>\n",
              "      <th>2</th>\n",
              "      <td>2852908</td>\n",
              "      <td>2020-06-01 11:42:13</td>\n",
              "      <td>1</td>\n",
              "      <td>5797</td>\n",
              "      <td>0</td>\n",
              "      <td>11</td>\n",
              "      <td>75</td>\n",
              "      <td>37.7926</td>\n",
              "      <td>-122.420</td>\n",
              "      <td>1____I_S00</td>\n",
              "    </tr>\n",
              "    <tr>\n",
              "      <th>3</th>\n",
              "      <td>2852944</td>\n",
              "      <td>2020-06-01 11:43:12</td>\n",
              "      <td>1</td>\n",
              "      <td>5797</td>\n",
              "      <td>11</td>\n",
              "      <td>24</td>\n",
              "      <td>75</td>\n",
              "      <td>37.7930</td>\n",
              "      <td>-122.417</td>\n",
              "      <td>1____I_S00</td>\n",
              "    </tr>\n",
              "    <tr>\n",
              "      <th>4</th>\n",
              "      <td>2852981</td>\n",
              "      <td>2020-06-01 11:44:12</td>\n",
              "      <td>1</td>\n",
              "      <td>5797</td>\n",
              "      <td>22</td>\n",
              "      <td>10</td>\n",
              "      <td>75</td>\n",
              "      <td>37.7933</td>\n",
              "      <td>-122.414</td>\n",
              "      <td>1____I_S00</td>\n",
              "    </tr>\n",
              "  </tbody>\n",
              "</table>\n",
              "</div>"
            ],
            "text/plain": [
              "        id           timestamp rid  ...  latitude  longitude   direction\n",
              "0  2852834 2020-06-01 11:40:12   1  ...   37.7919   -122.425  1____I_S00\n",
              "1  2852871 2020-06-01 11:41:12   1  ...   37.7921   -122.423  1____I_S00\n",
              "2  2852908 2020-06-01 11:42:13   1  ...   37.7926   -122.420  1____I_S00\n",
              "3  2852944 2020-06-01 11:43:12   1  ...   37.7930   -122.417  1____I_S00\n",
              "4  2852981 2020-06-01 11:44:12   1  ...   37.7933   -122.414  1____I_S00\n",
              "\n",
              "[5 rows x 10 columns]"
            ]
          },
          "metadata": {
            "tags": []
          },
          "execution_count": 10
        }
      ]
    },
    {
      "cell_type": "code",
      "metadata": {
        "id": "MrwymnBkZlC2",
        "colab_type": "code",
        "outputId": "dd77cc3f-164e-4362-b975-339e401fb141",
        "colab": {
          "base_uri": "https://localhost:8080/",
          "height": 204
        }
      },
      "source": [
        "# Convert those UTC timestamps to local PST by subtracting 7 hours\n",
        "locations['timestamp'] = locations['timestamp'] - pd.Timedelta(hours=7)\n",
        "locations.head()"
      ],
      "execution_count": 0,
      "outputs": [
        {
          "output_type": "execute_result",
          "data": {
            "text/html": [
              "<div>\n",
              "<style scoped>\n",
              "    .dataframe tbody tr th:only-of-type {\n",
              "        vertical-align: middle;\n",
              "    }\n",
              "\n",
              "    .dataframe tbody tr th {\n",
              "        vertical-align: top;\n",
              "    }\n",
              "\n",
              "    .dataframe thead th {\n",
              "        text-align: right;\n",
              "    }\n",
              "</style>\n",
              "<table border=\"1\" class=\"dataframe\">\n",
              "  <thead>\n",
              "    <tr style=\"text-align: right;\">\n",
              "      <th></th>\n",
              "      <th>id</th>\n",
              "      <th>timestamp</th>\n",
              "      <th>rid</th>\n",
              "      <th>vid</th>\n",
              "      <th>age</th>\n",
              "      <th>kph</th>\n",
              "      <th>heading</th>\n",
              "      <th>latitude</th>\n",
              "      <th>longitude</th>\n",
              "      <th>direction</th>\n",
              "    </tr>\n",
              "  </thead>\n",
              "  <tbody>\n",
              "    <tr>\n",
              "      <th>0</th>\n",
              "      <td>2852834</td>\n",
              "      <td>2020-06-01 04:40:12</td>\n",
              "      <td>1</td>\n",
              "      <td>5797</td>\n",
              "      <td>2</td>\n",
              "      <td>18</td>\n",
              "      <td>75</td>\n",
              "      <td>37.7919</td>\n",
              "      <td>-122.425</td>\n",
              "      <td>1____I_S00</td>\n",
              "    </tr>\n",
              "    <tr>\n",
              "      <th>1</th>\n",
              "      <td>2852871</td>\n",
              "      <td>2020-06-01 04:41:12</td>\n",
              "      <td>1</td>\n",
              "      <td>5797</td>\n",
              "      <td>13</td>\n",
              "      <td>0</td>\n",
              "      <td>83</td>\n",
              "      <td>37.7921</td>\n",
              "      <td>-122.423</td>\n",
              "      <td>1____I_S00</td>\n",
              "    </tr>\n",
              "    <tr>\n",
              "      <th>2</th>\n",
              "      <td>2852908</td>\n",
              "      <td>2020-06-01 04:42:13</td>\n",
              "      <td>1</td>\n",
              "      <td>5797</td>\n",
              "      <td>0</td>\n",
              "      <td>11</td>\n",
              "      <td>75</td>\n",
              "      <td>37.7926</td>\n",
              "      <td>-122.420</td>\n",
              "      <td>1____I_S00</td>\n",
              "    </tr>\n",
              "    <tr>\n",
              "      <th>3</th>\n",
              "      <td>2852944</td>\n",
              "      <td>2020-06-01 04:43:12</td>\n",
              "      <td>1</td>\n",
              "      <td>5797</td>\n",
              "      <td>11</td>\n",
              "      <td>24</td>\n",
              "      <td>75</td>\n",
              "      <td>37.7930</td>\n",
              "      <td>-122.417</td>\n",
              "      <td>1____I_S00</td>\n",
              "    </tr>\n",
              "    <tr>\n",
              "      <th>4</th>\n",
              "      <td>2852981</td>\n",
              "      <td>2020-06-01 04:44:12</td>\n",
              "      <td>1</td>\n",
              "      <td>5797</td>\n",
              "      <td>22</td>\n",
              "      <td>10</td>\n",
              "      <td>75</td>\n",
              "      <td>37.7933</td>\n",
              "      <td>-122.414</td>\n",
              "      <td>1____I_S00</td>\n",
              "    </tr>\n",
              "  </tbody>\n",
              "</table>\n",
              "</div>"
            ],
            "text/plain": [
              "        id           timestamp rid  ...  latitude  longitude   direction\n",
              "0  2852834 2020-06-01 04:40:12   1  ...   37.7919   -122.425  1____I_S00\n",
              "1  2852871 2020-06-01 04:41:12   1  ...   37.7921   -122.423  1____I_S00\n",
              "2  2852908 2020-06-01 04:42:13   1  ...   37.7926   -122.420  1____I_S00\n",
              "3  2852944 2020-06-01 04:43:12   1  ...   37.7930   -122.417  1____I_S00\n",
              "4  2852981 2020-06-01 04:44:12   1  ...   37.7933   -122.414  1____I_S00\n",
              "\n",
              "[5 rows x 10 columns]"
            ]
          },
          "metadata": {
            "tags": []
          },
          "execution_count": 11
        }
      ]
    },
    {
      "cell_type": "code",
      "metadata": {
        "id": "Sk6D0a7-XYaO",
        "colab_type": "code",
        "outputId": "702325e8-5206-4c86-8479-18bd34df0a93",
        "colab": {
          "base_uri": "https://localhost:8080/",
          "height": 204
        }
      },
      "source": [
        "locations.tail()"
      ],
      "execution_count": 0,
      "outputs": [
        {
          "output_type": "execute_result",
          "data": {
            "text/html": [
              "<div>\n",
              "<style scoped>\n",
              "    .dataframe tbody tr th:only-of-type {\n",
              "        vertical-align: middle;\n",
              "    }\n",
              "\n",
              "    .dataframe tbody tr th {\n",
              "        vertical-align: top;\n",
              "    }\n",
              "\n",
              "    .dataframe thead th {\n",
              "        text-align: right;\n",
              "    }\n",
              "</style>\n",
              "<table border=\"1\" class=\"dataframe\">\n",
              "  <thead>\n",
              "    <tr style=\"text-align: right;\">\n",
              "      <th></th>\n",
              "      <th>id</th>\n",
              "      <th>timestamp</th>\n",
              "      <th>rid</th>\n",
              "      <th>vid</th>\n",
              "      <th>age</th>\n",
              "      <th>kph</th>\n",
              "      <th>heading</th>\n",
              "      <th>latitude</th>\n",
              "      <th>longitude</th>\n",
              "      <th>direction</th>\n",
              "    </tr>\n",
              "  </thead>\n",
              "  <tbody>\n",
              "    <tr>\n",
              "      <th>14456</th>\n",
              "      <td>3091322</td>\n",
              "      <td>2020-06-01 22:55:12</td>\n",
              "      <td>1</td>\n",
              "      <td>5772</td>\n",
              "      <td>29</td>\n",
              "      <td>0</td>\n",
              "      <td>260</td>\n",
              "      <td>37.7898</td>\n",
              "      <td>-122.434</td>\n",
              "      <td>1____O_S00</td>\n",
              "    </tr>\n",
              "    <tr>\n",
              "      <th>14457</th>\n",
              "      <td>3091360</td>\n",
              "      <td>2020-06-01 22:56:12</td>\n",
              "      <td>1</td>\n",
              "      <td>5772</td>\n",
              "      <td>26</td>\n",
              "      <td>13</td>\n",
              "      <td>165</td>\n",
              "      <td>37.7889</td>\n",
              "      <td>-122.436</td>\n",
              "      <td>1____O_S00</td>\n",
              "    </tr>\n",
              "    <tr>\n",
              "      <th>14458</th>\n",
              "      <td>3091398</td>\n",
              "      <td>2020-06-01 22:57:12</td>\n",
              "      <td>1</td>\n",
              "      <td>5772</td>\n",
              "      <td>23</td>\n",
              "      <td>0</td>\n",
              "      <td>261</td>\n",
              "      <td>37.7883</td>\n",
              "      <td>-122.439</td>\n",
              "      <td>1____O_S00</td>\n",
              "    </tr>\n",
              "    <tr>\n",
              "      <th>14459</th>\n",
              "      <td>3091436</td>\n",
              "      <td>2020-06-01 22:58:12</td>\n",
              "      <td>1</td>\n",
              "      <td>5772</td>\n",
              "      <td>33</td>\n",
              "      <td>37</td>\n",
              "      <td>255</td>\n",
              "      <td>37.7880</td>\n",
              "      <td>-122.441</td>\n",
              "      <td>1____O_S00</td>\n",
              "    </tr>\n",
              "    <tr>\n",
              "      <th>14460</th>\n",
              "      <td>3091474</td>\n",
              "      <td>2020-06-01 22:59:12</td>\n",
              "      <td>1</td>\n",
              "      <td>5772</td>\n",
              "      <td>30</td>\n",
              "      <td>6</td>\n",
              "      <td>180</td>\n",
              "      <td>37.7871</td>\n",
              "      <td>-122.447</td>\n",
              "      <td>None</td>\n",
              "    </tr>\n",
              "  </tbody>\n",
              "</table>\n",
              "</div>"
            ],
            "text/plain": [
              "            id           timestamp rid  ...  latitude  longitude   direction\n",
              "14456  3091322 2020-06-01 22:55:12   1  ...   37.7898   -122.434  1____O_S00\n",
              "14457  3091360 2020-06-01 22:56:12   1  ...   37.7889   -122.436  1____O_S00\n",
              "14458  3091398 2020-06-01 22:57:12   1  ...   37.7883   -122.439  1____O_S00\n",
              "14459  3091436 2020-06-01 22:58:12   1  ...   37.7880   -122.441  1____O_S00\n",
              "14460  3091474 2020-06-01 22:59:12   1  ...   37.7871   -122.447        None\n",
              "\n",
              "[5 rows x 10 columns]"
            ]
          },
          "metadata": {
            "tags": []
          },
          "execution_count": 12
        }
      ]
    },
    {
      "cell_type": "markdown",
      "metadata": {
        "id": "ZbN24Eo8MNeZ",
        "colab_type": "text"
      },
      "source": [
        "## Method exploration: bus trips\n",
        "\n",
        "Can we break bus location data into trips?  And will it match the number of scheduled trips?\n",
        "\n",
        "### Conclusion\n",
        "\n",
        "After exploring with the code below, I can't use trips in the way I had hoped.  There is too much inconsistency, it was actually hard to find one that showed data for the entire inbound or outbound trip.  And of course the number of observed trips doesn't match the number of scheduled trips."
      ]
    },
    {
      "cell_type": "code",
      "metadata": {
        "id": "yW__Fr2hOl8G",
        "colab_type": "code",
        "outputId": "dd9aacd4-3302-42b8-f1d3-0c54517902ba",
        "colab": {
          "base_uri": "https://localhost:8080/",
          "height": 51
        }
      },
      "source": [
        "print(\"Number of inbound trips:\", len(schedule.inbound_table))\n",
        "print(\"Number of outbound trips:\", len(schedule.outbound_table))"
      ],
      "execution_count": 0,
      "outputs": [
        {
          "output_type": "stream",
          "text": [
            "Number of inbound trips: 158\n",
            "Number of outbound trips: 158\n"
          ],
          "name": "stdout"
        }
      ]
    },
    {
      "cell_type": "code",
      "metadata": {
        "id": "fHux2ruQR3gG",
        "colab_type": "code",
        "colab": {}
      },
      "source": [
        "# Remove all rows where direction is empty (I may review this step later)\n",
        "locations_cleaned = locations[~pd.isna(locations['direction'])]"
      ],
      "execution_count": 0,
      "outputs": []
    },
    {
      "cell_type": "code",
      "metadata": {
        "id": "_dZ_5GhsMcv7",
        "colab_type": "code",
        "outputId": "4b4d079a-0975-4e3f-9092-ff37055ff567",
        "colab": {
          "base_uri": "https://localhost:8080/",
          "height": 119
        }
      },
      "source": [
        "# Start simple, use just 1 vid\n",
        "locations['vid'].value_counts()[:5]"
      ],
      "execution_count": 0,
      "outputs": [
        {
          "output_type": "execute_result",
          "data": {
            "text/plain": [
              "5798    569\n",
              "5800    561\n",
              "5853    556\n",
              "5760    554\n",
              "5838    550\n",
              "Name: vid, dtype: int64"
            ]
          },
          "metadata": {
            "tags": []
          },
          "execution_count": 15
        }
      ]
    },
    {
      "cell_type": "code",
      "metadata": {
        "id": "1_Bue5dQPY4_",
        "colab_type": "code",
        "outputId": "9271cb94-daa1-4f43-d254-24f1d8cc649c",
        "colab": {
          "base_uri": "https://localhost:8080/",
          "height": 221
        }
      },
      "source": [
        "# trips will be stored as a list of numbers, row indices matching the above table\n",
        "trips = pd.DataFrame(columns=['direction', 'vid', 'start', 'ids', 'count'])\n",
        "\n",
        "# perform search separately for each vid\n",
        "for vid in locations_cleaned['vid'].unique():\n",
        "  # filter to just that vid\n",
        "  df = locations_cleaned[locations_cleaned['vid'] == vid]\n",
        "\n",
        "  # Start with the first direction value\n",
        "  direction = df.at[df.index[0], 'direction']\n",
        "  current_trip = []\n",
        "  for i in df.index:\n",
        "    if df.at[i, 'direction'] == direction:\n",
        "      # same direction, add to current trip\n",
        "      current_trip.append(i)\n",
        "    else:\n",
        "      # changed direction, append current trip to the dataframe of trips\n",
        "      trips = trips.append({'direction': direction, \n",
        "                            'vid': vid,\n",
        "                            'start': current_trip[0], \n",
        "                            'ids': current_trip,\n",
        "                            'count': len(current_trip)}, ignore_index=True)\n",
        "      \n",
        "      # and reset variables for the next one\n",
        "      current_trip = [i]\n",
        "      direction = df.at[i, 'direction']\n",
        "\n",
        "# Sort trips to run chronologically\n",
        "trips = trips.sort_values('start').reset_index(drop=True)\n",
        "\n",
        "print(trips.shape)\n",
        "trips.head()"
      ],
      "execution_count": 0,
      "outputs": [
        {
          "output_type": "stream",
          "text": [
            "(286, 5)\n"
          ],
          "name": "stdout"
        },
        {
          "output_type": "execute_result",
          "data": {
            "text/html": [
              "<div>\n",
              "<style scoped>\n",
              "    .dataframe tbody tr th:only-of-type {\n",
              "        vertical-align: middle;\n",
              "    }\n",
              "\n",
              "    .dataframe tbody tr th {\n",
              "        vertical-align: top;\n",
              "    }\n",
              "\n",
              "    .dataframe thead th {\n",
              "        text-align: right;\n",
              "    }\n",
              "</style>\n",
              "<table border=\"1\" class=\"dataframe\">\n",
              "  <thead>\n",
              "    <tr style=\"text-align: right;\">\n",
              "      <th></th>\n",
              "      <th>direction</th>\n",
              "      <th>vid</th>\n",
              "      <th>start</th>\n",
              "      <th>ids</th>\n",
              "      <th>count</th>\n",
              "    </tr>\n",
              "  </thead>\n",
              "  <tbody>\n",
              "    <tr>\n",
              "      <th>0</th>\n",
              "      <td>1____I_S00</td>\n",
              "      <td>5797</td>\n",
              "      <td>0</td>\n",
              "      <td>[0, 1, 2, 3, 4, 5, 8, 11, 14, 17, 20, 23]</td>\n",
              "      <td>12</td>\n",
              "    </tr>\n",
              "    <tr>\n",
              "      <th>1</th>\n",
              "      <td>1____I_S00</td>\n",
              "      <td>5798</td>\n",
              "      <td>6</td>\n",
              "      <td>[6, 9, 12, 15, 18, 21, 24, 27, 30, 33, 37, 42,...</td>\n",
              "      <td>18</td>\n",
              "    </tr>\n",
              "    <tr>\n",
              "      <th>2</th>\n",
              "      <td>1____O_D00</td>\n",
              "      <td>5878</td>\n",
              "      <td>7</td>\n",
              "      <td>[7, 10, 13, 16, 19]</td>\n",
              "      <td>5</td>\n",
              "    </tr>\n",
              "    <tr>\n",
              "      <th>3</th>\n",
              "      <td>1____I_F00</td>\n",
              "      <td>5878</td>\n",
              "      <td>22</td>\n",
              "      <td>[22, 25, 28, 31, 34, 39, 44, 49, 53, 57, 61, 6...</td>\n",
              "      <td>51</td>\n",
              "    </tr>\n",
              "    <tr>\n",
              "      <th>4</th>\n",
              "      <td>1____O_F00</td>\n",
              "      <td>5797</td>\n",
              "      <td>26</td>\n",
              "      <td>[26, 29, 32, 35, 40, 45, 50, 54, 58, 62, 67, 7...</td>\n",
              "      <td>49</td>\n",
              "    </tr>\n",
              "  </tbody>\n",
              "</table>\n",
              "</div>"
            ],
            "text/plain": [
              "    direction   vid  ...                                                ids count\n",
              "0  1____I_S00  5797  ...          [0, 1, 2, 3, 4, 5, 8, 11, 14, 17, 20, 23]    12\n",
              "1  1____I_S00  5798  ...  [6, 9, 12, 15, 18, 21, 24, 27, 30, 33, 37, 42,...    18\n",
              "2  1____O_D00  5878  ...                                [7, 10, 13, 16, 19]     5\n",
              "3  1____I_F00  5878  ...  [22, 25, 28, 31, 34, 39, 44, 49, 53, 57, 61, 6...    51\n",
              "4  1____O_F00  5797  ...  [26, 29, 32, 35, 40, 45, 50, 54, 58, 62, 67, 7...    49\n",
              "\n",
              "[5 rows x 5 columns]"
            ]
          },
          "metadata": {
            "tags": []
          },
          "execution_count": 17
        }
      ]
    },
    {
      "cell_type": "markdown",
      "metadata": {
        "id": "5RRivoX1Vnxk",
        "colab_type": "text"
      },
      "source": [
        "I saw at the beginning of this exploration that there were 316 trips on the schedule.  So 286 found doesn't cover all of it.  Additionally some trips have few data points and will be cut short."
      ]
    },
    {
      "cell_type": "code",
      "metadata": {
        "id": "-9hVf8-FYWaO",
        "colab_type": "code",
        "colab": {}
      },
      "source": [
        "# needed to filter properly\n",
        "locations_cleaned = locations_cleaned.reset_index()"
      ],
      "execution_count": 0,
      "outputs": []
    },
    {
      "cell_type": "code",
      "metadata": {
        "id": "cGFtpXLaUoh2",
        "colab_type": "code",
        "outputId": "05addfd0-7d33-489a-ce88-0fcf667dd29c",
        "colab": {
          "base_uri": "https://localhost:8080/",
          "height": 542
        }
      },
      "source": [
        "# Plot a trip on the map to explore visually\n",
        "\n",
        "# plot the route path\n",
        "fig = px.line_mapbox(route.path_coords, lat=0, lon=1)\n",
        "\n",
        "# filter to just 1 trip\n",
        "filtered = [i in trips.at[102, 'ids'] for i in locations_cleaned['index']]\n",
        "\n",
        "# plot the trip dots\n",
        "fig.add_trace(px.scatter_mapbox(locations_cleaned[filtered], lat='latitude', \n",
        "                                lon='longitude', text='timestamp').data[0])\n",
        "\n",
        "fig.update_layout(title=f\"Route {rid}\", mapbox_style=\"stamen-terrain\", mapbox_zoom=12)\n",
        "fig.show()"
      ],
      "execution_count": 0,
      "outputs": [
        {
          "output_type": "display_data",
          "data": {
            "text/html": [
              "<html>\n",
              "<head><meta charset=\"utf-8\" /></head>\n",
              "<body>\n",
              "    <div>\n",
              "            <script src=\"https://cdnjs.cloudflare.com/ajax/libs/mathjax/2.7.5/MathJax.js?config=TeX-AMS-MML_SVG\"></script><script type=\"text/javascript\">if (window.MathJax) {MathJax.Hub.Config({SVG: {font: \"STIX-Web\"}});}</script>\n",
              "                <script type=\"text/javascript\">window.PlotlyConfig = {MathJaxConfig: 'local'};</script>\n",
              "        <script src=\"https://cdn.plot.ly/plotly-latest.min.js\"></script>    \n",
              "            <div id=\"e38a09c6-e187-4d95-8e23-a23501f2d556\" class=\"plotly-graph-div\" style=\"height:525px; width:100%;\"></div>\n",
              "            <script type=\"text/javascript\">\n",
              "                \n",
              "                    window.PLOTLYENV=window.PLOTLYENV || {};\n",
              "                    \n",
              "                if (document.getElementById(\"e38a09c6-e187-4d95-8e23-a23501f2d556\")) {\n",
              "                    Plotly.newPlot(\n",
              "                        'e38a09c6-e187-4d95-8e23-a23501f2d556',\n",
              "                        [{\"hoverlabel\": {\"namelength\": 0}, \"hovertemplate\": \"0=%{lat}<br>1=%{lon}\", \"lat\": [37.78727, 37.78692, 37.78646, 37.78604, 37.7857, 37.78535, 37.78507, 37.78479, 37.78463, 37.78467, 37.78459, 37.78452, 37.78439, 37.7842399, 37.7841, 37.78395, 37.7838, 37.78367, 37.78355, 37.78343, 37.7817999, 37.77994, 37.77975, 37.7797399, 37.77969, 37.78154, 37.78163, 37.78168, 37.7819999, 37.78342, 37.78355, 37.78358, 37.78366, 37.78381, 37.78394, 37.78411, 37.78425, 37.78437, 37.78445, 37.78455, 37.78463, 37.7849, 37.7851799, 37.78566, 37.78601, 37.78597, 37.78638, 37.7868, 37.78721, 37.7876199, 37.78795, 37.78846, 37.7887, 37.78933, 37.78963, 37.78982, 37.78999, 37.79019, 37.79036, 37.79057, 37.79088, 37.79104, 37.7917599, 37.79191, 37.79197, 37.79211, 37.79236, 37.79253, 37.79276, 37.79296, 37.79317, 37.79336, 37.79365, 37.79383, 37.79408, 37.79426, 37.79448, 37.79468, 37.79478, 37.79497, 37.79502, 37.79512, 37.79544, 37.79547, 37.79459, 37.7945, 37.79418, 37.79403, 37.79384, 37.79358, 37.79341, 37.79324, 37.79304, 37.79267, 37.7924, 37.79218, 37.79197, 37.79172, 37.79152, 37.7913799, 37.79115, 37.79089, 37.79074, 37.7905299, 37.79032, 37.79011, 37.78986, 37.78963, 37.78884, 37.7887, 37.78849, 37.78852, 37.7880899, 37.78774, 37.78727], \"legendgroup\": \"\", \"line\": {\"color\": \"#636efa\"}, \"lon\": [-122.44696, -122.44996, -122.45352, -122.45683, -122.45929, -122.46229, -122.46464, -122.46682, -122.46885, -122.46916, -122.47085, -122.47325, -122.47523, -122.47845, -122.48166, -122.48482, -122.48807, -122.49051, -122.49252, -122.49255, -122.49242, -122.4923, -122.49224, -122.49311, -122.49331, -122.49335, -122.49346, -122.49239, -122.49233, -122.49244, -122.49252, -122.49009, -122.48846, -122.48529, -122.48189, -122.47871, -122.4755, -122.47276, -122.4711, -122.46896, -122.46682, -122.46471, -122.46257, -122.45904, -122.4567, -122.45633, -122.45327, -122.44998, -122.44693, -122.44338, -122.44072, -122.43681, -122.4355, -122.43556, -122.43569, -122.43399, -122.4325, -122.43085, -122.42918, -122.42761, -122.42581, -122.42577, -122.42599, -122.42446, -122.42435, -122.42291, -122.42101, -122.41959, -122.4179, -122.4163, -122.41462, -122.41274, -122.41082, -122.40959, -122.40756, -122.40597, -122.40441, -122.40277, -122.40134, -122.40047, -122.40034, -122.3991, -122.39682, -122.39678, -122.3966, -122.39761, -122.40028, -122.40155, -122.40307, -122.40485, -122.40631, -122.40759, -122.40912, -122.41186, -122.41416, -122.41575, -122.41744, -122.41953, -122.42115, -122.42229, -122.42404, -122.42613, -122.42733, -122.42896, -122.43062, -122.43223, -122.43411, -122.43569, -122.43557, -122.4355, -122.43714, -122.43748, -122.44087, -122.44363, -122.44696], \"mode\": \"lines\", \"name\": \"\", \"showlegend\": false, \"subplot\": \"mapbox\", \"type\": \"scattermapbox\"}, {\"hoverlabel\": {\"namelength\": 0}, \"hovertemplate\": \"timestamp=%{text}<br>latitude=%{lat}<br>longitude=%{lon}\", \"lat\": [37.7927, 37.7924, 37.792, 37.7917, 37.7915, 37.7912, 37.7907, 37.7903, 37.7901, 37.7899, 37.7892, 37.7886, 37.7881, 37.7879, 37.7875, 37.7873, 37.7869, 37.7864, 37.7861, 37.7858, 37.7854, 37.7851, 37.7848, 37.7846, 37.7845, 37.7845, 37.7843, 37.7841, 37.7839, 37.7838, 37.7834, 37.7818, 37.7809, 37.7809, 37.7809, 37.7809, 37.7809, 37.7809, 37.7807, 37.7807, 37.7807, 37.7807, 37.7807, 37.7807, 37.78], \"legendgroup\": \"\", \"lon\": [-122.412, -122.414, -122.417, -122.419, -122.421, -122.423, -122.427, -122.431, -122.432, -122.434, -122.436, -122.437, -122.441, -122.442, -122.446, -122.447, -122.45, -122.454, -122.457, -122.459, -122.462, -122.464, -122.467, -122.469, -122.472, -122.473, -122.476, -122.481, -122.485, -122.488, -122.493, -122.492, -122.492, -122.492, -122.492, -122.492, -122.492, -122.492, -122.492, -122.492, -122.492, -122.492, -122.492, -122.492, -122.492], \"marker\": {\"color\": \"#636efa\"}, \"mode\": \"markers+text\", \"name\": \"\", \"showlegend\": false, \"subplot\": \"mapbox\", \"text\": [\"2020-06-01T11:13:12\", \"2020-06-01T11:14:12\", \"2020-06-01T11:15:12\", \"2020-06-01T11:16:12\", \"2020-06-01T11:17:12\", \"2020-06-01T11:18:12\", \"2020-06-01T11:19:12\", \"2020-06-01T11:20:12\", \"2020-06-01T11:21:12\", \"2020-06-01T11:22:12\", \"2020-06-01T11:23:12\", \"2020-06-01T11:24:12\", \"2020-06-01T11:25:12\", \"2020-06-01T11:26:13\", \"2020-06-01T11:27:13\", \"2020-06-01T11:28:12\", \"2020-06-01T11:29:12\", \"2020-06-01T11:30:13\", \"2020-06-01T11:31:12\", \"2020-06-01T11:32:12\", \"2020-06-01T11:33:12\", \"2020-06-01T11:34:12\", \"2020-06-01T11:35:13\", \"2020-06-01T11:36:12\", \"2020-06-01T11:37:12\", \"2020-06-01T11:38:12\", \"2020-06-01T11:39:12\", \"2020-06-01T11:40:12\", \"2020-06-01T11:41:12\", \"2020-06-01T11:42:12\", \"2020-06-01T11:43:12\", \"2020-06-01T11:44:12\", \"2020-06-01T11:45:12\", \"2020-06-01T11:46:13\", \"2020-06-01T11:47:12\", \"2020-06-01T11:48:13\", \"2020-06-01T11:49:12\", \"2020-06-01T11:50:12\", \"2020-06-01T11:51:13\", \"2020-06-01T11:52:12\", \"2020-06-01T11:53:12\", \"2020-06-01T11:54:12\", \"2020-06-01T11:55:12\", \"2020-06-01T11:56:12\", \"2020-06-01T12:05:13\"], \"type\": \"scattermapbox\"}],\n",
              "                        {\"legend\": {\"tracegroupgap\": 0}, \"mapbox\": {\"center\": {\"lat\": 37.7884841652174, \"lon\": -122.44356382608692}, \"domain\": {\"x\": [0.0, 1.0], \"y\": [0.0, 1.0]}, \"style\": \"stamen-terrain\", \"zoom\": 12}, \"margin\": {\"t\": 60}, \"template\": {\"data\": {\"bar\": [{\"error_x\": {\"color\": \"#2a3f5f\"}, \"error_y\": {\"color\": \"#2a3f5f\"}, \"marker\": {\"line\": {\"color\": \"#E5ECF6\", \"width\": 0.5}}, \"type\": \"bar\"}], \"barpolar\": [{\"marker\": {\"line\": {\"color\": \"#E5ECF6\", \"width\": 0.5}}, \"type\": \"barpolar\"}], \"carpet\": [{\"aaxis\": {\"endlinecolor\": \"#2a3f5f\", \"gridcolor\": \"white\", \"linecolor\": \"white\", \"minorgridcolor\": \"white\", \"startlinecolor\": \"#2a3f5f\"}, \"baxis\": {\"endlinecolor\": \"#2a3f5f\", \"gridcolor\": \"white\", \"linecolor\": \"white\", \"minorgridcolor\": \"white\", \"startlinecolor\": \"#2a3f5f\"}, \"type\": \"carpet\"}], \"choropleth\": [{\"colorbar\": {\"outlinewidth\": 0, \"ticks\": \"\"}, \"type\": \"choropleth\"}], \"contour\": [{\"colorbar\": {\"outlinewidth\": 0, \"ticks\": \"\"}, \"colorscale\": [[0.0, \"#0d0887\"], [0.1111111111111111, \"#46039f\"], [0.2222222222222222, \"#7201a8\"], [0.3333333333333333, \"#9c179e\"], [0.4444444444444444, \"#bd3786\"], [0.5555555555555556, \"#d8576b\"], [0.6666666666666666, \"#ed7953\"], [0.7777777777777778, \"#fb9f3a\"], [0.8888888888888888, \"#fdca26\"], [1.0, \"#f0f921\"]], \"type\": \"contour\"}], \"contourcarpet\": [{\"colorbar\": {\"outlinewidth\": 0, \"ticks\": \"\"}, \"type\": \"contourcarpet\"}], \"heatmap\": [{\"colorbar\": {\"outlinewidth\": 0, \"ticks\": \"\"}, \"colorscale\": [[0.0, \"#0d0887\"], [0.1111111111111111, \"#46039f\"], [0.2222222222222222, \"#7201a8\"], [0.3333333333333333, \"#9c179e\"], [0.4444444444444444, \"#bd3786\"], [0.5555555555555556, \"#d8576b\"], [0.6666666666666666, \"#ed7953\"], [0.7777777777777778, \"#fb9f3a\"], [0.8888888888888888, \"#fdca26\"], [1.0, \"#f0f921\"]], \"type\": \"heatmap\"}], \"heatmapgl\": [{\"colorbar\": {\"outlinewidth\": 0, \"ticks\": \"\"}, \"colorscale\": [[0.0, \"#0d0887\"], [0.1111111111111111, \"#46039f\"], [0.2222222222222222, \"#7201a8\"], [0.3333333333333333, \"#9c179e\"], [0.4444444444444444, \"#bd3786\"], [0.5555555555555556, \"#d8576b\"], [0.6666666666666666, \"#ed7953\"], [0.7777777777777778, \"#fb9f3a\"], [0.8888888888888888, \"#fdca26\"], [1.0, \"#f0f921\"]], \"type\": \"heatmapgl\"}], \"histogram\": [{\"marker\": {\"colorbar\": {\"outlinewidth\": 0, \"ticks\": \"\"}}, \"type\": \"histogram\"}], \"histogram2d\": [{\"colorbar\": {\"outlinewidth\": 0, \"ticks\": \"\"}, \"colorscale\": [[0.0, \"#0d0887\"], [0.1111111111111111, \"#46039f\"], [0.2222222222222222, \"#7201a8\"], [0.3333333333333333, \"#9c179e\"], [0.4444444444444444, \"#bd3786\"], [0.5555555555555556, \"#d8576b\"], [0.6666666666666666, \"#ed7953\"], [0.7777777777777778, \"#fb9f3a\"], [0.8888888888888888, \"#fdca26\"], [1.0, \"#f0f921\"]], \"type\": \"histogram2d\"}], \"histogram2dcontour\": [{\"colorbar\": {\"outlinewidth\": 0, \"ticks\": \"\"}, \"colorscale\": [[0.0, \"#0d0887\"], [0.1111111111111111, \"#46039f\"], [0.2222222222222222, \"#7201a8\"], [0.3333333333333333, \"#9c179e\"], [0.4444444444444444, \"#bd3786\"], [0.5555555555555556, \"#d8576b\"], [0.6666666666666666, \"#ed7953\"], [0.7777777777777778, \"#fb9f3a\"], [0.8888888888888888, \"#fdca26\"], [1.0, \"#f0f921\"]], \"type\": \"histogram2dcontour\"}], \"mesh3d\": [{\"colorbar\": {\"outlinewidth\": 0, \"ticks\": \"\"}, \"type\": \"mesh3d\"}], \"parcoords\": [{\"line\": {\"colorbar\": {\"outlinewidth\": 0, \"ticks\": \"\"}}, \"type\": \"parcoords\"}], \"pie\": [{\"automargin\": true, \"type\": \"pie\"}], \"scatter\": [{\"marker\": {\"colorbar\": {\"outlinewidth\": 0, \"ticks\": \"\"}}, \"type\": \"scatter\"}], \"scatter3d\": [{\"line\": {\"colorbar\": {\"outlinewidth\": 0, \"ticks\": \"\"}}, \"marker\": {\"colorbar\": {\"outlinewidth\": 0, \"ticks\": \"\"}}, \"type\": \"scatter3d\"}], \"scattercarpet\": [{\"marker\": {\"colorbar\": {\"outlinewidth\": 0, \"ticks\": \"\"}}, \"type\": \"scattercarpet\"}], \"scattergeo\": [{\"marker\": {\"colorbar\": {\"outlinewidth\": 0, \"ticks\": \"\"}}, \"type\": \"scattergeo\"}], \"scattergl\": [{\"marker\": {\"colorbar\": {\"outlinewidth\": 0, \"ticks\": \"\"}}, \"type\": \"scattergl\"}], \"scattermapbox\": [{\"marker\": {\"colorbar\": {\"outlinewidth\": 0, \"ticks\": \"\"}}, \"type\": \"scattermapbox\"}], \"scatterpolar\": [{\"marker\": {\"colorbar\": {\"outlinewidth\": 0, \"ticks\": \"\"}}, \"type\": \"scatterpolar\"}], \"scatterpolargl\": [{\"marker\": {\"colorbar\": {\"outlinewidth\": 0, \"ticks\": \"\"}}, \"type\": \"scatterpolargl\"}], \"scatterternary\": [{\"marker\": {\"colorbar\": {\"outlinewidth\": 0, \"ticks\": \"\"}}, \"type\": \"scatterternary\"}], \"surface\": [{\"colorbar\": {\"outlinewidth\": 0, \"ticks\": \"\"}, \"colorscale\": [[0.0, \"#0d0887\"], [0.1111111111111111, \"#46039f\"], [0.2222222222222222, \"#7201a8\"], [0.3333333333333333, \"#9c179e\"], [0.4444444444444444, \"#bd3786\"], [0.5555555555555556, \"#d8576b\"], [0.6666666666666666, \"#ed7953\"], [0.7777777777777778, \"#fb9f3a\"], [0.8888888888888888, \"#fdca26\"], [1.0, \"#f0f921\"]], \"type\": \"surface\"}], \"table\": [{\"cells\": {\"fill\": {\"color\": \"#EBF0F8\"}, \"line\": {\"color\": \"white\"}}, \"header\": {\"fill\": {\"color\": \"#C8D4E3\"}, \"line\": {\"color\": \"white\"}}, \"type\": \"table\"}]}, \"layout\": {\"annotationdefaults\": {\"arrowcolor\": \"#2a3f5f\", \"arrowhead\": 0, \"arrowwidth\": 1}, \"coloraxis\": {\"colorbar\": {\"outlinewidth\": 0, \"ticks\": \"\"}}, \"colorscale\": {\"diverging\": [[0, \"#8e0152\"], [0.1, \"#c51b7d\"], [0.2, \"#de77ae\"], [0.3, \"#f1b6da\"], [0.4, \"#fde0ef\"], [0.5, \"#f7f7f7\"], [0.6, \"#e6f5d0\"], [0.7, \"#b8e186\"], [0.8, \"#7fbc41\"], [0.9, \"#4d9221\"], [1, \"#276419\"]], \"sequential\": [[0.0, \"#0d0887\"], [0.1111111111111111, \"#46039f\"], [0.2222222222222222, \"#7201a8\"], [0.3333333333333333, \"#9c179e\"], [0.4444444444444444, \"#bd3786\"], [0.5555555555555556, \"#d8576b\"], [0.6666666666666666, \"#ed7953\"], [0.7777777777777778, \"#fb9f3a\"], [0.8888888888888888, \"#fdca26\"], [1.0, \"#f0f921\"]], \"sequentialminus\": [[0.0, \"#0d0887\"], [0.1111111111111111, \"#46039f\"], [0.2222222222222222, \"#7201a8\"], [0.3333333333333333, \"#9c179e\"], [0.4444444444444444, \"#bd3786\"], [0.5555555555555556, \"#d8576b\"], [0.6666666666666666, \"#ed7953\"], [0.7777777777777778, \"#fb9f3a\"], [0.8888888888888888, \"#fdca26\"], [1.0, \"#f0f921\"]]}, \"colorway\": [\"#636efa\", \"#EF553B\", \"#00cc96\", \"#ab63fa\", \"#FFA15A\", \"#19d3f3\", \"#FF6692\", \"#B6E880\", \"#FF97FF\", \"#FECB52\"], \"font\": {\"color\": \"#2a3f5f\"}, \"geo\": {\"bgcolor\": \"white\", \"lakecolor\": \"white\", \"landcolor\": \"#E5ECF6\", \"showlakes\": true, \"showland\": true, \"subunitcolor\": \"white\"}, \"hoverlabel\": {\"align\": \"left\"}, \"hovermode\": \"closest\", \"mapbox\": {\"style\": \"light\"}, \"paper_bgcolor\": \"white\", \"plot_bgcolor\": \"#E5ECF6\", \"polar\": {\"angularaxis\": {\"gridcolor\": \"white\", \"linecolor\": \"white\", \"ticks\": \"\"}, \"bgcolor\": \"#E5ECF6\", \"radialaxis\": {\"gridcolor\": \"white\", \"linecolor\": \"white\", \"ticks\": \"\"}}, \"scene\": {\"xaxis\": {\"backgroundcolor\": \"#E5ECF6\", \"gridcolor\": \"white\", \"gridwidth\": 2, \"linecolor\": \"white\", \"showbackground\": true, \"ticks\": \"\", \"zerolinecolor\": \"white\"}, \"yaxis\": {\"backgroundcolor\": \"#E5ECF6\", \"gridcolor\": \"white\", \"gridwidth\": 2, \"linecolor\": \"white\", \"showbackground\": true, \"ticks\": \"\", \"zerolinecolor\": \"white\"}, \"zaxis\": {\"backgroundcolor\": \"#E5ECF6\", \"gridcolor\": \"white\", \"gridwidth\": 2, \"linecolor\": \"white\", \"showbackground\": true, \"ticks\": \"\", \"zerolinecolor\": \"white\"}}, \"shapedefaults\": {\"line\": {\"color\": \"#2a3f5f\"}}, \"ternary\": {\"aaxis\": {\"gridcolor\": \"white\", \"linecolor\": \"white\", \"ticks\": \"\"}, \"baxis\": {\"gridcolor\": \"white\", \"linecolor\": \"white\", \"ticks\": \"\"}, \"bgcolor\": \"#E5ECF6\", \"caxis\": {\"gridcolor\": \"white\", \"linecolor\": \"white\", \"ticks\": \"\"}}, \"title\": {\"x\": 0.05}, \"xaxis\": {\"automargin\": true, \"gridcolor\": \"white\", \"linecolor\": \"white\", \"ticks\": \"\", \"title\": {\"standoff\": 15}, \"zerolinecolor\": \"white\", \"zerolinewidth\": 2}, \"yaxis\": {\"automargin\": true, \"gridcolor\": \"white\", \"linecolor\": \"white\", \"ticks\": \"\", \"title\": {\"standoff\": 15}, \"zerolinecolor\": \"white\", \"zerolinewidth\": 2}}}, \"title\": {\"text\": \"Route 1\"}},\n",
              "                        {\"responsive\": true}\n",
              "                    ).then(function(){\n",
              "                            \n",
              "var gd = document.getElementById('e38a09c6-e187-4d95-8e23-a23501f2d556');\n",
              "var x = new MutationObserver(function (mutations, observer) {{\n",
              "        var display = window.getComputedStyle(gd).display;\n",
              "        if (!display || display === 'none') {{\n",
              "            console.log([gd, 'removed!']);\n",
              "            Plotly.purge(gd);\n",
              "            observer.disconnect();\n",
              "        }}\n",
              "}});\n",
              "\n",
              "// Listen for the removal of the full notebook cells\n",
              "var notebookContainer = gd.closest('#notebook-container');\n",
              "if (notebookContainer) {{\n",
              "    x.observe(notebookContainer, {childList: true});\n",
              "}}\n",
              "\n",
              "// Listen for the clearing of the current output cell\n",
              "var outputEl = gd.closest('.output');\n",
              "if (outputEl) {{\n",
              "    x.observe(outputEl, {childList: true});\n",
              "}}\n",
              "\n",
              "                        })\n",
              "                };\n",
              "                \n",
              "            </script>\n",
              "        </div>\n",
              "</body>\n",
              "</html>"
            ]
          },
          "metadata": {
            "tags": []
          }
        }
      ]
    },
    {
      "cell_type": "markdown",
      "metadata": {
        "id": "eIXmKGj8tPcz",
        "colab_type": "text"
      },
      "source": [
        "## Assigning Stops\n",
        "\n",
        "The core objective here is to figure out when busses are at each stop.  Since tracking this based on bus location is so inconsistent, I'm going to try turning it around.\n",
        "\n",
        "I will calculate which stop each bus is at for each location report, then I will switch viewpoints and analyse what times each stop sees a bus."
      ]
    },
    {
      "cell_type": "code",
      "metadata": {
        "id": "Cf0L7Q8bt8A6",
        "colab_type": "code",
        "colab": {}
      },
      "source": [
        "# I'll need an efficient method to get distance between lat/lon coordinates\n",
        "\n",
        "# Austie's notebooks already had this:\n",
        "from math import sqrt, cos\n",
        "\n",
        "def fcc_projection(loc1, loc2):\n",
        "    \"\"\"\n",
        "    function to apply FCC recommended formulae\n",
        "    for calculating distances on earth projected to a plane\n",
        "    \n",
        "    significantly faster computationally, negligible loss in accuracy\n",
        "    \n",
        "    Args: \n",
        "    loc1 - a tuple of lat/lon\n",
        "    loc2 - a tuple of lat/lon\n",
        "    \"\"\"\n",
        "    lat1, lat2 = loc1[0], loc2[0]\n",
        "    lon1, lon2 = loc1[1], loc2[1]\n",
        "    \n",
        "    mean_lat = (lat1+lat2)/2\n",
        "    delta_lat = lat2 - lat1\n",
        "    delta_lon = lon2 - lon1\n",
        "    \n",
        "    k1 = 111.13209 - 0.56605*cos(2*mean_lat) + .0012*cos(4*mean_lat)\n",
        "    k2 = 111.41513*cos(mean_lat) - 0.09455*cos(3*mean_lat) + 0.00012*cos(5*mean_lat)\n",
        "    \n",
        "    distance = sqrt((k1*delta_lat)**2 + (k2*delta_lon)**2)\n",
        "    \n",
        "    return distance"
      ],
      "execution_count": 0,
      "outputs": []
    },
    {
      "cell_type": "code",
      "metadata": {
        "id": "rKwYOGkHucKb",
        "colab_type": "code",
        "outputId": "b7255d65-8307-43f4-f51e-e12b3518ef1c",
        "colab": {
          "base_uri": "https://localhost:8080/",
          "height": 204
        }
      },
      "source": [
        "locations.head()"
      ],
      "execution_count": 0,
      "outputs": [
        {
          "output_type": "execute_result",
          "data": {
            "text/html": [
              "<div>\n",
              "<style scoped>\n",
              "    .dataframe tbody tr th:only-of-type {\n",
              "        vertical-align: middle;\n",
              "    }\n",
              "\n",
              "    .dataframe tbody tr th {\n",
              "        vertical-align: top;\n",
              "    }\n",
              "\n",
              "    .dataframe thead th {\n",
              "        text-align: right;\n",
              "    }\n",
              "</style>\n",
              "<table border=\"1\" class=\"dataframe\">\n",
              "  <thead>\n",
              "    <tr style=\"text-align: right;\">\n",
              "      <th></th>\n",
              "      <th>id</th>\n",
              "      <th>timestamp</th>\n",
              "      <th>rid</th>\n",
              "      <th>vid</th>\n",
              "      <th>age</th>\n",
              "      <th>kph</th>\n",
              "      <th>heading</th>\n",
              "      <th>latitude</th>\n",
              "      <th>longitude</th>\n",
              "      <th>direction</th>\n",
              "    </tr>\n",
              "  </thead>\n",
              "  <tbody>\n",
              "    <tr>\n",
              "      <th>0</th>\n",
              "      <td>2852834</td>\n",
              "      <td>2020-06-01 04:40:12</td>\n",
              "      <td>1</td>\n",
              "      <td>5797</td>\n",
              "      <td>2</td>\n",
              "      <td>18</td>\n",
              "      <td>75</td>\n",
              "      <td>37.7919</td>\n",
              "      <td>-122.425</td>\n",
              "      <td>1____I_S00</td>\n",
              "    </tr>\n",
              "    <tr>\n",
              "      <th>1</th>\n",
              "      <td>2852871</td>\n",
              "      <td>2020-06-01 04:41:12</td>\n",
              "      <td>1</td>\n",
              "      <td>5797</td>\n",
              "      <td>13</td>\n",
              "      <td>0</td>\n",
              "      <td>83</td>\n",
              "      <td>37.7921</td>\n",
              "      <td>-122.423</td>\n",
              "      <td>1____I_S00</td>\n",
              "    </tr>\n",
              "    <tr>\n",
              "      <th>2</th>\n",
              "      <td>2852908</td>\n",
              "      <td>2020-06-01 04:42:13</td>\n",
              "      <td>1</td>\n",
              "      <td>5797</td>\n",
              "      <td>0</td>\n",
              "      <td>11</td>\n",
              "      <td>75</td>\n",
              "      <td>37.7926</td>\n",
              "      <td>-122.420</td>\n",
              "      <td>1____I_S00</td>\n",
              "    </tr>\n",
              "    <tr>\n",
              "      <th>3</th>\n",
              "      <td>2852944</td>\n",
              "      <td>2020-06-01 04:43:12</td>\n",
              "      <td>1</td>\n",
              "      <td>5797</td>\n",
              "      <td>11</td>\n",
              "      <td>24</td>\n",
              "      <td>75</td>\n",
              "      <td>37.7930</td>\n",
              "      <td>-122.417</td>\n",
              "      <td>1____I_S00</td>\n",
              "    </tr>\n",
              "    <tr>\n",
              "      <th>4</th>\n",
              "      <td>2852981</td>\n",
              "      <td>2020-06-01 04:44:12</td>\n",
              "      <td>1</td>\n",
              "      <td>5797</td>\n",
              "      <td>22</td>\n",
              "      <td>10</td>\n",
              "      <td>75</td>\n",
              "      <td>37.7933</td>\n",
              "      <td>-122.414</td>\n",
              "      <td>1____I_S00</td>\n",
              "    </tr>\n",
              "  </tbody>\n",
              "</table>\n",
              "</div>"
            ],
            "text/plain": [
              "        id           timestamp rid  ...  latitude  longitude   direction\n",
              "0  2852834 2020-06-01 04:40:12   1  ...   37.7919   -122.425  1____I_S00\n",
              "1  2852871 2020-06-01 04:41:12   1  ...   37.7921   -122.423  1____I_S00\n",
              "2  2852908 2020-06-01 04:42:13   1  ...   37.7926   -122.420  1____I_S00\n",
              "3  2852944 2020-06-01 04:43:12   1  ...   37.7930   -122.417  1____I_S00\n",
              "4  2852981 2020-06-01 04:44:12   1  ...   37.7933   -122.414  1____I_S00\n",
              "\n",
              "[5 rows x 10 columns]"
            ]
          },
          "metadata": {
            "tags": []
          },
          "execution_count": 22
        }
      ]
    },
    {
      "cell_type": "code",
      "metadata": {
        "id": "QYnba5JBuiXX",
        "colab_type": "code",
        "outputId": "704fd1fe-f5b6-49f2-c44f-47dd017b4e1d",
        "colab": {
          "base_uri": "https://localhost:8080/",
          "height": 34
        }
      },
      "source": [
        "# We get data every 60 seconds, so I'll drop any that are more than\n",
        "# 60 seconds old.  Those would end up as duplicates otherwise.\n",
        "df = locations[locations['age'] < 60].copy()\n",
        "\n",
        "print(\"Old rows removed:\", len(locations)-len(df), \"out of\", len(locations))"
      ],
      "execution_count": 0,
      "outputs": [
        {
          "output_type": "stream",
          "text": [
            "Old rows removed: 256 out of 14461\n"
          ],
          "name": "stdout"
        }
      ]
    },
    {
      "cell_type": "code",
      "metadata": {
        "id": "lYKiGXB47mht",
        "colab_type": "code",
        "colab": {}
      },
      "source": [
        "# Again, I'll remove rows with no direction so we are only tracking \n",
        "# buses that report they are going one way or the other\n",
        "df = df[~pd.isna(df['direction'])]"
      ],
      "execution_count": 0,
      "outputs": []
    },
    {
      "cell_type": "code",
      "metadata": {
        "id": "iLuIlULRxdp5",
        "colab_type": "code",
        "outputId": "fba55b17-0f4b-4112-ff0e-cd1dee23a3a3",
        "colab": {
          "base_uri": "https://localhost:8080/",
          "height": 204
        }
      },
      "source": [
        "# Since these reports are a few seconds old, I'm going to shift the timestamps\n",
        "# so that they match when the vehicle was actually at that location\n",
        "\n",
        "def shift_timestamp(row):\n",
        "  \"\"\" subtracts row['age'] from row['timestamp'] \"\"\"\n",
        "  return row['timestamp'] - pd.Timedelta(seconds=row['age'])\n",
        "\n",
        "df['timestamp'] = df.apply(shift_timestamp, axis=1)\n",
        "df.head()"
      ],
      "execution_count": 0,
      "outputs": [
        {
          "output_type": "execute_result",
          "data": {
            "text/html": [
              "<div>\n",
              "<style scoped>\n",
              "    .dataframe tbody tr th:only-of-type {\n",
              "        vertical-align: middle;\n",
              "    }\n",
              "\n",
              "    .dataframe tbody tr th {\n",
              "        vertical-align: top;\n",
              "    }\n",
              "\n",
              "    .dataframe thead th {\n",
              "        text-align: right;\n",
              "    }\n",
              "</style>\n",
              "<table border=\"1\" class=\"dataframe\">\n",
              "  <thead>\n",
              "    <tr style=\"text-align: right;\">\n",
              "      <th></th>\n",
              "      <th>id</th>\n",
              "      <th>timestamp</th>\n",
              "      <th>rid</th>\n",
              "      <th>vid</th>\n",
              "      <th>age</th>\n",
              "      <th>kph</th>\n",
              "      <th>heading</th>\n",
              "      <th>latitude</th>\n",
              "      <th>longitude</th>\n",
              "      <th>direction</th>\n",
              "    </tr>\n",
              "  </thead>\n",
              "  <tbody>\n",
              "    <tr>\n",
              "      <th>0</th>\n",
              "      <td>2852834</td>\n",
              "      <td>2020-06-01 04:40:10</td>\n",
              "      <td>1</td>\n",
              "      <td>5797</td>\n",
              "      <td>2</td>\n",
              "      <td>18</td>\n",
              "      <td>75</td>\n",
              "      <td>37.7919</td>\n",
              "      <td>-122.425</td>\n",
              "      <td>1____I_S00</td>\n",
              "    </tr>\n",
              "    <tr>\n",
              "      <th>1</th>\n",
              "      <td>2852871</td>\n",
              "      <td>2020-06-01 04:40:59</td>\n",
              "      <td>1</td>\n",
              "      <td>5797</td>\n",
              "      <td>13</td>\n",
              "      <td>0</td>\n",
              "      <td>83</td>\n",
              "      <td>37.7921</td>\n",
              "      <td>-122.423</td>\n",
              "      <td>1____I_S00</td>\n",
              "    </tr>\n",
              "    <tr>\n",
              "      <th>2</th>\n",
              "      <td>2852908</td>\n",
              "      <td>2020-06-01 04:42:13</td>\n",
              "      <td>1</td>\n",
              "      <td>5797</td>\n",
              "      <td>0</td>\n",
              "      <td>11</td>\n",
              "      <td>75</td>\n",
              "      <td>37.7926</td>\n",
              "      <td>-122.420</td>\n",
              "      <td>1____I_S00</td>\n",
              "    </tr>\n",
              "    <tr>\n",
              "      <th>3</th>\n",
              "      <td>2852944</td>\n",
              "      <td>2020-06-01 04:43:01</td>\n",
              "      <td>1</td>\n",
              "      <td>5797</td>\n",
              "      <td>11</td>\n",
              "      <td>24</td>\n",
              "      <td>75</td>\n",
              "      <td>37.7930</td>\n",
              "      <td>-122.417</td>\n",
              "      <td>1____I_S00</td>\n",
              "    </tr>\n",
              "    <tr>\n",
              "      <th>4</th>\n",
              "      <td>2852981</td>\n",
              "      <td>2020-06-01 04:43:50</td>\n",
              "      <td>1</td>\n",
              "      <td>5797</td>\n",
              "      <td>22</td>\n",
              "      <td>10</td>\n",
              "      <td>75</td>\n",
              "      <td>37.7933</td>\n",
              "      <td>-122.414</td>\n",
              "      <td>1____I_S00</td>\n",
              "    </tr>\n",
              "  </tbody>\n",
              "</table>\n",
              "</div>"
            ],
            "text/plain": [
              "        id           timestamp rid  ...  latitude  longitude   direction\n",
              "0  2852834 2020-06-01 04:40:10   1  ...   37.7919   -122.425  1____I_S00\n",
              "1  2852871 2020-06-01 04:40:59   1  ...   37.7921   -122.423  1____I_S00\n",
              "2  2852908 2020-06-01 04:42:13   1  ...   37.7926   -122.420  1____I_S00\n",
              "3  2852944 2020-06-01 04:43:01   1  ...   37.7930   -122.417  1____I_S00\n",
              "4  2852981 2020-06-01 04:43:50   1  ...   37.7933   -122.414  1____I_S00\n",
              "\n",
              "[5 rows x 10 columns]"
            ]
          },
          "metadata": {
            "tags": []
          },
          "execution_count": 25
        }
      ]
    },
    {
      "cell_type": "code",
      "metadata": {
        "id": "hOg0R0Pm6ayk",
        "colab_type": "code",
        "outputId": "b23a7063-55e0-403f-c422-ed99db441e87",
        "colab": {
          "base_uri": "https://localhost:8080/",
          "height": 204
        }
      },
      "source": [
        "# For stop comparison, I'll make lists of all inbound or outbound stops\n",
        "inbound_stops = stops[stops['direction'] == 'inbound'].reset_index(drop=True)\n",
        "outbound_stops = stops[stops['direction'] == 'outbound'].reset_index(drop=True)\n",
        "\n",
        "inbound_stops.head()"
      ],
      "execution_count": 0,
      "outputs": [
        {
          "output_type": "execute_result",
          "data": {
            "text/html": [
              "<div>\n",
              "<style scoped>\n",
              "    .dataframe tbody tr th:only-of-type {\n",
              "        vertical-align: middle;\n",
              "    }\n",
              "\n",
              "    .dataframe tbody tr th {\n",
              "        vertical-align: top;\n",
              "    }\n",
              "\n",
              "    .dataframe thead th {\n",
              "        text-align: right;\n",
              "    }\n",
              "</style>\n",
              "<table border=\"1\" class=\"dataframe\">\n",
              "  <thead>\n",
              "    <tr style=\"text-align: right;\">\n",
              "      <th></th>\n",
              "      <th>lat</th>\n",
              "      <th>lon</th>\n",
              "      <th>tag</th>\n",
              "      <th>title</th>\n",
              "      <th>stopId</th>\n",
              "      <th>direction</th>\n",
              "      <th>scheduled</th>\n",
              "    </tr>\n",
              "  </thead>\n",
              "  <tbody>\n",
              "    <tr>\n",
              "      <th>0</th>\n",
              "      <td>37.78762</td>\n",
              "      <td>-122.44338</td>\n",
              "      <td>3848</td>\n",
              "      <td>California St &amp; Baker St</td>\n",
              "      <td>13848</td>\n",
              "      <td>inbound</td>\n",
              "      <td>True</td>\n",
              "    </tr>\n",
              "    <tr>\n",
              "      <th>1</th>\n",
              "      <td>37.78795</td>\n",
              "      <td>-122.44072</td>\n",
              "      <td>3859</td>\n",
              "      <td>California St &amp; Divisadero St</td>\n",
              "      <td>13859</td>\n",
              "      <td>inbound</td>\n",
              "      <td>False</td>\n",
              "    </tr>\n",
              "    <tr>\n",
              "      <th>2</th>\n",
              "      <td>37.78846</td>\n",
              "      <td>-122.43681</td>\n",
              "      <td>3885</td>\n",
              "      <td>California St &amp; Pierce St</td>\n",
              "      <td>13885</td>\n",
              "      <td>inbound</td>\n",
              "      <td>False</td>\n",
              "    </tr>\n",
              "    <tr>\n",
              "      <th>3</th>\n",
              "      <td>37.78933</td>\n",
              "      <td>-122.43556</td>\n",
              "      <td>6489</td>\n",
              "      <td>Steiner St &amp; Sacramento St</td>\n",
              "      <td>16489</td>\n",
              "      <td>inbound</td>\n",
              "      <td>False</td>\n",
              "    </tr>\n",
              "    <tr>\n",
              "      <th>4</th>\n",
              "      <td>37.78982</td>\n",
              "      <td>-122.43399</td>\n",
              "      <td>6296</td>\n",
              "      <td>Sacramento St &amp; Fillmore St</td>\n",
              "      <td>16296</td>\n",
              "      <td>inbound</td>\n",
              "      <td>True</td>\n",
              "    </tr>\n",
              "  </tbody>\n",
              "</table>\n",
              "</div>"
            ],
            "text/plain": [
              "        lat        lon   tag  ... stopId direction scheduled\n",
              "0  37.78762 -122.44338  3848  ...  13848   inbound      True\n",
              "1  37.78795 -122.44072  3859  ...  13859   inbound     False\n",
              "2  37.78846 -122.43681  3885  ...  13885   inbound     False\n",
              "3  37.78933 -122.43556  6489  ...  16489   inbound     False\n",
              "4  37.78982 -122.43399  6296  ...  16296   inbound      True\n",
              "\n",
              "[5 rows x 7 columns]"
            ]
          },
          "metadata": {
            "tags": []
          },
          "execution_count": 26
        }
      ]
    },
    {
      "cell_type": "code",
      "metadata": {
        "id": "4owy4kZkALUb",
        "colab_type": "code",
        "outputId": "a6a3bba0-0efb-445e-8765-d64617dc9db2",
        "colab": {
          "base_uri": "https://localhost:8080/",
          "height": 51
        }
      },
      "source": [
        "%%time\n",
        "\n",
        "# initialize columns for efficiency\n",
        "df['closestStop'] = [0] * len(df)\n",
        "df['distance'] = [0.0] * len(df)\n",
        "\n",
        "for i in df.index:\n",
        "  if '_I_' in df.at[i, 'direction']:\n",
        "    candidates = inbound_stops.copy()\n",
        "  elif '_O_' in df.at[i, 'direction']:\n",
        "    candidates = outbound_stops.copy()\n",
        "  else:\n",
        "    # Skip row if bus is not found to be either inbound or outbound\n",
        "    continue\n",
        "  \n",
        "  bus_coord = (df.at[i, 'latitude'], df.at[i, 'longitude'])\n",
        "\n",
        "  # Find closest stop within candidates\n",
        "  # Assume the first stop\n",
        "  closest = candidates.iloc[0]\n",
        "  distance = fcc_projection(bus_coord, (closest['lat'], closest['lon']))\n",
        "\n",
        "  # Check each stop after that\n",
        "  for j in range(1, len(candidates)):\n",
        "    # find distance to this stop\n",
        "    dist = fcc_projection(bus_coord, (candidates.iloc[j]['lat'], \n",
        "                                      candidates.iloc[j]['lon']))\n",
        "    if dist < distance:\n",
        "      # closer stop found, save it\n",
        "      closest = candidates.iloc[j]\n",
        "      distance = dist\n",
        "  \n",
        "  # Save the tag of the closest stop and the distance to it\n",
        "  df.at[i, 'closestStop'] = closest['tag']\n",
        "  df.at[i, 'distance'] = distance"
      ],
      "execution_count": 0,
      "outputs": [
        {
          "output_type": "stream",
          "text": [
            "CPU times: user 2min 49s, sys: 13.4 ms, total: 2min 49s\n",
            "Wall time: 2min 49s\n"
          ],
          "name": "stdout"
        }
      ]
    },
    {
      "cell_type": "markdown",
      "metadata": {
        "id": "6Vls5Q5M_OoN",
        "colab_type": "text"
      },
      "source": [
        "There are 48 stops on both the inbound and outbound routes, and 10445 location reports for the day after removing any with no direction.\n",
        "\n",
        "So the code cell above checked 501,360 combinations of bus locations and stops.\n",
        "\n",
        "Good candidate for optimization."
      ]
    },
    {
      "cell_type": "code",
      "metadata": {
        "id": "5mNhLVr8-y2B",
        "colab_type": "code",
        "outputId": "b468b7ba-1928-4773-e916-29715ea95ac8",
        "colab": {
          "base_uri": "https://localhost:8080/",
          "height": 376
        }
      },
      "source": [
        "print(df.shape)\n",
        "df.head(10)"
      ],
      "execution_count": 0,
      "outputs": [
        {
          "output_type": "stream",
          "text": [
            "(10445, 12)\n"
          ],
          "name": "stdout"
        },
        {
          "output_type": "execute_result",
          "data": {
            "text/html": [
              "<div>\n",
              "<style scoped>\n",
              "    .dataframe tbody tr th:only-of-type {\n",
              "        vertical-align: middle;\n",
              "    }\n",
              "\n",
              "    .dataframe tbody tr th {\n",
              "        vertical-align: top;\n",
              "    }\n",
              "\n",
              "    .dataframe thead th {\n",
              "        text-align: right;\n",
              "    }\n",
              "</style>\n",
              "<table border=\"1\" class=\"dataframe\">\n",
              "  <thead>\n",
              "    <tr style=\"text-align: right;\">\n",
              "      <th></th>\n",
              "      <th>id</th>\n",
              "      <th>timestamp</th>\n",
              "      <th>rid</th>\n",
              "      <th>vid</th>\n",
              "      <th>age</th>\n",
              "      <th>kph</th>\n",
              "      <th>heading</th>\n",
              "      <th>latitude</th>\n",
              "      <th>longitude</th>\n",
              "      <th>direction</th>\n",
              "      <th>closestStop</th>\n",
              "      <th>distance</th>\n",
              "    </tr>\n",
              "  </thead>\n",
              "  <tbody>\n",
              "    <tr>\n",
              "      <th>0</th>\n",
              "      <td>2852834</td>\n",
              "      <td>2020-06-01 04:40:10</td>\n",
              "      <td>1</td>\n",
              "      <td>5797</td>\n",
              "      <td>2</td>\n",
              "      <td>18</td>\n",
              "      <td>75</td>\n",
              "      <td>37.7919</td>\n",
              "      <td>-122.425</td>\n",
              "      <td>1____I_S00</td>\n",
              "      <td>4016</td>\n",
              "      <td>0.059866</td>\n",
              "    </tr>\n",
              "    <tr>\n",
              "      <th>1</th>\n",
              "      <td>2852871</td>\n",
              "      <td>2020-06-01 04:40:59</td>\n",
              "      <td>1</td>\n",
              "      <td>5797</td>\n",
              "      <td>13</td>\n",
              "      <td>0</td>\n",
              "      <td>83</td>\n",
              "      <td>37.7921</td>\n",
              "      <td>-122.423</td>\n",
              "      <td>1____I_S00</td>\n",
              "      <td>4031</td>\n",
              "      <td>0.010048</td>\n",
              "    </tr>\n",
              "    <tr>\n",
              "      <th>2</th>\n",
              "      <td>2852908</td>\n",
              "      <td>2020-06-01 04:42:13</td>\n",
              "      <td>1</td>\n",
              "      <td>5797</td>\n",
              "      <td>0</td>\n",
              "      <td>11</td>\n",
              "      <td>75</td>\n",
              "      <td>37.7926</td>\n",
              "      <td>-122.420</td>\n",
              "      <td>1____I_S00</td>\n",
              "      <td>4022</td>\n",
              "      <td>0.046100</td>\n",
              "    </tr>\n",
              "    <tr>\n",
              "      <th>3</th>\n",
              "      <td>2852944</td>\n",
              "      <td>2020-06-01 04:43:01</td>\n",
              "      <td>1</td>\n",
              "      <td>5797</td>\n",
              "      <td>11</td>\n",
              "      <td>24</td>\n",
              "      <td>75</td>\n",
              "      <td>37.7930</td>\n",
              "      <td>-122.417</td>\n",
              "      <td>1____I_S00</td>\n",
              "      <td>4023</td>\n",
              "      <td>0.077721</td>\n",
              "    </tr>\n",
              "    <tr>\n",
              "      <th>4</th>\n",
              "      <td>2852981</td>\n",
              "      <td>2020-06-01 04:43:50</td>\n",
              "      <td>1</td>\n",
              "      <td>5797</td>\n",
              "      <td>22</td>\n",
              "      <td>10</td>\n",
              "      <td>75</td>\n",
              "      <td>37.7933</td>\n",
              "      <td>-122.414</td>\n",
              "      <td>1____I_S00</td>\n",
              "      <td>4020</td>\n",
              "      <td>0.070205</td>\n",
              "    </tr>\n",
              "    <tr>\n",
              "      <th>5</th>\n",
              "      <td>2853019</td>\n",
              "      <td>2020-06-01 04:44:51</td>\n",
              "      <td>1</td>\n",
              "      <td>5797</td>\n",
              "      <td>22</td>\n",
              "      <td>10</td>\n",
              "      <td>75</td>\n",
              "      <td>37.7936</td>\n",
              "      <td>-122.411</td>\n",
              "      <td>1____I_S00</td>\n",
              "      <td>4024</td>\n",
              "      <td>0.020698</td>\n",
              "    </tr>\n",
              "    <tr>\n",
              "      <th>6</th>\n",
              "      <td>2853039</td>\n",
              "      <td>2020-06-01 04:45:04</td>\n",
              "      <td>1</td>\n",
              "      <td>5798</td>\n",
              "      <td>9</td>\n",
              "      <td>27</td>\n",
              "      <td>75</td>\n",
              "      <td>37.7908</td>\n",
              "      <td>-122.426</td>\n",
              "      <td>1____I_S00</td>\n",
              "      <td>4905</td>\n",
              "      <td>0.036794</td>\n",
              "    </tr>\n",
              "    <tr>\n",
              "      <th>7</th>\n",
              "      <td>2853051</td>\n",
              "      <td>2020-06-01 04:45:04</td>\n",
              "      <td>1</td>\n",
              "      <td>5878</td>\n",
              "      <td>9</td>\n",
              "      <td>0</td>\n",
              "      <td>268</td>\n",
              "      <td>37.7845</td>\n",
              "      <td>-122.472</td>\n",
              "      <td>1____O_D00</td>\n",
              "      <td>3831</td>\n",
              "      <td>0.127954</td>\n",
              "    </tr>\n",
              "    <tr>\n",
              "      <th>8</th>\n",
              "      <td>2853058</td>\n",
              "      <td>2020-06-01 04:45:52</td>\n",
              "      <td>1</td>\n",
              "      <td>5797</td>\n",
              "      <td>20</td>\n",
              "      <td>10</td>\n",
              "      <td>75</td>\n",
              "      <td>37.7940</td>\n",
              "      <td>-122.408</td>\n",
              "      <td>1____I_S00</td>\n",
              "      <td>4029</td>\n",
              "      <td>0.049569</td>\n",
              "    </tr>\n",
              "    <tr>\n",
              "      <th>9</th>\n",
              "      <td>2853078</td>\n",
              "      <td>2020-06-01 04:45:28</td>\n",
              "      <td>1</td>\n",
              "      <td>5798</td>\n",
              "      <td>44</td>\n",
              "      <td>27</td>\n",
              "      <td>345</td>\n",
              "      <td>37.7916</td>\n",
              "      <td>-122.426</td>\n",
              "      <td>1____I_S00</td>\n",
              "      <td>4905</td>\n",
              "      <td>0.066977</td>\n",
              "    </tr>\n",
              "  </tbody>\n",
              "</table>\n",
              "</div>"
            ],
            "text/plain": [
              "        id           timestamp rid  ...   direction  closestStop  distance\n",
              "0  2852834 2020-06-01 04:40:10   1  ...  1____I_S00         4016  0.059866\n",
              "1  2852871 2020-06-01 04:40:59   1  ...  1____I_S00         4031  0.010048\n",
              "2  2852908 2020-06-01 04:42:13   1  ...  1____I_S00         4022  0.046100\n",
              "3  2852944 2020-06-01 04:43:01   1  ...  1____I_S00         4023  0.077721\n",
              "4  2852981 2020-06-01 04:43:50   1  ...  1____I_S00         4020  0.070205\n",
              "5  2853019 2020-06-01 04:44:51   1  ...  1____I_S00         4024  0.020698\n",
              "6  2853039 2020-06-01 04:45:04   1  ...  1____I_S00         4905  0.036794\n",
              "7  2853051 2020-06-01 04:45:04   1  ...  1____O_D00         3831  0.127954\n",
              "8  2853058 2020-06-01 04:45:52   1  ...  1____I_S00         4029  0.049569\n",
              "9  2853078 2020-06-01 04:45:28   1  ...  1____I_S00         4905  0.066977\n",
              "\n",
              "[10 rows x 12 columns]"
            ]
          },
          "metadata": {
            "tags": []
          },
          "execution_count": 28
        }
      ]
    },
    {
      "cell_type": "code",
      "metadata": {
        "id": "B6V6GZ5lTx-6",
        "colab_type": "code",
        "outputId": "760e3b40-93cf-497a-b9dc-6e34f0f8cbf4",
        "colab": {
          "base_uri": "https://localhost:8080/",
          "height": 1000
        }
      },
      "source": [
        "import matplotlib.pyplot as plt\n",
        "import seaborn as sns\n",
        "\n",
        "fig, ax = plt.subplots()\n",
        "fig.set_size_inches(16, 16)\n",
        "\n",
        "# All vehicles\n",
        "sns.scatterplot(x=df['timestamp'], \n",
        "                y=df['closestStop'].astype(str))\n",
        "\n",
        "# Single vehicle plot\n",
        "# vid = 5798\n",
        "# sns.scatterplot(x=df[df['vid']==vid]['timestamp'], \n",
        "#                 y=df[df['vid']==vid]['closestStop'].astype(str), \n",
        "#                 hue=df[df['vid']==vid]['direction'])\n",
        "\n",
        "# sort Y axis by the order stops should visited in\n",
        "stoplist = list(inbound_stops['tag']) + list(outbound_stops['tag'])\n",
        "plt.yticks(ticks=stoplist, labels=stoplist)\n",
        "\n",
        "plt.show()"
      ],
      "execution_count": 0,
      "outputs": [
        {
          "output_type": "stream",
          "text": [
            "/usr/local/lib/python3.6/dist-packages/statsmodels/tools/_testing.py:19: FutureWarning:\n",
            "\n",
            "pandas.util.testing is deprecated. Use the functions in the public API at pandas.testing instead.\n",
            "\n"
          ],
          "name": "stderr"
        },
        {
          "output_type": "display_data",
          "data": {
            "image/png": "[encoded data removed]",
            "text/plain": [
              "<Figure size 1152x1152 with 1 Axes>"
            ]
          },
          "metadata": {
            "tags": [],
            "needs_background": "light"
          }
        }
      ]
    },
    {
      "cell_type": "markdown",
      "metadata": {
        "id": "OvUk137fmWOa",
        "colab_type": "text"
      },
      "source": [
        "## Calculating when each bus is at each stop\n",
        "\n",
        "General steps:\n",
        "\n",
        "1. Find which stop is closest to each reported location (done above)\n",
        "  - This step could use improvement.  Using the closest stop will be a good approximation, but we could get more accurate by taking speed, distance, or maybe heading into account.\n",
        "2. Fill in times for stops in between each location report (interpolation)\n",
        "  - ![interpolation graphic](https://drive.google.com/uc?export=view&id=1lroClIK-i6_mysd5SA3mQCHsNKuy5t_r)\n",
        "  - Possible improvement: the current approach assumes equal distances between stops\n",
        "3. Save those times for each stop, to get a list of all times each stop sees a bus\n",
        "4. Analyze that list of times the stop sees a bus to get the bunches and gaps"
      ]
    },
    {
      "cell_type": "code",
      "metadata": {
        "id": "UjyC0opKsFjJ",
        "colab_type": "code",
        "colab": {}
      },
      "source": [
        "# Slimming down to just 1 vehicle so I can test faster\n",
        "df_full = df.copy()\n",
        "df = df[df['vid'] == 5797]"
      ],
      "execution_count": 0,
      "outputs": []
    },
    {
      "cell_type": "code",
      "metadata": {
        "id": "GA3WKYLvsZvy",
        "colab_type": "code",
        "outputId": "e3cd6f39-f90b-47ce-83b5-53a9f6c833e5",
        "colab": {
          "base_uri": "https://localhost:8080/",
          "height": 438
        }
      },
      "source": [
        "# This is the first inbound group\n",
        "print(df.shape)\n",
        "df.head(12)"
      ],
      "execution_count": 0,
      "outputs": [
        {
          "output_type": "stream",
          "text": [
            "(362, 12)\n"
          ],
          "name": "stdout"
        },
        {
          "output_type": "execute_result",
          "data": {
            "text/html": [
              "<div>\n",
              "<style scoped>\n",
              "    .dataframe tbody tr th:only-of-type {\n",
              "        vertical-align: middle;\n",
              "    }\n",
              "\n",
              "    .dataframe tbody tr th {\n",
              "        vertical-align: top;\n",
              "    }\n",
              "\n",
              "    .dataframe thead th {\n",
              "        text-align: right;\n",
              "    }\n",
              "</style>\n",
              "<table border=\"1\" class=\"dataframe\">\n",
              "  <thead>\n",
              "    <tr style=\"text-align: right;\">\n",
              "      <th></th>\n",
              "      <th>id</th>\n",
              "      <th>timestamp</th>\n",
              "      <th>rid</th>\n",
              "      <th>vid</th>\n",
              "      <th>age</th>\n",
              "      <th>kph</th>\n",
              "      <th>heading</th>\n",
              "      <th>latitude</th>\n",
              "      <th>longitude</th>\n",
              "      <th>direction</th>\n",
              "      <th>closestStop</th>\n",
              "      <th>distance</th>\n",
              "    </tr>\n",
              "  </thead>\n",
              "  <tbody>\n",
              "    <tr>\n",
              "      <th>0</th>\n",
              "      <td>2852834</td>\n",
              "      <td>2020-06-01 04:40:10</td>\n",
              "      <td>1</td>\n",
              "      <td>5797</td>\n",
              "      <td>2</td>\n",
              "      <td>18</td>\n",
              "      <td>75</td>\n",
              "      <td>37.7919</td>\n",
              "      <td>-122.425</td>\n",
              "      <td>1____I_S00</td>\n",
              "      <td>4016</td>\n",
              "      <td>0.059866</td>\n",
              "    </tr>\n",
              "    <tr>\n",
              "      <th>1</th>\n",
              "      <td>2852871</td>\n",
              "      <td>2020-06-01 04:40:59</td>\n",
              "      <td>1</td>\n",
              "      <td>5797</td>\n",
              "      <td>13</td>\n",
              "      <td>0</td>\n",
              "      <td>83</td>\n",
              "      <td>37.7921</td>\n",
              "      <td>-122.423</td>\n",
              "      <td>1____I_S00</td>\n",
              "      <td>4031</td>\n",
              "      <td>0.010048</td>\n",
              "    </tr>\n",
              "    <tr>\n",
              "      <th>2</th>\n",
              "      <td>2852908</td>\n",
              "      <td>2020-06-01 04:42:13</td>\n",
              "      <td>1</td>\n",
              "      <td>5797</td>\n",
              "      <td>0</td>\n",
              "      <td>11</td>\n",
              "      <td>75</td>\n",
              "      <td>37.7926</td>\n",
              "      <td>-122.420</td>\n",
              "      <td>1____I_S00</td>\n",
              "      <td>4022</td>\n",
              "      <td>0.046100</td>\n",
              "    </tr>\n",
              "    <tr>\n",
              "      <th>3</th>\n",
              "      <td>2852944</td>\n",
              "      <td>2020-06-01 04:43:01</td>\n",
              "      <td>1</td>\n",
              "      <td>5797</td>\n",
              "      <td>11</td>\n",
              "      <td>24</td>\n",
              "      <td>75</td>\n",
              "      <td>37.7930</td>\n",
              "      <td>-122.417</td>\n",
              "      <td>1____I_S00</td>\n",
              "      <td>4023</td>\n",
              "      <td>0.077721</td>\n",
              "    </tr>\n",
              "    <tr>\n",
              "      <th>4</th>\n",
              "      <td>2852981</td>\n",
              "      <td>2020-06-01 04:43:50</td>\n",
              "      <td>1</td>\n",
              "      <td>5797</td>\n",
              "      <td>22</td>\n",
              "      <td>10</td>\n",
              "      <td>75</td>\n",
              "      <td>37.7933</td>\n",
              "      <td>-122.414</td>\n",
              "      <td>1____I_S00</td>\n",
              "      <td>4020</td>\n",
              "      <td>0.070205</td>\n",
              "    </tr>\n",
              "    <tr>\n",
              "      <th>5</th>\n",
              "      <td>2853019</td>\n",
              "      <td>2020-06-01 04:44:51</td>\n",
              "      <td>1</td>\n",
              "      <td>5797</td>\n",
              "      <td>22</td>\n",
              "      <td>10</td>\n",
              "      <td>75</td>\n",
              "      <td>37.7936</td>\n",
              "      <td>-122.411</td>\n",
              "      <td>1____I_S00</td>\n",
              "      <td>4024</td>\n",
              "      <td>0.020698</td>\n",
              "    </tr>\n",
              "    <tr>\n",
              "      <th>8</th>\n",
              "      <td>2853058</td>\n",
              "      <td>2020-06-01 04:45:52</td>\n",
              "      <td>1</td>\n",
              "      <td>5797</td>\n",
              "      <td>20</td>\n",
              "      <td>10</td>\n",
              "      <td>75</td>\n",
              "      <td>37.7940</td>\n",
              "      <td>-122.408</td>\n",
              "      <td>1____I_S00</td>\n",
              "      <td>4029</td>\n",
              "      <td>0.049569</td>\n",
              "    </tr>\n",
              "    <tr>\n",
              "      <th>11</th>\n",
              "      <td>2853097</td>\n",
              "      <td>2020-06-01 04:46:53</td>\n",
              "      <td>1</td>\n",
              "      <td>5797</td>\n",
              "      <td>19</td>\n",
              "      <td>18</td>\n",
              "      <td>75</td>\n",
              "      <td>37.7943</td>\n",
              "      <td>-122.406</td>\n",
              "      <td>1____I_S00</td>\n",
              "      <td>4018</td>\n",
              "      <td>0.005542</td>\n",
              "    </tr>\n",
              "    <tr>\n",
              "      <th>14</th>\n",
              "      <td>2853137</td>\n",
              "      <td>2020-06-01 04:47:54</td>\n",
              "      <td>1</td>\n",
              "      <td>5797</td>\n",
              "      <td>18</td>\n",
              "      <td>0</td>\n",
              "      <td>80</td>\n",
              "      <td>37.7944</td>\n",
              "      <td>-122.405</td>\n",
              "      <td>1____I_S00</td>\n",
              "      <td>4021</td>\n",
              "      <td>0.065990</td>\n",
              "    </tr>\n",
              "    <tr>\n",
              "      <th>17</th>\n",
              "      <td>2853177</td>\n",
              "      <td>2020-06-01 04:48:55</td>\n",
              "      <td>1</td>\n",
              "      <td>5797</td>\n",
              "      <td>18</td>\n",
              "      <td>14</td>\n",
              "      <td>75</td>\n",
              "      <td>37.7947</td>\n",
              "      <td>-122.403</td>\n",
              "      <td>1____I_S00</td>\n",
              "      <td>4025</td>\n",
              "      <td>0.025584</td>\n",
              "    </tr>\n",
              "    <tr>\n",
              "      <th>20</th>\n",
              "      <td>2853215</td>\n",
              "      <td>2020-06-01 04:49:56</td>\n",
              "      <td>1</td>\n",
              "      <td>5797</td>\n",
              "      <td>16</td>\n",
              "      <td>3</td>\n",
              "      <td>75</td>\n",
              "      <td>37.7949</td>\n",
              "      <td>-122.401</td>\n",
              "      <td>1____I_S00</td>\n",
              "      <td>4028</td>\n",
              "      <td>0.039949</td>\n",
              "    </tr>\n",
              "    <tr>\n",
              "      <th>23</th>\n",
              "      <td>2853254</td>\n",
              "      <td>2020-06-01 04:50:57</td>\n",
              "      <td>1</td>\n",
              "      <td>5797</td>\n",
              "      <td>15</td>\n",
              "      <td>11</td>\n",
              "      <td>75</td>\n",
              "      <td>37.7952</td>\n",
              "      <td>-122.399</td>\n",
              "      <td>1____I_S00</td>\n",
              "      <td>4017</td>\n",
              "      <td>0.014186</td>\n",
              "    </tr>\n",
              "  </tbody>\n",
              "</table>\n",
              "</div>"
            ],
            "text/plain": [
              "         id           timestamp rid  ...   direction  closestStop  distance\n",
              "0   2852834 2020-06-01 04:40:10   1  ...  1____I_S00         4016  0.059866\n",
              "1   2852871 2020-06-01 04:40:59   1  ...  1____I_S00         4031  0.010048\n",
              "2   2852908 2020-06-01 04:42:13   1  ...  1____I_S00         4022  0.046100\n",
              "3   2852944 2020-06-01 04:43:01   1  ...  1____I_S00         4023  0.077721\n",
              "4   2852981 2020-06-01 04:43:50   1  ...  1____I_S00         4020  0.070205\n",
              "5   2853019 2020-06-01 04:44:51   1  ...  1____I_S00         4024  0.020698\n",
              "8   2853058 2020-06-01 04:45:52   1  ...  1____I_S00         4029  0.049569\n",
              "11  2853097 2020-06-01 04:46:53   1  ...  1____I_S00         4018  0.005542\n",
              "14  2853137 2020-06-01 04:47:54   1  ...  1____I_S00         4021  0.065990\n",
              "17  2853177 2020-06-01 04:48:55   1  ...  1____I_S00         4025  0.025584\n",
              "20  2853215 2020-06-01 04:49:56   1  ...  1____I_S00         4028  0.039949\n",
              "23  2853254 2020-06-01 04:50:57   1  ...  1____I_S00         4017  0.014186\n",
              "\n",
              "[12 rows x 12 columns]"
            ]
          },
          "metadata": {
            "tags": []
          },
          "execution_count": 77
        }
      ]
    },
    {
      "cell_type": "code",
      "metadata": {
        "id": "mT-OwJOmsg38",
        "colab_type": "code",
        "outputId": "34b2e568-3244-48c3-c93c-ddb0d2fd801a",
        "colab": {
          "base_uri": "https://localhost:8080/",
          "height": 34
        }
      },
      "source": [
        "# The inbound and outbound lists have stops in the correct order\n",
        "inbound[:5]"
      ],
      "execution_count": 0,
      "outputs": [
        {
          "output_type": "execute_result",
          "data": {
            "text/plain": [
              "['4277', '3555', '3548', '3546', '3844']"
            ]
          },
          "metadata": {
            "tags": []
          },
          "execution_count": 41
        }
      ]
    },
    {
      "cell_type": "code",
      "metadata": {
        "id": "vO6BlfC5y2dA",
        "colab_type": "code",
        "outputId": "eb64b814-dfd7-459e-f8f2-3ea16107d07e",
        "colab": {
          "base_uri": "https://localhost:8080/",
          "height": 34
        }
      },
      "source": [
        "# example, index of a stop\n",
        "inbound.index('4016')"
      ],
      "execution_count": 0,
      "outputs": [
        {
          "output_type": "execute_result",
          "data": {
            "text/plain": [
              "31"
            ]
          },
          "metadata": {
            "tags": []
          },
          "execution_count": 50
        }
      ]
    },
    {
      "cell_type": "code",
      "metadata": {
        "id": "5B88TADy3DIH",
        "colab_type": "code",
        "outputId": "09f11c09-792e-44a9-ae65-6c26e17c585a",
        "colab": {
          "base_uri": "https://localhost:8080/",
          "height": 34
        }
      },
      "source": [
        "# example, interpolate the time between stops at rows 0 and 1\n",
        "df.at[0, 'timestamp'] + (df.at[1, 'timestamp'] - df.at[0, 'timestamp'])/2"
      ],
      "execution_count": 0,
      "outputs": [
        {
          "output_type": "execute_result",
          "data": {
            "text/plain": [
              "Timestamp('2020-06-01 04:40:34.500000')"
            ]
          },
          "metadata": {
            "tags": []
          },
          "execution_count": 59
        }
      ]
    },
    {
      "cell_type": "code",
      "metadata": {
        "id": "0H3v5JQXvX_O",
        "colab_type": "code",
        "outputId": "5e5921f4-dfae-4260-c499-c3ccf1baf1b5",
        "colab": {
          "base_uri": "https://localhost:8080/",
          "height": 51
        }
      },
      "source": [
        "%%time\n",
        "\n",
        "# Initialize the data structure I will store results in\n",
        "# Dict with the stop tag as a key, and a list of timestamps\n",
        "stop_times = {}\n",
        "for stop in inbound + outbound:\n",
        "  stop_times[str(stop)] = []\n",
        "\n",
        "for vid in df_full['vid'].unique():\n",
        "  # Process the route one vehicle at a time\n",
        "  df = df_full[df_full['vid'] == vid]\n",
        "\n",
        "  # process 1st row on its own\n",
        "  prev_row = df.loc[df.index[0]]\n",
        "  stop_times[str(prev_row['closestStop'])].append(prev_row['timestamp'])\n",
        "\n",
        "  # loop through the rest of the rows, comparing each to the previous one\n",
        "  for i, row in df[1:].iterrows():\n",
        "    if row['direction'] != prev_row['direction']:\n",
        "      # changed directions, don't compare to previous row\n",
        "      stop_times[str(row['closestStop'])].append(row['timestamp'])\n",
        "    else:\n",
        "      # same direction, compare to previous\n",
        "      if '_I_' in row['direction']:  # get correct stop list\n",
        "        stoplist = inbound\n",
        "      else:\n",
        "        stoplist = outbound\n",
        "\n",
        "      current = stoplist.index(str(row['closestStop']))\n",
        "      previous = stoplist.index(str(prev_row['closestStop']))\n",
        "      gap = current - previous\n",
        "      if gap > 1:  # need to interpolate\n",
        "        diff = (row['timestamp'] - prev_row['timestamp'])/gap\n",
        "        counter = 1\n",
        "        for stop in stoplist[previous+1:current]:\n",
        "          # save interpolated time\n",
        "          stop_times[str(stop)].append(prev_row['timestamp'] + (counter * diff))\n",
        "          # print('interpolated time for stop', stop)\n",
        "\n",
        "          # increase counter for the next stop\n",
        "          # example: with 2 interpolated stops, gap would be 3\n",
        "          # 1st diff is 1/3, next is 2/3\n",
        "          counter += 1\n",
        "      \n",
        "      if row['closestStop'] != prev_row['closestStop']:\n",
        "        # only save time if the stop has changed, \n",
        "        # otherwise the bus hasn't moved since last time\n",
        "        stop_times[str(row['closestStop'])].append(row['timestamp'])\n",
        "    \n",
        "    # advance for next row\n",
        "    prev_row = row"
      ],
      "execution_count": 0,
      "outputs": [
        {
          "output_type": "stream",
          "text": [
            "CPU times: user 2.39 s, sys: 0 ns, total: 2.39 s\n",
            "Wall time: 2.39 s\n"
          ],
          "name": "stdout"
        }
      ]
    },
    {
      "cell_type": "code",
      "metadata": {
        "id": "aBxdP_m07BKu",
        "colab_type": "code",
        "outputId": "57060050-16a3-4856-a919-46446e2f6fcf",
        "colab": {
          "base_uri": "https://localhost:8080/",
          "height": 1000
        }
      },
      "source": [
        "# meta-analysis\n",
        "total = 0\n",
        "for key in stop_times.keys():\n",
        "  total += len(stop_times[key])\n",
        "  print(f\"Stop {key} recorded {len(stop_times[key])} timestamps\")\n",
        "\n",
        "print(f\"\\n{total} total timestamps were recorded, meaning {total - len(df_full)} were interpolated\")"
      ],
      "execution_count": 0,
      "outputs": [
        {
          "output_type": "stream",
          "text": [
            "Stop 4277 recorded 32 timestamps\n",
            "Stop 3555 recorded 122 timestamps\n",
            "Stop 3548 recorded 127 timestamps\n",
            "Stop 3546 recorded 128 timestamps\n",
            "Stop 3844 recorded 130 timestamps\n",
            "Stop 3842 recorded 130 timestamps\n",
            "Stop 3840 recorded 131 timestamps\n",
            "Stop 3838 recorded 132 timestamps\n",
            "Stop 3836 recorded 132 timestamps\n",
            "Stop 3834 recorded 132 timestamps\n",
            "Stop 3887 recorded 132 timestamps\n",
            "Stop 3832 recorded 132 timestamps\n",
            "Stop 3830 recorded 133 timestamps\n",
            "Stop 3827 recorded 133 timestamps\n",
            "Stop 3825 recorded 133 timestamps\n",
            "Stop 3823 recorded 133 timestamps\n",
            "Stop 3846 recorded 134 timestamps\n",
            "Stop 3853 recorded 134 timestamps\n",
            "Stop 3897 recorded 134 timestamps\n",
            "Stop 3876 recorded 130 timestamps\n",
            "Stop 3893 recorded 124 timestamps\n",
            "Stop 3848 recorded 120 timestamps\n",
            "Stop 3859 recorded 120 timestamps\n",
            "Stop 3885 recorded 120 timestamps\n",
            "Stop 6489 recorded 121 timestamps\n",
            "Stop 6296 recorded 121 timestamps\n",
            "Stop 6320 recorded 120 timestamps\n",
            "Stop 6292 recorded 121 timestamps\n",
            "Stop 6306 recorded 122 timestamps\n",
            "Stop 6310 recorded 126 timestamps\n",
            "Stop 4905 recorded 130 timestamps\n",
            "Stop 4016 recorded 131 timestamps\n",
            "Stop 4031 recorded 131 timestamps\n",
            "Stop 4026 recorded 132 timestamps\n",
            "Stop 4022 recorded 133 timestamps\n",
            "Stop 4019 recorded 133 timestamps\n",
            "Stop 4023 recorded 133 timestamps\n",
            "Stop 4020 recorded 133 timestamps\n",
            "Stop 4030 recorded 135 timestamps\n",
            "Stop 4024 recorded 135 timestamps\n",
            "Stop 4027 recorded 162 timestamps\n",
            "Stop 4029 recorded 133 timestamps\n",
            "Stop 4018 recorded 95 timestamps\n",
            "Stop 4021 recorded 95 timestamps\n",
            "Stop 4025 recorded 93 timestamps\n",
            "Stop 4028 recorded 90 timestamps\n",
            "Stop 4017 recorded 87 timestamps\n",
            "Stop 34015 recorded 43 timestamps\n",
            "Stop 4015 recorded 20 timestamps\n",
            "Stop 6294 recorded 89 timestamps\n",
            "Stop 6290 recorded 88 timestamps\n",
            "Stop 6314 recorded 93 timestamps\n",
            "Stop 6307 recorded 94 timestamps\n",
            "Stop 6302 recorded 95 timestamps\n",
            "Stop 6299 recorded 95 timestamps\n",
            "Stop 6316 recorded 95 timestamps\n",
            "Stop 6312 recorded 96 timestamps\n",
            "Stop 6315 recorded 119 timestamps\n",
            "Stop 6301 recorded 124 timestamps\n",
            "Stop 6304 recorded 130 timestamps\n",
            "Stop 6300 recorded 132 timestamps\n",
            "Stop 6303 recorded 132 timestamps\n",
            "Stop 6311 recorded 133 timestamps\n",
            "Stop 6317 recorded 133 timestamps\n",
            "Stop 6297 recorded 133 timestamps\n",
            "Stop 6298 recorded 133 timestamps\n",
            "Stop 6309 recorded 133 timestamps\n",
            "Stop 6305 recorded 133 timestamps\n",
            "Stop 6291 recorded 133 timestamps\n",
            "Stop 6319 recorded 133 timestamps\n",
            "Stop 6295 recorded 133 timestamps\n",
            "Stop 6486 recorded 133 timestamps\n",
            "Stop 3884 recorded 132 timestamps\n",
            "Stop 3858 recorded 132 timestamps\n",
            "Stop 3847 recorded 126 timestamps\n",
            "Stop 3892 recorded 123 timestamps\n",
            "Stop 3875 recorded 119 timestamps\n",
            "Stop 3896 recorded 118 timestamps\n",
            "Stop 3852 recorded 119 timestamps\n",
            "Stop 3845 recorded 120 timestamps\n",
            "Stop 3822 recorded 122 timestamps\n",
            "Stop 3824 recorded 122 timestamps\n",
            "Stop 7160 recorded 122 timestamps\n",
            "Stop 3828 recorded 123 timestamps\n",
            "Stop 3831 recorded 128 timestamps\n",
            "Stop 3886 recorded 130 timestamps\n",
            "Stop 3833 recorded 130 timestamps\n",
            "Stop 3835 recorded 130 timestamps\n",
            "Stop 3837 recorded 132 timestamps\n",
            "Stop 3839 recorded 132 timestamps\n",
            "Stop 3841 recorded 133 timestamps\n",
            "Stop 3843 recorded 133 timestamps\n",
            "Stop 3547 recorded 133 timestamps\n",
            "Stop 3549 recorded 126 timestamps\n",
            "Stop 3550 recorded 74 timestamps\n",
            "Stop 34277 recorded 27 timestamps\n",
            "\n",
            "11481 total timestamps were recorded, meaning 1036 were interpolated\n"
          ],
          "name": "stdout"
        }
      ]
    },
    {
      "cell_type": "markdown",
      "metadata": {
        "id": "EHYpU-SMEIyn",
        "colab_type": "text"
      },
      "source": [
        "## Finding bunches and gaps\n",
        "\n",
        "Now that we have the lists of each time a bus was at each stop, we can go through those lists to check if the times were long or short enough to be bunches or gaps."
      ]
    },
    {
      "cell_type": "code",
      "metadata": {
        "id": "FAx1cY7W7BE7",
        "colab_type": "code",
        "outputId": "b0dcf3bf-4b62-4a60-decb-0e9662e71d00",
        "colab": {
          "base_uri": "https://localhost:8080/",
          "height": 34
        }
      },
      "source": [
        "# Expected headway (in minutes)\n",
        "schedule.common_interval"
      ],
      "execution_count": 0,
      "outputs": [
        {
          "output_type": "execute_result",
          "data": {
            "text/plain": [
              "8.0"
            ]
          },
          "metadata": {
            "tags": []
          },
          "execution_count": 103
        }
      ]
    },
    {
      "cell_type": "code",
      "metadata": {
        "id": "eAKwTnytZNPS",
        "colab_type": "code",
        "outputId": "a9778512-bf11-4d15-ef08-06a8ce9b2310",
        "colab": {
          "base_uri": "https://localhost:8080/",
          "height": 51
        }
      },
      "source": [
        "%%time\n",
        "# sort every array so that the times are in order\n",
        "for stop in stop_times.keys():\n",
        "  stop_times[stop].sort()"
      ],
      "execution_count": 0,
      "outputs": [
        {
          "output_type": "stream",
          "text": [
            "CPU times: user 5.59 ms, sys: 0 ns, total: 5.59 ms\n",
            "Wall time: 5.54 ms\n"
          ],
          "name": "stdout"
        }
      ]
    },
    {
      "cell_type": "code",
      "metadata": {
        "id": "7Wxajw3yUw1P",
        "colab_type": "code",
        "outputId": "b0645633-4798-41e5-9bbe-75f5b0f4b1b9",
        "colab": {
          "base_uri": "https://localhost:8080/",
          "height": 51
        }
      },
      "source": [
        "%%time\n",
        "\n",
        "# Initialize dataframe for the bunces and gaps\n",
        "problems = pd.DataFrame(columns=['type', 'time', 'duration', 'stop'])\n",
        "counter = 0\n",
        "\n",
        "# Set the bunch/gap thresholds (in seconds)\n",
        "bunch_threshold = (schedule.common_interval * 60) * .2  # 20%\n",
        "gap_threshold = (schedule.common_interval * 60) * 1.5   # 150%\n",
        "\n",
        "for stop in stop_times.keys():\n",
        "  # ensure we have a time at all for this stop\n",
        "  if len(stop_times[stop]) == 0:\n",
        "    print(f\"Stop {stop} had no recorded times\")\n",
        "    continue  # go to next stop in the loop\n",
        "\n",
        "  # save initial time\n",
        "  prev_time = stop_times[stop][0]\n",
        "\n",
        "  # loop through all others, comparing to the previous one\n",
        "  for time in stop_times[stop][1:]:\n",
        "    diff = (time - prev_time).seconds\n",
        "    if diff <= bunch_threshold:\n",
        "      # bunch found, save it\n",
        "      problems.at[counter] = ['bunch', prev_time, diff, stop]\n",
        "      counter += 1\n",
        "    elif diff >= gap_threshold:\n",
        "      problems.at[counter] = ['gap', prev_time, diff, stop]\n",
        "      counter += 1\n",
        "    \n",
        "    prev_time = time"
      ],
      "execution_count": 0,
      "outputs": [
        {
          "output_type": "stream",
          "text": [
            "CPU times: user 2.39 s, sys: 35.6 ms, total: 2.43 s\n",
            "Wall time: 2.37 s\n"
          ],
          "name": "stdout"
        }
      ]
    },
    {
      "cell_type": "code",
      "metadata": {
        "id": "UtHanwUpXPVr",
        "colab_type": "code",
        "outputId": "fa8c360b-b56c-4ee1-9e7f-1fccd3435aa0",
        "colab": {
          "base_uri": "https://localhost:8080/",
          "height": 419
        }
      },
      "source": [
        "# type - 'bunch' or 'gap'\n",
        "# time - the start time of the problem interval\n",
        "# duration - the length of the interval, in seconds\n",
        "# stop - the stop this interval was recorded at\n",
        "\n",
        "problems[problems['type'] == 'gap']"
      ],
      "execution_count": 0,
      "outputs": [
        {
          "output_type": "execute_result",
          "data": {
            "text/html": [
              "<div>\n",
              "<style scoped>\n",
              "    .dataframe tbody tr th:only-of-type {\n",
              "        vertical-align: middle;\n",
              "    }\n",
              "\n",
              "    .dataframe tbody tr th {\n",
              "        vertical-align: top;\n",
              "    }\n",
              "\n",
              "    .dataframe thead th {\n",
              "        text-align: right;\n",
              "    }\n",
              "</style>\n",
              "<table border=\"1\" class=\"dataframe\">\n",
              "  <thead>\n",
              "    <tr style=\"text-align: right;\">\n",
              "      <th></th>\n",
              "      <th>type</th>\n",
              "      <th>time</th>\n",
              "      <th>duration</th>\n",
              "      <th>stop</th>\n",
              "    </tr>\n",
              "  </thead>\n",
              "  <tbody>\n",
              "    <tr>\n",
              "      <th>0</th>\n",
              "      <td>gap</td>\n",
              "      <td>2020-06-01 05:00:48</td>\n",
              "      <td>853</td>\n",
              "      <td>4277</td>\n",
              "    </tr>\n",
              "    <tr>\n",
              "      <th>1</th>\n",
              "      <td>gap</td>\n",
              "      <td>2020-06-01 05:42:01</td>\n",
              "      <td>784</td>\n",
              "      <td>4277</td>\n",
              "    </tr>\n",
              "    <tr>\n",
              "      <th>2</th>\n",
              "      <td>gap</td>\n",
              "      <td>2020-06-01 05:55:05</td>\n",
              "      <td>3365</td>\n",
              "      <td>4277</td>\n",
              "    </tr>\n",
              "    <tr>\n",
              "      <th>3</th>\n",
              "      <td>gap</td>\n",
              "      <td>2020-06-01 06:51:10</td>\n",
              "      <td>7136</td>\n",
              "      <td>4277</td>\n",
              "    </tr>\n",
              "    <tr>\n",
              "      <th>4</th>\n",
              "      <td>gap</td>\n",
              "      <td>2020-06-01 08:50:06</td>\n",
              "      <td>15142</td>\n",
              "      <td>4277</td>\n",
              "    </tr>\n",
              "    <tr>\n",
              "      <th>...</th>\n",
              "      <td>...</td>\n",
              "      <td>...</td>\n",
              "      <td>...</td>\n",
              "      <td>...</td>\n",
              "    </tr>\n",
              "    <tr>\n",
              "      <th>2400</th>\n",
              "      <td>gap</td>\n",
              "      <td>2020-06-01 17:00:05</td>\n",
              "      <td>3005</td>\n",
              "      <td>34277</td>\n",
              "    </tr>\n",
              "    <tr>\n",
              "      <th>2401</th>\n",
              "      <td>gap</td>\n",
              "      <td>2020-06-01 17:50:10</td>\n",
              "      <td>1614</td>\n",
              "      <td>34277</td>\n",
              "    </tr>\n",
              "    <tr>\n",
              "      <th>2402</th>\n",
              "      <td>gap</td>\n",
              "      <td>2020-06-01 18:17:04</td>\n",
              "      <td>2337</td>\n",
              "      <td>34277</td>\n",
              "    </tr>\n",
              "    <tr>\n",
              "      <th>2403</th>\n",
              "      <td>gap</td>\n",
              "      <td>2020-06-01 18:56:01</td>\n",
              "      <td>5581</td>\n",
              "      <td>34277</td>\n",
              "    </tr>\n",
              "    <tr>\n",
              "      <th>2404</th>\n",
              "      <td>gap</td>\n",
              "      <td>2020-06-01 20:45:09</td>\n",
              "      <td>6302</td>\n",
              "      <td>34277</td>\n",
              "    </tr>\n",
              "  </tbody>\n",
              "</table>\n",
              "<p>1873 rows × 4 columns</p>\n",
              "</div>"
            ],
            "text/plain": [
              "     type                 time duration   stop\n",
              "0     gap  2020-06-01 05:00:48      853   4277\n",
              "1     gap  2020-06-01 05:42:01      784   4277\n",
              "2     gap  2020-06-01 05:55:05     3365   4277\n",
              "3     gap  2020-06-01 06:51:10     7136   4277\n",
              "4     gap  2020-06-01 08:50:06    15142   4277\n",
              "...   ...                  ...      ...    ...\n",
              "2400  gap  2020-06-01 17:00:05     3005  34277\n",
              "2401  gap  2020-06-01 17:50:10     1614  34277\n",
              "2402  gap  2020-06-01 18:17:04     2337  34277\n",
              "2403  gap  2020-06-01 18:56:01     5581  34277\n",
              "2404  gap  2020-06-01 20:45:09     6302  34277\n",
              "\n",
              "[1873 rows x 4 columns]"
            ]
          },
          "metadata": {
            "tags": []
          },
          "execution_count": 127
        }
      ]
    },
    {
      "cell_type": "code",
      "metadata": {
        "id": "LzgPpwVxYxQY",
        "colab_type": "code",
        "outputId": "7fac2d96-be99-4901-c5b6-487747d57acc",
        "colab": {
          "base_uri": "https://localhost:8080/",
          "height": 419
        }
      },
      "source": [
        "problems[problems['type'] == 'bunch']"
      ],
      "execution_count": 0,
      "outputs": [
        {
          "output_type": "execute_result",
          "data": {
            "text/html": [
              "<div>\n",
              "<style scoped>\n",
              "    .dataframe tbody tr th:only-of-type {\n",
              "        vertical-align: middle;\n",
              "    }\n",
              "\n",
              "    .dataframe tbody tr th {\n",
              "        vertical-align: top;\n",
              "    }\n",
              "\n",
              "    .dataframe thead th {\n",
              "        text-align: right;\n",
              "    }\n",
              "</style>\n",
              "<table border=\"1\" class=\"dataframe\">\n",
              "  <thead>\n",
              "    <tr style=\"text-align: right;\">\n",
              "      <th></th>\n",
              "      <th>type</th>\n",
              "      <th>time</th>\n",
              "      <th>duration</th>\n",
              "      <th>stop</th>\n",
              "    </tr>\n",
              "  </thead>\n",
              "  <tbody>\n",
              "    <tr>\n",
              "      <th>6</th>\n",
              "      <td>bunch</td>\n",
              "      <td>2020-06-01 13:44:03</td>\n",
              "      <td>25</td>\n",
              "      <td>4277</td>\n",
              "    </tr>\n",
              "    <tr>\n",
              "      <th>7</th>\n",
              "      <td>bunch</td>\n",
              "      <td>2020-06-01 14:34:38</td>\n",
              "      <td>79</td>\n",
              "      <td>4277</td>\n",
              "    </tr>\n",
              "    <tr>\n",
              "      <th>13</th>\n",
              "      <td>bunch</td>\n",
              "      <td>2020-06-01 21:49:39</td>\n",
              "      <td>13</td>\n",
              "      <td>4277</td>\n",
              "    </tr>\n",
              "    <tr>\n",
              "      <th>24</th>\n",
              "      <td>bunch</td>\n",
              "      <td>2020-06-01 13:58:05</td>\n",
              "      <td>63</td>\n",
              "      <td>3555</td>\n",
              "    </tr>\n",
              "    <tr>\n",
              "      <th>25</th>\n",
              "      <td>bunch</td>\n",
              "      <td>2020-06-01 14:05:01</td>\n",
              "      <td>25</td>\n",
              "      <td>3555</td>\n",
              "    </tr>\n",
              "    <tr>\n",
              "      <th>...</th>\n",
              "      <td>...</td>\n",
              "      <td>...</td>\n",
              "      <td>...</td>\n",
              "      <td>...</td>\n",
              "    </tr>\n",
              "    <tr>\n",
              "      <th>2342</th>\n",
              "      <td>bunch</td>\n",
              "      <td>2020-06-01 21:45:51</td>\n",
              "      <td>82</td>\n",
              "      <td>3549</td>\n",
              "    </tr>\n",
              "    <tr>\n",
              "      <th>2355</th>\n",
              "      <td>bunch</td>\n",
              "      <td>2020-06-01 10:57:48</td>\n",
              "      <td>12</td>\n",
              "      <td>3550</td>\n",
              "    </tr>\n",
              "    <tr>\n",
              "      <th>2364</th>\n",
              "      <td>bunch</td>\n",
              "      <td>2020-06-01 14:31:52</td>\n",
              "      <td>64</td>\n",
              "      <td>3550</td>\n",
              "    </tr>\n",
              "    <tr>\n",
              "      <th>2377</th>\n",
              "      <td>bunch</td>\n",
              "      <td>2020-06-01 20:36:08</td>\n",
              "      <td>62</td>\n",
              "      <td>3550</td>\n",
              "    </tr>\n",
              "    <tr>\n",
              "      <th>2381</th>\n",
              "      <td>bunch</td>\n",
              "      <td>2020-06-01 21:46:54</td>\n",
              "      <td>52</td>\n",
              "      <td>3550</td>\n",
              "    </tr>\n",
              "  </tbody>\n",
              "</table>\n",
              "<p>532 rows × 4 columns</p>\n",
              "</div>"
            ],
            "text/plain": [
              "       type                 time duration  stop\n",
              "6     bunch  2020-06-01 13:44:03       25  4277\n",
              "7     bunch  2020-06-01 14:34:38       79  4277\n",
              "13    bunch  2020-06-01 21:49:39       13  4277\n",
              "24    bunch  2020-06-01 13:58:05       63  3555\n",
              "25    bunch  2020-06-01 14:05:01       25  3555\n",
              "...     ...                  ...      ...   ...\n",
              "2342  bunch  2020-06-01 21:45:51       82  3549\n",
              "2355  bunch  2020-06-01 10:57:48       12  3550\n",
              "2364  bunch  2020-06-01 14:31:52       64  3550\n",
              "2377  bunch  2020-06-01 20:36:08       62  3550\n",
              "2381  bunch  2020-06-01 21:46:54       52  3550\n",
              "\n",
              "[532 rows x 4 columns]"
            ]
          },
          "metadata": {
            "tags": []
          },
          "execution_count": 128
        }
      ]
    },
    {
      "cell_type": "code",
      "metadata": {
        "id": "111Sq1FiZvmQ",
        "colab_type": "code",
        "outputId": "301c44a9-77a5-435c-f9b3-b937bbada72d",
        "colab": {
          "base_uri": "https://localhost:8080/",
          "height": 68
        }
      },
      "source": [
        "# how many is that?\n",
        "bunches = len(problems[problems['type'] == 'bunch'])\n",
        "gaps = len(problems[problems['type'] == 'gap'])\n",
        "intervals = total-len(stop_times)\n",
        "\n",
        "print(f\"Out of {intervals} recorded intervals, we found {bunches} bunches and {gaps} gaps\")\n",
        "print(f\"\\t{(bunches/intervals)*100 : .2f}% bunched\")\n",
        "print(f\"\\t{(gaps/intervals)*100 : .2f}% gapped\")"
      ],
      "execution_count": 0,
      "outputs": [
        {
          "output_type": "stream",
          "text": [
            "Out of 11385 recorded intervals, we found 532 bunches and 1873 gaps\n",
            "\t 4.67% bunched\n",
            "\t 16.45% gapped\n"
          ],
          "name": "stdout"
        }
      ]
    },
    {
      "cell_type": "markdown",
      "metadata": {
        "id": "8NV0H2O-bz-w",
        "colab_type": "text"
      },
      "source": [
        "## On time percentage\n",
        "\n",
        "We can also use the list of stop times to calculate on-time percentage.  For each expected time, did we have a bus there on time?\n",
        "\n",
        "SFMTA defines \"on time\" as \"within four minutes late or one minute early of the scheduled arrival time\"\n",
        "\n",
        "- source: https://www.sfmta.com/reports/muni-time-performance\n",
        "\n",
        "We don't have enough precision in our data to distinguish arrivals and departures from every specific stop, so our results may not match up exactly with SFMTA's reported results.  That website reports monthly statistics, but not daily.\n",
        "\n",
        "These approximations also do not have info on which bus is supposed to be which trip.  This code does not distinguish between early or late if a scheduled stop was missed, because we do not know if the bus before or after was supposed to make that stop."
      ]
    },
    {
      "cell_type": "code",
      "metadata": {
        "id": "LE-WCi5Fd-8P",
        "colab_type": "code",
        "outputId": "a63f3b4c-7f6d-46d1-9e98-79c82bf813e7",
        "colab": {
          "base_uri": "https://localhost:8080/",
          "height": 359
        }
      },
      "source": [
        "# Remind myself what I'm working with\n",
        "schedule.inbound_table.head(10)"
      ],
      "execution_count": 0,
      "outputs": [
        {
          "output_type": "execute_result",
          "data": {
            "text/html": [
              "<div>\n",
              "<style scoped>\n",
              "    .dataframe tbody tr th:only-of-type {\n",
              "        vertical-align: middle;\n",
              "    }\n",
              "\n",
              "    .dataframe tbody tr th {\n",
              "        vertical-align: top;\n",
              "    }\n",
              "\n",
              "    .dataframe thead th {\n",
              "        text-align: right;\n",
              "    }\n",
              "</style>\n",
              "<table border=\"1\" class=\"dataframe\">\n",
              "  <thead>\n",
              "    <tr style=\"text-align: right;\">\n",
              "      <th></th>\n",
              "      <th>4277</th>\n",
              "      <th>3825</th>\n",
              "      <th>3893</th>\n",
              "      <th>3848</th>\n",
              "      <th>6296</th>\n",
              "      <th>4026</th>\n",
              "      <th>4027</th>\n",
              "      <th>4028</th>\n",
              "      <th>34015</th>\n",
              "    </tr>\n",
              "  </thead>\n",
              "  <tbody>\n",
              "    <tr>\n",
              "      <th>0</th>\n",
              "      <td>NaN</td>\n",
              "      <td>NaN</td>\n",
              "      <td>NaN</td>\n",
              "      <td>04:32:00</td>\n",
              "      <td>04:37:00</td>\n",
              "      <td>04:44:00</td>\n",
              "      <td>04:50:00</td>\n",
              "      <td>04:56:00</td>\n",
              "      <td>04:59:00</td>\n",
              "    </tr>\n",
              "    <tr>\n",
              "      <th>1</th>\n",
              "      <td>NaN</td>\n",
              "      <td>NaN</td>\n",
              "      <td>NaN</td>\n",
              "      <td>04:40:00</td>\n",
              "      <td>04:45:00</td>\n",
              "      <td>04:52:00</td>\n",
              "      <td>04:58:00</td>\n",
              "      <td>05:04:00</td>\n",
              "      <td>05:07:00</td>\n",
              "    </tr>\n",
              "    <tr>\n",
              "      <th>2</th>\n",
              "      <td>NaN</td>\n",
              "      <td>NaN</td>\n",
              "      <td>NaN</td>\n",
              "      <td>04:48:00</td>\n",
              "      <td>04:53:00</td>\n",
              "      <td>05:00:00</td>\n",
              "      <td>05:06:00</td>\n",
              "      <td>05:12:00</td>\n",
              "      <td>05:15:00</td>\n",
              "    </tr>\n",
              "    <tr>\n",
              "      <th>3</th>\n",
              "      <td>NaN</td>\n",
              "      <td>NaN</td>\n",
              "      <td>NaN</td>\n",
              "      <td>04:56:00</td>\n",
              "      <td>05:01:00</td>\n",
              "      <td>05:08:00</td>\n",
              "      <td>05:14:00</td>\n",
              "      <td>05:20:00</td>\n",
              "      <td>05:23:00</td>\n",
              "    </tr>\n",
              "    <tr>\n",
              "      <th>4</th>\n",
              "      <td>NaN</td>\n",
              "      <td>NaN</td>\n",
              "      <td>NaN</td>\n",
              "      <td>05:04:00</td>\n",
              "      <td>05:09:00</td>\n",
              "      <td>05:16:00</td>\n",
              "      <td>05:22:00</td>\n",
              "      <td>05:28:00</td>\n",
              "      <td>05:31:00</td>\n",
              "    </tr>\n",
              "    <tr>\n",
              "      <th>5</th>\n",
              "      <td>NaN</td>\n",
              "      <td>NaN</td>\n",
              "      <td>NaN</td>\n",
              "      <td>05:12:00</td>\n",
              "      <td>05:17:00</td>\n",
              "      <td>05:24:00</td>\n",
              "      <td>05:30:00</td>\n",
              "      <td>05:36:00</td>\n",
              "      <td>05:39:00</td>\n",
              "    </tr>\n",
              "    <tr>\n",
              "      <th>6</th>\n",
              "      <td>05:00:00</td>\n",
              "      <td>05:10:00</td>\n",
              "      <td>05:16:00</td>\n",
              "      <td>NaN</td>\n",
              "      <td>05:21:00</td>\n",
              "      <td>05:28:00</td>\n",
              "      <td>05:34:00</td>\n",
              "      <td>05:40:00</td>\n",
              "      <td>05:43:00</td>\n",
              "    </tr>\n",
              "    <tr>\n",
              "      <th>7</th>\n",
              "      <td>NaN</td>\n",
              "      <td>NaN</td>\n",
              "      <td>NaN</td>\n",
              "      <td>05:20:00</td>\n",
              "      <td>05:25:00</td>\n",
              "      <td>05:32:00</td>\n",
              "      <td>05:38:00</td>\n",
              "      <td>05:44:00</td>\n",
              "      <td>05:47:00</td>\n",
              "    </tr>\n",
              "    <tr>\n",
              "      <th>8</th>\n",
              "      <td>05:08:00</td>\n",
              "      <td>05:18:00</td>\n",
              "      <td>05:24:00</td>\n",
              "      <td>NaN</td>\n",
              "      <td>05:29:00</td>\n",
              "      <td>05:36:00</td>\n",
              "      <td>05:42:00</td>\n",
              "      <td>05:48:00</td>\n",
              "      <td>05:51:00</td>\n",
              "    </tr>\n",
              "    <tr>\n",
              "      <th>9</th>\n",
              "      <td>05:16:00</td>\n",
              "      <td>05:26:00</td>\n",
              "      <td>05:32:00</td>\n",
              "      <td>NaN</td>\n",
              "      <td>05:37:00</td>\n",
              "      <td>05:44:00</td>\n",
              "      <td>05:50:00</td>\n",
              "      <td>05:56:00</td>\n",
              "      <td>05:59:00</td>\n",
              "    </tr>\n",
              "  </tbody>\n",
              "</table>\n",
              "</div>"
            ],
            "text/plain": [
              "       4277      3825      3893  ...      4027      4028     34015\n",
              "0       NaN       NaN       NaN  ...  04:50:00  04:56:00  04:59:00\n",
              "1       NaN       NaN       NaN  ...  04:58:00  05:04:00  05:07:00\n",
              "2       NaN       NaN       NaN  ...  05:06:00  05:12:00  05:15:00\n",
              "3       NaN       NaN       NaN  ...  05:14:00  05:20:00  05:23:00\n",
              "4       NaN       NaN       NaN  ...  05:22:00  05:28:00  05:31:00\n",
              "5       NaN       NaN       NaN  ...  05:30:00  05:36:00  05:39:00\n",
              "6  05:00:00  05:10:00  05:16:00  ...  05:34:00  05:40:00  05:43:00\n",
              "7       NaN       NaN       NaN  ...  05:38:00  05:44:00  05:47:00\n",
              "8  05:08:00  05:18:00  05:24:00  ...  05:42:00  05:48:00  05:51:00\n",
              "9  05:16:00  05:26:00  05:32:00  ...  05:50:00  05:56:00  05:59:00\n",
              "\n",
              "[10 rows x 9 columns]"
            ]
          },
          "metadata": {
            "tags": []
          },
          "execution_count": 133
        }
      ]
    },
    {
      "cell_type": "code",
      "metadata": {
        "id": "VHYIwDjPh97c",
        "colab_type": "code",
        "outputId": "0b4bdc5b-2a36-4b95-ff1a-20e652f8b1f1",
        "colab": {
          "base_uri": "https://localhost:8080/",
          "height": 187
        }
      },
      "source": [
        "# What times did we actually see?\n",
        "stop_times['4026'][:10]"
      ],
      "execution_count": 0,
      "outputs": [
        {
          "output_type": "execute_result",
          "data": {
            "text/plain": [
              "[Timestamp('2020-06-01 04:41:36'),\n",
              " Timestamp('2020-06-01 04:47:30'),\n",
              " Timestamp('2020-06-01 04:58:02.500000'),\n",
              " Timestamp('2020-06-01 05:05:05'),\n",
              " Timestamp('2020-06-01 05:13:17.500000'),\n",
              " Timestamp('2020-06-01 05:22:05.500000'),\n",
              " Timestamp('2020-06-01 05:26:47.500000'),\n",
              " Timestamp('2020-06-01 05:32:50'),\n",
              " Timestamp('2020-06-01 05:41:55.500000'),\n",
              " Timestamp('2020-06-01 05:52:08.500000')]"
            ]
          },
          "metadata": {
            "tags": []
          },
          "execution_count": 136
        }
      ]
    },
    {
      "cell_type": "code",
      "metadata": {
        "id": "NI01lq8QsIG2",
        "colab_type": "code",
        "outputId": "07ed9e80-4fd5-40c5-a079-8ea4b060f9b8",
        "colab": {
          "base_uri": "https://localhost:8080/",
          "height": 221
        }
      },
      "source": [
        "pd.to_datetime(inbound_times['4277'])"
      ],
      "execution_count": 0,
      "outputs": [
        {
          "output_type": "execute_result",
          "data": {
            "text/plain": [
              "0                     NaT\n",
              "1                     NaT\n",
              "2                     NaT\n",
              "3                     NaT\n",
              "4                     NaT\n",
              "              ...        \n",
              "153   2020-06-08 22:16:00\n",
              "154   2020-06-08 22:24:00\n",
              "155   2020-06-08 22:32:00\n",
              "156   2020-06-08 22:40:00\n",
              "157   2020-06-08 22:48:00\n",
              "Name: 4277, Length: 158, dtype: datetime64[ns]"
            ]
          },
          "metadata": {
            "tags": []
          },
          "execution_count": 158
        }
      ]
    },
    {
      "cell_type": "code",
      "metadata": {
        "id": "Nay8A5Tgiyua",
        "colab_type": "code",
        "colab": {}
      },
      "source": [
        "# Save schedules with timestamp data types, set date to match\n",
        "example = df_full['timestamp'][0]\n",
        "\n",
        "inbound_times = schedule.inbound_table\n",
        "for col in inbound_times.columns:\n",
        "  inbound_times[col] = pd.to_datetime(inbound_times[col]).apply(\n",
        "      lambda dt: dt.replace(year=example.year, \n",
        "                            month=example.month, \n",
        "                            day=example.day))\n",
        "\n",
        "outbound_times = schedule.outbound_table\n",
        "for col in outbound_times.columns:\n",
        "  outbound_times[col] = pd.to_datetime(outbound_times[col]).apply(\n",
        "      lambda dt: dt.replace(year=example.year, \n",
        "                            month=example.month, \n",
        "                            day=example.day))"
      ],
      "execution_count": 0,
      "outputs": []
    },
    {
      "cell_type": "code",
      "metadata": {
        "id": "sM3qZZUkjjxW",
        "colab_type": "code",
        "outputId": "463114a8-6b88-40df-fa25-525d9eac7280",
        "colab": {
          "base_uri": "https://localhost:8080/",
          "height": 102
        }
      },
      "source": [
        "%%time\n",
        "# This performs a sequential search to find observed times that match \n",
        "# expected times.  Could switch to a binary search to improve speed if needed.\n",
        "\n",
        "def count_on_time(expected_times, observed_times):\n",
        "  \"\"\" Returns the number of on-time stops found \"\"\"\n",
        "\n",
        "  # set up early/late thresholds (in seconds)\n",
        "  early_threshold = pd.Timedelta(seconds=1*60)  # 1 minute early\n",
        "  late_threshold = pd.Timedelta(seconds=4*60)   # 4 minutes late\n",
        "\n",
        "  count = 0\n",
        "  for stop in expected_times.columns:\n",
        "    for expected in expected_times[stop]:\n",
        "      if pd.isna(expected):\n",
        "        continue  # skip NaT values in the expected schedule\n",
        "\n",
        "      # for each expected time...\n",
        "      # find first observed time after the early threshold\n",
        "      found_time = None\n",
        "      early = expected - early_threshold\n",
        "      for observed in observed_times[stop]:\n",
        "        if observed >= early:\n",
        "          found_time = observed\n",
        "          break \n",
        "\n",
        "      # if found time is still None, then all observed times were too early\n",
        "      # if found_time is before the late threshold then we were on time\n",
        "      if (not pd.isna(found_time)) and found_time <= (expected + late_threshold):\n",
        "        # found_time is within the on-time window\n",
        "        count += 1\n",
        "\n",
        "  return count\n",
        "\n",
        "# count times for both inbound and outbound schedules\n",
        "on_time_count = (count_on_time(inbound_times, stop_times) + \n",
        "                 count_on_time(outbound_times, stop_times))\n",
        "\n",
        "# get total expected count\n",
        "total_expected = inbound_times.count().sum() + outbound_times.count().sum()\n",
        "\n",
        "# and there we have it, the on-time percentage\n",
        "print(f\"Found {on_time_count} on time stops out of {total_expected} scheduled\")\n",
        "print(f\"On-time percentage is {(on_time_count/total_expected)*100 : .2f}%\\n\")"
      ],
      "execution_count": 0,
      "outputs": [
        {
          "output_type": "stream",
          "text": [
            "Found 952 on time stops out of 2324 scheduled\n",
            "On-time percentage is 40.96%\n",
            "\n",
            "CPU times: user 60.5 ms, sys: 2 ms, total: 62.5 ms\n",
            "Wall time: 66.2 ms\n"
          ],
          "name": "stdout"
        }
      ]
    },
    {
      "cell_type": "code",
      "metadata": {
        "id": "BCqbAxXMa2lf",
        "colab_type": "code",
        "colab": {}
      },
      "source": [
        ""
      ],
      "execution_count": 0,
      "outputs": []
    },
    {
      "cell_type": "markdown",
      "metadata": {
        "id": "BgQKUVccNlOK",
        "colab_type": "text"
      },
      "source": [
        "## Bunches and Gaps Line Graph\n"
      ]
    },
    {
      "cell_type": "code",
      "metadata": {
        "id": "kRFzNN8sOiJ1",
        "colab_type": "code",
        "outputId": "7bffb8c9-794f-4149-c9c2-de96ec7b410e",
        "colab": {
          "base_uri": "https://localhost:8080/",
          "height": 204
        }
      },
      "source": [
        "problems.head()"
      ],
      "execution_count": 0,
      "outputs": [
        {
          "output_type": "execute_result",
          "data": {
            "text/html": [
              "<div>\n",
              "<style scoped>\n",
              "    .dataframe tbody tr th:only-of-type {\n",
              "        vertical-align: middle;\n",
              "    }\n",
              "\n",
              "    .dataframe tbody tr th {\n",
              "        vertical-align: top;\n",
              "    }\n",
              "\n",
              "    .dataframe thead th {\n",
              "        text-align: right;\n",
              "    }\n",
              "</style>\n",
              "<table border=\"1\" class=\"dataframe\">\n",
              "  <thead>\n",
              "    <tr style=\"text-align: right;\">\n",
              "      <th></th>\n",
              "      <th>type</th>\n",
              "      <th>time</th>\n",
              "      <th>duration</th>\n",
              "      <th>stop</th>\n",
              "    </tr>\n",
              "  </thead>\n",
              "  <tbody>\n",
              "    <tr>\n",
              "      <th>0</th>\n",
              "      <td>gap</td>\n",
              "      <td>2020-06-08 05:16:11</td>\n",
              "      <td>1720</td>\n",
              "      <td>3603</td>\n",
              "    </tr>\n",
              "    <tr>\n",
              "      <th>1</th>\n",
              "      <td>gap</td>\n",
              "      <td>2020-06-08 05:44:51</td>\n",
              "      <td>1262</td>\n",
              "      <td>3603</td>\n",
              "    </tr>\n",
              "    <tr>\n",
              "      <th>2</th>\n",
              "      <td>gap</td>\n",
              "      <td>2020-06-08 06:05:53</td>\n",
              "      <td>1509</td>\n",
              "      <td>3603</td>\n",
              "    </tr>\n",
              "    <tr>\n",
              "      <th>3</th>\n",
              "      <td>gap</td>\n",
              "      <td>2020-06-08 06:31:02</td>\n",
              "      <td>773</td>\n",
              "      <td>3603</td>\n",
              "    </tr>\n",
              "    <tr>\n",
              "      <th>4</th>\n",
              "      <td>gap</td>\n",
              "      <td>2020-06-08 06:43:55</td>\n",
              "      <td>1022</td>\n",
              "      <td>3603</td>\n",
              "    </tr>\n",
              "  </tbody>\n",
              "</table>\n",
              "</div>"
            ],
            "text/plain": [
              "  type                time duration  stop\n",
              "0  gap 2020-06-08 05:16:11     1720  3603\n",
              "1  gap 2020-06-08 05:44:51     1262  3603\n",
              "2  gap 2020-06-08 06:05:53     1509  3603\n",
              "3  gap 2020-06-08 06:31:02      773  3603\n",
              "4  gap 2020-06-08 06:43:55     1022  3603"
            ]
          },
          "metadata": {
            "tags": []
          },
          "execution_count": 77
        }
      ]
    },
    {
      "cell_type": "code",
      "metadata": {
        "id": "ugCX9TJySv54",
        "colab_type": "code",
        "outputId": "5a0a16f1-73be-4fbf-c9c8-5cc10ff0d237",
        "colab": {
          "base_uri": "https://localhost:8080/",
          "height": 235
        }
      },
      "source": [
        "index = pd.DatetimeIndex(problems['time'])\n",
        "df = problems.copy()\n",
        "df.index = index\n",
        "df.head()"
      ],
      "execution_count": 0,
      "outputs": [
        {
          "output_type": "execute_result",
          "data": {
            "text/html": [
              "<div>\n",
              "<style scoped>\n",
              "    .dataframe tbody tr th:only-of-type {\n",
              "        vertical-align: middle;\n",
              "    }\n",
              "\n",
              "    .dataframe tbody tr th {\n",
              "        vertical-align: top;\n",
              "    }\n",
              "\n",
              "    .dataframe thead th {\n",
              "        text-align: right;\n",
              "    }\n",
              "</style>\n",
              "<table border=\"1\" class=\"dataframe\">\n",
              "  <thead>\n",
              "    <tr style=\"text-align: right;\">\n",
              "      <th></th>\n",
              "      <th>type</th>\n",
              "      <th>time</th>\n",
              "      <th>duration</th>\n",
              "      <th>stop</th>\n",
              "    </tr>\n",
              "    <tr>\n",
              "      <th>time</th>\n",
              "      <th></th>\n",
              "      <th></th>\n",
              "      <th></th>\n",
              "      <th></th>\n",
              "    </tr>\n",
              "  </thead>\n",
              "  <tbody>\n",
              "    <tr>\n",
              "      <th>2020-06-08 05:16:11</th>\n",
              "      <td>gap</td>\n",
              "      <td>2020-06-08 05:16:11</td>\n",
              "      <td>1720</td>\n",
              "      <td>3603</td>\n",
              "    </tr>\n",
              "    <tr>\n",
              "      <th>2020-06-08 05:44:51</th>\n",
              "      <td>gap</td>\n",
              "      <td>2020-06-08 05:44:51</td>\n",
              "      <td>1262</td>\n",
              "      <td>3603</td>\n",
              "    </tr>\n",
              "    <tr>\n",
              "      <th>2020-06-08 06:05:53</th>\n",
              "      <td>gap</td>\n",
              "      <td>2020-06-08 06:05:53</td>\n",
              "      <td>1509</td>\n",
              "      <td>3603</td>\n",
              "    </tr>\n",
              "    <tr>\n",
              "      <th>2020-06-08 06:31:02</th>\n",
              "      <td>gap</td>\n",
              "      <td>2020-06-08 06:31:02</td>\n",
              "      <td>773</td>\n",
              "      <td>3603</td>\n",
              "    </tr>\n",
              "    <tr>\n",
              "      <th>2020-06-08 06:43:55</th>\n",
              "      <td>gap</td>\n",
              "      <td>2020-06-08 06:43:55</td>\n",
              "      <td>1022</td>\n",
              "      <td>3603</td>\n",
              "    </tr>\n",
              "  </tbody>\n",
              "</table>\n",
              "</div>"
            ],
            "text/plain": [
              "                    type                time duration  stop\n",
              "time                                                       \n",
              "2020-06-08 05:16:11  gap 2020-06-08 05:16:11     1720  3603\n",
              "2020-06-08 05:44:51  gap 2020-06-08 05:44:51     1262  3603\n",
              "2020-06-08 06:05:53  gap 2020-06-08 06:05:53     1509  3603\n",
              "2020-06-08 06:31:02  gap 2020-06-08 06:31:02      773  3603\n",
              "2020-06-08 06:43:55  gap 2020-06-08 06:43:55     1022  3603"
            ]
          },
          "metadata": {
            "tags": []
          },
          "execution_count": 82
        }
      ]
    },
    {
      "cell_type": "code",
      "metadata": {
        "id": "55CdwdznSKTm",
        "colab_type": "code",
        "outputId": "81dcb592-f375-4f5d-b194-13bd4689cbf6",
        "colab": {
          "base_uri": "https://localhost:8080/",
          "height": 204
        }
      },
      "source": [
        "# How to select rows between a time\n",
        "interval = pd.Timedelta(minutes=10)\n",
        "\n",
        "select_start = pd.to_datetime('2020/6/8 11:00:00')\n",
        "select_end = select_start + interval\n",
        "\n",
        "df.between_time(select_start.time(), select_end.time())"
      ],
      "execution_count": 0,
      "outputs": [
        {
          "output_type": "execute_result",
          "data": {
            "text/html": [
              "<div>\n",
              "<style scoped>\n",
              "    .dataframe tbody tr th:only-of-type {\n",
              "        vertical-align: middle;\n",
              "    }\n",
              "\n",
              "    .dataframe tbody tr th {\n",
              "        vertical-align: top;\n",
              "    }\n",
              "\n",
              "    .dataframe thead th {\n",
              "        text-align: right;\n",
              "    }\n",
              "</style>\n",
              "<table border=\"1\" class=\"dataframe\">\n",
              "  <thead>\n",
              "    <tr style=\"text-align: right;\">\n",
              "      <th></th>\n",
              "      <th>type</th>\n",
              "      <th>time</th>\n",
              "      <th>duration</th>\n",
              "      <th>stop</th>\n",
              "    </tr>\n",
              "    <tr>\n",
              "      <th>time</th>\n",
              "      <th></th>\n",
              "      <th></th>\n",
              "      <th></th>\n",
              "      <th></th>\n",
              "    </tr>\n",
              "  </thead>\n",
              "  <tbody>\n",
              "    <tr>\n",
              "      <th>2020-06-08 11:01:00</th>\n",
              "      <td>gap</td>\n",
              "      <td>2020-06-08 11:01:00</td>\n",
              "      <td>776</td>\n",
              "      <td>5692</td>\n",
              "    </tr>\n",
              "    <tr>\n",
              "      <th>2020-06-08 11:05:05</th>\n",
              "      <td>gap</td>\n",
              "      <td>2020-06-08 11:05:05</td>\n",
              "      <td>838</td>\n",
              "      <td>5650</td>\n",
              "    </tr>\n",
              "    <tr>\n",
              "      <th>2020-06-08 11:08:00</th>\n",
              "      <td>gap</td>\n",
              "      <td>2020-06-08 11:08:00</td>\n",
              "      <td>835</td>\n",
              "      <td>5644</td>\n",
              "    </tr>\n",
              "    <tr>\n",
              "      <th>2020-06-08 11:04:04</th>\n",
              "      <td>bunch</td>\n",
              "      <td>2020-06-08 11:04:04</td>\n",
              "      <td>61</td>\n",
              "      <td>6738</td>\n",
              "    </tr>\n",
              "  </tbody>\n",
              "</table>\n",
              "</div>"
            ],
            "text/plain": [
              "                      type                time duration  stop\n",
              "time                                                         \n",
              "2020-06-08 11:01:00    gap 2020-06-08 11:01:00      776  5692\n",
              "2020-06-08 11:05:05    gap 2020-06-08 11:05:05      838  5650\n",
              "2020-06-08 11:08:00    gap 2020-06-08 11:08:00      835  5644\n",
              "2020-06-08 11:04:04  bunch 2020-06-08 11:04:04       61  6738"
            ]
          },
          "metadata": {
            "tags": []
          },
          "execution_count": 95
        }
      ]
    },
    {
      "cell_type": "code",
      "metadata": {
        "id": "yuFAoQgXROQs",
        "colab_type": "code",
        "colab": {}
      },
      "source": [
        "import matplotlib.pyplot as plt\n",
        "\n",
        "def draw_bunch_gap_graph(problems, interval=5):\n",
        "  \"\"\"\n",
        "  plots a graph of the bunches and gaps throughout the day\n",
        "\n",
        "  problems - the dataframe of bunches and gaps\n",
        "\n",
        "  interval - the number of minutes to bin data into\n",
        "  \"\"\"\n",
        "\n",
        "  # generate the DatetimeIndex needed\n",
        "  index = pd.DatetimeIndex(problems['time'])\n",
        "  df = problems.copy()\n",
        "  df.index = index\n",
        "\n",
        "  # lists for graph data\n",
        "  bunches = []\n",
        "  gaps = []\n",
        "  times = []\n",
        "\n",
        "  # set the time interval and selectino times\n",
        "  interval = pd.Timedelta(minutes=interval)\n",
        "  start_date = problems.at[0, 'time'].replace(hour=0, minute=0, second=0)\n",
        "  select_start = start_date\n",
        "  select_end = date + interval\n",
        "\n",
        "  while select_start.day == start_date.day:\n",
        "    # get the count of each type of problem in this time interval\n",
        "    count = df.between_time(select_start.time(), select_end.time())['type'].value_counts()\n",
        "\n",
        "    # append the counts to the data list\n",
        "    if 'bunch' in count.index:\n",
        "      bunches.append(count['bunch'])\n",
        "    else:\n",
        "      bunches.append(0)\n",
        "    \n",
        "    if 'gap' in count.index:\n",
        "      gaps.append(count['gap'])\n",
        "    else:\n",
        "      gaps.append(0)\n",
        "\n",
        "    # save the start time for the x axis\n",
        "    times.append(str(select_start.time())[:5])\n",
        "    \n",
        "    # increment the selection window\n",
        "    select_start += interval\n",
        "    select_end += interval\n",
        "\n",
        "  # draw the graph\n",
        "  fig, ax = plt.subplots()\n",
        "  fig.set_size_inches(16, 6)\n",
        "\n",
        "  plt.plot(times, bunches, label='Bunches')\n",
        "  plt.plot(times, gaps, label='Gaps')\n",
        "\n",
        "  plt.title(f\"Bunches and Gaps for route {rid} on {str(pd.to_datetime(begin).date())}\")\n",
        "  ax.xaxis.set_major_locator(plt.MaxNLocator(24))  # limit number of ticks on x-axis\n",
        "  plt.legend()\n",
        "  plt.show()"
      ],
      "execution_count": 0,
      "outputs": []
    },
    {
      "cell_type": "code",
      "metadata": {
        "id": "ujsTRzDwcPOl",
        "colab_type": "code",
        "outputId": "d6a9538b-d0fa-4b28-a5cc-cafbdf836b2f",
        "colab": {
          "base_uri": "https://localhost:8080/",
          "height": 390
        }
      },
      "source": [
        "bunch_gap_graph(problems, interval=5)"
      ],
      "execution_count": 0,
      "outputs": [
        {
          "output_type": "display_data",
          "data": {
            "image/png": "[encoded data removed]",
            "text/plain": [
              "<Figure size 1152x432 with 1 Axes>"
            ]
          },
          "metadata": {
            "tags": [],
            "needs_background": "light"
          }
        }
      ]
    },
    {
      "cell_type": "code",
      "metadata": {
        "id": "P9BhRf4ccTIv",
        "colab_type": "code",
        "outputId": "f11aa3d5-0722-4488-fbe1-f9fb0f75d296",
        "colab": {
          "base_uri": "https://localhost:8080/",
          "height": 390
        }
      },
      "source": [
        "bunch_gap_graph(problems, interval=10)"
      ],
      "execution_count": 0,
      "outputs": [
        {
          "output_type": "display_data",
          "data": {
            "image/png": "[encoded data removed]",
            "text/plain": [
              "<Figure size 1152x432 with 1 Axes>"
            ]
          },
          "metadata": {
            "tags": [],
            "needs_background": "light"
          }
        }
      ]
    },
    {
      "cell_type": "markdown",
      "metadata": {
        "id": "SlW4OTuStgpI",
        "colab_type": "text"
      },
      "source": [
        "# Cleaning code\n",
        "\n",
        "The above code achieves what we're after: it finds the number of bunches and gaps in a given route on a given day, and also calculates the on-time percentage.\n",
        "\n",
        "The code below can be run on it's own, and does not include any of the exploratory bits."
      ]
    },
    {
      "cell_type": "markdown",
      "metadata": {
        "id": "Z774PSkAveGP",
        "colab_type": "text"
      },
      "source": [
        "## Run Once"
      ]
    },
    {
      "cell_type": "code",
      "metadata": {
        "id": "tfNvb0CAuQ3M",
        "colab_type": "code",
        "outputId": "a722219e-bc05-4abc-f220-27df68a5f7f9",
        "colab": {
          "base_uri": "https://localhost:8080/",
          "height": 71
        }
      },
      "source": [
        "# Used in many places\n",
        "import psycopg2 as pg\n",
        "import pandas as pd\n",
        "\n",
        "# Used to enter database credentials without saving them to the notebook file\n",
        "import getpass\n",
        "\n",
        "# Used to easily read in bus location data\n",
        "import pandas.io.sql as sqlio\n",
        "\n",
        "# Only used in the schedule class definition\n",
        "import numpy as np\n",
        "from scipy import stats\n",
        "\n",
        "# Used in the fcc_projection function to find distances\n",
        "from math import sqrt, cos\n",
        "\n",
        "# Used at the end, to convert the final product to JSON\n",
        "import json"
      ],
      "execution_count": 0,
      "outputs": [
        {
          "output_type": "stream",
          "text": [
            "/usr/local/lib/python3.6/dist-packages/psycopg2/__init__.py:144: UserWarning: The psycopg2 wheel package will be renamed from release 2.8; in order to keep installing from binary please use \"pip install psycopg2-binary\" instead. For details see: <http://initd.org/psycopg/docs/install.html#binary-install-from-pypi>.\n",
            "  \"\"\")\n"
          ],
          "name": "stderr"
        }
      ]
    },
    {
      "cell_type": "code",
      "metadata": {
        "id": "OrXXS59_uSMB",
        "colab_type": "code",
        "outputId": "c5d4feb0-ebc6-4e10-8e94-700d8e9e22e1",
        "colab": {
          "base_uri": "https://localhost:8080/",
          "height": 119
        }
      },
      "source": [
        "# Enter database credentials.  Requires you to paste in the user and\n",
        "# password so it isn't saved in the notebook file\n",
        "print(\"Enter database username:\")\n",
        "user = getpass.getpass()\n",
        "print(\"Enter database password:\")\n",
        "password = getpass.getpass()\n",
        "\n",
        "creds = {\n",
        "  'user': user,\n",
        "  'password': password,\n",
        "  'host': \"lambdalabs24sfmta.cykkiwxbfvpg.us-east-1.rds.amazonaws.com\",\n",
        "  'dbname': \"historicalTransitData\"\n",
        "}\n",
        "\n",
        "# Set up connection to database\n",
        "cnx = pg.connect(**creds)\n",
        "cursor = cnx.cursor()\n",
        "\n",
        "print('\\nDatabase connection successful')"
      ],
      "execution_count": 0,
      "outputs": [
        {
          "output_type": "stream",
          "text": [
            "Enter database username:\n",
            "··········\n",
            "Enter database password:\n",
            "··········\n",
            "\n",
            "Database connection successful\n"
          ],
          "name": "stdout"
        }
      ]
    },
    {
      "cell_type": "code",
      "metadata": {
        "id": "FD5I_fodu1VO",
        "colab_type": "code",
        "colab": {}
      },
      "source": [
        "# Schedule class definition\n",
        "# Copied from previous work, has extra methods that are not all used in this notebook\n",
        "\n",
        "class Schedule:\n",
        "    def __init__(self, route_id, date, connection):\n",
        "        \"\"\"\n",
        "        The Schedule class loads the schedule for a particular route and day,\n",
        "        and makes several accessor methods available for it.\n",
        "\n",
        "        Parameters:\n",
        "\n",
        "        route_id (str or int)\n",
        "            - The route id to load\n",
        "\n",
        "        date (str or pandas.Timestamp)\n",
        "            - Which date to load\n",
        "            - Converted with pandas.to_datetime so many formats are acceptable\n",
        "        \"\"\"\n",
        "\n",
        "        self.route_id = str(route_id)\n",
        "        self.date = pd.to_datetime(date)\n",
        "\n",
        "        # load the schedule for that date and route\n",
        "        self.route_data = load_schedule(self.route_id, self.date, connection)\n",
        "\n",
        "        # process data into a table\n",
        "        self.inbound_table, self.outbound_table = extract_schedule_tables(self.route_data)\n",
        "\n",
        "        # calculate the common interval values\n",
        "        self.mean_interval, self.common_interval = get_common_intervals(\n",
        "                                    [self.inbound_table, self.outbound_table])\n",
        "\n",
        "    def list_stops(self):\n",
        "        \"\"\"\n",
        "        returns the list of all stops used by this schedule\n",
        "        \"\"\"\n",
        "\n",
        "        # get stops for both inbound and outbound routes\n",
        "        inbound = list(self.inbound_table.columns)\n",
        "        outbound = list(self.outbound_table.columns)\n",
        "\n",
        "        # convert to set to ensure no duplicates,\n",
        "        # then back to list for the correct output type\n",
        "        return list(set(inbound + outbound))\n",
        "\n",
        "    def get_specific_interval(self, stop, time, inbound=True):\n",
        "        \"\"\"\n",
        "        Returns the expected interval, in minutes, for a given stop and\n",
        "        time of day.\n",
        "\n",
        "        Parameters:\n",
        "\n",
        "        stop (str or int)\n",
        "            - the stop tag/id of the bus stop to check\n",
        "\n",
        "        time (str or pandas.Timestamp)\n",
        "            - the time of day to check, uses pandas.to_datetime to convert\n",
        "            - examples that work: \"6:00\", \"3:30pm\", \"15:30\"\n",
        "\n",
        "        inbound (bool, optional)\n",
        "            - whether to check the inbound or outbound schedule\n",
        "            - ignored unless the given stop is in both inbound and outbound\n",
        "        \"\"\"\n",
        "\n",
        "        # ensure correct parameter types\n",
        "        stop = str(stop)\n",
        "        time = pd.to_datetime(time)\n",
        "\n",
        "        # check which route to use, and extract the column for the given stop\n",
        "        if (stop in self.inbound_table.columns and\n",
        "        stop in self.outbound_table.columns):\n",
        "            # stop exists in both, use inbound parameter to decide\n",
        "            if inbound:\n",
        "                sched = self.inbound_table[stop]\n",
        "            else:\n",
        "                sched = self.outbound_table[stop]\n",
        "        elif (stop in self.inbound_table.columns):\n",
        "            # stop is in the inbound schedule, use that\n",
        "            sched = self.inbound_table[stop]\n",
        "        elif (stop in self.outbound_table.columns):\n",
        "            # stop is in the outbound schedule, use that\n",
        "            sched = self.outbound_table[stop]\n",
        "        else:\n",
        "            # stop doesn't exist in either, throw an error\n",
        "            raise ValueError(f\"Stop id '{stop}' doesn't exist in either inbound or outbound schedules\")\n",
        "\n",
        "        # 1: convert schedule to datetime for comparison statements\n",
        "        # 2: drop any NaN values\n",
        "        # 3: convert to list since pd.Series threw errors on i indexing\n",
        "        sched = list(pd.to_datetime(sched).dropna())\n",
        "\n",
        "        # reset the date portion of the time parameter to\n",
        "        # ensure we are checking the schedule correctly\n",
        "        time = time.replace(year=self.date.year, month=self.date.month,\n",
        "                            day=self.date.day)\n",
        "\n",
        "        # iterate through that list to find where the time parameter fits\n",
        "        for i in range(1, len(sched)):\n",
        "            # start at 1 and move forward,\n",
        "            # is the time parameter before this schedule entry?\n",
        "            if(time < sched[i]):\n",
        "                # return the difference between this entry and the previous one\n",
        "                return (sched[i] - sched[i-1]).seconds / 60\n",
        "\n",
        "        # can only reach this point if the time parameter is after all entries\n",
        "        # in the schedule, return the last available interval\n",
        "        return (sched[len(sched)-1] - sched[len(sched)-2]).seconds / 60\n",
        "\n",
        "\n",
        "def load_schedule(route, date, connection):\n",
        "    \"\"\"\n",
        "    loads schedule data from the database and returns it\n",
        "\n",
        "    Parameters:\n",
        "\n",
        "        route (str)\n",
        "            - The route id to load\n",
        "\n",
        "        date (str or pd.Timestamp)\n",
        "            - Which date to load\n",
        "            - Converted with pandas.to_datetime so many formats are acceptable\n",
        "    \"\"\"\n",
        "\n",
        "    # ensure correct parameter types\n",
        "    route = str(route)\n",
        "    date = pd.to_datetime(date)\n",
        "\n",
        "    # DB connection\n",
        "    cursor = connection.cursor()\n",
        "\n",
        "    # build selection query\n",
        "    query = \"\"\"\n",
        "        SELECT content\n",
        "        FROM schedules\n",
        "        WHERE rid = %s AND\n",
        "            begin_date <= %s::TIMESTAMP AND\n",
        "            (end_date IS NULL OR end_date >= %s::TIMESTAMP);\n",
        "    \"\"\"\n",
        "\n",
        "    # execute query and save the route data to a local variable\n",
        "    cursor.execute(query, (route, str(date), str(date)))\n",
        "    data = cursor.fetchone()[0]['route']\n",
        "\n",
        "    # pd.Timestamp.dayofweek returns 0 for monday and 6 for Sunday\n",
        "    # the actual serviceClass strings are defined by Nextbus\n",
        "    # these are the only 3 service classes we can currently observe,\n",
        "    # if others are published later then this will need to change\n",
        "    if(date.dayofweek <= 4):\n",
        "        serviceClass = 'wkd'\n",
        "    elif(date.dayofweek == 5):\n",
        "        serviceClass = 'sat'\n",
        "    else:\n",
        "        serviceClass = 'sun'\n",
        "\n",
        "    # the schedule format has two entries for each serviceClass,\n",
        "    # one each for inbound and outbound.\n",
        "\n",
        "    # return each entry in the data list with the correct serviceClass\n",
        "    return [sched for sched in data if (sched['serviceClass'] == serviceClass)]\n",
        "\n",
        "\n",
        "def extract_schedule_tables(route_data):\n",
        "    \"\"\"\n",
        "    converts raw schedule data to two pandas dataframes\n",
        "\n",
        "    columns are stops, and rows are individual trips\n",
        "\n",
        "    returns inbound_df, outbound_df\n",
        "    \"\"\"\n",
        "\n",
        "    # assuming 2 entries, but not assuming order\n",
        "    if(route_data[0]['direction'] == 'Inbound'):\n",
        "        inbound = 0\n",
        "    else:\n",
        "        inbound = 1\n",
        "\n",
        "    # extract a list of stops to act as columns\n",
        "    inbound_stops = [s['tag'] for s in route_data[inbound]['header']['stop']]\n",
        "\n",
        "    # initialize dataframe\n",
        "    inbound_df = pd.DataFrame(columns=inbound_stops)\n",
        "\n",
        "    # extract each row from the data\n",
        "    if type(route_data[inbound]['tr']) == list:\n",
        "        # if there are multiple trips in a day, structure will be a list\n",
        "        i = 0\n",
        "        for trip in route_data[inbound]['tr']:\n",
        "            for stop in trip['stop']:\n",
        "                # '--' indicates the bus is not going to that stop on this trip\n",
        "                if stop['content'] != '--':\n",
        "                    inbound_df.at[i, stop['tag']] = stop['content']\n",
        "            # increment for the next row\n",
        "            i += 1\n",
        "    else:\n",
        "        # if there is only 1 trip in a day, the object is a dict and\n",
        "        # must be handled slightly differently\n",
        "        for stop in route_data[inbound]['tr']['stop']:\n",
        "            if stop['content'] != '--':\n",
        "                    inbound_df.at[0, stop['tag']] = stop['content']\n",
        "\n",
        "    # flip between 0 and 1\n",
        "    outbound = int(not inbound)\n",
        "\n",
        "    # repeat steps for the outbound schedule\n",
        "    outbound_stops = [s['tag'] for s in route_data[outbound]['header']['stop']]\n",
        "    outbound_df = pd.DataFrame(columns=outbound_stops)\n",
        "\n",
        "    if type(route_data[outbound]['tr']) == list:\n",
        "        i = 0\n",
        "        for trip in route_data[outbound]['tr']:\n",
        "            for stop in trip['stop']:\n",
        "                if stop['content'] != '--':\n",
        "                    outbound_df.at[i, stop['tag']] = stop['content']\n",
        "            i += 1\n",
        "    else:\n",
        "        for stop in route_data[outbound]['tr']['stop']:\n",
        "            if stop['content'] != '--':\n",
        "                    outbound_df.at[0, stop['tag']] = stop['content']\n",
        "\n",
        "    # return both dataframes\n",
        "    return inbound_df, outbound_df\n",
        "\n",
        "\n",
        "def get_common_intervals(df_list):\n",
        "    \"\"\"\n",
        "    takes route schedule tables and returns both the average interval (mean)\n",
        "    and the most common interval (mode), measured in number of minutes\n",
        "\n",
        "    takes a list of dataframes and combines them before calculating statistics\n",
        "\n",
        "    intended to combine inbound and outbound schedules for a single route\n",
        "    \"\"\"\n",
        "\n",
        "    # ensure we have at least one dataframe\n",
        "    if len(df_list) == 0:\n",
        "        raise ValueError(\"Function requires at least one dataframe\")\n",
        "\n",
        "    # append all dataframes in the array together\n",
        "    df = df_list[0].copy()\n",
        "    for i in range(1, len(df_list)):\n",
        "        df.append(df_list[i].copy())\n",
        "\n",
        "    # convert all values to datetime so we can get an interval easily\n",
        "    for col in df.columns:\n",
        "        df[col] = pd.to_datetime(df[col])\n",
        "\n",
        "    # initialize a table to hold each individual interval\n",
        "    intervals = pd.DataFrame(columns=df.columns)\n",
        "    intervals['temp'] = range(len(df))\n",
        "\n",
        "    # take each column and find the intervals in it\n",
        "    for col in df.columns:\n",
        "        prev_time = np.nan\n",
        "        for i in range(len(df)):\n",
        "            # find the first non-null value and save it to prev_time\n",
        "            if pd.isnull(prev_time):\n",
        "                prev_time = df.at[i, col]\n",
        "            # if the current time is not null, save the interval\n",
        "            elif ~pd.isnull(df.at[i, col]):\n",
        "                intervals.at[i, col] = (df.at[i, col] - prev_time).seconds / 60\n",
        "                prev_time = df.at[i, col]\n",
        "\n",
        "    # this runs without adding a temp column, but the above loop runs 3x as\n",
        "    # fast if the rows already exist\n",
        "    intervals = intervals.drop('temp', axis=1)\n",
        "\n",
        "    # calculate the mean of the entire table\n",
        "    mean = intervals.mean().mean()\n",
        "\n",
        "    # calculate the mode of the entire table, the [0][0] at the end is\n",
        "    # because scipy.stats returns an entire ModeResult class\n",
        "    mode = stats.mode(intervals.values.flatten())[0][0]\n",
        "\n",
        "    return mean, mode"
      ],
      "execution_count": 0,
      "outputs": []
    },
    {
      "cell_type": "code",
      "metadata": {
        "id": "fJzK7mePwLD7",
        "colab_type": "code",
        "colab": {}
      },
      "source": [
        "# Route class definition\n",
        "# Copied from previous work, has extra methods that are not all used in this notebook\n",
        "\n",
        "class Route:\n",
        "    def __init__(self, route_id, date, connection):\n",
        "        \"\"\"\n",
        "        The Route class loads the route configuration data for a particular\n",
        "        route, and makes several accessor methods available for it.\n",
        "\n",
        "        Parameters:\n",
        "\n",
        "        route_id (str or int)\n",
        "            - The route id to load\n",
        "\n",
        "        date (str or pandas.Timestamp)\n",
        "            - Which date to load\n",
        "            - Converted with pandas.to_datetime so many formats are acceptable\n",
        "        \"\"\"\n",
        "\n",
        "        self.route_id = str(route_id)\n",
        "        self.date = pd.to_datetime(date)\n",
        "\n",
        "        # load the route data\n",
        "        self.route_data, self.route_type, self.route_name = load_route(self.route_id, self.date, connection)\n",
        "\n",
        "        # extract stops info and rearrange columns to be more human readable\n",
        "        # note: the stop tag is what was used in the schedule data, not stopId\n",
        "        self.stops_table = pd.DataFrame(self.route_data['stop'])\n",
        "        self.stops_table = self.stops_table[['stopId', 'tag', 'title', 'lat', 'lon']]\n",
        "\n",
        "        # extract route path, list of (lat, lon) pairs\n",
        "        self.path_coords = extract_path(self.route_data)\n",
        "\n",
        "        # extract stops table\n",
        "        self.stops_table, self.inbound, self.outbound = extract_stops(self.route_data)\n",
        "\n",
        "\n",
        "def load_route(route, date, connection):\n",
        "    \"\"\"\n",
        "    loads raw route data from the database\n",
        "\n",
        "    Parameters:\n",
        "\n",
        "        route (str or int)\n",
        "            - The route id to load\n",
        "\n",
        "        date (str or pd.Timestamp)\n",
        "            - Which date to load\n",
        "            - Converted with pandas.to_datetime so many formats are acceptable\n",
        "    \n",
        "    Returns route_data (dict), route_type (str), route_name (str)\n",
        "    \"\"\"\n",
        "\n",
        "    # ensure correct parameter types\n",
        "    route = str(route)\n",
        "    date = pd.to_datetime(date)\n",
        "\n",
        "    # DB connection\n",
        "    cursor = connection.cursor()\n",
        "\n",
        "    # build selection query\n",
        "    query = \"\"\"\n",
        "        SELECT route_name, route_type, content\n",
        "        FROM routes\n",
        "        WHERE rid = %s AND\n",
        "            begin_date <= %s::TIMESTAMP AND\n",
        "            (end_date IS NULL OR end_date > %s::TIMESTAMP);\n",
        "    \"\"\"\n",
        "\n",
        "    # execute query and return the route data\n",
        "    cursor.execute(query, (route, str(date), str(date)))\n",
        "    result = cursor.fetchone()\n",
        "    return result[2]['route'], result[1], result[0]\n",
        "\n",
        "\n",
        "def extract_path(route_data):\n",
        "    \"\"\"\n",
        "    Extracts the list of path coordinates for a route.\n",
        "\n",
        "    The raw data stores this as an unordered list of sub-routes, so this\n",
        "    function deciphers the order they should go in and returns a single list.\n",
        "    \"\"\"\n",
        "\n",
        "    # KNOWN BUG\n",
        "    # this approach assumed all routes were either a line or a loop.\n",
        "    # routes that have multiple sub-paths meeting at a point break this,\n",
        "    # route 24 is a current example.\n",
        "    # I'm committing this now to get the rest of the code out there\n",
        "\n",
        "    # extract the list of subpaths as just (lat,lon) coordinates\n",
        "    # also converts from string to float (raw data has strings)\n",
        "    path = []\n",
        "    for sub_path in route_data['path']:\n",
        "        path.append([(float(p['lat']), float(p['lon'])) \n",
        "                     for p in sub_path['point']])\n",
        "\n",
        "    # start with the first element, remove it from path\n",
        "    final = path[0]\n",
        "    path.pop(0)\n",
        "\n",
        "    # loop until the first and last coordinates in final match\n",
        "    counter = len(path)\n",
        "    done = True\n",
        "    while final[0] != final[-1]:\n",
        "        # loop through the sub-paths that we haven't yet moved to final\n",
        "        for i in range(len(path)):\n",
        "            # check if the last coordinate in final matches the first \n",
        "            # coordinate of another sub-path\n",
        "            if final[-1] == path[i][0]:\n",
        "                # match found, move it to final\n",
        "                # leave out the first coordinate to avoid duplicates\n",
        "                final = final + path[i][1:]\n",
        "                path.pop(i)\n",
        "                break  # break the for loop\n",
        "                \n",
        "        # protection against infinite loops, if the path never closes\n",
        "        counter -= 1\n",
        "        if counter < 0:\n",
        "            done = False\n",
        "            break\n",
        "\n",
        "    if not done:\n",
        "        # route did not connect in a loop, perform same steps backwards \n",
        "        # to get the rest of the line\n",
        "        for _ in range(len(path)):\n",
        "            # loop through the sub-paths that we haven't yet moved to final\n",
        "            for i in range(len(path)):\n",
        "                # check if the first coordinate in final matches the last \n",
        "                # coordinate of another sub-path\n",
        "                if final[0] == path[i][-1]:\n",
        "                    # match found, move it to final\n",
        "                    # leave out the last coordinate to avoid duplicates\n",
        "                    final = path[i][:-1] + final\n",
        "                    path.pop(i)\n",
        "                    break  # break the for loop\n",
        "\n",
        "    # some routes may have un-used sub-paths\n",
        "    # Route 1 for example has two sub-paths that are almost identical, with the \n",
        "    # same start and end points\n",
        "    # if len(path) > 0:\n",
        "    #     print(f\"WARNING: {len(path)} unused sub-paths\")\n",
        "\n",
        "    # return the final result\n",
        "    return final\n",
        "\n",
        "\n",
        "def extract_stops(route_data):\n",
        "  \"\"\"\n",
        "  Extracts a dataframe of stops info\n",
        "\n",
        "  Returns the main stops dataframe, and a list of inbound and outbound stops \n",
        "  in the order they are intended to be on the route\n",
        "  \"\"\"\n",
        "\n",
        "  stops = pd.DataFrame(route_data['stop'])\n",
        "  directions = pd.DataFrame(route_data['direction'])\n",
        "\n",
        "  # Change stop arrays to just the list of numbers\n",
        "  for i in range(len(directions)):\n",
        "    directions.at[i, 'stop'] = [s['tag'] for s in directions.at[i, 'stop']]\n",
        "\n",
        "  # Find which stops are inbound or outbound\n",
        "  inbound = []\n",
        "  for stop_list in directions[directions['name'] == \"Inbound\"]['stop']:\n",
        "    for stop in stop_list:\n",
        "      if stop not in inbound:\n",
        "        inbound.append(stop)\n",
        "\n",
        "  outbound = []\n",
        "  for stop_list in directions[directions['name'] == \"Outbound\"]['stop']:\n",
        "    for stop in stop_list:\n",
        "      if stop not in inbound:\n",
        "        outbound.append(stop)\n",
        "\n",
        "  # Label each stop as inbound or outbound\n",
        "  stops['direction'] = ['none'] * len(stops)\n",
        "  for i in range(len(stops)):\n",
        "    if stops.at[i, 'tag'] in inbound:\n",
        "      stops.at[i, 'direction'] = 'inbound'\n",
        "    elif stops.at[i, 'tag'] in outbound:\n",
        "      stops.at[i, 'direction'] = 'outbound'\n",
        "\n",
        "  # Convert from string to float\n",
        "  stops['lat'] = stops['lat'].astype(float)\n",
        "  stops['lon'] = stops['lon'].astype(float)\n",
        "\n",
        "  return stops, inbound, outbound"
      ],
      "execution_count": 0,
      "outputs": []
    },
    {
      "cell_type": "code",
      "metadata": {
        "id": "rfyIVYcuy6eu",
        "colab_type": "code",
        "colab": {}
      },
      "source": [
        "def get_location_data(rid, begin, end, connection):\n",
        "  # Build query to select location data\n",
        "  query = f\"\"\"\n",
        "    SELECT *\n",
        "    FROM locations\n",
        "    WHERE rid = '{rid}' AND\n",
        "      timestamp > '{begin}'::TIMESTAMP AND\n",
        "      timestamp < '{end}'::TIMESTAMP\n",
        "    ORDER BY id;\n",
        "  \"\"\"\n",
        "\n",
        "  # read the query directly into pandas\n",
        "  locations = sqlio.read_sql_query(query, connection)\n",
        "\n",
        "  # Convert those UTC timestamps to local PST by subtracting 7 hours\n",
        "  locations['timestamp'] = locations['timestamp'] - pd.Timedelta(hours=7)\n",
        "\n",
        "  # return the result\n",
        "  return locations\n"
      ],
      "execution_count": 0,
      "outputs": []
    },
    {
      "cell_type": "code",
      "metadata": {
        "id": "Bi2_KkBuz8-X",
        "colab_type": "code",
        "colab": {}
      },
      "source": [
        "# Written by Austie\n",
        "def fcc_projection(loc1, loc2):\n",
        "    \"\"\"\n",
        "    function to apply FCC recommended formulae\n",
        "    for calculating distances on earth projected to a plane\n",
        "    \n",
        "    significantly faster computationally, negligible loss in accuracy\n",
        "    \n",
        "    Args: \n",
        "    loc1 - a tuple of lat/lon\n",
        "    loc2 - a tuple of lat/lon\n",
        "    \"\"\"\n",
        "    lat1, lat2 = loc1[0], loc2[0]\n",
        "    lon1, lon2 = loc1[1], loc2[1]\n",
        "    \n",
        "    mean_lat = (lat1+lat2)/2\n",
        "    delta_lat = lat2 - lat1\n",
        "    delta_lon = lon2 - lon1\n",
        "    \n",
        "    k1 = 111.13209 - 0.56605*cos(2*mean_lat) + .0012*cos(4*mean_lat)\n",
        "    k2 = 111.41513*cos(mean_lat) - 0.09455*cos(3*mean_lat) + 0.00012*cos(5*mean_lat)\n",
        "    \n",
        "    distance = sqrt((k1*delta_lat)**2 + (k2*delta_lon)**2)\n",
        "    \n",
        "    return distance\n"
      ],
      "execution_count": 0,
      "outputs": []
    },
    {
      "cell_type": "code",
      "metadata": {
        "id": "cehEnkae0nIk",
        "colab_type": "code",
        "colab": {}
      },
      "source": [
        "def clean_locations(locations, stops):\n",
        "  \"\"\"\n",
        "  takes a dataframe of bus locations and a dataframe of \n",
        "\n",
        "  returns the locations dataframe with nearest stop added\n",
        "  \"\"\"\n",
        "  \n",
        "  # remove old location reports that would be duplicates\n",
        "  df = locations[locations['age'] < 60].copy()\n",
        "\n",
        "  # remove rows with no direction value\n",
        "  df = df[~pd.isna(df['direction'])]\n",
        "\n",
        "  # shift timestamps according to the age column\n",
        "  df['timestamp'] = df.apply(shift_timestamp, axis=1)\n",
        "\n",
        "  # Make lists of all inbound or outbound stops\n",
        "  inbound_stops = stops[stops['direction'] == 'inbound'].reset_index(drop=True)\n",
        "  outbound_stops = stops[stops['direction'] == 'outbound'].reset_index(drop=True)\n",
        "\n",
        "  # initialize new columns for efficiency\n",
        "  df['closestStop'] = [0] * len(df)\n",
        "  df['distance'] = [0.0] * len(df)\n",
        "\n",
        "  for i in df.index:\n",
        "    if '_I_' in df.at[i, 'direction']:\n",
        "      candidates = inbound_stops\n",
        "    elif '_O_' in df.at[i, 'direction']:\n",
        "      candidates = outbound_stops\n",
        "    else:\n",
        "      # Skip row if bus is not found to be either inbound or outbound\n",
        "      continue\n",
        "    \n",
        "    bus_coord = (df.at[i, 'latitude'], df.at[i, 'longitude'])\n",
        "\n",
        "    # Find closest stop within candidates\n",
        "    # Assume the first stop\n",
        "    closest = candidates.iloc[0]\n",
        "    distance = fcc_projection(bus_coord, (closest['lat'], closest['lon']))\n",
        "\n",
        "    # Check each stop after that\n",
        "    for _, row in candidates[1:].iterrows():\n",
        "      # find distance to this stop\n",
        "      dist = fcc_projection(bus_coord, (row['lat'], row['lon']))\n",
        "      if dist < distance:\n",
        "        # closer stop found, save it\n",
        "        closest = row\n",
        "        distance = dist\n",
        "    \n",
        "    # Save the tag of the closest stop and the distance to it\n",
        "    df.at[i, 'closestStop'] = closest['tag']\n",
        "    df.at[i, 'distance'] = distance\n",
        "\n",
        "  return df\n",
        "\n",
        "\n",
        "def shift_timestamp(row):\n",
        "  \"\"\" subtracts row['age'] from row['timestamp'] \"\"\"\n",
        "  return row['timestamp'] - pd.Timedelta(seconds=row['age'])"
      ],
      "execution_count": 0,
      "outputs": []
    },
    {
      "cell_type": "code",
      "metadata": {
        "id": "uIIAo9Pe74TA",
        "colab_type": "code",
        "colab": {}
      },
      "source": [
        "def get_stop_times(locations, route):\n",
        "  \"\"\"\n",
        "  returns a dict, keys are stop tags and values are lists of timestamps \n",
        "  that describe every time a bus was seen at that stop\n",
        "  \"\"\"\n",
        "\n",
        "  # Initialize the data structure I will store results in\n",
        "  stop_times = {}\n",
        "  for stop in route.inbound + route.outbound:\n",
        "    stop_times[str(stop)] = []\n",
        "\n",
        "  for vid in locations['vid'].unique():\n",
        "    # Process the route one vehicle at a time\n",
        "    df = locations[locations['vid'] == vid]\n",
        "\n",
        "    # process 1st row on its own\n",
        "    prev_row = df.loc[df.index[0]]\n",
        "    stop_times[str(prev_row['closestStop'])].append(prev_row['timestamp'])\n",
        "\n",
        "    # loop through the rest of the rows, comparing each to the previous one\n",
        "    for i, row in df[1:].iterrows():\n",
        "      if row['direction'] != prev_row['direction']:\n",
        "        # changed directions, don't compare to previous row\n",
        "        stop_times[str(row['closestStop'])].append(row['timestamp'])\n",
        "      else:\n",
        "        # same direction, compare to previous row\n",
        "        if '_I_' in row['direction']:  # get correct stop list\n",
        "          stoplist = route.inbound\n",
        "        else:\n",
        "          stoplist = route.outbound\n",
        "\n",
        "        current = stoplist.index(str(row['closestStop']))\n",
        "        previous = stoplist.index(str(prev_row['closestStop']))\n",
        "        gap = current - previous\n",
        "        if gap > 1:  # need to interpolate\n",
        "          diff = (row['timestamp'] - prev_row['timestamp'])/gap\n",
        "          counter = 1\n",
        "          for stop in stoplist[previous+1:current]:\n",
        "            # save interpolated time\n",
        "            stop_times[str(stop)].append(prev_row['timestamp'] + (counter * diff))\n",
        "\n",
        "            # increase counter for the next stop\n",
        "            # example: with 2 interpolated stops, gap would be 3\n",
        "            # 1st diff is 1/3, next is 2/3\n",
        "            counter += 1\n",
        "        \n",
        "        if row['closestStop'] != prev_row['closestStop']:\n",
        "          # only save time if the stop has changed, \n",
        "          # otherwise the bus hasn't moved since last time\n",
        "          stop_times[str(row['closestStop'])].append(row['timestamp'])\n",
        "      \n",
        "      # advance for next row\n",
        "      prev_row = row\n",
        "  \n",
        "  # Sort each list before returning\n",
        "  for stop in stop_times.keys():\n",
        "    stop_times[stop].sort()\n",
        "\n",
        "  return stop_times\n"
      ],
      "execution_count": 0,
      "outputs": []
    },
    {
      "cell_type": "code",
      "metadata": {
        "id": "Zh5YpJtYBNP_",
        "colab_type": "code",
        "colab": {}
      },
      "source": [
        "def get_bunches_gaps(stop_times, schedule, bunch_threshold=.2, gap_threshold=1.5):\n",
        "  \"\"\"\n",
        "  returns a dataframe of all bunches and gaps found\n",
        "\n",
        "  default thresholds define a bunch as 20% and a gap as 150% of scheduled headway\n",
        "  \"\"\"\n",
        "\n",
        "  # Initialize dataframe for the bunces and gaps\n",
        "  problems = pd.DataFrame(columns=['type', 'time', 'duration', 'stop'])\n",
        "  counter = 0\n",
        "\n",
        "  # Set the bunch/gap thresholds (in seconds)\n",
        "  bunch_threshold = (schedule.common_interval * 60) * bunch_threshold\n",
        "  gap_threshold = (schedule.common_interval * 60) * gap_threshold\n",
        "\n",
        "  for stop in stop_times.keys():\n",
        "    # ensure we have any times at all for this stop\n",
        "    if len(stop_times[stop]) == 0:\n",
        "      #print(f\"Stop {stop} had no recorded times\")\n",
        "      continue  # go to next stop in the loop\n",
        "\n",
        "    # save initial time\n",
        "    prev_time = stop_times[stop][0]\n",
        "\n",
        "    # loop through all others, comparing to the previous one\n",
        "    for time in stop_times[stop][1:]:\n",
        "      diff = (time - prev_time).seconds\n",
        "      if diff <= bunch_threshold:\n",
        "        # bunch found, save it\n",
        "        problems.at[counter] = ['bunch', prev_time, diff, stop]\n",
        "        counter += 1\n",
        "      elif diff >= gap_threshold:\n",
        "        problems.at[counter] = ['gap', prev_time, diff, stop]\n",
        "        counter += 1\n",
        "      \n",
        "      prev_time = time\n",
        "  \n",
        "  return problems\n"
      ],
      "execution_count": 0,
      "outputs": []
    },
    {
      "cell_type": "code",
      "metadata": {
        "id": "JaOhrtrBD09m",
        "colab_type": "code",
        "colab": {}
      },
      "source": [
        "# this uses sequential search, could speed up with binary search if needed,\n",
        "# but it currently uses hardly any time in comparison to other steps\n",
        "def helper_count(expected_times, observed_times):\n",
        "  \"\"\" Returns the number of on-time stops found \"\"\"\n",
        "\n",
        "  # set up early/late thresholds (in seconds)\n",
        "  early_threshold = pd.Timedelta(seconds=1*60)  # 1 minute early\n",
        "  late_threshold = pd.Timedelta(seconds=4*60)   # 4 minutes late\n",
        "\n",
        "  count = 0\n",
        "  for stop in expected_times.columns:\n",
        "    for expected in expected_times[stop]:\n",
        "      if pd.isna(expected):\n",
        "        continue  # skip NaN values in the expected schedule\n",
        "\n",
        "      # for each expected time...\n",
        "      # find first observed time after the early threshold\n",
        "      found_time = None\n",
        "      early = expected - early_threshold\n",
        "\n",
        "      # BUG: some schedule data may have stop tags that are not in the inbound\n",
        "      # or outbound definitions for a route.  That would throw a key error here.\n",
        "      # Example: stop 14148 on route 24\n",
        "      # current solution is to ignore those stops with the try/except statement\n",
        "      try:\n",
        "        for observed in observed_times[stop]:\n",
        "          if observed >= early:\n",
        "            found_time = observed\n",
        "            break\n",
        "      except:\n",
        "        continue\n",
        "\n",
        "      # if found time is still None, then all observed times were too early\n",
        "      # if found_time is before the late threshold then we were on time\n",
        "      if (not pd.isna(found_time)) and found_time <= (expected + late_threshold):\n",
        "        # found_time is within the on-time window\n",
        "        count += 1\n",
        "\n",
        "  return count\n",
        "\n",
        "def calculate_ontime(stop_times, schedule):\n",
        "  \"\"\" Returns the on-time percentage and total scheduled stops for this route \"\"\"\n",
        "\n",
        "  # Save schedules with timestamp data types, set date to match\n",
        "  inbound_times = schedule.inbound_table\n",
        "  for col in inbound_times.columns:\n",
        "    inbound_times[col] = pd.to_datetime(inbound_times[col]).apply(\n",
        "        lambda dt: dt.replace(year=schedule.date.year, \n",
        "                              month=schedule.date.month, \n",
        "                              day=schedule.date.day))\n",
        "\n",
        "  outbound_times = schedule.outbound_table\n",
        "  for col in outbound_times.columns:\n",
        "    outbound_times[col] = pd.to_datetime(outbound_times[col]).apply(\n",
        "        lambda dt: dt.replace(year=schedule.date.year, \n",
        "                              month=schedule.date.month, \n",
        "                              day=schedule.date.day))\n",
        "  \n",
        "  # count times for both inbound and outbound schedules\n",
        "  on_time_count = (helper_count(inbound_times, stop_times) +\n",
        "                   helper_count(outbound_times, stop_times))\n",
        "  \n",
        "  # get total expected count\n",
        "  total_expected = inbound_times.count().sum() + outbound_times.count().sum()\n",
        "\n",
        "  # return on-time percentage\n",
        "  return (on_time_count / total_expected), total_expected\n"
      ],
      "execution_count": 0,
      "outputs": []
    },
    {
      "cell_type": "code",
      "metadata": {
        "id": "eOyWGDKPSF8u",
        "colab_type": "code",
        "colab": {}
      },
      "source": [
        "def bunch_gap_graph(problems, interval=10):\n",
        "  \"\"\"\n",
        "  returns data for a graph of the bunches and gaps throughout the day\n",
        "\n",
        "  problems - the dataframe of bunches and gaps\n",
        "\n",
        "  interval - the number of minutes to bin data into\n",
        "\n",
        "  returns\n",
        "  {\n",
        "    \"times\": [time values (x)],\n",
        "    \"bunches\": [bunch counts (y1)],\n",
        "    \"gaps\": [gap counts (y2)]\n",
        "  }\n",
        "  \"\"\"\n",
        "\n",
        "  # set the time interval\n",
        "  interval = pd.Timedelta(minutes=interval)\n",
        "\n",
        "  # rest of code doesn't work if there are no bunches or gaps\n",
        "  # return the empty graph manually\n",
        "  if len(problems) == 0:\n",
        "    # generate list of times according to the interval\n",
        "    start = pd.Timestamp('today').replace(hour=0, minute=0, second=0)\n",
        "    t = start\n",
        "    times = []\n",
        "    while t.day == start.day:\n",
        "      times.append(str(t.time())[:5])\n",
        "      t += interval\n",
        "\n",
        "    return {\n",
        "      \"times\": times,\n",
        "      \"bunches\": [0] * len(times),\n",
        "      \"gaps\": [0] * len(times)\n",
        "    }\n",
        "\n",
        "  # generate the DatetimeIndex needed\n",
        "  index = pd.DatetimeIndex(problems['time'])\n",
        "  df = problems.copy()\n",
        "  df.index = index\n",
        "\n",
        "  # lists for graph data\n",
        "  bunches = []\n",
        "  gaps = []\n",
        "  times = []\n",
        "  \n",
        "  # set selection times\n",
        "  start_date = problems.at[0, 'time'].replace(hour=0, minute=0, second=0)\n",
        "  select_start = start_date\n",
        "  select_end = select_start + interval\n",
        "\n",
        "  while select_start.day == start_date.day:\n",
        "    # get the count of each type of problem in this time interval\n",
        "    count = df.between_time(select_start.time(), select_end.time())['type'].value_counts()\n",
        "\n",
        "    # append the counts to the data list\n",
        "    if 'bunch' in count.index:\n",
        "      bunches.append(int(count['bunch']))\n",
        "    else:\n",
        "      bunches.append(0)\n",
        "    \n",
        "    if 'gap' in count.index:\n",
        "      gaps.append(int(count['gap']))\n",
        "    else:\n",
        "      gaps.append(0)\n",
        "\n",
        "    # save the start time for the x axis\n",
        "    times.append(str(select_start.time())[:5])\n",
        "    \n",
        "    # increment the selection window\n",
        "    select_start += interval\n",
        "    select_end += interval\n",
        "  \n",
        "  return {\n",
        "    \"times\": times,\n",
        "    \"bunches\": bunches,\n",
        "    \"gaps\": gaps\n",
        "  }"
      ],
      "execution_count": 0,
      "outputs": []
    },
    {
      "cell_type": "code",
      "metadata": {
        "id": "7QCQ098hbz7F",
        "colab_type": "code",
        "colab": {}
      },
      "source": [
        "def create_simple_geojson(bunches, rid):\n",
        "\n",
        "    geojson = {'type': 'FeatureCollection',\n",
        "               'bunches': create_geojson_features(bunches, rid)}\n",
        "\n",
        "    return geojson\n",
        "\n",
        "def create_geojson_features(df, rid):\n",
        "    \"\"\"\n",
        "    function to generate list of geojson features\n",
        "    for plotting vehicle locations on timestamped map\n",
        "\n",
        "    Expects a dataframe containing lat/lon, vid, timestamp\n",
        "    returns list of basic geojson formatted features:\n",
        "\n",
        "    {\n",
        "      type: Feature\n",
        "      geometry: {\n",
        "        type: Point,\n",
        "        coordinates:[lat, lon]\n",
        "      },\n",
        "      properties: {\n",
        "        route_id: rid\n",
        "        time: timestamp\n",
        "      }\n",
        "    }\n",
        "    \"\"\"\n",
        "    # initializing empty features list\n",
        "    features = []\n",
        "\n",
        "    # iterating through df to pull coords, vid, timestamp\n",
        "    # and format for json\n",
        "    for index, row in df.iterrows():\n",
        "      feature = {\n",
        "          'type': 'Feature',\n",
        "          'geometry': {\n",
        "              'type':'Point', \n",
        "              'coordinates':[row.lon, row.lat]\n",
        "          },\n",
        "          'properties': {\n",
        "              'time': row.time.__str__(),\n",
        "              'stop': {'stopId': row.stopId.__str__(),\n",
        "                       'stopTitle': row.title.__str__()},\n",
        "              'direction': row.direction.__str__()\n",
        "          }\n",
        "      }\n",
        "      features.append(feature) # adding point to features list\n",
        "    return features"
      ],
      "execution_count": 0,
      "outputs": []
    },
    {
      "cell_type": "markdown",
      "metadata": {
        "id": "hA6EKTBOvi9a",
        "colab_type": "text"
      },
      "source": [
        "## Run each time to get a new report"
      ]
    },
    {
      "cell_type": "markdown",
      "metadata": {
        "id": "_zjzrlBTH1cV",
        "colab_type": "text"
      },
      "source": [
        "### Timing breakdown"
      ]
    },
    {
      "cell_type": "code",
      "metadata": {
        "id": "TRC8tE0suboI",
        "colab_type": "code",
        "colab": {}
      },
      "source": [
        "# Change this one cell to change to a different route/day\n",
        "# Uses 7am to account for the UTC to PST conversion\n",
        "rid = \"1\"\n",
        "begin = \"2020/6/1 07:00:00\"\n",
        "end = \"2020/6/2 07:00:00\""
      ],
      "execution_count": 0,
      "outputs": []
    },
    {
      "cell_type": "code",
      "metadata": {
        "id": "Fhc6h6IyxLXO",
        "colab_type": "code",
        "outputId": "dc2c28e2-3503-4185-9fd7-fc5fa098fa07",
        "colab": {
          "base_uri": "https://localhost:8080/",
          "height": 51
        }
      },
      "source": [
        "%%time\n",
        "# Most time in this cell is waiting on the database responses\n",
        "\n",
        "# Load schedule and route data\n",
        "schedule = Schedule(rid, begin, cnx)\n",
        "route = Route(rid, begin, cnx)\n",
        "\n",
        "# Load bus location data\n",
        "locations = get_location_data(rid, begin, end, cnx)"
      ],
      "execution_count": 0,
      "outputs": [
        {
          "output_type": "stream",
          "text": [
            "CPU times: user 674 ms, sys: 34.2 ms, total: 708 ms\n",
            "Wall time: 4.43 s\n"
          ],
          "name": "stdout"
        }
      ]
    },
    {
      "cell_type": "code",
      "metadata": {
        "id": "PuMmUYxm2LsS",
        "colab_type": "code",
        "outputId": "3a25cb51-3d1f-4700-830f-ad107289b948",
        "colab": {
          "base_uri": "https://localhost:8080/",
          "height": 51
        }
      },
      "source": [
        "%%time\n",
        "# Apply cleaning function (this usually takes 1-2 minutes)\n",
        "locations = clean_locations(locations, route.stops_table)"
      ],
      "execution_count": 0,
      "outputs": [
        {
          "output_type": "stream",
          "text": [
            "CPU times: user 1min 3s, sys: 27.8 ms, total: 1min 3s\n",
            "Wall time: 1min 3s\n"
          ],
          "name": "stdout"
        }
      ]
    },
    {
      "cell_type": "code",
      "metadata": {
        "id": "cyjqLfb06d56",
        "colab_type": "code",
        "outputId": "9d4efaaf-ef52-485b-b435-13f7c626590c",
        "colab": {
          "base_uri": "https://localhost:8080/",
          "height": 51
        }
      },
      "source": [
        "%%time\n",
        "# Calculate all times a bus was at each stop\n",
        "stop_times = get_stop_times(locations, route)"
      ],
      "execution_count": 0,
      "outputs": [
        {
          "output_type": "stream",
          "text": [
            "CPU times: user 2.48 s, sys: 1.99 ms, total: 2.48 s\n",
            "Wall time: 2.49 s\n"
          ],
          "name": "stdout"
        }
      ]
    },
    {
      "cell_type": "code",
      "metadata": {
        "id": "Ozumixf4H4Ut",
        "colab_type": "code",
        "outputId": "ba32eb1a-bf6b-4ec6-d7e9-43f5a02cdbb2",
        "colab": {
          "base_uri": "https://localhost:8080/",
          "height": 51
        }
      },
      "source": [
        "%%time\n",
        "# Find all bunches and gaps\n",
        "problems = get_bunches_gaps(stop_times, schedule)"
      ],
      "execution_count": 0,
      "outputs": [
        {
          "output_type": "stream",
          "text": [
            "CPU times: user 2.28 s, sys: 4.04 ms, total: 2.28 s\n",
            "Wall time: 2.28 s\n"
          ],
          "name": "stdout"
        }
      ]
    },
    {
      "cell_type": "code",
      "metadata": {
        "id": "wIP_e2tOH5lL",
        "colab_type": "code",
        "outputId": "5c043502-ceb9-43e0-e239-b873a9eafaed",
        "colab": {
          "base_uri": "https://localhost:8080/",
          "height": 51
        }
      },
      "source": [
        "%%time\n",
        "# Calculate on-time percentage\n",
        "on_time, total_scheduled = calculate_ontime(stop_times, schedule)"
      ],
      "execution_count": 0,
      "outputs": [
        {
          "output_type": "stream",
          "text": [
            "CPU times: user 228 ms, sys: 1.01 ms, total: 229 ms\n",
            "Wall time: 232 ms\n"
          ],
          "name": "stdout"
        }
      ]
    },
    {
      "cell_type": "code",
      "metadata": {
        "id": "R3q1YHzXTzZr",
        "colab_type": "code",
        "outputId": "ab2f48ea-56f4-408e-cf53-9593aa94728b",
        "colab": {
          "base_uri": "https://localhost:8080/",
          "height": 51
        }
      },
      "source": [
        "%%time\n",
        "# Get the bunch/gap graph\n",
        "bg_graph = bunch_gap_graph(problems, interval=10)"
      ],
      "execution_count": 0,
      "outputs": [
        {
          "output_type": "stream",
          "text": [
            "CPU times: user 236 ms, sys: 2.01 ms, total: 238 ms\n",
            "Wall time: 244 ms\n"
          ],
          "name": "stdout"
        }
      ]
    },
    {
      "cell_type": "code",
      "metadata": {
        "id": "IPag4nlCb9A5",
        "colab_type": "code",
        "outputId": "0018654e-0a0d-465c-de61-d2c43300d19c",
        "colab": {
          "base_uri": "https://localhost:8080/",
          "height": 51
        }
      },
      "source": [
        "%%time\n",
        "# Generate the geojson object\n",
        "bunch_df = problems[problems.type.eq('bunch')]\n",
        "bunch_df = bunch_df.merge(route.stops_table, left_on='stop', right_on='tag', how='left')\n",
        "\n",
        "# Creating GeoJSON of bunch times / locations\n",
        "geojson = create_simple_geojson(bunch_df, rid)"
      ],
      "execution_count": 0,
      "outputs": [
        {
          "output_type": "stream",
          "text": [
            "CPU times: user 110 ms, sys: 1.01 ms, total: 111 ms\n",
            "Wall time: 121 ms\n"
          ],
          "name": "stdout"
        }
      ]
    },
    {
      "cell_type": "code",
      "metadata": {
        "id": "anmmFxMnGbxj",
        "colab_type": "code",
        "outputId": "8cf0d8df-a44e-4717-b313-1337d0228ed9",
        "colab": {
          "base_uri": "https://localhost:8080/",
          "height": 153
        }
      },
      "source": [
        "# Print results\n",
        "print(f\"--- Report for route {rid} on {str(pd.to_datetime(begin).date())} ---\")\n",
        "\n",
        "total = 0\n",
        "for key in stop_times.keys():\n",
        "  total += len(stop_times[key])\n",
        "\n",
        "intervals = total-len(stop_times)\n",
        "bunches = len(problems[problems['type'] == 'bunch'])\n",
        "gaps = len(problems[problems['type'] == 'gap'])\n",
        "\n",
        "print(f\"\\nOut of {intervals} recorded intervals, we found {bunches} bunches and {gaps} gaps\")\n",
        "print(f\"\\t{(bunches/intervals)*100 : .2f}% bunched\")\n",
        "print(f\"\\t{(gaps/intervals)*100 : .2f}% gapped\")\n",
        "\n",
        "print(f\"\\nFound {int(on_time * total_scheduled + .5)} on-time stops out of {total_scheduled} scheduled\")\n",
        "print(f\"On-time percentage is {(on_time)*100 : .2f}%\")"
      ],
      "execution_count": 0,
      "outputs": [
        {
          "output_type": "stream",
          "text": [
            "--- Report for route 1 on 2020-06-01 ---\n",
            "\n",
            "Out of 11385 recorded intervals, we found 532 bunches and 1873 gaps\n",
            "\t 4.67% bunched\n",
            "\t 16.45% gapped\n",
            "\n",
            "Found 952 on-time stops out of 2324 scheduled\n",
            "On-time percentage is  40.96%\n"
          ],
          "name": "stdout"
        }
      ]
    },
    {
      "cell_type": "markdown",
      "metadata": {
        "id": "836WcHkIH_ob",
        "colab_type": "text"
      },
      "source": [
        "### All in one function"
      ]
    },
    {
      "cell_type": "code",
      "metadata": {
        "id": "gJOLd7yOIBq0",
        "colab_type": "code",
        "colab": {}
      },
      "source": [
        "# Expect this cell to take 60-90 seconds to run\n",
        "\n",
        "# Change this to change to a different route/day\n",
        "# Uses 7am to account for the UTC to PST conversion\n",
        "# rid = \"LBUS\"\n",
        "# begin = \"2020/6/8 07:00:00\"\n",
        "# end = \"2020/6/9 07:00:00\"\n",
        "\n",
        "def print_report(rid, date):\n",
        "  \"\"\"\n",
        "  Prints a daily report for the given rid and date\n",
        "\n",
        "  rid : (str)\n",
        "    the route id to generate a report for\n",
        "  \n",
        "  date : (str or pd.Datetime)\n",
        "    the date to generate a report for\n",
        "  \"\"\"\n",
        "\n",
        "  # get begin and end timestamps for the date\n",
        "  begin = pd.to_datetime(date).replace(hour=7)\n",
        "  end = begin + pd.Timedelta(days=1)\n",
        "\n",
        "  # Load schedule and route data\n",
        "  schedule = Schedule(rid, begin, cnx)\n",
        "  route = Route(rid, begin, cnx)\n",
        "\n",
        "  # Load bus location data\n",
        "  locations = get_location_data(rid, begin, end, cnx)\n",
        "\n",
        "  # Apply cleaning function (this usually takes 1-2 minutes)\n",
        "  locations = clean_locations(locations, route.stops_table)\n",
        "\n",
        "  # Calculate all times a bus was at each stop\n",
        "  stop_times = get_stop_times(locations, route)\n",
        "\n",
        "  # Find all bunches and gaps\n",
        "  problems = get_bunches_gaps(stop_times, schedule)\n",
        "\n",
        "  # Calculate on-time percentage\n",
        "  on_time, total_scheduled = calculate_ontime(stop_times, schedule)\n",
        "\n",
        "  # Print results\n",
        "  print(f\"--- Report for route {rid} on {str(pd.to_datetime(begin).date())} ---\")\n",
        "\n",
        "  total = 0\n",
        "  for key in stop_times.keys():\n",
        "    total += len(stop_times[key])\n",
        "\n",
        "  intervals = total-len(stop_times)\n",
        "  bunches = len(problems[problems['type'] == 'bunch'])\n",
        "  gaps = len(problems[problems['type'] == 'gap'])\n",
        "\n",
        "  print(f\"\\nOut of {intervals} recorded intervals, we found {bunches} bunches and {gaps} gaps\")\n",
        "  print(f\"\\t{(bunches/intervals)*100 :.2f}% bunched\")\n",
        "  print(f\"\\t{(gaps/intervals)*100 :.2f}% gapped\")\n",
        "\n",
        "  print(f\"\\nFound {int(on_time * total_scheduled + .5)} on-time stops out of {total_scheduled} scheduled\")\n",
        "  print(f\"On-time percentage is {(on_time)*100 :.2f}%\")\n",
        "\n",
        "  coverage = (total_scheduled * on_time + bunches) / total_scheduled\n",
        "  print(f\"\\nCoverage is {coverage * 100 :.2f}%\")"
      ],
      "execution_count": 0,
      "outputs": []
    },
    {
      "cell_type": "code",
      "metadata": {
        "id": "0bkw709KKR1r",
        "colab_type": "code",
        "outputId": "edc5b0b0-e866-4ea2-e186-dcf457e21274",
        "colab": {
          "base_uri": "https://localhost:8080/",
          "height": 187
        }
      },
      "source": [
        "print_report(rid='1', date='2020/6/2')"
      ],
      "execution_count": 0,
      "outputs": [
        {
          "output_type": "stream",
          "text": [
            "--- Report for route 1 on 2020-06-02 ---\n",
            "\n",
            "Out of 12348 recorded intervals, we found 731 bunches and 1713 gaps\n",
            "\t5.92% bunched\n",
            "\t13.87% gapped\n",
            "\n",
            "Found 1066 on-time stops out of 2324 scheduled\n",
            "On-time percentage is 45.87%\n",
            "\n",
            "Coverage is 77.32%\n"
          ],
          "name": "stdout"
        }
      ]
    },
    {
      "cell_type": "code",
      "metadata": {
        "id": "dNlPvpub3Tfv",
        "colab_type": "code",
        "outputId": "0d807c87-bcea-48ea-e07d-2cae876ab399",
        "colab": {
          "base_uri": "https://localhost:8080/",
          "height": 187
        }
      },
      "source": [
        "print_report(rid='5', date='2020/6/2')"
      ],
      "execution_count": 0,
      "outputs": [
        {
          "output_type": "stream",
          "text": [
            "--- Report for route 5 on 2020-06-02 ---\n",
            "\n",
            "Out of 3266 recorded intervals, we found 111 bunches and 467 gaps\n",
            "\t3.40% bunched\n",
            "\t14.30% gapped\n",
            "\n",
            "Found 528 on-time stops out of 1327 scheduled\n",
            "On-time percentage is 39.79%\n",
            "\n",
            "Coverage is 48.15%\n"
          ],
          "name": "stdout"
        }
      ]
    },
    {
      "cell_type": "markdown",
      "metadata": {
        "id": "LuDqm1avLb8r",
        "colab_type": "text"
      },
      "source": [
        "## Generating report JSON"
      ]
    },
    {
      "cell_type": "code",
      "metadata": {
        "id": "T35JXa91LfFY",
        "colab_type": "code",
        "colab": {}
      },
      "source": [
        "def generate_report(rid, date):\n",
        "  \"\"\"\n",
        "  Generates a daily report for the given rid and date\n",
        "\n",
        "  rid : (str)\n",
        "    the route id to generate a report for\n",
        "  \n",
        "  date : (str or pd.Datetime)\n",
        "    the date to generate a report for\n",
        "\n",
        "  returns a dict of the report info\n",
        "  \"\"\"\n",
        "\n",
        "  # get begin and end timestamps for the date\n",
        "  begin = pd.to_datetime(date).replace(hour=7)\n",
        "  end = begin + pd.Timedelta(days=1)\n",
        "  # Load schedule and route data\n",
        "  schedule = Schedule(rid, begin, cnx)\n",
        "  \n",
        "  route = Route(rid, begin, cnx)\n",
        "  \n",
        "  # Load bus location data\n",
        "  locations = get_location_data(rid, begin, end, cnx)\n",
        "  \n",
        "  # Apply cleaning function (this usually takes 1-2 minutes)\n",
        "  locations = clean_locations(locations, route.stops_table)\n",
        "  \n",
        "  # Calculate all times a bus was at each stop\n",
        "  stop_times = get_stop_times(locations, route)\n",
        "\n",
        "  # Find all bunches and gaps\n",
        "  problems = get_bunches_gaps(stop_times, schedule)\n",
        "\n",
        "  # Calculate on-time percentage\n",
        "  on_time, total_scheduled = calculate_ontime(stop_times, schedule)\n",
        "\n",
        "  # Build result dict\n",
        "  count_times = 0\n",
        "  for key in stop_times.keys():\n",
        "    count_times += len(stop_times[key])\n",
        "\n",
        "  # Number of recorded intervals ( sum(len(each list of time)) - number or lists of times)\n",
        "  intervals = count_times-len(stop_times)\n",
        "\n",
        "  bunches = len(problems[problems['type'] == 'bunch'])\n",
        "  gaps = len(problems[problems['type'] == 'gap'])\n",
        "\n",
        "  coverage = (total_scheduled * on_time + bunches) / total_scheduled\n",
        "\n",
        "  # Isolating bunches, merging with stops to assign locations to bunches\n",
        "  bunch_df = problems[problems.type.eq('bunch')]\n",
        "  bunch_df = bunch_df.merge(route.stops_table, left_on='stop', right_on='tag', how='left')\n",
        "\n",
        "  # Creating GeoJSON of bunch times / locations\n",
        "  geojson = create_simple_geojson(bunch_df, rid)\n",
        "  \n",
        "  # int/float conversions are because the json library doesn't work with numpy types\n",
        "  result = {\n",
        "      'route_id': rid,\n",
        "      'route_name': route.route_name,\n",
        "      'route_type': route.route_type,\n",
        "      'date': str(pd.to_datetime(date)),\n",
        "      'overall_health': 0,  # TODO: implement this\n",
        "      'num_bunches': bunches,\n",
        "      'num_gaps': gaps,\n",
        "      'total_intervals': intervals,\n",
        "      'on_time_percentage': float(round(on_time * 100, 2)),\n",
        "      'scheduled_stops': int(total_scheduled),\n",
        "      'coverage': float(round(coverage * 100, 2)),\n",
        "      # line_chart contains all data needed to generate the line chart\n",
        "      'line_chart': bunch_gap_graph(problems, interval=10),\n",
        "      # route_table is an array of all rows that should show up in the table\n",
        "      # it will be filled in after all reports are generated\n",
        "      'route_table': [\n",
        "          {\n",
        "            'route_id': rid,\n",
        "            'route_name': route.route_name,\n",
        "            'bunches': bunches,\n",
        "            'gaps': gaps,\n",
        "            'on-time': float(round(on_time * 100, 2)),\n",
        "            'coverage': float(round(coverage * 100, 2))\n",
        "          }\n",
        "      ],\n",
        "      'map_data': geojson\n",
        "  }\n",
        "\n",
        "  return result"
      ],
      "execution_count": 0,
      "outputs": []
    },
    {
      "cell_type": "code",
      "metadata": {
        "id": "kDuD8zIiM1IL",
        "colab_type": "code",
        "colab": {}
      },
      "source": [
        "# Route 1 usage example\n",
        "report_1 = generate_report(rid='1', date='2020/6/1')"
      ],
      "execution_count": 0,
      "outputs": []
    },
    {
      "cell_type": "code",
      "metadata": {
        "id": "9F0hL92BYZrw",
        "colab_type": "code",
        "outputId": "d229dcb1-dec5-4ec7-9901-d107f2f0e5fe",
        "colab": {
          "base_uri": "https://localhost:8080/",
          "height": 54
        }
      },
      "source": [
        "report_1.keys()"
      ],
      "execution_count": 0,
      "outputs": [
        {
          "output_type": "execute_result",
          "data": {
            "text/plain": [
              "dict_keys(['route_id', 'route_name', 'route_type', 'date', 'overall_health', 'num_bunches', 'num_gaps', 'total_intervals', 'on_time_percentage', 'scheduled_stops', 'coverage', 'line_chart', 'route_table', 'map_data'])"
            ]
          },
          "metadata": {
            "tags": []
          },
          "execution_count": 28
        }
      ]
    },
    {
      "cell_type": "code",
      "metadata": {
        "id": "ZqXvyN0UYeHW",
        "colab_type": "code",
        "colab": {}
      },
      "source": [
        "# Route 714 usage example\n",
        "report_714 = generate_report(rid='714', date='2020/6/1')"
      ],
      "execution_count": 0,
      "outputs": []
    },
    {
      "cell_type": "code",
      "metadata": {
        "id": "XoOyHgnEY3oP",
        "colab_type": "code",
        "outputId": "86f8f0d8-789a-4c54-a18b-986b7f2e1dae",
        "colab": {
          "base_uri": "https://localhost:8080/",
          "height": 102
        }
      },
      "source": [
        "print('Route:', report_714['route_name'])\n",
        "print('Bunches:', report_714['num_bunches'])\n",
        "print('Gaps:', report_714['num_gaps'])\n",
        "print('On-time:', report_714['on_time_percentage'])\n",
        "print('Coverage:', report_714['coverage'])"
      ],
      "execution_count": 0,
      "outputs": [
        {
          "output_type": "stream",
          "text": [
            "Route: 714-Bart Early Bird\n",
            "Bunches: 0\n",
            "Gaps: 0\n",
            "On-time: 55.56\n",
            "Coverage: 55.56\n"
          ],
          "name": "stdout"
        }
      ]
    },
    {
      "cell_type": "markdown",
      "metadata": {
        "id": "I51BkjZQcMAW",
        "colab_type": "text"
      },
      "source": [
        "# Generating report for all routes"
      ]
    },
    {
      "cell_type": "code",
      "metadata": {
        "id": "jHvTg7PecoBj",
        "colab_type": "code",
        "colab": {}
      },
      "source": [
        "def get_active_routes(date):\n",
        "  \"\"\"\n",
        "  returns a list of all active route id's for the given date\n",
        "  \"\"\"\n",
        "\n",
        "  query = \"\"\"\n",
        "    SELECT DISTINCT rid\n",
        "    FROM routes\n",
        "    WHERE begin_date <= %s ::TIMESTAMP AND\n",
        "          (end_date IS NULL OR end_date > %s ::TIMESTAMP);\n",
        "  \"\"\"\n",
        "\n",
        "  cursor.execute(query, (date, date))\n",
        "  return [result[0] for result in cursor.fetchall()]"
      ],
      "execution_count": 0,
      "outputs": []
    },
    {
      "cell_type": "code",
      "metadata": {
        "id": "fW_0FZS9cLWS",
        "colab_type": "code",
        "outputId": "ca3fb325-21fe-4edb-c91c-b7d821b4bc82",
        "colab": {
          "base_uri": "https://localhost:8080/",
          "height": 527
        }
      },
      "source": [
        "%%time\n",
        "# since this is not optimized yet, this takes about 20 minutes\n",
        "\n",
        "# choose a day\n",
        "date = '2020-6-1'\n",
        "\n",
        "# get all active routes \n",
        "route_ids = get_active_routes(date)\n",
        "route_ids.sort()\n",
        "\n",
        "# get the report for all routes\n",
        "all_reports = []\n",
        "for rid in route_ids:\n",
        "  try:\n",
        "    all_reports.append(generate_report(rid, date))\n",
        "    print(\"Generated report for route\", rid)\n",
        "  except: # in case any particular route throws an error\n",
        "    print(f\"Route {rid} failed\")"
      ],
      "execution_count": 0,
      "outputs": [
        {
          "output_type": "stream",
          "text": [
            "Generated report for route 1\n",
            "Generated report for route 12\n",
            "Generated report for route 14\n",
            "Generated report for route 14R\n",
            "Generated report for route 19\n",
            "Generated report for route 22\n",
            "Generated report for route 24\n",
            "Generated report for route 25\n",
            "Generated report for route 28\n",
            "Generated report for route 29\n",
            "Generated report for route 38\n",
            "Generated report for route 38R\n",
            "Generated report for route 44\n",
            "Generated report for route 49\n",
            "Generated report for route 5\n",
            "Generated report for route 54\n",
            "Generated report for route 714\n",
            "Generated report for route 8\n",
            "Generated report for route 9\n",
            "Generated report for route 90\n",
            "Generated report for route 91\n",
            "Generated report for route 9R\n",
            "Generated report for route LBUS\n",
            "Generated report for route L_OWL\n",
            "Generated report for route MBUS\n",
            "Generated report for route NBUS\n",
            "Generated report for route N_OWL\n",
            "Generated report for route TBUS\n",
            "CPU times: user 20min 16s, sys: 1.16 s, total: 20min 17s\n",
            "Wall time: 20min 57s\n"
          ],
          "name": "stdout"
        }
      ]
    },
    {
      "cell_type": "code",
      "metadata": {
        "id": "TeoOjE4HlDAh",
        "colab_type": "code",
        "outputId": "10d0c84b-c289-4092-ec25-71a80a29d834",
        "colab": {
          "base_uri": "https://localhost:8080/",
          "height": 34
        }
      },
      "source": [
        "len(all_reports)"
      ],
      "execution_count": 0,
      "outputs": [
        {
          "output_type": "execute_result",
          "data": {
            "text/plain": [
              "28"
            ]
          },
          "metadata": {
            "tags": []
          },
          "execution_count": 31
        }
      ]
    },
    {
      "cell_type": "code",
      "metadata": {
        "id": "e69gtrmh0cBU",
        "colab_type": "code",
        "colab": {}
      },
      "source": [
        "# generate aggregate reports\n",
        "\n",
        "# read existing reports into a dataframe to work with them easily\n",
        "df = pd.DataFrame(all_reports)\n",
        "\n",
        "# for each aggregate type\n",
        "types = ['All'] + list(df['route_type'].unique())\n",
        "counter = 0\n",
        "for t in types:\n",
        "  # filter df to the routes we are adding up\n",
        "  if t == 'All':\n",
        "    filtered = df\n",
        "  else:\n",
        "    filtered = df[df['route_type'] == t]\n",
        "\n",
        "  # on-time percentage: sum([all on-time stops]) / sum([all scheduled stops])\n",
        "  count_on_time = (filtered['on_time_percentage'] * filtered['scheduled_stops']).sum()\n",
        "  on_time_perc = count_on_time / filtered['scheduled_stops'].sum()\n",
        "\n",
        "  # coverage: (sum([all on-time stops]) + sum([all bunches])) / sum([all scheduled stops])\n",
        "  coverage = (count_on_time + filtered['num_bunches'].sum()) / filtered['scheduled_stops'].sum()\n",
        "\n",
        "  # aggregate the graph object\n",
        "  # x-axis is same for all\n",
        "  first = filtered.index[0]\n",
        "  times = filtered.at[first, 'line_chart']['times']\n",
        "\n",
        "  # sum up all y-axis values\n",
        "  bunches = pd.Series(filtered.at[first, 'line_chart']['bunches'])\n",
        "  gaps = pd.Series(filtered.at[first, 'line_chart']['gaps'])\n",
        "\n",
        "  # same pattern for the geojson list\n",
        "  geojson = filtered.at[first, 'map_data']['bunches']\n",
        "\n",
        "  for i, report in filtered[1:].iterrows():\n",
        "    # pd.Series adds all values in the lists together\n",
        "    bunches += pd.Series(report['line_chart']['bunches'])\n",
        "    gaps += pd.Series(report['line_chart']['gaps'])\n",
        "\n",
        "    # lists concatenate together\n",
        "    geojson += report['map_data']['bunches']\n",
        "\n",
        "  # save a new report object\n",
        "  new_report = {\n",
        "      'route_id': t,\n",
        "      'route_name': t,\n",
        "      'route_type': t,\n",
        "      'date': all_reports[0]['date'],\n",
        "      'overall_health': 0,  # TODO, implement.  Either avg of all routes, or recalculate using the aggregate statistics\n",
        "      'num_bunches': int(filtered['num_bunches'].sum()),\n",
        "      'num_gaps': int(filtered['num_gaps'].sum()),\n",
        "      'total_intervals': int(filtered['total_intervals'].sum()),\n",
        "      'on_time_percentage': float(round(on_time_perc, 2)),\n",
        "      'scheduled_stops': int(filtered['scheduled_stops'].sum()),\n",
        "      'coverage': float(round(coverage, 2)),\n",
        "      'line_chart': {\n",
        "          'times': times,\n",
        "          'bunches': list(bunches),\n",
        "          'gaps': list(gaps)\n",
        "      },\n",
        "      'route_table': [\n",
        "          {\n",
        "            'route_id': t,\n",
        "            'route_name': t,\n",
        "            'bunches': int(filtered['num_bunches'].sum()),\n",
        "            'gaps': int(filtered['num_gaps'].sum()),\n",
        "            'on-time': float(round(on_time_perc, 2)),\n",
        "            'coverage': float(round(coverage, 2))\n",
        "          }\n",
        "      ],\n",
        "      'map_data': {\n",
        "          # 'type': 'FeatureCollection',\n",
        "          # 'bunches': geojson\n",
        "      }\n",
        "  }\n",
        "  \n",
        "  # put aggregate reports at the beginning of the list\n",
        "  all_reports.insert(counter, new_report)\n",
        "  counter += 1\n",
        "\n",
        "# Add route_table rows to the aggregate report\n",
        "# Set up a dict to hold each aggregate table\n",
        "tables = {}\n",
        "for t in types:\n",
        "  tables[t] = []\n",
        "\n",
        "# Add rows from each report\n",
        "for report in all_reports:\n",
        "  # add to the route type's table\n",
        "  tables[report['route_type']].append(report['route_table'][0])\n",
        "\n",
        "  # also add to all routes table\n",
        "  if report['route_id'] != \"All\":\n",
        "    # if statement needed to not duplicate the \"All\" row twice\n",
        "    tables['All'].append(report['route_table'][0])\n",
        "\n",
        "\n",
        "# find matching report and set the table there\n",
        "for key in tables.keys():\n",
        "  for report in all_reports:\n",
        "    if report['route_id'] == key:\n",
        "      # override it because the new table includes the row that was already there\n",
        "      report['route_table'] = tables[key]\n",
        "      break  # only 1 report needs each aggregate table"
      ],
      "execution_count": 0,
      "outputs": []
    },
    {
      "cell_type": "code",
      "metadata": {
        "id": "4sFAns_VF7MG",
        "colab_type": "code",
        "outputId": "8a1bca57-87cf-4e8d-ceff-ed5b009053db",
        "colab": {
          "base_uri": "https://localhost:8080/",
          "height": 34
        }
      },
      "source": [
        "len(all_reports)"
      ],
      "execution_count": 0,
      "outputs": [
        {
          "output_type": "execute_result",
          "data": {
            "text/plain": [
              "33"
            ]
          },
          "metadata": {
            "tags": []
          },
          "execution_count": 40
        }
      ]
    },
    {
      "cell_type": "code",
      "metadata": {
        "id": "Zxn0dYVCum5o",
        "colab_type": "code",
        "colab": {}
      },
      "source": [
        "# save the all_reports object to a file so I can download it\n",
        "with open(f'report_{date}_slimmed.json', 'w') as outfile:\n",
        "  json.dump(all_reports, outfile)"
      ],
      "execution_count": 0,
      "outputs": []
    },
    {
      "cell_type": "code",
      "metadata": {
        "id": "tVifZDjHEdVI",
        "colab_type": "code",
        "colab": {}
      },
      "source": [
        "# rollback code if needed for testing: remove all aggregate reports\n",
        "for i in reversed(range(len(all_reports))):\n",
        "  if all_reports[i]['route_id'] in types:\n",
        "    del(all_reports[i])"
      ],
      "execution_count": 0,
      "outputs": []
    },
    {
      "cell_type": "code",
      "metadata": {
        "id": "nVGWgl5aUwEP",
        "colab_type": "code",
        "colab": {}
      },
      "source": [
        "# save report in the database\n",
        "query = \"\"\"\n",
        "  INSERT INTO reports (date, report)\n",
        "  VALUES (%s, %s);\n",
        "\"\"\"\n",
        "cursor.execute(query, (date, json.dumps(all_reports)))\n",
        "cnx.commit()"
      ],
      "execution_count": 0,
      "outputs": []
    }
  ]
}