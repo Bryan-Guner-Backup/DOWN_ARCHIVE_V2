{
 "cells": [
  {
   "cell_type": "code",
   "execution_count": 2,
   "metadata": {},
   "outputs": [],
   "source": [
    "import pickle \n",
    "import os\n",
    "from gensim.utils import SaveLoad\n",
    "import tempfile\n"
   ]
  },
  {
   "cell_type": "code",
   "execution_count": 6,
   "metadata": {},
   "outputs": [
    {
     "name": "stderr",
     "output_type": "stream",
     "text": [
      "/Users/alxander44/anaconda3/envs/U4-S1-NLP/lib/python3.7/site-packages/smart_open/smart_open_lib.py:402: UserWarning: This function is deprecated, use smart_open.open instead. See the migration notes for details: https://github.com/RaRe-Technologies/smart_open/blob/master/README.rst#migrating-to-the-new-open-function\n",
      "  'See the migration notes for details: %s' % _MIGRATION_NOTES_URL\n"
     ]
    }
   ],
   "source": [
    "from gensim import corpora, models, similarities\n",
    "loaded_lda_model = models.LdaModel.load('lda_model_final')"
   ]
  },
  {
   "cell_type": "code",
   "execution_count": 7,
   "metadata": {},
   "outputs": [],
   "source": [
    "import pandas as pd"
   ]
  },
  {
   "cell_type": "code",
   "execution_count": 8,
   "metadata": {},
   "outputs": [
    {
     "data": {
      "text/plain": [
       "<gensim.models.ldamulticore.LdaMulticore at 0x112c53710>"
      ]
     },
     "execution_count": 8,
     "metadata": {},
     "output_type": "execute_result"
    }
   ],
   "source": [
    "loaded_lda_model"
   ]
  },
  {
   "cell_type": "code",
   "execution_count": 9,
   "metadata": {},
   "outputs": [],
   "source": [
    "jobs = pd.read_csv('/Users/alxander44/lda_test_10000.csv')"
   ]
  },
  {
   "cell_type": "code",
   "execution_count": 10,
   "metadata": {},
   "outputs": [],
   "source": [
    "import pandas as pd "
   ]
  },
  {
   "cell_type": "code",
   "execution_count": 11,
   "metadata": {},
   "outputs": [
    {
     "data": {
      "text/html": [
       "<div>\n",
       "<style scoped>\n",
       "    .dataframe tbody tr th:only-of-type {\n",
       "        vertical-align: middle;\n",
       "    }\n",
       "\n",
       "    .dataframe tbody tr th {\n",
       "        vertical-align: top;\n",
       "    }\n",
       "\n",
       "    .dataframe thead th {\n",
       "        text-align: right;\n",
       "    }\n",
       "</style>\n",
       "<table border=\"1\" class=\"dataframe\">\n",
       "  <thead>\n",
       "    <tr style=\"text-align: right;\">\n",
       "      <th></th>\n",
       "      <th>Unnamed: 0</th>\n",
       "      <th>0</th>\n",
       "      <th>1</th>\n",
       "      <th>2</th>\n",
       "    </tr>\n",
       "  </thead>\n",
       "  <tbody>\n",
       "    <tr>\n",
       "      <th>0</th>\n",
       "      <td>0</td>\n",
       "      <td>10001</td>\n",
       "      <td>10003</td>\n",
       "      <td>1. Job Description: In support of the DoD CIO ...</td>\n",
       "    </tr>\n",
       "    <tr>\n",
       "      <th>1</th>\n",
       "      <td>1</td>\n",
       "      <td>10002</td>\n",
       "      <td>10004</td>\n",
       "      <td>## Overview\\n\\nAs a Lead Developer, you will l...</td>\n",
       "    </tr>\n",
       "    <tr>\n",
       "      <th>2</th>\n",
       "      <td>2</td>\n",
       "      <td>10003</td>\n",
       "      <td>10005</td>\n",
       "      <td>The Opportunity\\n\\nAs a member of our Data Sol...</td>\n",
       "    </tr>\n",
       "    <tr>\n",
       "      <th>3</th>\n",
       "      <td>3</td>\n",
       "      <td>10004</td>\n",
       "      <td>10006</td>\n",
       "      <td>Position Title: UiPath Developer \\n\\nRequired ...</td>\n",
       "    </tr>\n",
       "    <tr>\n",
       "      <th>4</th>\n",
       "      <td>4</td>\n",
       "      <td>10005</td>\n",
       "      <td>10007</td>\n",
       "      <td>Title: Android Developer\\n\\n  * H1b Status is ...</td>\n",
       "    </tr>\n",
       "  </tbody>\n",
       "</table>\n",
       "</div>"
      ],
      "text/plain": [
       "   Unnamed: 0      0      1                                                  2\n",
       "0           0  10001  10003  1. Job Description: In support of the DoD CIO ...\n",
       "1           1  10002  10004  ## Overview\\n\\nAs a Lead Developer, you will l...\n",
       "2           2  10003  10005  The Opportunity\\n\\nAs a member of our Data Sol...\n",
       "3           3  10004  10006  Position Title: UiPath Developer \\n\\nRequired ...\n",
       "4           4  10005  10007  Title: Android Developer\\n\\n  * H1b Status is ..."
      ]
     },
     "execution_count": 11,
     "metadata": {},
     "output_type": "execute_result"
    }
   ],
   "source": [
    "jobs.head()"
   ]
  },
  {
   "cell_type": "code",
   "execution_count": 12,
   "metadata": {},
   "outputs": [],
   "source": [
    "jobs = jobs.drop(columns=['Unnamed: 0','0','1'])"
   ]
  },
  {
   "cell_type": "code",
   "execution_count": 14,
   "metadata": {},
   "outputs": [],
   "source": [
    "import numpy as np \n",
    "import gensim\n",
    "\n",
    "from gensim.utils import simple_preprocess\n",
    "\n",
    "def sentence_to_words(sentences):\n",
    "    for sentence in sentences:\n",
    "        yield(simple_preprocess(str(sentence), deacc=True)) \n"
   ]
  },
  {
   "cell_type": "code",
   "execution_count": 15,
   "metadata": {},
   "outputs": [],
   "source": [
    "data = jobs['2'].values.tolist()"
   ]
  },
  {
   "cell_type": "code",
   "execution_count": null,
   "metadata": {},
   "outputs": [],
   "source": []
  },
  {
   "cell_type": "code",
   "execution_count": 259,
   "metadata": {},
   "outputs": [
    {
     "data": {
      "text/plain": [
       "list"
      ]
     },
     "execution_count": 259,
     "metadata": {},
     "output_type": "execute_result"
    }
   ],
   "source": [
    "type(data)"
   ]
  },
  {
   "cell_type": "code",
   "execution_count": 16,
   "metadata": {},
   "outputs": [],
   "source": [
    "data_words = list(sentence_to_words(data)) # write a function takes in a list of a ton of des "
   ]
  },
  {
   "cell_type": "code",
   "execution_count": 18,
   "metadata": {},
   "outputs": [
    {
     "data": {
      "text/plain": [
       "<gensim.models.ldamulticore.LdaMulticore at 0x112c53710>"
      ]
     },
     "execution_count": 18,
     "metadata": {},
     "output_type": "execute_result"
    }
   ],
   "source": [
    "loaded_lda_model"
   ]
  },
  {
   "cell_type": "code",
   "execution_count": 19,
   "metadata": {},
   "outputs": [],
   "source": [
    "import gensim.corpora as corpora"
   ]
  },
  {
   "cell_type": "code",
   "execution_count": 20,
   "metadata": {},
   "outputs": [
    {
     "name": "stderr",
     "output_type": "stream",
     "text": [
      "/Users/alxander44/anaconda3/envs/U4-S1-NLP/lib/python3.7/site-packages/smart_open/smart_open_lib.py:402: UserWarning: This function is deprecated, use smart_open.open instead. See the migration notes for details: https://github.com/RaRe-Technologies/smart_open/blob/master/README.rst#migrating-to-the-new-open-function\n",
      "  'See the migration notes for details: %s' % _MIGRATION_NOTES_URL\n"
     ]
    }
   ],
   "source": [
    "id2word=corpora.Dictionary.load('id2word')"
   ]
  },
  {
   "cell_type": "code",
   "execution_count": 21,
   "metadata": {},
   "outputs": [],
   "source": [
    "#id2word = corpora.Dictionary(data_words)\n",
    "\n",
    "\n",
    "corpus = [id2word.doc2bow(text) for text in data_words]"
   ]
  },
  {
   "cell_type": "code",
   "execution_count": 25,
   "metadata": {},
   "outputs": [],
   "source": [
    "#empty_list = [x for x in range(17)]\n",
    "#test = [loaded_lda_model[x][0][0] for empty_list in corpus[203]]\n",
    "\n",
    "\n",
    "# run a loop for all the topic in a list \n",
    "# then run knn"
   ]
  },
  {
   "cell_type": "code",
   "execution_count": 120,
   "metadata": {},
   "outputs": [],
   "source": [
    "des = []\n",
    "\n",
    "for x in corpus:\n",
    "    empty_list = [0 for _ in range(17)]\n",
    "    test = loaded_lda_model.get_document_topics(x, minimum_probability=0, minimum_phi_value=0)\n",
    "    for val in test:\n",
    "        empty_list[val[0]-1] = val[1]\n",
    "    des.append(empty_list[:])\n"
   ]
  },
  {
   "cell_type": "code",
   "execution_count": 121,
   "metadata": {},
   "outputs": [],
   "source": [
    "df = pd.DataFrame(des)"
   ]
  },
  {
   "cell_type": "code",
   "execution_count": 160,
   "metadata": {},
   "outputs": [
    {
     "data": {
      "text/html": [
       "<div>\n",
       "<style scoped>\n",
       "    .dataframe tbody tr th:only-of-type {\n",
       "        vertical-align: middle;\n",
       "    }\n",
       "\n",
       "    .dataframe tbody tr th {\n",
       "        vertical-align: top;\n",
       "    }\n",
       "\n",
       "    .dataframe thead th {\n",
       "        text-align: right;\n",
       "    }\n",
       "</style>\n",
       "<table border=\"1\" class=\"dataframe\">\n",
       "  <thead>\n",
       "    <tr style=\"text-align: right;\">\n",
       "      <th></th>\n",
       "      <th>0</th>\n",
       "      <th>1</th>\n",
       "      <th>2</th>\n",
       "      <th>3</th>\n",
       "      <th>4</th>\n",
       "      <th>5</th>\n",
       "      <th>6</th>\n",
       "      <th>7</th>\n",
       "      <th>8</th>\n",
       "      <th>9</th>\n",
       "      <th>10</th>\n",
       "      <th>11</th>\n",
       "      <th>12</th>\n",
       "      <th>13</th>\n",
       "      <th>14</th>\n",
       "      <th>15</th>\n",
       "      <th>16</th>\n",
       "    </tr>\n",
       "  </thead>\n",
       "  <tbody>\n",
       "    <tr>\n",
       "      <th>0</th>\n",
       "      <td>0.000822</td>\n",
       "      <td>0.000687</td>\n",
       "      <td>0.119798</td>\n",
       "      <td>0.000518</td>\n",
       "      <td>0.000461</td>\n",
       "      <td>0.144684</td>\n",
       "      <td>0.000378</td>\n",
       "      <td>0.000347</td>\n",
       "      <td>0.000320</td>\n",
       "      <td>0.000298</td>\n",
       "      <td>0.000278</td>\n",
       "      <td>0.729481</td>\n",
       "      <td>0.000246</td>\n",
       "      <td>0.000232</td>\n",
       "      <td>0.000220</td>\n",
       "      <td>0.000209</td>\n",
       "      <td>0.001023</td>\n",
       "    </tr>\n",
       "    <tr>\n",
       "      <th>1</th>\n",
       "      <td>0.000378</td>\n",
       "      <td>0.000316</td>\n",
       "      <td>0.000271</td>\n",
       "      <td>0.383030</td>\n",
       "      <td>0.066966</td>\n",
       "      <td>0.208766</td>\n",
       "      <td>0.000174</td>\n",
       "      <td>0.000159</td>\n",
       "      <td>0.000147</td>\n",
       "      <td>0.000137</td>\n",
       "      <td>0.128500</td>\n",
       "      <td>0.210270</td>\n",
       "      <td>0.000113</td>\n",
       "      <td>0.000107</td>\n",
       "      <td>0.000101</td>\n",
       "      <td>0.000096</td>\n",
       "      <td>0.000470</td>\n",
       "    </tr>\n",
       "    <tr>\n",
       "      <th>2</th>\n",
       "      <td>0.029187</td>\n",
       "      <td>0.000358</td>\n",
       "      <td>0.000307</td>\n",
       "      <td>0.000270</td>\n",
       "      <td>0.337929</td>\n",
       "      <td>0.142186</td>\n",
       "      <td>0.000197</td>\n",
       "      <td>0.120290</td>\n",
       "      <td>0.000167</td>\n",
       "      <td>0.022422</td>\n",
       "      <td>0.277546</td>\n",
       "      <td>0.000136</td>\n",
       "      <td>0.000128</td>\n",
       "      <td>0.000121</td>\n",
       "      <td>0.000115</td>\n",
       "      <td>0.000109</td>\n",
       "      <td>0.068533</td>\n",
       "    </tr>\n",
       "    <tr>\n",
       "      <th>3</th>\n",
       "      <td>0.000674</td>\n",
       "      <td>0.000563</td>\n",
       "      <td>0.092639</td>\n",
       "      <td>0.075664</td>\n",
       "      <td>0.443309</td>\n",
       "      <td>0.297566</td>\n",
       "      <td>0.000310</td>\n",
       "      <td>0.000285</td>\n",
       "      <td>0.000263</td>\n",
       "      <td>0.000244</td>\n",
       "      <td>0.086686</td>\n",
       "      <td>0.000214</td>\n",
       "      <td>0.000201</td>\n",
       "      <td>0.000190</td>\n",
       "      <td>0.000180</td>\n",
       "      <td>0.000171</td>\n",
       "      <td>0.000840</td>\n",
       "    </tr>\n",
       "    <tr>\n",
       "      <th>4</th>\n",
       "      <td>0.000852</td>\n",
       "      <td>0.000713</td>\n",
       "      <td>0.000613</td>\n",
       "      <td>0.718464</td>\n",
       "      <td>0.230976</td>\n",
       "      <td>0.000431</td>\n",
       "      <td>0.000392</td>\n",
       "      <td>0.000360</td>\n",
       "      <td>0.000333</td>\n",
       "      <td>0.033127</td>\n",
       "      <td>0.000289</td>\n",
       "      <td>0.000271</td>\n",
       "      <td>0.000255</td>\n",
       "      <td>0.000241</td>\n",
       "      <td>0.000228</td>\n",
       "      <td>0.000217</td>\n",
       "      <td>0.012240</td>\n",
       "    </tr>\n",
       "    <tr>\n",
       "      <th>5</th>\n",
       "      <td>0.000459</td>\n",
       "      <td>0.000384</td>\n",
       "      <td>0.470744</td>\n",
       "      <td>0.000289</td>\n",
       "      <td>0.334218</td>\n",
       "      <td>0.000232</td>\n",
       "      <td>0.000211</td>\n",
       "      <td>0.000194</td>\n",
       "      <td>0.000179</td>\n",
       "      <td>0.022026</td>\n",
       "      <td>0.076322</td>\n",
       "      <td>0.000146</td>\n",
       "      <td>0.000137</td>\n",
       "      <td>0.000130</td>\n",
       "      <td>0.000123</td>\n",
       "      <td>0.000117</td>\n",
       "      <td>0.094089</td>\n",
       "    </tr>\n",
       "    <tr>\n",
       "      <th>6</th>\n",
       "      <td>0.000962</td>\n",
       "      <td>0.000804</td>\n",
       "      <td>0.000691</td>\n",
       "      <td>0.000606</td>\n",
       "      <td>0.000540</td>\n",
       "      <td>0.424397</td>\n",
       "      <td>0.000443</td>\n",
       "      <td>0.179229</td>\n",
       "      <td>0.000375</td>\n",
       "      <td>0.000349</td>\n",
       "      <td>0.389043</td>\n",
       "      <td>0.000305</td>\n",
       "      <td>0.000288</td>\n",
       "      <td>0.000272</td>\n",
       "      <td>0.000257</td>\n",
       "      <td>0.000245</td>\n",
       "      <td>0.001195</td>\n",
       "    </tr>\n",
       "    <tr>\n",
       "      <th>7</th>\n",
       "      <td>0.001424</td>\n",
       "      <td>0.001191</td>\n",
       "      <td>0.001024</td>\n",
       "      <td>0.000898</td>\n",
       "      <td>0.690930</td>\n",
       "      <td>0.166831</td>\n",
       "      <td>0.000656</td>\n",
       "      <td>0.131696</td>\n",
       "      <td>0.000556</td>\n",
       "      <td>0.000516</td>\n",
       "      <td>0.000482</td>\n",
       "      <td>0.000452</td>\n",
       "      <td>0.000426</td>\n",
       "      <td>0.000402</td>\n",
       "      <td>0.000381</td>\n",
       "      <td>0.000362</td>\n",
       "      <td>0.001773</td>\n",
       "    </tr>\n",
       "    <tr>\n",
       "      <th>8</th>\n",
       "      <td>0.000938</td>\n",
       "      <td>0.000784</td>\n",
       "      <td>0.346056</td>\n",
       "      <td>0.123031</td>\n",
       "      <td>0.234677</td>\n",
       "      <td>0.290163</td>\n",
       "      <td>0.000432</td>\n",
       "      <td>0.000396</td>\n",
       "      <td>0.000366</td>\n",
       "      <td>0.000340</td>\n",
       "      <td>0.000317</td>\n",
       "      <td>0.000298</td>\n",
       "      <td>0.000280</td>\n",
       "      <td>0.000265</td>\n",
       "      <td>0.000251</td>\n",
       "      <td>0.000239</td>\n",
       "      <td>0.001168</td>\n",
       "    </tr>\n",
       "    <tr>\n",
       "      <th>9</th>\n",
       "      <td>0.004499</td>\n",
       "      <td>0.003764</td>\n",
       "      <td>0.003235</td>\n",
       "      <td>0.238162</td>\n",
       "      <td>0.546654</td>\n",
       "      <td>0.002276</td>\n",
       "      <td>0.002071</td>\n",
       "      <td>0.001901</td>\n",
       "      <td>0.001756</td>\n",
       "      <td>0.001631</td>\n",
       "      <td>0.001524</td>\n",
       "      <td>0.001429</td>\n",
       "      <td>0.001346</td>\n",
       "      <td>0.001271</td>\n",
       "      <td>0.181734</td>\n",
       "      <td>0.001145</td>\n",
       "      <td>0.005603</td>\n",
       "    </tr>\n",
       "  </tbody>\n",
       "</table>\n",
       "</div>"
      ],
      "text/plain": [
       "         0         1         2         3         4         5         6   \\\n",
       "0  0.000822  0.000687  0.119798  0.000518  0.000461  0.144684  0.000378   \n",
       "1  0.000378  0.000316  0.000271  0.383030  0.066966  0.208766  0.000174   \n",
       "2  0.029187  0.000358  0.000307  0.000270  0.337929  0.142186  0.000197   \n",
       "3  0.000674  0.000563  0.092639  0.075664  0.443309  0.297566  0.000310   \n",
       "4  0.000852  0.000713  0.000613  0.718464  0.230976  0.000431  0.000392   \n",
       "5  0.000459  0.000384  0.470744  0.000289  0.334218  0.000232  0.000211   \n",
       "6  0.000962  0.000804  0.000691  0.000606  0.000540  0.424397  0.000443   \n",
       "7  0.001424  0.001191  0.001024  0.000898  0.690930  0.166831  0.000656   \n",
       "8  0.000938  0.000784  0.346056  0.123031  0.234677  0.290163  0.000432   \n",
       "9  0.004499  0.003764  0.003235  0.238162  0.546654  0.002276  0.002071   \n",
       "\n",
       "         7         8         9         10        11        12        13  \\\n",
       "0  0.000347  0.000320  0.000298  0.000278  0.729481  0.000246  0.000232   \n",
       "1  0.000159  0.000147  0.000137  0.128500  0.210270  0.000113  0.000107   \n",
       "2  0.120290  0.000167  0.022422  0.277546  0.000136  0.000128  0.000121   \n",
       "3  0.000285  0.000263  0.000244  0.086686  0.000214  0.000201  0.000190   \n",
       "4  0.000360  0.000333  0.033127  0.000289  0.000271  0.000255  0.000241   \n",
       "5  0.000194  0.000179  0.022026  0.076322  0.000146  0.000137  0.000130   \n",
       "6  0.179229  0.000375  0.000349  0.389043  0.000305  0.000288  0.000272   \n",
       "7  0.131696  0.000556  0.000516  0.000482  0.000452  0.000426  0.000402   \n",
       "8  0.000396  0.000366  0.000340  0.000317  0.000298  0.000280  0.000265   \n",
       "9  0.001901  0.001756  0.001631  0.001524  0.001429  0.001346  0.001271   \n",
       "\n",
       "         14        15        16  \n",
       "0  0.000220  0.000209  0.001023  \n",
       "1  0.000101  0.000096  0.000470  \n",
       "2  0.000115  0.000109  0.068533  \n",
       "3  0.000180  0.000171  0.000840  \n",
       "4  0.000228  0.000217  0.012240  \n",
       "5  0.000123  0.000117  0.094089  \n",
       "6  0.000257  0.000245  0.001195  \n",
       "7  0.000381  0.000362  0.001773  \n",
       "8  0.000251  0.000239  0.001168  \n",
       "9  0.181734  0.001145  0.005603  "
      ]
     },
     "execution_count": 160,
     "metadata": {},
     "output_type": "execute_result"
    }
   ],
   "source": [
    "df.head(10) # returns this data frame for the above des "
   ]
  },
  {
   "cell_type": "code",
   "execution_count": null,
   "metadata": {},
   "outputs": [],
   "source": []
  },
  {
   "cell_type": "code",
   "execution_count": 338,
   "metadata": {},
   "outputs": [],
   "source": []
  },
  {
   "cell_type": "code",
   "execution_count": null,
   "metadata": {},
   "outputs": [],
   "source": []
  },
  {
   "cell_type": "code",
   "execution_count": 339,
   "metadata": {},
   "outputs": [],
   "source": []
  },
  {
   "cell_type": "code",
   "execution_count": 340,
   "metadata": {},
   "outputs": [
    {
     "data": {
      "text/html": [
       "<div>\n",
       "<style scoped>\n",
       "    .dataframe tbody tr th:only-of-type {\n",
       "        vertical-align: middle;\n",
       "    }\n",
       "\n",
       "    .dataframe tbody tr th {\n",
       "        vertical-align: top;\n",
       "    }\n",
       "\n",
       "    .dataframe thead th {\n",
       "        text-align: right;\n",
       "    }\n",
       "</style>\n",
       "<table border=\"1\" class=\"dataframe\">\n",
       "  <thead>\n",
       "    <tr style=\"text-align: right;\">\n",
       "      <th></th>\n",
       "      <th>0</th>\n",
       "      <th>1</th>\n",
       "      <th>2</th>\n",
       "      <th>3</th>\n",
       "      <th>4</th>\n",
       "      <th>5</th>\n",
       "      <th>6</th>\n",
       "      <th>7</th>\n",
       "      <th>8</th>\n",
       "      <th>9</th>\n",
       "      <th>10</th>\n",
       "      <th>11</th>\n",
       "      <th>12</th>\n",
       "      <th>13</th>\n",
       "      <th>14</th>\n",
       "      <th>15</th>\n",
       "      <th>16</th>\n",
       "    </tr>\n",
       "  </thead>\n",
       "  <tbody>\n",
       "    <tr>\n",
       "      <th>0</th>\n",
       "      <td>0.583238</td>\n",
       "      <td>0.011759</td>\n",
       "      <td>0.010108</td>\n",
       "      <td>0.008864</td>\n",
       "      <td>0.313698</td>\n",
       "      <td>0.007113</td>\n",
       "      <td>0.006473</td>\n",
       "      <td>0.005939</td>\n",
       "      <td>0.005487</td>\n",
       "      <td>0.005098</td>\n",
       "      <td>0.004761</td>\n",
       "      <td>0.004466</td>\n",
       "      <td>0.004205</td>\n",
       "      <td>0.003973</td>\n",
       "      <td>0.003765</td>\n",
       "      <td>0.003578</td>\n",
       "      <td>0.017473</td>\n",
       "    </tr>\n",
       "  </tbody>\n",
       "</table>\n",
       "</div>"
      ],
      "text/plain": [
       "         0         1         2         3         4         5         6   \\\n",
       "0  0.583238  0.011759  0.010108  0.008864  0.313698  0.007113  0.006473   \n",
       "\n",
       "         7         8         9         10        11        12        13  \\\n",
       "0  0.005939  0.005487  0.005098  0.004761  0.004466  0.004205  0.003973   \n",
       "\n",
       "         14        15        16  \n",
       "0  0.003765  0.003578  0.017473  "
      ]
     },
     "execution_count": 340,
     "metadata": {},
     "output_type": "execute_result"
    }
   ],
   "source": []
  },
  {
   "cell_type": "code",
   "execution_count": 89,
   "metadata": {},
   "outputs": [],
   "source": [
    "import numpy as np \n",
    "import pandas as pd\n",
    "\n",
    "import scipy \n",
    "import matplotlib.pyplot as plt\n",
    "\n",
    "import urllib\n",
    "import sklearn \n",
    "from sklearn.neighbors import KNeighborsClassifier\n",
    "from sklearn import neighbors\n",
    "from sklearn import preprocessing \n",
    "from sklearn.model_selection import train_test_split\n",
    "from sklearn import metrics\n",
    "\n",
    "from sklearn import metrics"
   ]
  },
  {
   "cell_type": "code",
   "execution_count": 95,
   "metadata": {},
   "outputs": [],
   "source": [
    "from sklearn.metrics import confusion_matrix\n",
    "from sklearn.metrics import f1_score\n",
    "from sklearn.metrics import accuracy_score"
   ]
  },
  {
   "cell_type": "code",
   "execution_count": 92,
   "metadata": {},
   "outputs": [],
   "source": [
    "np.set_printoptions(precision=4, suppress = True)\n",
    "%matplotlib inline\n",
    "rcParams['figure.figsize'] =7,4\n",
    "plt.style.use('seaborn-whitegrid')"
   ]
  },
  {
   "cell_type": "code",
   "execution_count": 123,
   "metadata": {},
   "outputs": [],
   "source": [
    " from sklearn.neighbors import NearestNeighbors\n"
   ]
  },
  {
   "cell_type": "code",
   "execution_count": 201,
   "metadata": {},
   "outputs": [],
   "source": [
    "NN = NearestNeighbors(n_neighbors=17)"
   ]
  },
  {
   "cell_type": "code",
   "execution_count": 202,
   "metadata": {},
   "outputs": [
    {
     "name": "stdout",
     "output_type": "stream",
     "text": [
      "NearestNeighbors(algorithm='auto', leaf_size=30, metric='minkowski',\n",
      "         metric_params=None, n_jobs=None, n_neighbors=17, p=2, radius=1.0)\n"
     ]
    }
   ],
   "source": [
    "NN.fit"
   ]
  },
  {
   "cell_type": "code",
   "execution_count": 178,
   "metadata": {},
   "outputs": [],
   "source": [
    "NN2 = NearestNeighbors(n_neighbors=17, algorithm='kd_tree')"
   ]
  },
  {
   "cell_type": "code",
   "execution_count": 206,
   "metadata": {},
   "outputs": [
    {
     "data": {
      "text/plain": [
       "NearestNeighbors(algorithm='kd_tree', leaf_size=30, metric='minkowski',\n",
       "         metric_params=None, n_jobs=None, n_neighbors=17, p=2, radius=1.0)"
      ]
     },
     "execution_count": 206,
     "metadata": {},
     "output_type": "execute_result"
    }
   ],
   "source": [
    "NN2.fit(df)"
   ]
  },
  {
   "cell_type": "code",
   "execution_count": 207,
   "metadata": {},
   "outputs": [
    {
     "data": {
      "text/plain": [
       "NearestNeighbors(algorithm='auto', leaf_size=30, metric='minkowski',\n",
       "         metric_params=None, n_jobs=None, n_neighbors=17, p=2, radius=1.0)"
      ]
     },
     "execution_count": 207,
     "metadata": {},
     "output_type": "execute_result"
    }
   ],
   "source": [
    "NN.fit(df)"
   ]
  },
  {
   "cell_type": "code",
   "execution_count": 182,
   "metadata": {},
   "outputs": [
    {
     "data": {
      "text/plain": [
       "(array([[0.        , 0.04937257, 0.063936  , 0.09205354, 0.09774586,\n",
       "         0.10754676, 0.1218442 , 0.14603893, 0.1483975 , 0.14935984]]),\n",
       " array([[1075, 1670, 8436, 4401, 8411, 5718, 6951, 5615, 1607, 4496]]))"
      ]
     },
     "execution_count": 182,
     "metadata": {},
     "output_type": "execute_result"
    }
   ],
   "source": [
    "NN.kneighbors([df.loc[1075]], 10)"
   ]
  },
  {
   "cell_type": "code",
   "execution_count": 183,
   "metadata": {},
   "outputs": [
    {
     "data": {
      "text/plain": [
       "(array([[0.        , 0.04937257, 0.063936  , 0.09205354, 0.09774586,\n",
       "         0.10754676, 0.1218442 , 0.14603893, 0.1483975 , 0.14935984]]),\n",
       " array([[1075, 1670, 8436, 4401, 8411, 5718, 6951, 5615, 1607, 4496]]))"
      ]
     },
     "execution_count": 183,
     "metadata": {},
     "output_type": "execute_result"
    }
   ],
   "source": [
    "NN2.kneighbors([df.loc[1075]], 10)"
   ]
  },
  {
   "cell_type": "code",
   "execution_count": 197,
   "metadata": {},
   "outputs": [],
   "source": [
    "data_test = ['Data Scientist with python background']\n",
    "data_test = list(sentence_to_words(data_test))\n",
    "data_test = [id2word.doc2bow(text) for text in data_test]\n",
    "data_test_result = loaded_lda_model.get_document_topics(data_test[0], minimum_probability=0, minimum_phi_value=0)"
   ]
  },
  {
   "cell_type": "code",
   "execution_count": 204,
   "metadata": {},
   "outputs": [],
   "source": [
    "empty_list = [0 for _ in range(17)]\n",
    "\n",
    "for val in data_test_result:\n",
    "        empty_list[val[0]-1] = val[1]\n",
    "        "
   ]
  },
  {
   "cell_type": "code",
   "execution_count": 208,
   "metadata": {},
   "outputs": [
    {
     "data": {
      "text/plain": [
       "(array([[0.10552986, 0.11056247, 0.11180526, 0.11285499, 0.11432841]]),\n",
       " array([[2493, 2709,  182, 2543, 2724]]))"
      ]
     },
     "execution_count": 208,
     "metadata": {},
     "output_type": "execute_result"
    }
   ],
   "source": [
    "NN.kneighbors([empty_list],5)"
   ]
  },
  {
   "cell_type": "code",
   "execution_count": 377,
   "metadata": {},
   "outputs": [],
   "source": [
    "\n",
    "    \n",
    "\"\"\" Creating a function that take descriptions and returns the Topic Probability distrubution \"\"\"\n",
    "def des_to_topiclist(data):\n",
    "    des = []\n",
    "    \"\"\" creating a function that \"\"\"\n",
    "    def sentence_to_words(sentences):\n",
    "        for sentence in sentences:\n",
    "            yield(simple_preprocess(str(sentence), deacc=True)) \n",
    "    \"\"\" Preprocessing the data from a str to a list of list then passing it through the id2word model\"\"\"\n",
    "    data = list(sentence_to_words(data))\n",
    "    corpus = [id2word.doc2bow(text) for text in data]\n",
    "    for x in corpus:\n",
    "        \"\"\" Looping through the corpus to get the probability distrubution for each topic \"\"\"\n",
    "        empty_list = [0 for _ in range(17)]\n",
    "        test = loaded_lda_model.get_document_topics(x, minimum_probability=0, minimum_phi_value=0)\n",
    "        \"\"\" Creating a DataFrame for the job description and the probability distrubutioin of the topics\"\"\"\n",
    "        for val in test:\n",
    "            empty_list[val[0]-1] = val[1]          \n",
    "        des.append(empty_list[:])\n",
    "    return pd.DataFrame(des)"
   ]
  },
  {
   "cell_type": "code",
   "execution_count": 382,
   "metadata": {},
   "outputs": [],
   "source": [
    "word_tests = ['i really like data science and python sql ad machine learning engineering ']\n",
    "word_tests = des_to_topiclist(word_tests)\n"
   ]
  },
  {
   "cell_type": "code",
   "execution_count": 383,
   "metadata": {},
   "outputs": [
    {
     "data": {
      "text/html": [
       "<div>\n",
       "<style scoped>\n",
       "    .dataframe tbody tr th:only-of-type {\n",
       "        vertical-align: middle;\n",
       "    }\n",
       "\n",
       "    .dataframe tbody tr th {\n",
       "        vertical-align: top;\n",
       "    }\n",
       "\n",
       "    .dataframe thead th {\n",
       "        text-align: right;\n",
       "    }\n",
       "</style>\n",
       "<table border=\"1\" class=\"dataframe\">\n",
       "  <thead>\n",
       "    <tr style=\"text-align: right;\">\n",
       "      <th></th>\n",
       "      <th>0</th>\n",
       "      <th>1</th>\n",
       "      <th>2</th>\n",
       "      <th>3</th>\n",
       "      <th>4</th>\n",
       "      <th>5</th>\n",
       "      <th>6</th>\n",
       "      <th>7</th>\n",
       "      <th>8</th>\n",
       "      <th>9</th>\n",
       "      <th>10</th>\n",
       "      <th>11</th>\n",
       "      <th>12</th>\n",
       "      <th>13</th>\n",
       "      <th>14</th>\n",
       "      <th>15</th>\n",
       "      <th>16</th>\n",
       "    </tr>\n",
       "  </thead>\n",
       "  <tbody>\n",
       "    <tr>\n",
       "      <th>0</th>\n",
       "      <td>0.41018</td>\n",
       "      <td>0.008553</td>\n",
       "      <td>0.183026</td>\n",
       "      <td>0.006447</td>\n",
       "      <td>0.339174</td>\n",
       "      <td>0.005173</td>\n",
       "      <td>0.004708</td>\n",
       "      <td>0.004319</td>\n",
       "      <td>0.00399</td>\n",
       "      <td>0.003708</td>\n",
       "      <td>0.003463</td>\n",
       "      <td>0.003248</td>\n",
       "      <td>0.003058</td>\n",
       "      <td>0.002889</td>\n",
       "      <td>0.002738</td>\n",
       "      <td>0.002602</td>\n",
       "      <td>0.012723</td>\n",
       "    </tr>\n",
       "  </tbody>\n",
       "</table>\n",
       "</div>"
      ],
      "text/plain": [
       "        0         1         2         3         4         5         6   \\\n",
       "0  0.41018  0.008553  0.183026  0.006447  0.339174  0.005173  0.004708   \n",
       "\n",
       "         7        8         9         10        11        12        13  \\\n",
       "0  0.004319  0.00399  0.003708  0.003463  0.003248  0.003058  0.002889   \n",
       "\n",
       "         14        15        16  \n",
       "0  0.002738  0.002602  0.012723  "
      ]
     },
     "execution_count": 383,
     "metadata": {},
     "output_type": "execute_result"
    }
   ],
   "source": [
    "word_tests"
   ]
  },
  {
   "cell_type": "code",
   "execution_count": 384,
   "metadata": {},
   "outputs": [
    {
     "data": {
      "text/plain": [
       "(array([[0.1248403 , 0.1316549 , 0.17294988, 0.1781792 , 0.18533511,\n",
       "         0.20180628, 0.20561909, 0.21000774, 0.21068721, 0.21684125,\n",
       "         0.21866874, 0.22090856, 0.22140654, 0.2228301 , 0.22366932,\n",
       "         0.22419892, 0.22605384]]),\n",
       " array([[7565, 7300, 2608, 7446, 3028, 4993, 7030,  273, 7908, 6986, 2464,\n",
       "         2627, 7307, 2465, 7322, 7460, 7738]]))"
      ]
     },
     "execution_count": 384,
     "metadata": {},
     "output_type": "execute_result"
    }
   ],
   "source": [
    "NN2.kneighbors(word_tests)"
   ]
  },
  {
   "cell_type": "code",
   "execution_count": 385,
   "metadata": {},
   "outputs": [
    {
     "data": {
      "text/plain": [
       "'A bit about us:  \\n\\nBased inOrange County, CA we are a continually growing company in the AV (Audio / Video) Industry. We are the leading developer and manufacturer of professional AV system products. Our products are used worldwide in Business Boardrooms, University Halls, Training Centers, Government Offices, etc.   \\n\\nIf you are a Business Intelligence Developer with strong quantitative and analytical abilities, then please read on….  \\n\\nYou will be responsible for designing, building and deploying BI solutions for the companies objectives. Monitor and maintain BI and ETL processes and provide support as needed.\\n\\nWhat can we do for you?   \\n\\n  * Competitive Base Salary!  \\n\\n  * Excellent Benefits!  \\n\\n  * Continuous on the Job Training!  \\n\\n  * Accelerated Career Growth!  \\n\\nIs your background a fit? We are looking for…  \\n\\n  * Bachelors Degree in Computer Science or related degree  \\n\\n  * Experience enhancing, supporting and maintaining BI and Data Warehouse solutions\\n\\n  * SQL skills to include T-SQL, SSIS, SSAS \\n\\n  * Complete understanding of data aggregation / manipulation through complex queries, views and stored procedures\\n\\n  * You can collaborate in a team environment   \\n\\n  * Perform data quality analysis projects including data validation and data quality exception reporting  \\n\\n  * Comfortable with ETL data from various sources into the data warehouse and provide data integration usign T-SQL and SSIS  \\n\\n  * Experience in a manufacturing environment desired, but not necessary\\n\\n  * Excellent written and verbal communication skills\\n\\nWhy join us?  \\n\\nWe can offer you the opportunity to work on State-of-the-Art technology! Your hard work will make a direct impact within the company! Work with a team that is always looking for new ideas and be an integral part of the engineering team!'"
      ]
     },
     "execution_count": 385,
     "metadata": {},
     "output_type": "execute_result"
    }
   ],
   "source": [
    "data[7565]"
   ]
  },
  {
   "cell_type": "code",
   "execution_count": 138,
   "metadata": {},
   "outputs": [],
   "source": [
    "import pickle"
   ]
  },
  {
   "cell_type": "code",
   "execution_count": 139,
   "metadata": {},
   "outputs": [],
   "source": [
    "with open('Nearest_Neighbors_model', 'wb') as f:\n",
    "    pickle.dump(NN,f)"
   ]
  },
  {
   "cell_type": "code",
   "execution_count": 214,
   "metadata": {},
   "outputs": [],
   "source": [
    "with open('Nearest_Neighbors_model', 'rb') as f:\n",
    "    NN_model = pickle.load(f)"
   ]
  },
  {
   "cell_type": "code",
   "execution_count": 217,
   "metadata": {},
   "outputs": [
    {
     "data": {
      "text/plain": [
       "(array([[0.        , 0.03291856, 0.04572103]]), array([[  44, 6896, 2231]]))"
      ]
     },
     "execution_count": 217,
     "metadata": {},
     "output_type": "execute_result"
    }
   ],
   "source": [
    "NN_model.kneighbors([df.loc[44]], 3)"
   ]
  }
 ],
 "metadata": {
  "kernelspec": {
   "display_name": "U4-S1-NLP-DS8 (Python3)",
   "language": "python",
   "name": "u4-s1-nlp"
  },
  "language_info": {
   "codemirror_mode": {
    "name": "ipython",
    "version": 3
   },
   "file_extension": ".py",
   "mimetype": "text/x-python",
   "name": "python",
   "nbconvert_exporter": "python",
   "pygments_lexer": "ipython3",
   "version": "3.7.0"
  }
 },
 "nbformat": 4,
 "nbformat_minor": 4
}
