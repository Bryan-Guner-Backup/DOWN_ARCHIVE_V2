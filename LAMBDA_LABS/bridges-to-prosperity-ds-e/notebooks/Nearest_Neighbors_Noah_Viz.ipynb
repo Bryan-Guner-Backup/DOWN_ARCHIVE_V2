{
  "nbformat": 4,
  "nbformat_minor": 0,
  "metadata": {
    "colab": {
      "name": "Nearest_Neighbors_Noah_Viz.ipynb",
      "provenance": [],
      "collapsed_sections": []
    },
    "kernelspec": {
      "display_name": "Python 3",
      "name": "python3"
    }
  },
  "cells": [
    {
      "cell_type": "markdown",
      "metadata": {
        "id": "nBi6VERoJIcf"
      },
      "source": [
        "### Load the data"
      ]
    },
    {
      "cell_type": "code",
      "metadata": {
        "id": "ezJ_aXNaB_Ku"
      },
      "source": [
        "import plotly.express as px\n",
        "import math\n",
        "import pandas as pd\n"
      ],
      "execution_count": null,
      "outputs": []
    },
    {
      "cell_type": "code",
      "metadata": {
        "id": "W9S_XTGn-7F9"
      },
      "source": [
        "url = 'https://github.com/Lambda-School-Labs/bridges-to-prosperity-ds-d/blob/main/Data/B2P%20Dataset_2020.10.xlsx?raw=true'\n",
        "df = pd.read_excel(url, sheet_name='Data')"
      ],
      "execution_count": 59,
      "outputs": []
    },
    {
      "cell_type": "markdown",
      "metadata": {
        "id": "UWTCN35GJUkB"
      },
      "source": [
        "### Define the target"
      ]
    },
    {
      "cell_type": "code",
      "metadata": {
        "colab": {
          "base_uri": "https://localhost:8080/"
        },
        "id": "ocxM5yOQHWw1",
        "outputId": "f285ee80-4583-495d-9684-5d303dcbdc18"
      },
      "source": [
        "# Any sites with a \"Yes\" in the column \"Senior Engineering Review Conducted\"\n",
        "# have undergone a full technical review, and of those, the \n",
        "# \"Bridge Opportunity: Stage\" column can be considered to be correct.\n",
        "positive = (\n",
        "    (df['Senior Engineering Review Conducted']=='Yes') & \n",
        "    (df['Bridge Opportunity: Stage'].isin(['Complete', 'Prospecting', 'Confirmed']))\n",
        ")\n",
        "\n",
        "negative = (\n",
        "    (df['Senior Engineering Review Conducted']=='Yes') & \n",
        "    (df['Bridge Opportunity: Stage'].isin(['Rejected', 'Cancelled']))\n",
        ")\n",
        "\n",
        "# Any sites without a \"Yes\" in column Senior Engineering Review Conducted\" \n",
        "# have not undergone a full technical review ...\n",
        "# So these sites are unknown and unlabeled\n",
        "unknown = df['Senior Engineering Review Conducted'].isna()\n",
        "\n",
        "# Create a new column named \"Good Site.\" This is the target to predict.\n",
        "# Assign a 1 for the positive class and 0 for the negative class.\n",
        "df.loc[positive, 'Good Site'] = 1\n",
        "df.loc[negative, 'Good Site'] = 0\n",
        "\n",
        "# Assign -1 for unknown/unlabled observations. \n",
        "# Scikit-learn's documentation for \"Semi-Supervised Learning\" says, \n",
        "# \"It is important to assign an identifier to unlabeled points ...\n",
        "# The identifier that this implementation uses is the integer value -1.\"\n",
        "# We'll explain this soon!\n",
        "df.loc[unknown, 'Good Site'] = -1\n",
        "\n",
        "df['Good Site'].value_counts(dropna=False)"
      ],
      "execution_count": null,
      "outputs": [
        {
          "output_type": "execute_result",
          "data": {
            "text/plain": [
              "-1.0    1383\n",
              " 1.0      65\n",
              " 0.0      24\n",
              "Name: Good Site, dtype: int64"
            ]
          },
          "metadata": {
            "tags": []
          },
          "execution_count": 41
        }
      ]
    },
    {
      "cell_type": "code",
      "metadata": {
        "id": "yOc5uTmo0wJk"
      },
      "source": [
        ""
      ],
      "execution_count": null,
      "outputs": []
    },
    {
      "cell_type": "markdown",
      "metadata": {
        "id": "uIz_xQaXJWAC"
      },
      "source": [
        "### Drop columns used to derive the target"
      ]
    },
    {
      "cell_type": "markdown",
      "metadata": {
        "id": "t9_82DO0Jbos"
      },
      "source": [
        "### Look at target's distribution"
      ]
    },
    {
      "cell_type": "code",
      "metadata": {
        "colab": {
          "base_uri": "https://localhost:8080/"
        },
        "id": "LySRowl8H7Nf",
        "outputId": "e7b6d08f-5c32-4dfa-92a0-e43f8ba25fdd"
      },
      "source": [
        "df['Good Site'].value_counts()"
      ],
      "execution_count": null,
      "outputs": [
        {
          "output_type": "execute_result",
          "data": {
            "text/plain": [
              "-1.0    1383\n",
              " 1.0      65\n",
              " 0.0      24\n",
              "Name: Good Site, dtype: int64"
            ]
          },
          "metadata": {
            "tags": []
          },
          "execution_count": 43
        }
      ]
    },
    {
      "cell_type": "markdown",
      "metadata": {
        "id": "2pG49YPb6MEu"
      },
      "source": [
        "### Wrangle the data"
      ]
    },
    {
      "cell_type": "code",
      "metadata": {
        "id": "oymh5deKNECL"
      },
      "source": [
        "import numpy as np\n",
        "\n",
        "def wrangle(X):\n",
        "\n",
        "  X['Bridge classification'] = X['Bridge classification'].replace({np.nan: \"unknown\"})\n",
        "\n",
        "  X['Height differential between banks'] = X['Height differential between banks'].replace({np.nan: 10})\n",
        "\n",
        "  X['Cell service quality'] = X['Cell service quality'].replace({np.nan: \"unknown\"})\n",
        "\n",
        "  X['4WD Accessibility'] = X['4WD Accessibility'].replace({np.nan: \"unknown\"})\n",
        "\n",
        "  X['Bridge Type'] = X['Bridge Type'].replace({np.nan: \"unknown\"})\n",
        "  \n",
        "  X['Estimated span (m)'] = X['Estimated span (m)'].replace({np.nan: X['Estimated span (m)'].median()})\n",
        "\n",
        "  X['Days per year river is flooded'] = X['Days per year river is flooded'].replace({np.nan: X['Days per year river is flooded'].median()})\n",
        "\n",
        "  X['River crossing deaths in last 3 years'] = X['River crossing deaths in last 3 years'].replace({np.nan: X['River crossing deaths in last 3 years'].median()})\n",
        "\n",
        "  X['River crossing injuries in last 3 years'] = X['River crossing injuries in last 3 years'].replace({np.nan: X['River crossing injuries in last 3 years'].median()})\n",
        "  \n",
        "  X['Proposed Bridge Location (GPS) (Latitude)'] = X['Proposed Bridge Location (GPS) (Latitude)'].replace({np.nan: X['Proposed Bridge Location (GPS) (Latitude)'].median()})\n",
        "\n",
        "  X['Proposed Bridge Location (GPS) (Longitude)'] = X['Proposed Bridge Location (GPS) (Longitude)'].replace({np.nan: X['Proposed Bridge Location (GPS) (Longitude)'].median()})\n",
        "\n",
        "\n",
        "  crossing = []\n",
        "  for i in X['Current crossing method']:\n",
        "    if type(i) == float:\n",
        "      crossing.append(\"unknown\")\n",
        "    elif 'timber' in i.lower() or 'log' in i.lower():\n",
        "      crossing.append('timber')\n",
        "    elif 'boat' in i.lower():\n",
        "      crossing.append('boat')\n",
        "    else:\n",
        "      crossing.append(i.lower())\n",
        "  X['crossing'] = crossing\n",
        "  \n",
        "  return X"
      ],
      "execution_count": null,
      "outputs": []
    },
    {
      "cell_type": "markdown",
      "metadata": {
        "id": "-iY1vq7V6UC3"
      },
      "source": [
        "### Make a semi-supervized model and use it generate labels for unknown data points"
      ]
    },
    {
      "cell_type": "code",
      "metadata": {
        "colab": {
          "base_uri": "https://localhost:8080/"
        },
        "id": "otfnC7LERMuf",
        "outputId": "b5dfc231-f054-477d-b63c-cc5cb4af4d8d"
      },
      "source": [
        "from sklearn.preprocessing import OrdinalEncoder\n",
        "from sklearn.semi_supervised import LabelSpreading\n",
        "\n",
        "\n",
        "target = 'Good Site'\n",
        "\n",
        "features = ['Bridge classification', 'crossing', 'Days per year river is flooded',\n",
        "            'River crossing deaths in last 3 years', 'River crossing injuries in last 3 years',\n",
        "            'Cell service quality', '4WD Accessibility', 'Bridge Type',\n",
        "            'Proposed Bridge Location (GPS) (Latitude)', 'Proposed Bridge Location (GPS) (Longitude)',\n",
        "            'Height differential between banks', 'Estimated span (m)']\n",
        "\n",
        "\n",
        "labels = df[target]\n",
        "X = wrangle(df)\n",
        "X = X[features]\n",
        "enc = OrdinalEncoder()\n",
        "\n",
        "\n",
        "enc.fit(X)\n",
        "\n",
        "X = enc.transform(X)\n",
        "\n",
        "label_spread = LabelSpreading(kernel='knn', alpha=0.8)\n",
        "label_spread.fit(X, labels)\n",
        "\n",
        "output_labels = label_spread.transduction_\n",
        "\n",
        "df['knn'] = output_labels\n",
        "df['knn'].value_counts(normalize=True)\n"
      ],
      "execution_count": null,
      "outputs": [
        {
          "output_type": "stream",
          "text": [
            "/usr/local/lib/python3.6/dist-packages/sklearn/semi_supervised/_label_propagation.py:288: ConvergenceWarning:\n",
            "\n",
            "max_iter=30 was reached without convergence.\n",
            "\n",
            "/usr/local/lib/python3.6/dist-packages/sklearn/semi_supervised/_label_propagation.py:293: RuntimeWarning:\n",
            "\n",
            "invalid value encountered in true_divide\n",
            "\n"
          ],
          "name": "stderr"
        },
        {
          "output_type": "execute_result",
          "data": {
            "text/plain": [
              "1.0    0.650136\n",
              "0.0    0.349864\n",
              "Name: knn, dtype: float64"
            ]
          },
          "metadata": {
            "tags": []
          },
          "execution_count": 45
        }
      ]
    },
    {
      "cell_type": "markdown",
      "metadata": {
        "id": "2FlAxvZQf9BE"
      },
      "source": [
        "#Build visualization for KNN model "
      ]
    },
    {
      "cell_type": "markdown",
      "metadata": {
        "id": "PV8Wl9Yczv_5"
      },
      "source": [
        "###create a variable that contains the probabilities as arrays"
      ]
    },
    {
      "cell_type": "code",
      "metadata": {
        "id": "UVs9obAqeMHN"
      },
      "source": [
        "#create variable containing probabilities \n",
        "double_array = label_spread.predict_proba(X)"
      ],
      "execution_count": null,
      "outputs": []
    },
    {
      "cell_type": "code",
      "metadata": {
        "id": "VdjRWp82nNDp"
      },
      "source": [
        "#get rid of spaces in column headers\n",
        "df.columns = df.columns.str.replace(\" \", \"\")\n",
        "#create a dictionary \n",
        "d = {'Project_code': df['BridgeOpportunity:ProjectCode'], 'Unsuitable': double_array[:,0], 'Suitable': double_array[:,1], \n",
        "     'Bridge_classification': df['Bridgeclassification'], 'Crossing': df['crossing'], 'Days_per_year_river_is_flooded': df['Daysperyearriverisflooded'],\n",
        "     'River_crossing_injuries_in_last_3_years': df['Rivercrossingdeathsinlast3years'], 'Cell_service_quality': df['Cellservicequality'],\n",
        "     '4WD_Accessibility': df['4WDAccessibility'],'Bridge_Type': df['BridgeType'],'Proposed_Bridge_Location(GPS)(Latitude)': df['ProposedBridgeLocation(GPS)(Latitude)'],\n",
        "     'Proposed_Bridge_Location(GPS)(Longitude)': df['ProposedBridgeLocation(GPS)(Longitude)'],'Height_differential_between_banks': df['Heightdifferentialbetweenbanks'],\n",
        "     'Estimated_span(m)': df['Estimatedspan(m)']}\n",
        "#convert to dataframe \n",
        "viz_df = pd.DataFrame(data=d)\n",
        "viz_df"
      ],
      "execution_count": null,
      "outputs": []
    },
    {
      "cell_type": "markdown",
      "metadata": {
        "id": "WrQKDqLLlA8y"
      },
      "source": [
        "###This function was created in order to take a project code and an empty dictionary and populate it with it nearest neighbors according to the project code "
      ]
    },
    {
      "cell_type": "code",
      "metadata": {
        "id": "v1sUWv1v27jn"
      },
      "source": [
        "def nearest_neighborz(project_code, common):\n",
        "\n",
        "  row = viz_df[viz_df['Project_code'] ==project_code]\n",
        "  prob_0 = row['Unsuitable'] \n",
        "  prob_1 = row['Suitable']\n",
        "               \n",
        "  for index,row in viz_df.iterrows():\n",
        "    if (math.isclose(row['Unsuitable'], prob_0,rel_tol=.02) == True) & (math.isclose(row['Suitable'], prob_1,rel_tol=.02) == True):\n",
        "      common[project_code].add(row[\"Project_code\"])\n",
        "  return common"
      ],
      "execution_count": null,
      "outputs": []
    },
    {
      "cell_type": "code",
      "metadata": {
        "colab": {
          "background_save": true
        },
        "id": "ORTQMer2BTQh"
      },
      "source": [
        "#this love appends all the project codes to an empty dict as the key and makes the value a set()\n",
        "neig = {}\n",
        "for i in viz_df['Project_code']: \n",
        "  neig[i] = set()\n",
        "#now we use another for loop that utilizes our nearest neighborz\n",
        "# function and populates the empty dict neig\n",
        "for i in viz_df['Project_code']: \n",
        "  nearest_neighborz(i, neig)\n",
        "#delete all values that don't have neighbors \n",
        "for k,v in list(neig.items()):\n",
        "    if len(v) == 0:\n",
        "       del neig[k]\n",
        "neig"
      ],
      "execution_count": null,
      "outputs": []
    },
    {
      "cell_type": "code",
      "metadata": {
        "colab": {
          "base_uri": "https://localhost:8080/"
        },
        "id": "nXrokDE1LwBu",
        "outputId": "7627cb3d-f1c8-47a5-b249-d29d4f39d2f9"
      },
      "source": [
        "#convert dict to dataframe in order to export it for fastapi \n",
        "neighbors_df = pd.DataFrame(list(neig.values()), index=neig.keys())\n",
        "neighbors_df[0]"
      ],
      "execution_count": 55,
      "outputs": [
        {
          "output_type": "execute_result",
          "data": {
            "text/plain": [
              "1009317    1014035\n",
              "1007325    1013418\n",
              "1007466    1007466\n",
              "1007495    1007495\n",
              "1007507    1013286\n",
              "            ...   \n",
              "1007481    1007503\n",
              "1014031    1007422\n",
              "1014056    1013551\n",
              "1014069    1013499\n",
              "1015561    1014327\n",
              "Name: 0, Length: 1418, dtype: object"
            ]
          },
          "metadata": {
            "tags": []
          },
          "execution_count": 55
        }
      ]
    },
    {
      "cell_type": "code",
      "metadata": {
        "id": "AyuLzVEggAx8"
      },
      "source": [
        "neighbors_data  = neighbors_df.reset_index() #reset index "
      ],
      "execution_count": 56,
      "outputs": []
    },
    {
      "cell_type": "code",
      "metadata": {
        "id": "5F0qH0T6f7zn"
      },
      "source": [
        "neighbors_data.columns = ['main', '0', '1', '2', '3', '4', '5', '6', '7', '8', '9', '10', '11',\n",
        "       '12', '13', '14', '15', '16', '17', '18', '19', '20', '21', '22', '23',\n",
        "       '24', '25', '26', '27', '28', '29', '30', '31', '32', '33', '34', '35',\n",
        "       '36', '37', '38', '39', '40', '41', '42', '43', '44', '45', '46', '47',\n",
        "       '48', '49', '50', '51', '52', '53', '54', '55', '56', '57', '58', '59',\n",
        "       '60', '61']\n",
        "neighbors_data"
      ],
      "execution_count": null,
      "outputs": []
    },
    {
      "cell_type": "code",
      "metadata": {
        "id": "hocrIzmDl7xI"
      },
      "source": [
        "def knn_viz(project_code):\n",
        "\n",
        "  project_code_row = neighbors_data.loc[neighbors_data['main'] == f\"{project_code}\"]\n",
        "  transformed_project_code = project_code_row.T.dropna()\n",
        "  transformed_project_code.columns = [\"PG\"]\n",
        "  transformed_project_code[\"PG\"] = transformed_project_code[\"PG\"].astype(int)\n",
        "  transformed_project_code[\"PG\"] = transformed_project_code[\"PG\"].astype(str)\n",
        "  lst =list(transformed_project_code[\"PG\"])\n",
        "  knn_df = viz_df.loc[viz_df['Project_code'].isin(lst)]\n",
        "  knn_df[\"main\"] = np.where(knn_df['Project_code']==f'{project_code}', 'selected', 'neighbors')\n",
        " \n",
        "  fig = px.scatter(knn_df, x='Unsuitable', y='Suitable',\n",
        "                    hover_data=['Project_code','Suitable','Unsuitable', 'Bridge_classification',\n",
        "                              'Crossing', 'Days_per_year_river_is_flooded',\n",
        "                                'River_crossing_injuries_in_last_3_years', 'Cell_service_quality',\n",
        "                                '4WD_Accessibility', 'Bridge_Type',\n",
        "                                'Proposed_Bridge_Location(GPS)(Latitude)',\n",
        "                                'Proposed_Bridge_Location(GPS)(Longitude)',\n",
        "                                'Height_differential_between_banks', \n",
        "                                'Estimated_span(m)'], color = knn_df[\"main\"]\n",
        "                              , color_discrete_map={\"selected\":\"#F6D143\",\n",
        "                                                    \"neighbors\": \"#79EC7D\"}\n",
        "                  )\n",
        "  return fig.show()"
      ],
      "execution_count": null,
      "outputs": []
    },
    {
      "cell_type": "code",
      "metadata": {
        "colab": {
          "base_uri": "https://localhost:8080/",
          "height": 715
        },
        "id": "WX-3s-YEHpm8",
        "outputId": "364c7f28-ec02-49b1-9914-b0cae344790a"
      },
      "source": [
        "print(knn_viz('1013551'))"
      ],
      "execution_count": 60,
      "outputs": [
        {
          "output_type": "stream",
          "text": [
            "/usr/local/lib/python3.6/dist-packages/ipykernel_launcher.py:10: SettingWithCopyWarning:\n",
            "\n",
            "\n",
            "A value is trying to be set on a copy of a slice from a DataFrame.\n",
            "Try using .loc[row_indexer,col_indexer] = value instead\n",
            "\n",
            "See the caveats in the documentation: https://pandas.pydata.org/pandas-docs/stable/user_guide/indexing.html#returning-a-view-versus-a-copy\n",
            "\n"
          ],
          "name": "stderr"
        },
        {
          "output_type": "display_data",
          "data": {
            "text/html": [
              "<html>\n",
              "<head><meta charset=\"utf-8\" /></head>\n",
              "<body>\n",
              "    <div>\n",
              "            <script src=\"https://cdnjs.cloudflare.com/ajax/libs/mathjax/2.7.5/MathJax.js?config=TeX-AMS-MML_SVG\"></script><script type=\"text/javascript\">if (window.MathJax) {MathJax.Hub.Config({SVG: {font: \"STIX-Web\"}});}</script>\n",
              "                <script type=\"text/javascript\">window.PlotlyConfig = {MathJaxConfig: 'local'};</script>\n",
              "        <script src=\"https://cdn.plot.ly/plotly-latest.min.js\"></script>    \n",
              "            <div id=\"1f159ee1-3129-40dd-9977-e21cbd669c9f\" class=\"plotly-graph-div\" style=\"height:525px; width:100%;\"></div>\n",
              "            <script type=\"text/javascript\">\n",
              "                \n",
              "                    window.PLOTLYENV=window.PLOTLYENV || {};\n",
              "                    \n",
              "                if (document.getElementById(\"1f159ee1-3129-40dd-9977-e21cbd669c9f\")) {\n",
              "                    Plotly.newPlot(\n",
              "                        '1f159ee1-3129-40dd-9977-e21cbd669c9f',\n",
              "                        [{\"customdata\": [[\"1007525\", 0.7771491928454737, 0.22285080715452624, \"Standard\", \"none\", 24.0, 0.0, \"Good\", \"Never\", \"Suspended\", -2.329779, 29.668688, 0.4, 60.0], [\"1013867\", 0.7710285860300612, 0.2289714139699388, \"Standard\", \"none\", 158.0, 5.0, \"Good\", \"Never\", \"Suspension\", -2.13838, 29.33504, 10.0, 60.0], [\"1013301\", 0.7789081421538276, 0.22109185784617238, \"Standard\", \"timber\", 15.0, 0.0, \"Good\", \"Never\", \"Suspended\", -1.585599, 29.749456, 0.1, 80.0], [\"1013552\", 0.7753233261153732, 0.2246766738846267, \"Standard\", \"none\", 72.0, 0.0, \"Good\", \"Seasonally\", \"Suspension\", -2.11217, 29.41652, 10.0, 34.0], [\"1014056\", 0.7770315704362866, 0.22296842956371338, \"Standard\", \"none\", 280.0, 20.0, \"Good\", \"Never\", \"Suspension\", -2.14763, 29.34468, 10.0, 80.0]], \"hoverlabel\": {\"namelength\": 0}, \"hovertemplate\": \"main=neighbors<br>Unsuitable=%{customdata[2]}<br>Suitable=%{customdata[1]}<br>Project_code=%{customdata[0]}<br>Bridge_classification=%{customdata[3]}<br>Crossing=%{customdata[4]}<br>Days_per_year_river_is_flooded=%{customdata[5]}<br>River_crossing_injuries_in_last_3_years=%{customdata[6]}<br>Cell_service_quality=%{customdata[7]}<br>4WD_Accessibility=%{customdata[8]}<br>Bridge_Type=%{customdata[9]}<br>Proposed_Bridge_Location(GPS)(Latitude)=%{customdata[10]}<br>Proposed_Bridge_Location(GPS)(Longitude)=%{customdata[11]}<br>Height_differential_between_banks=%{customdata[12]}<br>Estimated_span(m)=%{customdata[13]}\", \"legendgroup\": \"main=neighbors\", \"marker\": {\"color\": \"#79EC7D\", \"symbol\": \"circle\"}, \"mode\": \"markers\", \"name\": \"main=neighbors\", \"showlegend\": true, \"type\": \"scatter\", \"x\": [0.22285080715452624, 0.2289714139699388, 0.22109185784617238, 0.2246766738846267, 0.22296842956371338], \"xaxis\": \"x\", \"y\": [0.7771491928454737, 0.7710285860300612, 0.7789081421538276, 0.7753233261153732, 0.7770315704362866], \"yaxis\": \"y\"}, {\"customdata\": [[\"1013551\", 0.7753233261153732, 0.22467667388462675, \"Standard\", \"none\", 99.0, 1.0, \"Good\", \"Seasonally\", \"Suspension\", -2.11251, 29.41945, 10.0, 34.0]], \"hoverlabel\": {\"namelength\": 0}, \"hovertemplate\": \"main=selected<br>Unsuitable=%{customdata[2]}<br>Suitable=%{customdata[1]}<br>Project_code=%{customdata[0]}<br>Bridge_classification=%{customdata[3]}<br>Crossing=%{customdata[4]}<br>Days_per_year_river_is_flooded=%{customdata[5]}<br>River_crossing_injuries_in_last_3_years=%{customdata[6]}<br>Cell_service_quality=%{customdata[7]}<br>4WD_Accessibility=%{customdata[8]}<br>Bridge_Type=%{customdata[9]}<br>Proposed_Bridge_Location(GPS)(Latitude)=%{customdata[10]}<br>Proposed_Bridge_Location(GPS)(Longitude)=%{customdata[11]}<br>Height_differential_between_banks=%{customdata[12]}<br>Estimated_span(m)=%{customdata[13]}\", \"legendgroup\": \"main=selected\", \"marker\": {\"color\": \"#F6D143\", \"symbol\": \"circle\"}, \"mode\": \"markers\", \"name\": \"main=selected\", \"showlegend\": true, \"type\": \"scatter\", \"x\": [0.22467667388462675], \"xaxis\": \"x\", \"y\": [0.7753233261153732], \"yaxis\": \"y\"}],\n",
              "                        {\"legend\": {\"tracegroupgap\": 0}, \"margin\": {\"t\": 60}, \"template\": {\"data\": {\"bar\": [{\"error_x\": {\"color\": \"#2a3f5f\"}, \"error_y\": {\"color\": \"#2a3f5f\"}, \"marker\": {\"line\": {\"color\": \"#E5ECF6\", \"width\": 0.5}}, \"type\": \"bar\"}], \"barpolar\": [{\"marker\": {\"line\": {\"color\": \"#E5ECF6\", \"width\": 0.5}}, \"type\": \"barpolar\"}], \"carpet\": [{\"aaxis\": {\"endlinecolor\": \"#2a3f5f\", \"gridcolor\": \"white\", \"linecolor\": \"white\", \"minorgridcolor\": \"white\", \"startlinecolor\": \"#2a3f5f\"}, \"baxis\": {\"endlinecolor\": \"#2a3f5f\", \"gridcolor\": \"white\", \"linecolor\": \"white\", \"minorgridcolor\": \"white\", \"startlinecolor\": \"#2a3f5f\"}, \"type\": \"carpet\"}], \"choropleth\": [{\"colorbar\": {\"outlinewidth\": 0, \"ticks\": \"\"}, \"type\": \"choropleth\"}], \"contour\": [{\"colorbar\": {\"outlinewidth\": 0, \"ticks\": \"\"}, \"colorscale\": [[0.0, \"#0d0887\"], [0.1111111111111111, \"#46039f\"], [0.2222222222222222, \"#7201a8\"], [0.3333333333333333, \"#9c179e\"], [0.4444444444444444, \"#bd3786\"], [0.5555555555555556, \"#d8576b\"], [0.6666666666666666, \"#ed7953\"], [0.7777777777777778, \"#fb9f3a\"], [0.8888888888888888, \"#fdca26\"], [1.0, \"#f0f921\"]], \"type\": \"contour\"}], \"contourcarpet\": [{\"colorbar\": {\"outlinewidth\": 0, \"ticks\": \"\"}, \"type\": \"contourcarpet\"}], \"heatmap\": [{\"colorbar\": {\"outlinewidth\": 0, \"ticks\": \"\"}, \"colorscale\": [[0.0, \"#0d0887\"], [0.1111111111111111, \"#46039f\"], [0.2222222222222222, \"#7201a8\"], [0.3333333333333333, \"#9c179e\"], [0.4444444444444444, \"#bd3786\"], [0.5555555555555556, \"#d8576b\"], [0.6666666666666666, \"#ed7953\"], [0.7777777777777778, \"#fb9f3a\"], [0.8888888888888888, \"#fdca26\"], [1.0, \"#f0f921\"]], \"type\": \"heatmap\"}], \"heatmapgl\": [{\"colorbar\": {\"outlinewidth\": 0, \"ticks\": \"\"}, \"colorscale\": [[0.0, \"#0d0887\"], [0.1111111111111111, \"#46039f\"], [0.2222222222222222, \"#7201a8\"], [0.3333333333333333, \"#9c179e\"], [0.4444444444444444, \"#bd3786\"], [0.5555555555555556, \"#d8576b\"], [0.6666666666666666, \"#ed7953\"], [0.7777777777777778, \"#fb9f3a\"], [0.8888888888888888, \"#fdca26\"], [1.0, \"#f0f921\"]], \"type\": \"heatmapgl\"}], \"histogram\": [{\"marker\": {\"colorbar\": {\"outlinewidth\": 0, \"ticks\": \"\"}}, \"type\": \"histogram\"}], \"histogram2d\": [{\"colorbar\": {\"outlinewidth\": 0, \"ticks\": \"\"}, \"colorscale\": [[0.0, \"#0d0887\"], [0.1111111111111111, \"#46039f\"], [0.2222222222222222, \"#7201a8\"], [0.3333333333333333, \"#9c179e\"], [0.4444444444444444, \"#bd3786\"], [0.5555555555555556, \"#d8576b\"], [0.6666666666666666, \"#ed7953\"], [0.7777777777777778, \"#fb9f3a\"], [0.8888888888888888, \"#fdca26\"], [1.0, \"#f0f921\"]], \"type\": \"histogram2d\"}], \"histogram2dcontour\": [{\"colorbar\": {\"outlinewidth\": 0, \"ticks\": \"\"}, \"colorscale\": [[0.0, \"#0d0887\"], [0.1111111111111111, \"#46039f\"], [0.2222222222222222, \"#7201a8\"], [0.3333333333333333, \"#9c179e\"], [0.4444444444444444, \"#bd3786\"], [0.5555555555555556, \"#d8576b\"], [0.6666666666666666, \"#ed7953\"], [0.7777777777777778, \"#fb9f3a\"], [0.8888888888888888, \"#fdca26\"], [1.0, \"#f0f921\"]], \"type\": \"histogram2dcontour\"}], \"mesh3d\": [{\"colorbar\": {\"outlinewidth\": 0, \"ticks\": \"\"}, \"type\": \"mesh3d\"}], \"parcoords\": [{\"line\": {\"colorbar\": {\"outlinewidth\": 0, \"ticks\": \"\"}}, \"type\": \"parcoords\"}], \"pie\": [{\"automargin\": true, \"type\": \"pie\"}], \"scatter\": [{\"marker\": {\"colorbar\": {\"outlinewidth\": 0, \"ticks\": \"\"}}, \"type\": \"scatter\"}], \"scatter3d\": [{\"line\": {\"colorbar\": {\"outlinewidth\": 0, \"ticks\": \"\"}}, \"marker\": {\"colorbar\": {\"outlinewidth\": 0, \"ticks\": \"\"}}, \"type\": \"scatter3d\"}], \"scattercarpet\": [{\"marker\": {\"colorbar\": {\"outlinewidth\": 0, \"ticks\": \"\"}}, \"type\": \"scattercarpet\"}], \"scattergeo\": [{\"marker\": {\"colorbar\": {\"outlinewidth\": 0, \"ticks\": \"\"}}, \"type\": \"scattergeo\"}], \"scattergl\": [{\"marker\": {\"colorbar\": {\"outlinewidth\": 0, \"ticks\": \"\"}}, \"type\": \"scattergl\"}], \"scattermapbox\": [{\"marker\": {\"colorbar\": {\"outlinewidth\": 0, \"ticks\": \"\"}}, \"type\": \"scattermapbox\"}], \"scatterpolar\": [{\"marker\": {\"colorbar\": {\"outlinewidth\": 0, \"ticks\": \"\"}}, \"type\": \"scatterpolar\"}], \"scatterpolargl\": [{\"marker\": {\"colorbar\": {\"outlinewidth\": 0, \"ticks\": \"\"}}, \"type\": \"scatterpolargl\"}], \"scatterternary\": [{\"marker\": {\"colorbar\": {\"outlinewidth\": 0, \"ticks\": \"\"}}, \"type\": \"scatterternary\"}], \"surface\": [{\"colorbar\": {\"outlinewidth\": 0, \"ticks\": \"\"}, \"colorscale\": [[0.0, \"#0d0887\"], [0.1111111111111111, \"#46039f\"], [0.2222222222222222, \"#7201a8\"], [0.3333333333333333, \"#9c179e\"], [0.4444444444444444, \"#bd3786\"], [0.5555555555555556, \"#d8576b\"], [0.6666666666666666, \"#ed7953\"], [0.7777777777777778, \"#fb9f3a\"], [0.8888888888888888, \"#fdca26\"], [1.0, \"#f0f921\"]], \"type\": \"surface\"}], \"table\": [{\"cells\": {\"fill\": {\"color\": \"#EBF0F8\"}, \"line\": {\"color\": \"white\"}}, \"header\": {\"fill\": {\"color\": \"#C8D4E3\"}, \"line\": {\"color\": \"white\"}}, \"type\": \"table\"}]}, \"layout\": {\"annotationdefaults\": {\"arrowcolor\": \"#2a3f5f\", \"arrowhead\": 0, \"arrowwidth\": 1}, \"coloraxis\": {\"colorbar\": {\"outlinewidth\": 0, \"ticks\": \"\"}}, \"colorscale\": {\"diverging\": [[0, \"#8e0152\"], [0.1, \"#c51b7d\"], [0.2, \"#de77ae\"], [0.3, \"#f1b6da\"], [0.4, \"#fde0ef\"], [0.5, \"#f7f7f7\"], [0.6, \"#e6f5d0\"], [0.7, \"#b8e186\"], [0.8, \"#7fbc41\"], [0.9, \"#4d9221\"], [1, \"#276419\"]], \"sequential\": [[0.0, \"#0d0887\"], [0.1111111111111111, \"#46039f\"], [0.2222222222222222, \"#7201a8\"], [0.3333333333333333, \"#9c179e\"], [0.4444444444444444, \"#bd3786\"], [0.5555555555555556, \"#d8576b\"], [0.6666666666666666, \"#ed7953\"], [0.7777777777777778, \"#fb9f3a\"], [0.8888888888888888, \"#fdca26\"], [1.0, \"#f0f921\"]], \"sequentialminus\": [[0.0, \"#0d0887\"], [0.1111111111111111, \"#46039f\"], [0.2222222222222222, \"#7201a8\"], [0.3333333333333333, \"#9c179e\"], [0.4444444444444444, \"#bd3786\"], [0.5555555555555556, \"#d8576b\"], [0.6666666666666666, \"#ed7953\"], [0.7777777777777778, \"#fb9f3a\"], [0.8888888888888888, \"#fdca26\"], [1.0, \"#f0f921\"]]}, \"colorway\": [\"#636efa\", \"#EF553B\", \"#00cc96\", \"#ab63fa\", \"#FFA15A\", \"#19d3f3\", \"#FF6692\", \"#B6E880\", \"#FF97FF\", \"#FECB52\"], \"font\": {\"color\": \"#2a3f5f\"}, \"geo\": {\"bgcolor\": \"white\", \"lakecolor\": \"white\", \"landcolor\": \"#E5ECF6\", \"showlakes\": true, \"showland\": true, \"subunitcolor\": \"white\"}, \"hoverlabel\": {\"align\": \"left\"}, \"hovermode\": \"closest\", \"mapbox\": {\"style\": \"light\"}, \"paper_bgcolor\": \"white\", \"plot_bgcolor\": \"#E5ECF6\", \"polar\": {\"angularaxis\": {\"gridcolor\": \"white\", \"linecolor\": \"white\", \"ticks\": \"\"}, \"bgcolor\": \"#E5ECF6\", \"radialaxis\": {\"gridcolor\": \"white\", \"linecolor\": \"white\", \"ticks\": \"\"}}, \"scene\": {\"xaxis\": {\"backgroundcolor\": \"#E5ECF6\", \"gridcolor\": \"white\", \"gridwidth\": 2, \"linecolor\": \"white\", \"showbackground\": true, \"ticks\": \"\", \"zerolinecolor\": \"white\"}, \"yaxis\": {\"backgroundcolor\": \"#E5ECF6\", \"gridcolor\": \"white\", \"gridwidth\": 2, \"linecolor\": \"white\", \"showbackground\": true, \"ticks\": \"\", \"zerolinecolor\": \"white\"}, \"zaxis\": {\"backgroundcolor\": \"#E5ECF6\", \"gridcolor\": \"white\", \"gridwidth\": 2, \"linecolor\": \"white\", \"showbackground\": true, \"ticks\": \"\", \"zerolinecolor\": \"white\"}}, \"shapedefaults\": {\"line\": {\"color\": \"#2a3f5f\"}}, \"ternary\": {\"aaxis\": {\"gridcolor\": \"white\", \"linecolor\": \"white\", \"ticks\": \"\"}, \"baxis\": {\"gridcolor\": \"white\", \"linecolor\": \"white\", \"ticks\": \"\"}, \"bgcolor\": \"#E5ECF6\", \"caxis\": {\"gridcolor\": \"white\", \"linecolor\": \"white\", \"ticks\": \"\"}}, \"title\": {\"x\": 0.05}, \"xaxis\": {\"automargin\": true, \"gridcolor\": \"white\", \"linecolor\": \"white\", \"ticks\": \"\", \"title\": {\"standoff\": 15}, \"zerolinecolor\": \"white\", \"zerolinewidth\": 2}, \"yaxis\": {\"automargin\": true, \"gridcolor\": \"white\", \"linecolor\": \"white\", \"ticks\": \"\", \"title\": {\"standoff\": 15}, \"zerolinecolor\": \"white\", \"zerolinewidth\": 2}}}, \"xaxis\": {\"anchor\": \"y\", \"domain\": [0.0, 1.0], \"title\": {\"text\": \"Unsuitable\"}}, \"yaxis\": {\"anchor\": \"x\", \"domain\": [0.0, 1.0], \"title\": {\"text\": \"Suitable\"}}},\n",
              "                        {\"responsive\": true}\n",
              "                    ).then(function(){\n",
              "                            \n",
              "var gd = document.getElementById('1f159ee1-3129-40dd-9977-e21cbd669c9f');\n",
              "var x = new MutationObserver(function (mutations, observer) {{\n",
              "        var display = window.getComputedStyle(gd).display;\n",
              "        if (!display || display === 'none') {{\n",
              "            console.log([gd, 'removed!']);\n",
              "            Plotly.purge(gd);\n",
              "            observer.disconnect();\n",
              "        }}\n",
              "}});\n",
              "\n",
              "// Listen for the removal of the full notebook cells\n",
              "var notebookContainer = gd.closest('#notebook-container');\n",
              "if (notebookContainer) {{\n",
              "    x.observe(notebookContainer, {childList: true});\n",
              "}}\n",
              "\n",
              "// Listen for the clearing of the current output cell\n",
              "var outputEl = gd.closest('.output');\n",
              "if (outputEl) {{\n",
              "    x.observe(outputEl, {childList: true});\n",
              "}}\n",
              "\n",
              "                        })\n",
              "                };\n",
              "                \n",
              "            </script>\n",
              "        </div>\n",
              "</body>\n",
              "</html>"
            ]
          },
          "metadata": {
            "tags": []
          }
        },
        {
          "output_type": "stream",
          "text": [
            "None\n"
          ],
          "name": "stdout"
        }
      ]
    },
    {
      "cell_type": "markdown",
      "metadata": {
        "id": "O0csdmXx1HC8"
      },
      "source": [
        "###Take dataframe with prediction labels and convert it to csv in order to add to the postgres database"
      ]
    },
    {
      "cell_type": "code",
      "metadata": {
        "colab": {
          "base_uri": "https://localhost:8080/"
        },
        "id": "ftbWqCiS1OVV",
        "outputId": "8d6541ff-18c3-4273-8cfb-41b5833565e7"
      },
      "source": [
        "from google.colab import drive\n",
        "drive.mount('drive')\n"
      ],
      "execution_count": null,
      "outputs": [
        {
          "output_type": "stream",
          "text": [
            "Mounted at drive\n"
          ],
          "name": "stdout"
        }
      ]
    },
    {
      "cell_type": "code",
      "metadata": {
        "colab": {
          "base_uri": "https://localhost:8080/"
        },
        "id": "itqLjRGAM40n",
        "outputId": "51916835-5dd6-4c10-f826-c7df9e11eb4f"
      },
      "source": [
        "df.shape"
      ],
      "execution_count": null,
      "outputs": [
        {
          "output_type": "execute_result",
          "data": {
            "text/plain": [
              "(1472, 48)"
            ]
          },
          "metadata": {
            "tags": []
          },
          "execution_count": 39
        }
      ]
    },
    {
      "cell_type": "code",
      "metadata": {
        "colab": {
          "base_uri": "https://localhost:8080/"
        },
        "id": "e0fmpZzB2r-A",
        "outputId": "628d1722-e89b-4180-b127-25b897eea4ae"
      },
      "source": [
        "viz_df.to_csv('viz_data.csv')\n",
        "!cp data.csv \"drive/My Drive/\""
      ],
      "execution_count": null,
      "outputs": [
        {
          "output_type": "stream",
          "text": [
            "cp: cannot stat 'data.csv': No such file or directory\n"
          ],
          "name": "stdout"
        }
      ]
    }
  ]
}