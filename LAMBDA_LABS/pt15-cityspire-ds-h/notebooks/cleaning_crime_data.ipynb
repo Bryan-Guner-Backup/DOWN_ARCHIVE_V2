{
 "metadata": {
  "language_info": {
   "codemirror_mode": {
    "name": "ipython",
    "version": 3
   },
   "file_extension": ".py",
   "mimetype": "text/x-python",
   "name": "python",
   "nbconvert_exporter": "python",
   "pygments_lexer": "ipython3",
   "version": "3.8.5-final"
  },
  "orig_nbformat": 2,
  "kernelspec": {
   "name": "python3",
   "display_name": "Python 3",
   "language": "python"
  }
 },
 "nbformat": 4,
 "nbformat_minor": 2,
 "cells": [
  {
   "cell_type": "code",
   "execution_count": 1,
   "metadata": {},
   "outputs": [],
   "source": [
    "# imports\n",
    "import sys\n",
    "\n",
    "PATH = os.path.join(os.getcwd(), '..', '..', '.local', 'share', 'virtualenvs', 'cityspire-ds-h-NIlzhGdy', 'lib', 'python3.8', 'site-packages')\n",
    "sys.path.append(PATH)\n",
    "\n",
    "import os\n",
    "import pandas as pd\n",
    "import sqlalchemy"
   ]
  },
  {
   "cell_type": "code",
   "execution_count": 2,
   "metadata": {},
   "outputs": [],
   "source": [
    "# reading in the data\n",
    "crime_data_dict = {}\n",
    "rows_to_skip_dict = {'2010': 7,\n",
    "                    '2011': 7,\n",
    "                    '2012': 7,\n",
    "                    '2013': 10,\n",
    "                    '2014': 9,\n",
    "                    '2015': 10,\n",
    "                    '2016': 9,\n",
    "                    '2017': 10,\n",
    "                    '2018': 10,\n",
    "                    '2019': 8}\n",
    "for year in range(2010, 2020):\n",
    "    year = str(year)\n",
    "    FILE_PATH = os.path.join(os.getcwd(), '..', 'raw_data', f'city_crime_data_{year}.csv')\n",
    "    crime_data_dict[year] = pd.read_csv(FILE_PATH, skiprows=3, skipfooter=rows_to_skip_dict[year])\n",
    "    crime_data_dict[year].columns = ['state_name', 'city_name', 'violent_crime', 'murder_and_nonnegligent_homicide',\n",
    "                'rape', 'robbery', 'aggravated_assault', 'property_crime', 'burglary',\n",
    "                'larceny_theft', 'motor_vehicle_theft', 'arson']"
   ]
  },
  {
   "cell_type": "code",
   "execution_count": 3,
   "metadata": {
    "tags": []
   },
   "outputs": [],
   "source": [
    "# reading in data to get city_id in order to merge it in\n",
    "DATABASE_URL = os.getenv('PRODUCTION_DATABASE_URL')\n",
    "query = '''\n",
    "        SELECT Cities.city_id, RTRIM(Cities.city_name), RTRIM(States.state_name)\n",
    "        FROM CITIES\n",
    "        LEFT JOIN STATES ON CITIES.state_id=STATES.state_id\n",
    "        '''\n",
    "cities = pd.read_sql(query, DATABASE_URL)\n",
    "cities.columns = ['city_id', 'city_name', 'state_name']\n",
    "\n",
    "crime_data_raw = pd.DataFrame({'city_id': [], 'year':[], 'type': [], 'value': []})\n",
    "\n",
    "for key, df in crime_data_dict.items():\n",
    "    # data cleaning\n",
    "    df['state_name'] = df['state_name'].fillna(method='ffill')\n",
    "    df['state_name'] = df['state_name'].apply(lambda x: ''.join([letter for letter in x if not letter.isdigit()]))\n",
    "    df['state_name'] = df['state_name'].apply(lambda x: x.capitalize())\n",
    "    df['city_name'] = df['city_name'].apply(lambda x: ''.join([letter for letter in str(x) if not letter.isdigit()]))\n",
    "    crime_data_dict[f'{key}'] = crime_data_dict[f'{key}'].fillna('n/a')\n",
    "    for column in df.columns[2:]:\n",
    "        crime_data_dict[f'{key}'][f'{column}'] = crime_data_dict[f'{key}'][f'{column}'].apply(lambda x: str(x))\n",
    "        crime_data_dict[f'{key}'][f'{column}'] = crime_data_dict[f'{key}'][f'{column}'].apply(\n",
    "            lambda x: float(x.replace(',', '')) if x != 'n/a' else x)\n",
    "    \n",
    "    # merging in city_id\n",
    "    crime_data_dict[f'{key}'] = crime_data_dict[f'{key}'].merge(cities, on=['city_name', 'state_name'], how='left')\n",
    "    crime_data_dict[f'{key}'] = crime_data_dict[f'{key}'].drop(['city_name', 'state_name'], axis=1)\n",
    "    crime_data_dict[f'{key}'] = crime_data_dict[f'{key}'].dropna()\n",
    "    crime_data_dict[f'{key}'] = crime_data_dict[f'{key}'].reset_index(drop=True)\n",
    "\n",
    "    # engineering feature that gives total\n",
    "    crime_data_dict[f'{key}']['total'] = float(0)\n",
    "    for column in crime_data_dict[f'{key}'].columns[:-2]:\n",
    "        for i in range(len(crime_data_dict[f'{key}']['total'])):\n",
    "            if crime_data_dict[f'{key}'][f'{column}'][i] != 'n/a':\n",
    "                crime_data_dict[f'{key}']['total'][i] += crime_data_dict[f'{key}'][f'{column}'][i]\n",
    "\n",
    "    # adding feature for the year\n",
    "    crime_data_dict[f'{key}']['year'] = str(key)\n",
    "\n",
    "    # changing format of dataframe\n",
    "    crime_data_dict[f'{key}'] = crime_data_dict[f'{key}'].melt(id_vars=['city_id', 'year'])\n",
    "    crime_data_dict[f'{key}'].columns = ['city_id', 'year', 'type', 'value']\n",
    "\n",
    "    # combining all of the dataframes into one\n",
    "    crime_data_raw = pd.concat([crime_data_raw, crime_data_dict[f'{key}']])\n",
    "\n",
    "# dropping null values\n",
    "crime_data_raw = crime_data_raw[crime_data_raw['value'] != 'n/a']\n",
    "    "
   ]
  },
  {
   "cell_type": "code",
   "execution_count": 4,
   "metadata": {},
   "outputs": [],
   "source": [
    "# adding to database\n",
    "crime_data_raw.to_sql('city_crime_data_raw', DATABASE_URL, if_exists='append', index=False, method='multi')"
   ]
  },
  {
   "cell_type": "code",
   "execution_count": 24,
   "metadata": {},
   "outputs": [],
   "source": [
    "# creating per capita\n",
    "\n",
    "# getting population data\n",
    "query = '''\n",
    "        SELECT city_id, year, population FROM city_population\n",
    "        '''\n",
    "\n",
    "population_data = pd.read_sql(query, DATABASE_URL)\n",
    "population_data['year'] = population_data['year'].apply(lambda x: str(x))\n",
    "\n",
    "# merging in population\n",
    "crime_data_per_capita = crime_data_raw.merge(population_data, on=['city_id', 'year'], how='left')\n",
    "\n",
    "# creating the new feature\n",
    "crime_data_per_capita['value'] = crime_data_per_capita['value'] / crime_data_per_capita['population']\n",
    "\n",
    "# removing population data now that we are done with it\n",
    "crime_data_per_capita = crime_data_per_capita.drop('population', axis=1)"
   ]
  },
  {
   "cell_type": "code",
   "execution_count": 28,
   "metadata": {},
   "outputs": [],
   "source": [
    "# adding per capita crime data to database\n",
    "crime_data_per_capita.to_sql('city_crime_data_per_capita', DATABASE_URL, if_exists='append', index=False, method='multi')"
   ]
  }
 ]
}