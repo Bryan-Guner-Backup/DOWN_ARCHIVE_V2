{
 "metadata": {
  "language_info": {
   "codemirror_mode": {
    "name": "ipython",
    "version": 3
   },
   "file_extension": ".py",
   "mimetype": "text/x-python",
   "name": "python",
   "nbconvert_exporter": "python",
   "pygments_lexer": "ipython3",
   "version": "3.8.0-final"
  },
  "orig_nbformat": 2,
  "kernelspec": {
   "name": "python3",
   "display_name": "Python 3",
   "language": "python"
  }
 },
 "nbformat": 4,
 "nbformat_minor": 2,
 "cells": [
  {
   "cell_type": "code",
   "execution_count": 123,
   "metadata": {},
   "outputs": [],
   "source": [
    "# imports\n",
    "from dotenv import load_dotenv\n",
    "import os\n",
    "import pandas as pd"
   ]
  },
  {
   "cell_type": "code",
   "execution_count": 150,
   "metadata": {},
   "outputs": [],
   "source": [
    "# loading environment variables\n",
    "load_dotenv()\n",
    "DATABASE_URL = os.getenv('PRODUCTION_DATABASE_URL')"
   ]
  },
  {
   "cell_type": "code",
   "execution_count": 125,
   "metadata": {},
   "outputs": [],
   "source": [
    "# loading in data\n",
    "FILE_PATH = os.path.join(os.path.abspath(''), '..', 'raw_data', 'population_data_2010-2019.csv')\n",
    "teens_raw = pd.read_csv(FILE_PATH, engine='python')\n",
    "\n",
    "FILE_PATH = os.path.join(os.getcwd(), '..', 'raw_data', 'basic_city_data.txt')\n",
    "city_geographic_raw = pd.read_csv(FILE_PATH, sep='\\t')"
   ]
  },
  {
   "cell_type": "code",
   "execution_count": 126,
   "metadata": {},
   "outputs": [
    {
     "output_type": "execute_result",
     "data": {
      "text/plain": [
       "  level state_id county  place        city_name state_name     2010     2011  \\\n",
       "0   040       01    000  00000          Alabama    Alabama  4785437  4799069   \n",
       "1   162       01    000  00124   Abbeville city    Alabama     2699     2694   \n",
       "2   162       01    000  00460  Adamsville city    Alabama     4500     4493   \n",
       "3   162       01    000  00484     Addison town    Alabama      751      750   \n",
       "4   162       01    000  00676       Akron town    Alabama      355      347   \n",
       "\n",
       "      2012     2013     2014     2015     2016     2017     2018     2019  \n",
       "0  4815588  4830081  4841799  4852347  4863525  4874486  4887681  4903185  \n",
       "1     2643     2628     2608     2600     2584     2575     2571     2560  \n",
       "2     4471     4449     4420     4390     4356     4327     4308     4281  \n",
       "3      743      742      739      734      731      726      723      718  \n",
       "4      347      343      338      339      333      332      331      328  "
      ],
      "text/html": "<div>\n<style scoped>\n    .dataframe tbody tr th:only-of-type {\n        vertical-align: middle;\n    }\n\n    .dataframe tbody tr th {\n        vertical-align: top;\n    }\n\n    .dataframe thead th {\n        text-align: right;\n    }\n</style>\n<table border=\"1\" class=\"dataframe\">\n  <thead>\n    <tr style=\"text-align: right;\">\n      <th></th>\n      <th>level</th>\n      <th>state_id</th>\n      <th>county</th>\n      <th>place</th>\n      <th>city_name</th>\n      <th>state_name</th>\n      <th>2010</th>\n      <th>2011</th>\n      <th>2012</th>\n      <th>2013</th>\n      <th>2014</th>\n      <th>2015</th>\n      <th>2016</th>\n      <th>2017</th>\n      <th>2018</th>\n      <th>2019</th>\n    </tr>\n  </thead>\n  <tbody>\n    <tr>\n      <th>0</th>\n      <td>040</td>\n      <td>01</td>\n      <td>000</td>\n      <td>00000</td>\n      <td>Alabama</td>\n      <td>Alabama</td>\n      <td>4785437</td>\n      <td>4799069</td>\n      <td>4815588</td>\n      <td>4830081</td>\n      <td>4841799</td>\n      <td>4852347</td>\n      <td>4863525</td>\n      <td>4874486</td>\n      <td>4887681</td>\n      <td>4903185</td>\n    </tr>\n    <tr>\n      <th>1</th>\n      <td>162</td>\n      <td>01</td>\n      <td>000</td>\n      <td>00124</td>\n      <td>Abbeville city</td>\n      <td>Alabama</td>\n      <td>2699</td>\n      <td>2694</td>\n      <td>2643</td>\n      <td>2628</td>\n      <td>2608</td>\n      <td>2600</td>\n      <td>2584</td>\n      <td>2575</td>\n      <td>2571</td>\n      <td>2560</td>\n    </tr>\n    <tr>\n      <th>2</th>\n      <td>162</td>\n      <td>01</td>\n      <td>000</td>\n      <td>00460</td>\n      <td>Adamsville city</td>\n      <td>Alabama</td>\n      <td>4500</td>\n      <td>4493</td>\n      <td>4471</td>\n      <td>4449</td>\n      <td>4420</td>\n      <td>4390</td>\n      <td>4356</td>\n      <td>4327</td>\n      <td>4308</td>\n      <td>4281</td>\n    </tr>\n    <tr>\n      <th>3</th>\n      <td>162</td>\n      <td>01</td>\n      <td>000</td>\n      <td>00484</td>\n      <td>Addison town</td>\n      <td>Alabama</td>\n      <td>751</td>\n      <td>750</td>\n      <td>743</td>\n      <td>742</td>\n      <td>739</td>\n      <td>734</td>\n      <td>731</td>\n      <td>726</td>\n      <td>723</td>\n      <td>718</td>\n    </tr>\n    <tr>\n      <th>4</th>\n      <td>162</td>\n      <td>01</td>\n      <td>000</td>\n      <td>00676</td>\n      <td>Akron town</td>\n      <td>Alabama</td>\n      <td>355</td>\n      <td>347</td>\n      <td>347</td>\n      <td>343</td>\n      <td>338</td>\n      <td>339</td>\n      <td>333</td>\n      <td>332</td>\n      <td>331</td>\n      <td>328</td>\n    </tr>\n  </tbody>\n</table>\n</div>"
     },
     "metadata": {},
     "execution_count": 126
    }
   ],
   "source": [
    "teens = teens_raw[['SUMLEV','STATE', 'COUNTY', 'PLACE', 'NAME', 'STNAME', 'POPESTIMATE2010', 'POPESTIMATE2011',\n",
    "       'POPESTIMATE2012', 'POPESTIMATE2013', 'POPESTIMATE2014',\n",
    "       'POPESTIMATE2015', 'POPESTIMATE2016', 'POPESTIMATE2017',\n",
    "       'POPESTIMATE2018', 'POPESTIMATE2019']]\n",
    "teens['SUMLEV'] = teens['SUMLEV'].apply(lambda x: str(x).zfill(3))\n",
    "teens['STATE'] = teens['STATE'].apply(lambda x: str(x).zfill(2))\n",
    "teens['COUNTY'] = teens['COUNTY'].apply(lambda x: str(x).zfill(3))\n",
    "teens['PLACE'] = teens['PLACE'].apply(lambda x: str(x).zfill(5))\n",
    "teens.columns = ['level', 'state_id', 'county', 'place', 'city_name', 'state_name', '2010', '2011', '2012', '2013', '2014', '2015', '2016', '2017', '2018', '2019']\n",
    "teens.head()"
   ]
  },
  {
   "cell_type": "code",
   "execution_count": 127,
   "metadata": {},
   "outputs": [],
   "source": [
    "# seperating out the states\n",
    "states = teens[teens['level'] == '040'].reset_index(drop=True)"
   ]
  },
  {
   "cell_type": "code",
   "execution_count": 128,
   "metadata": {},
   "outputs": [
    {
     "output_type": "execute_result",
     "data": {
      "text/plain": [
       "  state_id  state_name state_abbreviation\n",
       "0       01     Alabama                 AL\n",
       "1       02      Alaska                 AK\n",
       "2       04     Arizona                 AZ\n",
       "3       05    Arkansas                 AR\n",
       "4       06  California                 CA"
      ],
      "text/html": "<div>\n<style scoped>\n    .dataframe tbody tr th:only-of-type {\n        vertical-align: middle;\n    }\n\n    .dataframe tbody tr th {\n        vertical-align: top;\n    }\n\n    .dataframe thead th {\n        text-align: right;\n    }\n</style>\n<table border=\"1\" class=\"dataframe\">\n  <thead>\n    <tr style=\"text-align: right;\">\n      <th></th>\n      <th>state_id</th>\n      <th>state_name</th>\n      <th>state_abbreviation</th>\n    </tr>\n  </thead>\n  <tbody>\n    <tr>\n      <th>0</th>\n      <td>01</td>\n      <td>Alabama</td>\n      <td>AL</td>\n    </tr>\n    <tr>\n      <th>1</th>\n      <td>02</td>\n      <td>Alaska</td>\n      <td>AK</td>\n    </tr>\n    <tr>\n      <th>2</th>\n      <td>04</td>\n      <td>Arizona</td>\n      <td>AZ</td>\n    </tr>\n    <tr>\n      <th>3</th>\n      <td>05</td>\n      <td>Arkansas</td>\n      <td>AR</td>\n    </tr>\n    <tr>\n      <th>4</th>\n      <td>06</td>\n      <td>California</td>\n      <td>CA</td>\n    </tr>\n  </tbody>\n</table>\n</div>"
     },
     "metadata": {},
     "execution_count": 128
    }
   ],
   "source": [
    "# adding in abbreviations\n",
    "state_abbreviations = {\n",
    "    'Alabama': 'AL',\n",
    "    'Alaska': 'AK',\n",
    "    'American Samoa': 'AS',\n",
    "    'Arizona': 'AZ',\n",
    "    'Arkansas': 'AR',\n",
    "    'California': 'CA',\n",
    "    'Colorado': 'CO',\n",
    "    'Connecticut': 'CT',\n",
    "    'Delaware': 'DE',\n",
    "    'District of Columbia': 'DC',\n",
    "    'Florida': 'FL',\n",
    "    'Georgia': 'GA',\n",
    "    'Guam': 'GU',\n",
    "    'Hawaii': 'HI',\n",
    "    'Idaho': 'ID',\n",
    "    'Illinois': 'IL',\n",
    "    'Indiana': 'IN',\n",
    "    'Iowa': 'IA',\n",
    "    'Kansas': 'KS',\n",
    "    'Kentucky': 'KY',\n",
    "    'Louisiana': 'LA',\n",
    "    'Maine': 'ME',\n",
    "    'Maryland': 'MD',\n",
    "    'Massachusetts': 'MA',\n",
    "    'Michigan': 'MI',\n",
    "    'Minnesota': 'MN',\n",
    "    'Mississippi': 'MS',\n",
    "    'Missouri': 'MO',\n",
    "    'Montana': 'MT',\n",
    "    'Nebraska': 'NE',\n",
    "    'Nevada': 'NV',\n",
    "    'New Hampshire': 'NH',\n",
    "    'New Jersey': 'NJ',\n",
    "    'New Mexico': 'NM',\n",
    "    'New York': 'NY',\n",
    "    'North Carolina': 'NC',\n",
    "    'North Dakota': 'ND',\n",
    "    'Northern Mariana Islands':'MP',\n",
    "    'Ohio': 'OH',\n",
    "    'Oklahoma': 'OK',\n",
    "    'Oregon': 'OR',\n",
    "    'Pennsylvania': 'PA',\n",
    "    'Puerto Rico': 'PR',\n",
    "    'Rhode Island': 'RI',\n",
    "    'South Carolina': 'SC',\n",
    "    'South Dakota': 'SD',\n",
    "    'Tennessee': 'TN',\n",
    "    'Texas': 'TX',\n",
    "    'Utah': 'UT',\n",
    "    'Vermont': 'VT',\n",
    "    'Virgin Islands': 'VI',\n",
    "    'Virginia': 'VA',\n",
    "    'Washington': 'WA',\n",
    "    'West Virginia': 'WV',\n",
    "    'Wisconsin': 'WI',\n",
    "    'Wyoming': 'WY'\n",
    "}\n",
    "\n",
    "states['state_abbreviation'] = states['state_name'].map(state_abbreviations)\n",
    "\n",
    "# basic state data\n",
    "state_basic = states[['state_id', 'state_name', 'state_abbreviation']]\n",
    "state_basic.head()"
   ]
  },
  {
   "cell_type": "code",
   "execution_count": 129,
   "metadata": {},
   "outputs": [
    {
     "output_type": "execute_result",
     "data": {
      "text/plain": [
       "  state_id  year  population\n",
       "0       01  2010     4785437\n",
       "1       02  2010      713910\n",
       "2       04  2010     6407172\n",
       "3       05  2010     2921964\n",
       "4       06  2010    37319502"
      ],
      "text/html": "<div>\n<style scoped>\n    .dataframe tbody tr th:only-of-type {\n        vertical-align: middle;\n    }\n\n    .dataframe tbody tr th {\n        vertical-align: top;\n    }\n\n    .dataframe thead th {\n        text-align: right;\n    }\n</style>\n<table border=\"1\" class=\"dataframe\">\n  <thead>\n    <tr style=\"text-align: right;\">\n      <th></th>\n      <th>state_id</th>\n      <th>year</th>\n      <th>population</th>\n    </tr>\n  </thead>\n  <tbody>\n    <tr>\n      <th>0</th>\n      <td>01</td>\n      <td>2010</td>\n      <td>4785437</td>\n    </tr>\n    <tr>\n      <th>1</th>\n      <td>02</td>\n      <td>2010</td>\n      <td>713910</td>\n    </tr>\n    <tr>\n      <th>2</th>\n      <td>04</td>\n      <td>2010</td>\n      <td>6407172</td>\n    </tr>\n    <tr>\n      <th>3</th>\n      <td>05</td>\n      <td>2010</td>\n      <td>2921964</td>\n    </tr>\n    <tr>\n      <th>4</th>\n      <td>06</td>\n      <td>2010</td>\n      <td>37319502</td>\n    </tr>\n  </tbody>\n</table>\n</div>"
     },
     "metadata": {},
     "execution_count": 129
    }
   ],
   "source": [
    "# state population data\n",
    "state_population = states[['state_id', '2010', '2011', '2012', '2013', '2014', '2015', '2016', '2017', '2018', '2019']]\n",
    "state_population = state_population.melt(id_vars=['state_id'])\n",
    "state_population.columns = ['state_id', 'year', 'population']\n",
    "state_population.head()"
   ]
  },
  {
   "cell_type": "code",
   "execution_count": 131,
   "metadata": {},
   "outputs": [
    {
     "output_type": "execute_result",
     "data": {
      "text/plain": [
       "  level state_id county  place   city_name state_name   2010   2011   2012  \\\n",
       "1   162       01    000  00124   Abbeville    Alabama   2699   2694   2643   \n",
       "2   162       01    000  00460  Adamsville    Alabama   4500   4493   4471   \n",
       "3   162       01    000  00484     Addison    Alabama    751    750    743   \n",
       "4   162       01    000  00676       Akron    Alabama    355    347    347   \n",
       "5   162       01    000  00820   Alabaster    Alabama  31209  31375  31684   \n",
       "\n",
       "    2013   2014   2015   2016   2017   2018   2019  city_id  \n",
       "1   2628   2608   2600   2584   2575   2571   2560  0100124  \n",
       "2   4449   4420   4390   4356   4327   4308   4281  0100460  \n",
       "3    742    739    734    731    726    723    718  0100484  \n",
       "4    343    338    339    333    332    331    328  0100676  \n",
       "5  31980  32182  32772  33017  33275  33413  33487  0100820  "
      ],
      "text/html": "<div>\n<style scoped>\n    .dataframe tbody tr th:only-of-type {\n        vertical-align: middle;\n    }\n\n    .dataframe tbody tr th {\n        vertical-align: top;\n    }\n\n    .dataframe thead th {\n        text-align: right;\n    }\n</style>\n<table border=\"1\" class=\"dataframe\">\n  <thead>\n    <tr style=\"text-align: right;\">\n      <th></th>\n      <th>level</th>\n      <th>state_id</th>\n      <th>county</th>\n      <th>place</th>\n      <th>city_name</th>\n      <th>state_name</th>\n      <th>2010</th>\n      <th>2011</th>\n      <th>2012</th>\n      <th>2013</th>\n      <th>2014</th>\n      <th>2015</th>\n      <th>2016</th>\n      <th>2017</th>\n      <th>2018</th>\n      <th>2019</th>\n      <th>city_id</th>\n    </tr>\n  </thead>\n  <tbody>\n    <tr>\n      <th>1</th>\n      <td>162</td>\n      <td>01</td>\n      <td>000</td>\n      <td>00124</td>\n      <td>Abbeville</td>\n      <td>Alabama</td>\n      <td>2699</td>\n      <td>2694</td>\n      <td>2643</td>\n      <td>2628</td>\n      <td>2608</td>\n      <td>2600</td>\n      <td>2584</td>\n      <td>2575</td>\n      <td>2571</td>\n      <td>2560</td>\n      <td>0100124</td>\n    </tr>\n    <tr>\n      <th>2</th>\n      <td>162</td>\n      <td>01</td>\n      <td>000</td>\n      <td>00460</td>\n      <td>Adamsville</td>\n      <td>Alabama</td>\n      <td>4500</td>\n      <td>4493</td>\n      <td>4471</td>\n      <td>4449</td>\n      <td>4420</td>\n      <td>4390</td>\n      <td>4356</td>\n      <td>4327</td>\n      <td>4308</td>\n      <td>4281</td>\n      <td>0100460</td>\n    </tr>\n    <tr>\n      <th>3</th>\n      <td>162</td>\n      <td>01</td>\n      <td>000</td>\n      <td>00484</td>\n      <td>Addison</td>\n      <td>Alabama</td>\n      <td>751</td>\n      <td>750</td>\n      <td>743</td>\n      <td>742</td>\n      <td>739</td>\n      <td>734</td>\n      <td>731</td>\n      <td>726</td>\n      <td>723</td>\n      <td>718</td>\n      <td>0100484</td>\n    </tr>\n    <tr>\n      <th>4</th>\n      <td>162</td>\n      <td>01</td>\n      <td>000</td>\n      <td>00676</td>\n      <td>Akron</td>\n      <td>Alabama</td>\n      <td>355</td>\n      <td>347</td>\n      <td>347</td>\n      <td>343</td>\n      <td>338</td>\n      <td>339</td>\n      <td>333</td>\n      <td>332</td>\n      <td>331</td>\n      <td>328</td>\n      <td>0100676</td>\n    </tr>\n    <tr>\n      <th>5</th>\n      <td>162</td>\n      <td>01</td>\n      <td>000</td>\n      <td>00820</td>\n      <td>Alabaster</td>\n      <td>Alabama</td>\n      <td>31209</td>\n      <td>31375</td>\n      <td>31684</td>\n      <td>31980</td>\n      <td>32182</td>\n      <td>32772</td>\n      <td>33017</td>\n      <td>33275</td>\n      <td>33413</td>\n      <td>33487</td>\n      <td>0100820</td>\n    </tr>\n  </tbody>\n</table>\n</div>"
     },
     "metadata": {},
     "execution_count": 131
    }
   ],
   "source": [
    "# seperating out city data and basic cleaning\n",
    "cities = teens[teens['level'] == '162']\n",
    "cities['type'] = cities['city_name'].apply(lambda x: x.split()[-1])\n",
    "types_that_are_cities = ['city', 'town', 'village']\n",
    "cities['type'] = cities['type'].apply(lambda x: 'city' if x.split()[-1] in types_that_are_cities else x)\n",
    "cities = cities[cities['type'] == 'city']\n",
    "cities['city_id'] = cities['state_id'] + cities['place']\n",
    "cities = cities.drop('type', axis=1)\n",
    "cities['city_name'] = cities['city_name'].apply(lambda x: x.replace(' city', ''))\n",
    "cities['city_name'] = cities['city_name'].apply(lambda x: x.replace(' town', ''))\n",
    "cities['city_name'] = cities['city_name'].apply(lambda x: x.replace(' village', ''))\n",
    "cities.head()"
   ]
  },
  {
   "cell_type": "code",
   "execution_count": 132,
   "metadata": {},
   "outputs": [
    {
     "output_type": "execute_result",
     "data": {
      "text/plain": [
       "   city_id   city_name state_id  land_sqmi  water_sqmi   latitude  longitude\n",
       "0  0100124   Abbeville       01     15.543       0.042  31.564724 -85.259123\n",
       "1  0100460  Adamsville       01     26.215       0.209  33.602315 -86.971527\n",
       "2  0100484     Addison       01      3.766       0.032  34.202681 -87.178004\n",
       "3  0100676       Akron       01      0.686       0.005  32.879066 -87.740899\n",
       "4  0100820   Alabaster       01     25.279       0.314  33.244399 -86.847372"
      ],
      "text/html": "<div>\n<style scoped>\n    .dataframe tbody tr th:only-of-type {\n        vertical-align: middle;\n    }\n\n    .dataframe tbody tr th {\n        vertical-align: top;\n    }\n\n    .dataframe thead th {\n        text-align: right;\n    }\n</style>\n<table border=\"1\" class=\"dataframe\">\n  <thead>\n    <tr style=\"text-align: right;\">\n      <th></th>\n      <th>city_id</th>\n      <th>city_name</th>\n      <th>state_id</th>\n      <th>land_sqmi</th>\n      <th>water_sqmi</th>\n      <th>latitude</th>\n      <th>longitude</th>\n    </tr>\n  </thead>\n  <tbody>\n    <tr>\n      <th>0</th>\n      <td>0100124</td>\n      <td>Abbeville</td>\n      <td>01</td>\n      <td>15.543</td>\n      <td>0.042</td>\n      <td>31.564724</td>\n      <td>-85.259123</td>\n    </tr>\n    <tr>\n      <th>1</th>\n      <td>0100460</td>\n      <td>Adamsville</td>\n      <td>01</td>\n      <td>26.215</td>\n      <td>0.209</td>\n      <td>33.602315</td>\n      <td>-86.971527</td>\n    </tr>\n    <tr>\n      <th>2</th>\n      <td>0100484</td>\n      <td>Addison</td>\n      <td>01</td>\n      <td>3.766</td>\n      <td>0.032</td>\n      <td>34.202681</td>\n      <td>-87.178004</td>\n    </tr>\n    <tr>\n      <th>3</th>\n      <td>0100676</td>\n      <td>Akron</td>\n      <td>01</td>\n      <td>0.686</td>\n      <td>0.005</td>\n      <td>32.879066</td>\n      <td>-87.740899</td>\n    </tr>\n    <tr>\n      <th>4</th>\n      <td>0100820</td>\n      <td>Alabaster</td>\n      <td>01</td>\n      <td>25.279</td>\n      <td>0.314</td>\n      <td>33.244399</td>\n      <td>-86.847372</td>\n    </tr>\n  </tbody>\n</table>\n</div>"
     },
     "metadata": {},
     "execution_count": 132
    }
   ],
   "source": [
    "# adding in basic city data\n",
    "city_geographic = city_geographic_raw[['GEOID', 'ALAND_SQMI', 'AWATER_SQMI', 'INTPTLAT', 'INTPTLONG                                                                                                 ']]\n",
    "city_geographic.columns = ['city_id', 'land_sqmi', 'water_sqmi', 'latitude', 'longitude']\n",
    "city_geographic['city_id'] = city_geographic['city_id'].apply(lambda x: str(x).zfill(7))\n",
    "cities = cities.merge(city_geographic, on='city_id', how='left')\n",
    "city_basic = cities[['city_id', 'city_name', 'state_id', 'land_sqmi', 'water_sqmi', 'latitude', 'longitude']]\n",
    "city_basic.head()\n"
   ]
  },
  {
   "cell_type": "code",
   "execution_count": 134,
   "metadata": {},
   "outputs": [
    {
     "output_type": "execute_result",
     "data": {
      "text/plain": [
       "        city_id  year  population\n",
       "0       0100124  2010        2699\n",
       "1       0100460  2010        4500\n",
       "2       0100484  2010         751\n",
       "3       0100676  2010         355\n",
       "4       0100820  2010       31209\n",
       "...         ...   ...         ...\n",
       "182525  5681300  2019         467\n",
       "182526  5683040  2019        3462\n",
       "182527  5684925  2019        5024\n",
       "182528  5685015  2019        1753\n",
       "182529  5686665  2019         154\n",
       "\n",
       "[182530 rows x 3 columns]"
      ],
      "text/html": "<div>\n<style scoped>\n    .dataframe tbody tr th:only-of-type {\n        vertical-align: middle;\n    }\n\n    .dataframe tbody tr th {\n        vertical-align: top;\n    }\n\n    .dataframe thead th {\n        text-align: right;\n    }\n</style>\n<table border=\"1\" class=\"dataframe\">\n  <thead>\n    <tr style=\"text-align: right;\">\n      <th></th>\n      <th>city_id</th>\n      <th>year</th>\n      <th>population</th>\n    </tr>\n  </thead>\n  <tbody>\n    <tr>\n      <th>0</th>\n      <td>0100124</td>\n      <td>2010</td>\n      <td>2699</td>\n    </tr>\n    <tr>\n      <th>1</th>\n      <td>0100460</td>\n      <td>2010</td>\n      <td>4500</td>\n    </tr>\n    <tr>\n      <th>2</th>\n      <td>0100484</td>\n      <td>2010</td>\n      <td>751</td>\n    </tr>\n    <tr>\n      <th>3</th>\n      <td>0100676</td>\n      <td>2010</td>\n      <td>355</td>\n    </tr>\n    <tr>\n      <th>4</th>\n      <td>0100820</td>\n      <td>2010</td>\n      <td>31209</td>\n    </tr>\n    <tr>\n      <th>...</th>\n      <td>...</td>\n      <td>...</td>\n      <td>...</td>\n    </tr>\n    <tr>\n      <th>182525</th>\n      <td>5681300</td>\n      <td>2019</td>\n      <td>467</td>\n    </tr>\n    <tr>\n      <th>182526</th>\n      <td>5683040</td>\n      <td>2019</td>\n      <td>3462</td>\n    </tr>\n    <tr>\n      <th>182527</th>\n      <td>5684925</td>\n      <td>2019</td>\n      <td>5024</td>\n    </tr>\n    <tr>\n      <th>182528</th>\n      <td>5685015</td>\n      <td>2019</td>\n      <td>1753</td>\n    </tr>\n    <tr>\n      <th>182529</th>\n      <td>5686665</td>\n      <td>2019</td>\n      <td>154</td>\n    </tr>\n  </tbody>\n</table>\n<p>182530 rows × 3 columns</p>\n</div>"
     },
     "metadata": {},
     "execution_count": 134
    }
   ],
   "source": [
    "# city_population data\n",
    "city_population = cities[['city_id', '2010', '2011', '2012', '2013', '2014', '2015', '2016', '2017', '2018', '2019']]\n",
    "city_population = city_population.melt(id_vars=['city_id'])\n",
    "city_population.columns = ['city_id', 'year', 'population']\n",
    "city_population"
   ]
  },
  {
   "cell_type": "code",
   "execution_count": null,
   "metadata": {},
   "outputs": [],
   "source": [
    "'''\n",
    "tables in db were created using the following:\n",
    "CREATE TABLE \"cities\" (\n",
    "\t\"city_id\" char(7) NOT NULL,\n",
    "\t\"city_name\" char(50) NOT NULL,\n",
    "\t\"state_id\" char(2) NOT NULL,\n",
    "\t\"latitude\" double precision,\n",
    "\t\"longitude\" double precision,\n",
    "\t\"land_sqmi\" bigint,\n",
    "\t\"water_sqmi\" bigint,\n",
    "\tCONSTRAINT \"cities_pk\" PRIMARY KEY (\"city_id\")\n",
    ") WITH (\n",
    "  OIDS=FALSE\n",
    ");\n",
    "\n",
    "\n",
    "\n",
    "CREATE TABLE \"state_population\" (\n",
    "\t\"id\" serial NOT NULL,\n",
    "\t\"state_id\" char(2) NOT NULL,\n",
    "\t\"year\" bigint NOT NULL,\n",
    "\t\"population\" bigint NOT NULL,\n",
    "\tCONSTRAINT \"state_population_pk\" PRIMARY KEY (\"id\")\n",
    ") WITH (\n",
    "  OIDS=FALSE\n",
    ");\n",
    "\n",
    "\n",
    "\n",
    "CREATE TABLE \"city_population\" (\n",
    "\t\"id\" serial NOT NULL,\n",
    "\t\"city_id\" char(7) NOT NULL,\n",
    "\t\"year\" bigint NOT NULL,\n",
    "\t\"population\" bigint NOT NULL,\n",
    "\tCONSTRAINT \"city_population_pk\" PRIMARY KEY (\"id\")\n",
    ") WITH (\n",
    "  OIDS=FALSE\n",
    ");\n",
    "\n",
    "\n",
    "\n",
    "CREATE TABLE \"states\" (\n",
    "\t\"state_id\" char(2) NOT NULL,\n",
    "\t\"state_name\" char(50) NOT NULL,\n",
    "\t\"state_abbreviation\" char(2) NOT NULL,\n",
    "\tCONSTRAINT \"states_pk\" PRIMARY KEY (\"state_id\")\n",
    ") WITH (\n",
    "  OIDS=FALSE\n",
    ");\n",
    "\n",
    "\n",
    "\n",
    "ALTER TABLE \"cities\" ADD CONSTRAINT \"cities_fk0\" FOREIGN KEY (\"state_id\") REFERENCES \"states\"(\"state_id\");\n",
    "\n",
    "ALTER TABLE \"state_population\" ADD CONSTRAINT \"state_population_fk0\" FOREIGN KEY (\"state_id\") REFERENCES \"states\"(\"state_id\");\n",
    "\n",
    "ALTER TABLE \"city_population\" ADD CONSTRAINT \"city_population_fk0\" FOREIGN KEY (\"city_id\") REFERENCES \"cities\"(\"city_id\");\n",
    "'''"
   ]
  },
  {
   "cell_type": "code",
   "execution_count": 148,
   "metadata": {},
   "outputs": [],
   "source": [
    "# adding to db\n",
    "state_basic.to_sql('states', DATABASE_URL, if_exists='append', index=False)\n",
    "\n",
    "state_population.to_sql('state_population', DATABASE_URL, if_exists='append', index=False)\n",
    "\n",
    "city_basic.to_sql('cities', DATABASE_URL, if_exists='append', index=False)\n",
    "\n",
    "city_population.to_sql('city_population', DATABASE_URL, if_exists='append', index=False)"
   ]
  }
 ]
}