{
  "nbformat": 4,
  "nbformat_minor": 0,
  "metadata": {
    "colab": {
      "name": "Image_Detection.ipynb",
      "provenance": []
    },
    "kernelspec": {
      "name": "python3",
      "display_name": "Python 3"
    }
  },
  "cells": [
    {
      "cell_type": "markdown",
      "metadata": {
        "id": "c0p1XCXLLijC"
      },
      "source": [
        "The skimage function, which makes use of preprocessing functions that come with ResnetV2, achieves three key things:\r\n",
        "\r\n",
        "i)  It reads in all the images into memory at once\r\n",
        "\r\n",
        "ii)  Uses scikit-image to resize the images\r\n",
        "\r\n",
        "iii) Counts the number of images uploaded\r\n"
      ]
    },
    {
      "cell_type": "code",
      "metadata": {
        "id": "FqPEfTYdKZEw"
      },
      "source": [
        "import tensorflow as tf\r\n",
        "import os\r\n",
        "from skimage.io import imread_collection\r\n",
        "from tensorflow.keras import datasets\r\n",
        "from tensorflow.keras.models import Sequential, Model # <- May Use\r\n",
        "from tensorflow.keras.layers import Dense, Conv2D, MaxPooling2D, Flatten"
      ],
      "execution_count": null,
      "outputs": []
    },
    {
      "cell_type": "code",
      "metadata": {
        "id": "AC8Hu16nKsrM"
      },
      "source": [
        "from zipfile import ZipFile\r\n",
        "file_name = '/content/sample_data/children_writings.zip' # Reads in all the images into memory at once\r\n",
        "\r\n",
        "with ZipFile(file_name, 'r') as zip:\r\n",
        "  zip.extractall()\r\n",
        "  print('Done')"
      ],
      "execution_count": null,
      "outputs": []
    },
    {
      "cell_type": "code",
      "metadata": {
        "id": "hxTdL2KQLHC0"
      },
      "source": [
        "from skimage.io import imread_collection  # Resizing of the images\r\n",
        "\r\n",
        "images = imread_collection('./children_writings_images/*.jpg')"
      ],
      "execution_count": null,
      "outputs": []
    },
    {
      "cell_type": "code",
      "metadata": {
        "id": "i5oeL7e2LKhY"
      },
      "source": [
        "print(type(images))\r\n",
        "print(type(images[0]), end=\"\\n\\n\")"
      ],
      "execution_count": null,
      "outputs": []
    },
    {
      "cell_type": "code",
      "metadata": {
        "id": "_hXUHwFgLLSW"
      },
      "source": [
        "len(images) # Counts the number of images uploaded"
      ],
      "execution_count": null,
      "outputs": []
    }
  ]
}