{
 "cells": [
  {
   "cell_type": "code",
   "execution_count": 1,
   "metadata": {},
   "outputs": [],
   "source": [
    "# Imports\n",
    "import pandas as pd\n",
    "import os"
   ]
  },
  {
   "cell_type": "code",
   "execution_count": 2,
   "metadata": {},
   "outputs": [],
   "source": [
    "path_states = os.path.join(os.getcwd(),\"data/states.csv\")\n",
    "path_devices = os.path.join(os.getcwd(),\"data/devices.csv\")\n",
    "#os.path.exists(path_states)"
   ]
  },
  {
   "cell_type": "code",
   "execution_count": 3,
   "metadata": {},
   "outputs": [],
   "source": [
    "states = pd.read_csv(path_states)\n",
    "devices = pd.read_csv(path_devices)"
   ]
  },
  {
   "cell_type": "code",
   "execution_count": 4,
   "metadata": {},
   "outputs": [
    {
     "name": "stdout",
     "output_type": "stream",
     "text": [
      "(52, 3)\n",
      "(23, 2)\n"
     ]
    },
    {
     "data": {
      "text/html": [
       "<div>\n",
       "<style scoped>\n",
       "    .dataframe tbody tr th:only-of-type {\n",
       "        vertical-align: middle;\n",
       "    }\n",
       "\n",
       "    .dataframe tbody tr th {\n",
       "        vertical-align: top;\n",
       "    }\n",
       "\n",
       "    .dataframe thead th {\n",
       "        text-align: right;\n",
       "    }\n",
       "</style>\n",
       "<table border=\"1\" class=\"dataframe\">\n",
       "  <thead>\n",
       "    <tr style=\"text-align: right;\">\n",
       "      <th></th>\n",
       "      <th>state</th>\n",
       "      <th>abbrev</th>\n",
       "      <th>rate</th>\n",
       "    </tr>\n",
       "  </thead>\n",
       "  <tbody>\n",
       "    <tr>\n",
       "      <th>0</th>\n",
       "      <td>US Average</td>\n",
       "      <td>US</td>\n",
       "      <td>0.1320</td>\n",
       "    </tr>\n",
       "    <tr>\n",
       "      <th>1</th>\n",
       "      <td>Alabama</td>\n",
       "      <td>AL</td>\n",
       "      <td>0.1185</td>\n",
       "    </tr>\n",
       "    <tr>\n",
       "      <th>2</th>\n",
       "      <td>Alaska</td>\n",
       "      <td>AK</td>\n",
       "      <td>0.2175</td>\n",
       "    </tr>\n",
       "    <tr>\n",
       "      <th>3</th>\n",
       "      <td>Arizona</td>\n",
       "      <td>AZ</td>\n",
       "      <td>0.1221</td>\n",
       "    </tr>\n",
       "    <tr>\n",
       "      <th>4</th>\n",
       "      <td>Arkansas</td>\n",
       "      <td>AR</td>\n",
       "      <td>0.0930</td>\n",
       "    </tr>\n",
       "  </tbody>\n",
       "</table>\n",
       "</div>"
      ],
      "text/plain": [
       "        state abbrev    rate\n",
       "0  US Average     US  0.1320\n",
       "1     Alabama     AL  0.1185\n",
       "2      Alaska     AK  0.2175\n",
       "3     Arizona     AZ  0.1221\n",
       "4    Arkansas     AR  0.0930"
      ]
     },
     "execution_count": 4,
     "metadata": {},
     "output_type": "execute_result"
    }
   ],
   "source": [
    "print(states.shape)\n",
    "print(devices.shape)\n",
    "states.head()"
   ]
  },
  {
   "cell_type": "code",
   "execution_count": 5,
   "metadata": {},
   "outputs": [],
   "source": [
    "def calculator(device,state,hours,days):\n",
    "  '''\n",
    "  This function calculates how much energy a device uses per year\n",
    "  and how much it will cost on a yearly basis based on the state you live.\n",
    "\n",
    "  Example: The typically wattage level of a ceiling fan \n",
    "  is 65 watts. The average utility rate in\n",
    "  Missouri is $.0928/kWh. If you use your fan for\n",
    "  eight hours (8) a day for 5 days a week, \n",
    "  that's a total of 135.2 kWh, \n",
    "  and would cost $12.55 a year. \n",
    "\n",
    "  energy_used = (65 * 8 * (5*52)) / 1000\n",
    "  cost_per_year = energy_used * .0928\n",
    "  '''\n",
    "  device = device\n",
    "  wattage = devices[devices[\"device\"]== device][\"wattage\"].item()\n",
    "  state = state \n",
    "  utility_rate = states[states[\"state\"]== state][\"rate\"].item()\n",
    "  hours_per_day = hours\n",
    "  days_per_year = days * 52\n",
    "  watts_per_kilowatt = 1000\n",
    "\n",
    "  energy_used = (wattage*hours_per_day*days_per_year)/watts_per_kilowatt\n",
    "  cost_per_year = round(energy_used* utility_rate,2)\n",
    "\n",
    "  return {\"energy_used\": energy_used, \"cost_per_year\": cost_per_year}"
   ]
  },
  {
   "cell_type": "code",
   "execution_count": 6,
   "metadata": {},
   "outputs": [
    {
     "data": {
      "text/plain": [
       "{'energy_used': 104.0, 'cost_per_year': 9.65}"
      ]
     },
     "execution_count": 6,
     "metadata": {},
     "output_type": "execute_result"
    }
   ],
   "source": [
    "# Test\n",
    "calculator(\"Ceiling Fan\",\"Missouri\",8,5)"
   ]
  },
  {
   "cell_type": "code",
   "execution_count": null,
   "metadata": {},
   "outputs": [],
   "source": []
  }
 ],
 "metadata": {
  "kernelspec": {
   "display_name": "encon (Python3)",
   "language": "python",
   "name": "encon"
  },
  "language_info": {
   "codemirror_mode": {
    "name": "ipython",
    "version": 3
   },
   "file_extension": ".py",
   "mimetype": "text/x-python",
   "name": "python",
   "nbconvert_exporter": "python",
   "pygments_lexer": "ipython3",
   "version": "3.7.6"
  }
 },
 "nbformat": 4,
 "nbformat_minor": 4
}
