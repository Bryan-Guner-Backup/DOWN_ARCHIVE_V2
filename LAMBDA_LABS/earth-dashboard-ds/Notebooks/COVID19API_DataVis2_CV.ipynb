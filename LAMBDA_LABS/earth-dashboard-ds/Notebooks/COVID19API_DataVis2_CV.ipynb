{
  "nbformat": 4,
  "nbformat_minor": 0,
  "metadata": {
    "colab": {
      "name": "COVID19API_DataVis2_CV.ipynb",
      "provenance": [],
      "collapsed_sections": []
    },
    "kernelspec": {
      "name": "python3",
      "display_name": "Python 3"
    }
  },
  "cells": [
    {
      "cell_type": "markdown",
      "metadata": {
        "id": "UWQY4dOFuwEC",
        "colab_type": "text"
      },
      "source": [
        "# COVID-19 Data (API).\n",
        "### COVID-19 Country Data.\n",
        "[site](https://covid19api.com/) | [API info](https://documenter.getpostman.com/view/10808728/SzS8rjbc?version=latest)\n"
      ]
    },
    {
      "cell_type": "code",
      "metadata": {
        "id": "oZm6OLzp5-Hk",
        "colab_type": "code",
        "colab": {}
      },
      "source": [
        "# necessary imports for notebook.\n",
        "import pandas as pd\n",
        "import requests\n",
        "import json\n",
        "import plotly.graph_objects as go"
      ],
      "execution_count": 0,
      "outputs": []
    },
    {
      "cell_type": "code",
      "metadata": {
        "id": "PGUmewfUtjxw",
        "colab_type": "code",
        "outputId": "182ff55d-a7b2-44b4-dc45-b225a9631749",
        "colab": {
          "base_uri": "https://localhost:8080/",
          "height": 222
        }
      },
      "source": [
        "# read in the API.\n",
        "''' COVID-19 : Country/State/Province Daily Individual Case'''\n",
        "response = requests.get(\"https://api.covid19api.com/country/us/status/confirmed/live\")\n",
        "print(response.status_code)\n",
        "covid_ci = response.json()\n",
        "covid_countryindividual = pd.json_normalize(covid_ci)\n",
        "print(covid_countryindividual.shape)\n",
        "covid_countryindividual.head()"
      ],
      "execution_count": 3,
      "outputs": [
        {
          "output_type": "stream",
          "text": [
            "200\n",
            "(471685, 10)\n"
          ],
          "name": "stdout"
        },
        {
          "output_type": "execute_result",
          "data": {
            "text/html": [
              "<div>\n",
              "<style scoped>\n",
              "    .dataframe tbody tr th:only-of-type {\n",
              "        vertical-align: middle;\n",
              "    }\n",
              "\n",
              "    .dataframe tbody tr th {\n",
              "        vertical-align: top;\n",
              "    }\n",
              "\n",
              "    .dataframe thead th {\n",
              "        text-align: right;\n",
              "    }\n",
              "</style>\n",
              "<table border=\"1\" class=\"dataframe\">\n",
              "  <thead>\n",
              "    <tr style=\"text-align: right;\">\n",
              "      <th></th>\n",
              "      <th>Country</th>\n",
              "      <th>CountryCode</th>\n",
              "      <th>Province</th>\n",
              "      <th>City</th>\n",
              "      <th>CityCode</th>\n",
              "      <th>Lat</th>\n",
              "      <th>Lon</th>\n",
              "      <th>Cases</th>\n",
              "      <th>Status</th>\n",
              "      <th>Date</th>\n",
              "    </tr>\n",
              "  </thead>\n",
              "  <tbody>\n",
              "    <tr>\n",
              "      <th>0</th>\n",
              "      <td>United States of America</td>\n",
              "      <td>US</td>\n",
              "      <td>Wyoming</td>\n",
              "      <td>Weston</td>\n",
              "      <td>56045</td>\n",
              "      <td>43.84</td>\n",
              "      <td>-104.57</td>\n",
              "      <td>0</td>\n",
              "      <td>confirmed</td>\n",
              "      <td>2020-01-22T00:00:00Z</td>\n",
              "    </tr>\n",
              "    <tr>\n",
              "      <th>1</th>\n",
              "      <td>United States of America</td>\n",
              "      <td>US</td>\n",
              "      <td>Wyoming</td>\n",
              "      <td>Hot Springs</td>\n",
              "      <td>56017</td>\n",
              "      <td>43.72</td>\n",
              "      <td>-108.44</td>\n",
              "      <td>0</td>\n",
              "      <td>confirmed</td>\n",
              "      <td>2020-01-22T00:00:00Z</td>\n",
              "    </tr>\n",
              "    <tr>\n",
              "      <th>2</th>\n",
              "      <td>United States of America</td>\n",
              "      <td>US</td>\n",
              "      <td>Wyoming</td>\n",
              "      <td>Johnson</td>\n",
              "      <td>56019</td>\n",
              "      <td>44.04</td>\n",
              "      <td>-106.58</td>\n",
              "      <td>0</td>\n",
              "      <td>confirmed</td>\n",
              "      <td>2020-01-22T00:00:00Z</td>\n",
              "    </tr>\n",
              "    <tr>\n",
              "      <th>3</th>\n",
              "      <td>United States of America</td>\n",
              "      <td>US</td>\n",
              "      <td>Wyoming</td>\n",
              "      <td>Laramie</td>\n",
              "      <td>56021</td>\n",
              "      <td>41.31</td>\n",
              "      <td>-104.69</td>\n",
              "      <td>0</td>\n",
              "      <td>confirmed</td>\n",
              "      <td>2020-01-22T00:00:00Z</td>\n",
              "    </tr>\n",
              "    <tr>\n",
              "      <th>4</th>\n",
              "      <td>United States of America</td>\n",
              "      <td>US</td>\n",
              "      <td>Wyoming</td>\n",
              "      <td>Lincoln</td>\n",
              "      <td>56023</td>\n",
              "      <td>42.26</td>\n",
              "      <td>-110.66</td>\n",
              "      <td>0</td>\n",
              "      <td>confirmed</td>\n",
              "      <td>2020-01-22T00:00:00Z</td>\n",
              "    </tr>\n",
              "  </tbody>\n",
              "</table>\n",
              "</div>"
            ],
            "text/plain": [
              "                    Country CountryCode  ...     Status                  Date\n",
              "0  United States of America          US  ...  confirmed  2020-01-22T00:00:00Z\n",
              "1  United States of America          US  ...  confirmed  2020-01-22T00:00:00Z\n",
              "2  United States of America          US  ...  confirmed  2020-01-22T00:00:00Z\n",
              "3  United States of America          US  ...  confirmed  2020-01-22T00:00:00Z\n",
              "4  United States of America          US  ...  confirmed  2020-01-22T00:00:00Z\n",
              "\n",
              "[5 rows x 10 columns]"
            ]
          },
          "metadata": {
            "tags": []
          },
          "execution_count": 3
        }
      ]
    },
    {
      "cell_type": "code",
      "metadata": {
        "id": "jdlwlnWopB_d",
        "colab_type": "code",
        "outputId": "a9d0292c-24e5-4c53-9cf6-f0837ab44308",
        "colab": {
          "base_uri": "https://localhost:8080/",
          "height": 205
        }
      },
      "source": [
        "# new data frame.\n",
        "df = covid_countryindividual.copy()\n",
        "print(df.shape)\n",
        "df.head()"
      ],
      "execution_count": 4,
      "outputs": [
        {
          "output_type": "stream",
          "text": [
            "(471685, 10)\n"
          ],
          "name": "stdout"
        },
        {
          "output_type": "execute_result",
          "data": {
            "text/html": [
              "<div>\n",
              "<style scoped>\n",
              "    .dataframe tbody tr th:only-of-type {\n",
              "        vertical-align: middle;\n",
              "    }\n",
              "\n",
              "    .dataframe tbody tr th {\n",
              "        vertical-align: top;\n",
              "    }\n",
              "\n",
              "    .dataframe thead th {\n",
              "        text-align: right;\n",
              "    }\n",
              "</style>\n",
              "<table border=\"1\" class=\"dataframe\">\n",
              "  <thead>\n",
              "    <tr style=\"text-align: right;\">\n",
              "      <th></th>\n",
              "      <th>Country</th>\n",
              "      <th>CountryCode</th>\n",
              "      <th>Province</th>\n",
              "      <th>City</th>\n",
              "      <th>CityCode</th>\n",
              "      <th>Lat</th>\n",
              "      <th>Lon</th>\n",
              "      <th>Cases</th>\n",
              "      <th>Status</th>\n",
              "      <th>Date</th>\n",
              "    </tr>\n",
              "  </thead>\n",
              "  <tbody>\n",
              "    <tr>\n",
              "      <th>0</th>\n",
              "      <td>United States of America</td>\n",
              "      <td>US</td>\n",
              "      <td>Wyoming</td>\n",
              "      <td>Weston</td>\n",
              "      <td>56045</td>\n",
              "      <td>43.84</td>\n",
              "      <td>-104.57</td>\n",
              "      <td>0</td>\n",
              "      <td>confirmed</td>\n",
              "      <td>2020-01-22T00:00:00Z</td>\n",
              "    </tr>\n",
              "    <tr>\n",
              "      <th>1</th>\n",
              "      <td>United States of America</td>\n",
              "      <td>US</td>\n",
              "      <td>Wyoming</td>\n",
              "      <td>Hot Springs</td>\n",
              "      <td>56017</td>\n",
              "      <td>43.72</td>\n",
              "      <td>-108.44</td>\n",
              "      <td>0</td>\n",
              "      <td>confirmed</td>\n",
              "      <td>2020-01-22T00:00:00Z</td>\n",
              "    </tr>\n",
              "    <tr>\n",
              "      <th>2</th>\n",
              "      <td>United States of America</td>\n",
              "      <td>US</td>\n",
              "      <td>Wyoming</td>\n",
              "      <td>Johnson</td>\n",
              "      <td>56019</td>\n",
              "      <td>44.04</td>\n",
              "      <td>-106.58</td>\n",
              "      <td>0</td>\n",
              "      <td>confirmed</td>\n",
              "      <td>2020-01-22T00:00:00Z</td>\n",
              "    </tr>\n",
              "    <tr>\n",
              "      <th>3</th>\n",
              "      <td>United States of America</td>\n",
              "      <td>US</td>\n",
              "      <td>Wyoming</td>\n",
              "      <td>Laramie</td>\n",
              "      <td>56021</td>\n",
              "      <td>41.31</td>\n",
              "      <td>-104.69</td>\n",
              "      <td>0</td>\n",
              "      <td>confirmed</td>\n",
              "      <td>2020-01-22T00:00:00Z</td>\n",
              "    </tr>\n",
              "    <tr>\n",
              "      <th>4</th>\n",
              "      <td>United States of America</td>\n",
              "      <td>US</td>\n",
              "      <td>Wyoming</td>\n",
              "      <td>Lincoln</td>\n",
              "      <td>56023</td>\n",
              "      <td>42.26</td>\n",
              "      <td>-110.66</td>\n",
              "      <td>0</td>\n",
              "      <td>confirmed</td>\n",
              "      <td>2020-01-22T00:00:00Z</td>\n",
              "    </tr>\n",
              "  </tbody>\n",
              "</table>\n",
              "</div>"
            ],
            "text/plain": [
              "                    Country CountryCode  ...     Status                  Date\n",
              "0  United States of America          US  ...  confirmed  2020-01-22T00:00:00Z\n",
              "1  United States of America          US  ...  confirmed  2020-01-22T00:00:00Z\n",
              "2  United States of America          US  ...  confirmed  2020-01-22T00:00:00Z\n",
              "3  United States of America          US  ...  confirmed  2020-01-22T00:00:00Z\n",
              "4  United States of America          US  ...  confirmed  2020-01-22T00:00:00Z\n",
              "\n",
              "[5 rows x 10 columns]"
            ]
          },
          "metadata": {
            "tags": []
          },
          "execution_count": 4
        }
      ]
    },
    {
      "cell_type": "code",
      "metadata": {
        "id": "4Io8FrdNuMLN",
        "colab_type": "code",
        "colab": {}
      },
      "source": [
        "# clean up the data.\n",
        "df.drop(df[df['Lat'] == '0'].index, inplace = True)\n",
        "df['Date'] = df['Date'].str.replace(r'T00:00:00Z', '').astype(object)\n",
        "df = df.astype({'Lat': float})\n",
        "df = df.astype({'Lon': float})"
      ],
      "execution_count": 0,
      "outputs": []
    },
    {
      "cell_type": "code",
      "metadata": {
        "id": "vAIMRVtCaSHs",
        "colab_type": "code",
        "outputId": "d66e65c1-2fcf-4831-8fa2-653c482f1330",
        "colab": {
          "base_uri": "https://localhost:8080/",
          "height": 205
        }
      },
      "source": [
        "# final data frame.\n",
        "print(df.shape)\n",
        "df.head()"
      ],
      "execution_count": 6,
      "outputs": [
        {
          "output_type": "stream",
          "text": [
            "(456605, 10)\n"
          ],
          "name": "stdout"
        },
        {
          "output_type": "execute_result",
          "data": {
            "text/html": [
              "<div>\n",
              "<style scoped>\n",
              "    .dataframe tbody tr th:only-of-type {\n",
              "        vertical-align: middle;\n",
              "    }\n",
              "\n",
              "    .dataframe tbody tr th {\n",
              "        vertical-align: top;\n",
              "    }\n",
              "\n",
              "    .dataframe thead th {\n",
              "        text-align: right;\n",
              "    }\n",
              "</style>\n",
              "<table border=\"1\" class=\"dataframe\">\n",
              "  <thead>\n",
              "    <tr style=\"text-align: right;\">\n",
              "      <th></th>\n",
              "      <th>Country</th>\n",
              "      <th>CountryCode</th>\n",
              "      <th>Province</th>\n",
              "      <th>City</th>\n",
              "      <th>CityCode</th>\n",
              "      <th>Lat</th>\n",
              "      <th>Lon</th>\n",
              "      <th>Cases</th>\n",
              "      <th>Status</th>\n",
              "      <th>Date</th>\n",
              "    </tr>\n",
              "  </thead>\n",
              "  <tbody>\n",
              "    <tr>\n",
              "      <th>0</th>\n",
              "      <td>United States of America</td>\n",
              "      <td>US</td>\n",
              "      <td>Wyoming</td>\n",
              "      <td>Weston</td>\n",
              "      <td>56045</td>\n",
              "      <td>43.84</td>\n",
              "      <td>-104.57</td>\n",
              "      <td>0</td>\n",
              "      <td>confirmed</td>\n",
              "      <td>2020-01-22</td>\n",
              "    </tr>\n",
              "    <tr>\n",
              "      <th>1</th>\n",
              "      <td>United States of America</td>\n",
              "      <td>US</td>\n",
              "      <td>Wyoming</td>\n",
              "      <td>Hot Springs</td>\n",
              "      <td>56017</td>\n",
              "      <td>43.72</td>\n",
              "      <td>-108.44</td>\n",
              "      <td>0</td>\n",
              "      <td>confirmed</td>\n",
              "      <td>2020-01-22</td>\n",
              "    </tr>\n",
              "    <tr>\n",
              "      <th>2</th>\n",
              "      <td>United States of America</td>\n",
              "      <td>US</td>\n",
              "      <td>Wyoming</td>\n",
              "      <td>Johnson</td>\n",
              "      <td>56019</td>\n",
              "      <td>44.04</td>\n",
              "      <td>-106.58</td>\n",
              "      <td>0</td>\n",
              "      <td>confirmed</td>\n",
              "      <td>2020-01-22</td>\n",
              "    </tr>\n",
              "    <tr>\n",
              "      <th>3</th>\n",
              "      <td>United States of America</td>\n",
              "      <td>US</td>\n",
              "      <td>Wyoming</td>\n",
              "      <td>Laramie</td>\n",
              "      <td>56021</td>\n",
              "      <td>41.31</td>\n",
              "      <td>-104.69</td>\n",
              "      <td>0</td>\n",
              "      <td>confirmed</td>\n",
              "      <td>2020-01-22</td>\n",
              "    </tr>\n",
              "    <tr>\n",
              "      <th>4</th>\n",
              "      <td>United States of America</td>\n",
              "      <td>US</td>\n",
              "      <td>Wyoming</td>\n",
              "      <td>Lincoln</td>\n",
              "      <td>56023</td>\n",
              "      <td>42.26</td>\n",
              "      <td>-110.66</td>\n",
              "      <td>0</td>\n",
              "      <td>confirmed</td>\n",
              "      <td>2020-01-22</td>\n",
              "    </tr>\n",
              "  </tbody>\n",
              "</table>\n",
              "</div>"
            ],
            "text/plain": [
              "                    Country CountryCode Province  ... Cases     Status        Date\n",
              "0  United States of America          US  Wyoming  ...     0  confirmed  2020-01-22\n",
              "1  United States of America          US  Wyoming  ...     0  confirmed  2020-01-22\n",
              "2  United States of America          US  Wyoming  ...     0  confirmed  2020-01-22\n",
              "3  United States of America          US  Wyoming  ...     0  confirmed  2020-01-22\n",
              "4  United States of America          US  Wyoming  ...     0  confirmed  2020-01-22\n",
              "\n",
              "[5 rows x 10 columns]"
            ]
          },
          "metadata": {
            "tags": []
          },
          "execution_count": 6
        }
      ]
    },
    {
      "cell_type": "code",
      "metadata": {
        "id": "ymEByISLlN0N",
        "colab_type": "code",
        "colab": {}
      },
      "source": [
        "# set the mapbox style and access token.\n",
        "''' style url '''\n",
        "MAPBOX_STYLE = 'mapbox://styles/cvanchieri/ck922oal90bxw1ilzl8opoz7d'\n",
        "''' access token '''\n",
        "MAPBOX_TOKEN = 'pk.eyJ1IjoiY3ZhbmNoaWVyaSIsImEiOiJjazkwcTM3bGwwNGU4M2hucGYxNmkydGFzIn0.sDsBLsY2hw-6LPjKzL2ZqA'"
      ],
      "execution_count": 0,
      "outputs": []
    },
    {
      "cell_type": "code",
      "metadata": {
        "id": "P4beLQQsldlb",
        "colab_type": "code",
        "colab": {}
      },
      "source": [
        "# create the times and frames_data.\n",
        "times = df.groupby(['Date'])['Date'].count().index.tolist()\n",
        "frames_data = [df.loc[df['Date'] == t] for t in times]"
      ],
      "execution_count": 0,
      "outputs": []
    },
    {
      "cell_type": "code",
      "metadata": {
        "id": "is709T6Dlg1P",
        "colab_type": "code",
        "colab": {}
      },
      "source": [
        "# create the frames density plot.\n",
        "frames = [go.Frame(data=[go.Densitymapbox(lat=f['Lat'], lon=f['Lon'], z=f['Cases'], radius=10)], name=str(f.iloc[0]['Date'])) for f in frames_data]"
      ],
      "execution_count": 0,
      "outputs": []
    },
    {
      "cell_type": "code",
      "metadata": {
        "id": "FRkUoVfbljCd",
        "colab_type": "code",
        "colab": {}
      },
      "source": [
        "# create the mapbox attributes, play and pause button.\n",
        "buttons=[\n",
        "         dict(label=\"Play\",method=\"animate\",args=[None, {'fromcurrent':True, \"transition\": {\"duration\": 1, \"easing\": \"quadratic-in-out\"}}]),\n",
        "         dict(label=\"Pause\",method=\"animate\",args=[[None], {\"frame\": {\"duration\": 0, \"redraw\": False},\"mode\": \"immediate\", \"transition\": {\"duration\": 0}}])\n",
        "]\n",
        "sliders_dict = {\n",
        "    'active':0,\n",
        "    'currentvalue': dict(font=dict(size=15), prefix='Date: ', visible=True),\n",
        "    \"transition\": {\"duration\": 300, \"easing\": \"cubic-in-out\"},\n",
        "    'x': 0,\n",
        "    'steps': []\n",
        "}\n",
        "for i,t in enumerate(times):\n",
        "    slider_step = {\"args\": [\n",
        "                        [t],\n",
        "                        {\"frame\": {\"duration\": 300, \"redraw\": False},\n",
        "                         \"transition\": {\"duration\": 1, \"ease\": \"quadratic-in-out\"}}\n",
        "                    ],\n",
        "            \"label\": t,\n",
        "            \"method\": \"animate\",\n",
        "            \"value\": t\n",
        "    }\n",
        "    sliders_dict['steps'].append(slider_step)"
      ],
      "execution_count": 0,
      "outputs": []
    },
    {
      "cell_type": "code",
      "metadata": {
        "id": "AxQV29bilk4U",
        "colab_type": "code",
        "colab": {}
      },
      "source": [
        "# merge the mapbox and the data together and display.\n",
        "fig = go.Figure(data = [go.Densitymapbox(lat=df['Lat'], lon=df['Lon'], z=df['Cases'], radius=5, colorscale='hot', zmax=5, zmin=0)],\n",
        "               layout=go.Layout(updatemenus=[dict(type=\"buttons\", buttons=buttons,showactive=True)] ), \n",
        "               frames=frames\n",
        ")\n",
        "fig.update_layout(mapbox_style=MAPBOX_STYLE, \n",
        "                  mapbox_accesstoken=MAPBOX_TOKEN,\n",
        "                  mapbox_center_lon=-100,\n",
        "                  mapbox_center_lat=38,\n",
        "                  mapbox_zoom=3.5)\n",
        "fig.update_layout(sliders=[sliders_dict],\n",
        "                 title='USA Covid-19 Confirmed Cases Daily Count')\n",
        "fig.update_layout(height=1000)\n",
        "fig.show()"
      ],
      "execution_count": 0,
      "outputs": []
    },
    {
      "cell_type": "markdown",
      "metadata": {
        "id": "5bG62WVzu81K",
        "colab_type": "text"
      },
      "source": [
        "![Covid19MapBox](https://github.com/Lambda-School-Labs/earth-dashboard-ds/blob/feature/updating-notebooks---CV/Notebooks/Images/Covid19ConfirmedMapBox.png?raw=true)\n",
        "\n"
      ]
    }
  ]
}
