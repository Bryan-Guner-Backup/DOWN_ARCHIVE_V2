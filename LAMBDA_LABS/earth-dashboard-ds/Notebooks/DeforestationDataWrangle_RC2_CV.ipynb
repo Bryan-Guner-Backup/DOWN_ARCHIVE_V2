{
  "nbformat": 4,
  "nbformat_minor": 0,
  "metadata": {
    "colab": {
      "name": "DeforestationDataWrangle_RC2_CV.ipynb",
      "provenance": [],
      "collapsed_sections": []
    },
    "kernelspec": {
      "display_name": "Python 3",
      "language": "python",
      "name": "python3"
    },
    "language_info": {
      "codemirror_mode": {
        "name": "ipython",
        "version": 3
      },
      "file_extension": ".py",
      "mimetype": "text/x-python",
      "name": "python",
      "nbconvert_exporter": "python",
      "pygments_lexer": "ipython3",
      "version": "3.7.4"
    }
  },
  "cells": [
    {
      "cell_type": "markdown",
      "metadata": {
        "id": "l4bHl3zdnyw5",
        "colab_type": "text"
      },
      "source": [
        "# Deforestation Data Wrangle (RC2)"
      ]
    },
    {
      "cell_type": "markdown",
      "metadata": {
        "id": "_aXjy-GCdPd7",
        "colab_type": "text"
      },
      "source": [
        "## Imports."
      ]
    },
    {
      "cell_type": "code",
      "metadata": {
        "colab_type": "code",
        "id": "Z2QXIxI4QmRx",
        "colab": {}
      },
      "source": [
        "# imports.\n",
        "import pandas as pd\n",
        "import numpy as np\n",
        "from sklearn.linear_model import LinearRegression\n",
        "import seaborn as sns\n",
        "pd.set_option('display.float_format', lambda x: '%.2f' % x)"
      ],
      "execution_count": 0,
      "outputs": []
    },
    {
      "cell_type": "code",
      "metadata": {
        "colab_type": "code",
        "id": "rCjEVHihRjET",
        "colab": {}
      },
      "source": [
        "# read the the data files.\n",
        "forest = pd.read_csv('https://raw.githubusercontent.com/CVanchieri/DataSets/master/WorldBankDeforestation/target/Forestarea(%25land_area).csv', skiprows= 3)\n",
        "\n",
        "mining = pd.read_csv('https://raw.githubusercontent.com/CVanchieri/DataSets/master/WorldBankDeforestation/features/Oresandmetalsexports(%25ofmerchandiseexports).csv', skiprows=3)\n",
        "livestock = pd.read_csv('https://raw.githubusercontent.com/CVanchieri/DataSets/master/WorldBankDeforestation/features/Livestockproductionindex(2004-2006%3D100).csv', skiprows=3)\n",
        "agriculture = pd.read_csv('https://raw.githubusercontent.com/CVanchieri/DataSets/master/WorldBankDeforestation/features/Agriculturalland(sq.km).csv', skiprows=3)\n",
        "population = pd.read_csv('https://raw.githubusercontent.com/CVanchieri/DataSets/master/WorldBankDeforestation/features/UrbanPopulationTotal.csv', skiprows=3)\n",
        "gdp = pd.read_csv('https://raw.githubusercontent.com/CVanchieri/DataSets/master/WorldBankDeforestation/features/GDPpercapitagrowth(annual%20%25).csv', skiprows=3)\n",
        "electricity = pd.read_csv('https://raw.githubusercontent.com/CVanchieri/DataSets/master/WorldBankDeforestation/features/Electricpowerconsumption(kWhpercapita).csv', skiprows=3)\n",
        "crops = pd.read_csv('https://raw.githubusercontent.com/CVanchieri/DataSets/master/WorldBankDeforestation/features/Cropproductionindex(2004-2006%3D100).csv', skiprows=3)\n",
        "food = pd.read_csv('https://raw.githubusercontent.com/CVanchieri/DataSets/master/WorldBankDeforestation/features/Foodproductionindex(2004-2006%3D100).csv', skiprows=3)"
      ],
      "execution_count": 0,
      "outputs": []
    },
    {
      "cell_type": "markdown",
      "metadata": {
        "colab_type": "text",
        "id": "O0PaBNP6c-aY"
      },
      "source": [
        "## 1st Wrangle Cleaning."
      ]
    },
    {
      "cell_type": "code",
      "metadata": {
        "colab_type": "code",
        "id": "2mpDl95mSmNZ",
        "colab": {}
      },
      "source": [
        "# 1st wrangle for cleaning.\n",
        "def wrangle(df):\n",
        "  df.drop(df.iloc[:, 3:34], inplace=True, axis=1)\n",
        "  df = df.drop(columns=['2019', 'Unnamed: 64'])\n",
        "  \n",
        "  for col in df.select_dtypes(include=np.number):\n",
        "    df[col] = df[col].fillna(df[col].median())\n",
        "\n",
        "  df = df.fillna(method='bfill',  axis= 1)\n",
        "  df = df.fillna(method='ffill', axis= 1)\n",
        "  year = map(str, range(1990, 2019))\n",
        "  feature = df.iloc[0][2]\n",
        "  df = pd.concat([pd.melt(df, id_vars=['Country Code'], value_vars=val, var_name='Year', value_name=feature) for val in year])\n",
        "  \n",
        "  return(df)"
      ],
      "execution_count": 0,
      "outputs": []
    },
    {
      "cell_type": "code",
      "metadata": {
        "colab_type": "code",
        "id": "gmO6JDU-V6CN",
        "colab": {}
      },
      "source": [
        "# wrangle the data.\n",
        "forest = wrangle(forest)\n",
        "\n",
        "agriculture = wrangle(agriculture)\n",
        "electricity = wrangle(electricity)\n",
        "gdp = wrangle(gdp)\n",
        "livestock = wrangle(livestock)\n",
        "mining = wrangle(mining)\n",
        "population = wrangle(population)\n",
        "crops = wrangle(crops)\n",
        "food = wrangle(food)\n",
        "\n",
        "feature_dfs = [agriculture, gdp, livestock, population, crops, food, mining, electricity]"
      ],
      "execution_count": 0,
      "outputs": []
    },
    {
      "cell_type": "code",
      "metadata": {
        "colab_type": "code",
        "id": "uTfD38WacdGc",
        "colab": {}
      },
      "source": [
        "# merge the data files.\n",
        "def merge_features(list_dfs):\n",
        "  train = list_dfs.pop(0)\n",
        "\n",
        "  for df in list_dfs:\n",
        "    train = train.merge(df, on=['Country Code', 'Year']) \n",
        "    \n",
        "  return(train)"
      ],
      "execution_count": 0,
      "outputs": []
    },
    {
      "cell_type": "code",
      "metadata": {
        "colab_type": "code",
        "id": "cVm57Sa4i-9-",
        "outputId": "5bc14178-2f9b-4445-9518-f058a4e79d55",
        "colab": {
          "base_uri": "https://localhost:8080/",
          "height": 254
        }
      },
      "source": [
        "# merge with forest.\n",
        "features = merge_features(feature_dfs)\n",
        "train = features.merge(forest, on=['Country Code', 'Year'])\n",
        "\n",
        "print(train.shape)\n",
        "train.head()"
      ],
      "execution_count": 0,
      "outputs": [
        {
          "output_type": "stream",
          "text": [
            "(7656, 11)\n"
          ],
          "name": "stdout"
        },
        {
          "output_type": "execute_result",
          "data": {
            "text/html": [
              "<div>\n",
              "<style scoped>\n",
              "    .dataframe tbody tr th:only-of-type {\n",
              "        vertical-align: middle;\n",
              "    }\n",
              "\n",
              "    .dataframe tbody tr th {\n",
              "        vertical-align: top;\n",
              "    }\n",
              "\n",
              "    .dataframe thead th {\n",
              "        text-align: right;\n",
              "    }\n",
              "</style>\n",
              "<table border=\"1\" class=\"dataframe\">\n",
              "  <thead>\n",
              "    <tr style=\"text-align: right;\">\n",
              "      <th></th>\n",
              "      <th>Country Code</th>\n",
              "      <th>Year</th>\n",
              "      <th>Agricultural land (sq. km)</th>\n",
              "      <th>GDP per capita growth (annual %)</th>\n",
              "      <th>Livestock production index (2004-2006 = 100)</th>\n",
              "      <th>Urban population</th>\n",
              "      <th>Crop production index (2004-2006 = 100)</th>\n",
              "      <th>Food production index (2004-2006 = 100)</th>\n",
              "      <th>Ores and metals exports (% of merchandise exports)</th>\n",
              "      <th>Electric power consumption (kWh per capita)</th>\n",
              "      <th>Forest area (% of land area)</th>\n",
              "    </tr>\n",
              "  </thead>\n",
              "  <tbody>\n",
              "    <tr>\n",
              "      <th>0</th>\n",
              "      <td>ABW</td>\n",
              "      <td>1990</td>\n",
              "      <td>20.00</td>\n",
              "      <td>2.09</td>\n",
              "      <td>67.49</td>\n",
              "      <td>31273.00</td>\n",
              "      <td>71.69</td>\n",
              "      <td>69.36</td>\n",
              "      <td>1.10</td>\n",
              "      <td>1237.52</td>\n",
              "      <td>2.33</td>\n",
              "    </tr>\n",
              "    <tr>\n",
              "      <th>1</th>\n",
              "      <td>AFG</td>\n",
              "      <td>1990</td>\n",
              "      <td>380400.00</td>\n",
              "      <td>1.32</td>\n",
              "      <td>70.69</td>\n",
              "      <td>2628554.00</td>\n",
              "      <td>66.64</td>\n",
              "      <td>68.12</td>\n",
              "      <td>2.75</td>\n",
              "      <td>1237.52</td>\n",
              "      <td>2.07</td>\n",
              "    </tr>\n",
              "    <tr>\n",
              "      <th>2</th>\n",
              "      <td>AGO</td>\n",
              "      <td>1990</td>\n",
              "      <td>574040.00</td>\n",
              "      <td>-6.66</td>\n",
              "      <td>70.11</td>\n",
              "      <td>4400964.00</td>\n",
              "      <td>29.25</td>\n",
              "      <td>37.91</td>\n",
              "      <td>6.22</td>\n",
              "      <td>53.17</td>\n",
              "      <td>48.91</td>\n",
              "    </tr>\n",
              "    <tr>\n",
              "      <th>3</th>\n",
              "      <td>ALB</td>\n",
              "      <td>1990</td>\n",
              "      <td>11210.00</td>\n",
              "      <td>-11.19</td>\n",
              "      <td>57.97</td>\n",
              "      <td>1197222.00</td>\n",
              "      <td>84.36</td>\n",
              "      <td>68.73</td>\n",
              "      <td>2.75</td>\n",
              "      <td>552.25</td>\n",
              "      <td>28.79</td>\n",
              "    </tr>\n",
              "    <tr>\n",
              "      <th>4</th>\n",
              "      <td>AND</td>\n",
              "      <td>1990</td>\n",
              "      <td>230.00</td>\n",
              "      <td>-0.14</td>\n",
              "      <td>67.49</td>\n",
              "      <td>51627.00</td>\n",
              "      <td>71.69</td>\n",
              "      <td>69.36</td>\n",
              "      <td>2.75</td>\n",
              "      <td>1237.52</td>\n",
              "      <td>34.04</td>\n",
              "    </tr>\n",
              "  </tbody>\n",
              "</table>\n",
              "</div>"
            ],
            "text/plain": [
              "  Country Code  Year  Agricultural land (sq. km)  \\\n",
              "0          ABW  1990                       20.00   \n",
              "1          AFG  1990                   380400.00   \n",
              "2          AGO  1990                   574040.00   \n",
              "3          ALB  1990                    11210.00   \n",
              "4          AND  1990                      230.00   \n",
              "\n",
              "   GDP per capita growth (annual %)  \\\n",
              "0                              2.09   \n",
              "1                              1.32   \n",
              "2                             -6.66   \n",
              "3                            -11.19   \n",
              "4                             -0.14   \n",
              "\n",
              "   Livestock production index (2004-2006 = 100)  Urban population  \\\n",
              "0                                         67.49          31273.00   \n",
              "1                                         70.69        2628554.00   \n",
              "2                                         70.11        4400964.00   \n",
              "3                                         57.97        1197222.00   \n",
              "4                                         67.49          51627.00   \n",
              "\n",
              "   Crop production index (2004-2006 = 100)  \\\n",
              "0                                    71.69   \n",
              "1                                    66.64   \n",
              "2                                    29.25   \n",
              "3                                    84.36   \n",
              "4                                    71.69   \n",
              "\n",
              "   Food production index (2004-2006 = 100)  \\\n",
              "0                                    69.36   \n",
              "1                                    68.12   \n",
              "2                                    37.91   \n",
              "3                                    68.73   \n",
              "4                                    69.36   \n",
              "\n",
              "   Ores and metals exports (% of merchandise exports)  \\\n",
              "0                                               1.10    \n",
              "1                                               2.75    \n",
              "2                                               6.22    \n",
              "3                                               2.75    \n",
              "4                                               2.75    \n",
              "\n",
              "   Electric power consumption (kWh per capita)  Forest area (% of land area)  \n",
              "0                                      1237.52                          2.33  \n",
              "1                                      1237.52                          2.07  \n",
              "2                                        53.17                         48.91  \n",
              "3                                       552.25                         28.79  \n",
              "4                                      1237.52                         34.04  "
            ]
          },
          "metadata": {
            "tags": []
          },
          "execution_count": 28
        }
      ]
    },
    {
      "cell_type": "code",
      "metadata": {
        "id": "ghZQGMpBzla8",
        "colab_type": "code",
        "colab": {}
      },
      "source": [
        "# Download the csv.\n",
        "from google.colab import files\n",
        "train.to_csv('WorldBank_1990_2018.csv')\n",
        "files.download('WorldBank_1990_2018.csv')"
      ],
      "execution_count": 0,
      "outputs": []
    },
    {
      "cell_type": "markdown",
      "metadata": {
        "colab_type": "text",
        "id": "ec5NLZJNcyTy"
      },
      "source": [
        "## 2nd Wrangle Predictions Dataframe."
      ]
    },
    {
      "cell_type": "code",
      "metadata": {
        "colab_type": "code",
        "id": "P70Axeb_SZuf",
        "colab": {}
      },
      "source": [
        "# 2nd wrangle to make predictions data frame.\n",
        "def predicitons_df(df):\n",
        "  model = LinearRegression()\n",
        "\n",
        "  codes = df['Country Code'].unique()\n",
        "  years = [year for year in range(2019, 2121)]\n",
        "  rows = []\n",
        "  feature = df.columns.tolist()[2]\n",
        "  \n",
        "  for code in codes:\n",
        "      dictionary = {'Country Code': code}\n",
        "      model.fit(df[df['Country Code'] == code][['Year']],\n",
        "                df[df['Country Code'] == code][feature])\n",
        "      \n",
        "      for year in years:\n",
        "          prediction = model.predict([[year]])\n",
        "          dictionary[str(year)] = prediction[0]\n",
        "      rows.append(dictionary)\n",
        "  df_predictions = pd.DataFrame(rows)\n",
        "  df_predictions = df_predictions[\n",
        "      ['Country Code'] + [str(year) for year in years]]\n",
        "  year = map(str, range(2019, 2121))\n",
        "  df_predictions = pd.concat([pd.melt(df_predictions, id_vars=['Country Code'], value_vars=val, var_name='Year', value_name=feature) for val in year])\n",
        "\n",
        "  return(df_predictions)"
      ],
      "execution_count": 0,
      "outputs": []
    },
    {
      "cell_type": "code",
      "metadata": {
        "colab_type": "code",
        "id": "fM0qoYIgmBUH",
        "colab": {}
      },
      "source": [
        "# wrangle the data.\n",
        "agriculture_pred = predicitons_df(agriculture)\n",
        "electricity_pred = predicitons_df(electricity)\n",
        "gdp_pred = predicitons_df(gdp)\n",
        "livestock_pred = predicitons_df(livestock)\n",
        "mining_pred = predicitons_df(mining)\n",
        "population_pred = predicitons_df(population)\n",
        "crops_pred = predicitons_df(crops)\n",
        "food_pred = predicitons_df(food)\n",
        "forest_pred = predicitons_df(forest)\n",
        "\n",
        "feature_dfs_pred = [agriculture_pred, gdp_pred, livestock_pred, population_pred, crops_pred, food_pred, mining_pred, electricity_pred]"
      ],
      "execution_count": 0,
      "outputs": []
    },
    {
      "cell_type": "code",
      "metadata": {
        "colab_type": "code",
        "id": "ZzxzKqrVfaUj",
        "colab": {}
      },
      "source": [
        "# merge the data files.\n",
        "def merge_pred_features(list_dfs_pred):\n",
        "  test = list_dfs_pred.pop(0)\n",
        "\n",
        "  for df in list_dfs_pred:\n",
        "    test = test.merge(df, on=['Country Code', 'Year'])\n",
        "  return(test)"
      ],
      "execution_count": 0,
      "outputs": []
    },
    {
      "cell_type": "code",
      "metadata": {
        "id": "22bYgKWlK5IQ",
        "colab_type": "code",
        "outputId": "76d330ee-7046-40af-c38d-1c8f78c8a2a1",
        "colab": {
          "base_uri": "https://localhost:8080/",
          "height": 254
        }
      },
      "source": [
        "# merge with forest.\n",
        "features = merge_pred_features(feature_dfs_pred)\n",
        "test = features.merge(forest_pred, on=['Country Code', 'Year'])\n",
        "\n",
        "print(test.shape)\n",
        "test.head()"
      ],
      "execution_count": 0,
      "outputs": [
        {
          "output_type": "stream",
          "text": [
            "(26928, 11)\n"
          ],
          "name": "stdout"
        },
        {
          "output_type": "execute_result",
          "data": {
            "text/html": [
              "<div>\n",
              "<style scoped>\n",
              "    .dataframe tbody tr th:only-of-type {\n",
              "        vertical-align: middle;\n",
              "    }\n",
              "\n",
              "    .dataframe tbody tr th {\n",
              "        vertical-align: top;\n",
              "    }\n",
              "\n",
              "    .dataframe thead th {\n",
              "        text-align: right;\n",
              "    }\n",
              "</style>\n",
              "<table border=\"1\" class=\"dataframe\">\n",
              "  <thead>\n",
              "    <tr style=\"text-align: right;\">\n",
              "      <th></th>\n",
              "      <th>Country Code</th>\n",
              "      <th>Year</th>\n",
              "      <th>Agricultural land (sq. km)</th>\n",
              "      <th>GDP per capita growth (annual %)</th>\n",
              "      <th>Livestock production index (2004-2006 = 100)</th>\n",
              "      <th>Urban population</th>\n",
              "      <th>Crop production index (2004-2006 = 100)</th>\n",
              "      <th>Food production index (2004-2006 = 100)</th>\n",
              "      <th>Ores and metals exports (% of merchandise exports)</th>\n",
              "      <th>Electric power consumption (kWh per capita)</th>\n",
              "      <th>Forest area (% of land area)</th>\n",
              "    </tr>\n",
              "  </thead>\n",
              "  <tbody>\n",
              "    <tr>\n",
              "      <th>0</th>\n",
              "      <td>ABW</td>\n",
              "      <td>2019</td>\n",
              "      <td>20.00</td>\n",
              "      <td>-0.75</td>\n",
              "      <td>123.79</td>\n",
              "      <td>48057.97</td>\n",
              "      <td>123.08</td>\n",
              "      <td>125.53</td>\n",
              "      <td>6.37</td>\n",
              "      <td>2712.14</td>\n",
              "      <td>2.33</td>\n",
              "    </tr>\n",
              "    <tr>\n",
              "      <th>1</th>\n",
              "      <td>AFG</td>\n",
              "      <td>2019</td>\n",
              "      <td>378959.53</td>\n",
              "      <td>3.31</td>\n",
              "      <td>108.26</td>\n",
              "      <td>9262840.16</td>\n",
              "      <td>148.75</td>\n",
              "      <td>130.08</td>\n",
              "      <td>2.05</td>\n",
              "      <td>2712.14</td>\n",
              "      <td>2.07</td>\n",
              "    </tr>\n",
              "    <tr>\n",
              "      <th>2</th>\n",
              "      <td>AGO</td>\n",
              "      <td>2019</td>\n",
              "      <td>591467.93</td>\n",
              "      <td>2.39</td>\n",
              "      <td>146.48</td>\n",
              "      <td>19384636.41</td>\n",
              "      <td>226.44</td>\n",
              "      <td>208.66</td>\n",
              "      <td>2.28</td>\n",
              "      <td>308.43</td>\n",
              "      <td>46.05</td>\n",
              "    </tr>\n",
              "    <tr>\n",
              "      <th>3</th>\n",
              "      <td>ALB</td>\n",
              "      <td>2019</td>\n",
              "      <td>11904.29</td>\n",
              "      <td>6.65</td>\n",
              "      <td>120.60</td>\n",
              "      <td>1709176.32</td>\n",
              "      <td>178.59</td>\n",
              "      <td>151.17</td>\n",
              "      <td>12.88</td>\n",
              "      <td>2608.40</td>\n",
              "      <td>28.14</td>\n",
              "    </tr>\n",
              "    <tr>\n",
              "      <th>4</th>\n",
              "      <td>AND</td>\n",
              "      <td>2019</td>\n",
              "      <td>184.99</td>\n",
              "      <td>0.81</td>\n",
              "      <td>123.79</td>\n",
              "      <td>75938.01</td>\n",
              "      <td>123.08</td>\n",
              "      <td>125.53</td>\n",
              "      <td>3.59</td>\n",
              "      <td>2712.14</td>\n",
              "      <td>34.04</td>\n",
              "    </tr>\n",
              "  </tbody>\n",
              "</table>\n",
              "</div>"
            ],
            "text/plain": [
              "  Country Code  Year  Agricultural land (sq. km)  \\\n",
              "0          ABW  2019                       20.00   \n",
              "1          AFG  2019                   378959.53   \n",
              "2          AGO  2019                   591467.93   \n",
              "3          ALB  2019                    11904.29   \n",
              "4          AND  2019                      184.99   \n",
              "\n",
              "   GDP per capita growth (annual %)  \\\n",
              "0                             -0.75   \n",
              "1                              3.31   \n",
              "2                              2.39   \n",
              "3                              6.65   \n",
              "4                              0.81   \n",
              "\n",
              "   Livestock production index (2004-2006 = 100)  Urban population  \\\n",
              "0                                        123.79          48057.97   \n",
              "1                                        108.26        9262840.16   \n",
              "2                                        146.48       19384636.41   \n",
              "3                                        120.60        1709176.32   \n",
              "4                                        123.79          75938.01   \n",
              "\n",
              "   Crop production index (2004-2006 = 100)  \\\n",
              "0                                   123.08   \n",
              "1                                   148.75   \n",
              "2                                   226.44   \n",
              "3                                   178.59   \n",
              "4                                   123.08   \n",
              "\n",
              "   Food production index (2004-2006 = 100)  \\\n",
              "0                                   125.53   \n",
              "1                                   130.08   \n",
              "2                                   208.66   \n",
              "3                                   151.17   \n",
              "4                                   125.53   \n",
              "\n",
              "   Ores and metals exports (% of merchandise exports)  \\\n",
              "0                                               6.37    \n",
              "1                                               2.05    \n",
              "2                                               2.28    \n",
              "3                                              12.88    \n",
              "4                                               3.59    \n",
              "\n",
              "   Electric power consumption (kWh per capita)  Forest area (% of land area)  \n",
              "0                                      2712.14                          2.33  \n",
              "1                                      2712.14                          2.07  \n",
              "2                                       308.43                         46.05  \n",
              "3                                      2608.40                         28.14  \n",
              "4                                      2712.14                         34.04  "
            ]
          },
          "metadata": {
            "tags": []
          },
          "execution_count": 32
        }
      ]
    },
    {
      "cell_type": "code",
      "metadata": {
        "id": "yKHOUzPq0CNh",
        "colab_type": "code",
        "colab": {}
      },
      "source": [
        "# Download the csv file.\n",
        "from google.colab import files\n",
        "test.to_csv('WorldBank_2019_2120.csv')\n",
        "files.download('WorldBank_2019_2120.csv')"
      ],
      "execution_count": 0,
      "outputs": []
    }
  ]
}