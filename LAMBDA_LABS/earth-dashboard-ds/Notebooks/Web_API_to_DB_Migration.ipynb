{
  "nbformat": 4,
  "nbformat_minor": 0,
  "metadata": {
    "colab": {
      "name": "Web_API_to_DB_Migration.ipynb",
      "provenance": [],
      "collapsed_sections": []
    },
    "kernelspec": {
      "name": "python3",
      "display_name": "Python 3"
    }
  },
  "cells": [
    {
      "cell_type": "markdown",
      "metadata": {
        "id": "AKcLPx5r-2AV",
        "colab_type": "text"
      },
      "source": [
        "# Notes:\n",
        "##### This notebook demonstrates the preliminary method used to parse JSON from 2 web apis from a COVID-19 site. The data was then inserted into our PostgreSQL database instance on AWS RDS. Since then, the process is was migrated to Flask to include more streamlining through creation of classes for each table and a more organized architecture for our API services, unit tests, models, and images. In the end, the Flask app was primarily replaced by AWS Lambda functions."
      ]
    },
    {
      "cell_type": "code",
      "metadata": {
        "id": "XN_CxNbaDO4u",
        "colab_type": "code",
        "colab": {
          "base_uri": "https://localhost:8080/",
          "height": 71
        },
        "outputId": "007afd5b-6589-4c6d-a35f-3a7f3d21e541"
      },
      "source": [
        "# Imports\n",
        "import psycopg2\n",
        "import requests\n",
        "from psycopg2.extras import Json"
      ],
      "execution_count": null,
      "outputs": [
        {
          "output_type": "stream",
          "text": [
            "/usr/local/lib/python3.6/dist-packages/psycopg2/__init__.py:144: UserWarning: The psycopg2 wheel package will be renamed from release 2.8; in order to keep installing from binary please use \"pip install psycopg2-binary\" instead. For details see: <http://initd.org/psycopg/docs/install.html#binary-install-from-pypi>.\n",
            "  \"\"\")\n"
          ],
          "name": "stderr"
        }
      ]
    },
    {
      "cell_type": "code",
      "metadata": {
        "id": "JmdyBHDP_KTb",
        "colab_type": "code",
        "colab": {}
      },
      "source": [
        "# You will need to get these credentials\n",
        "host = 'host'\n",
        "user = 'user'\n",
        "password = 'password'"
      ],
      "execution_count": null,
      "outputs": []
    },
    {
      "cell_type": "code",
      "metadata": {
        "id": "28a9FVbA_uHR",
        "colab_type": "code",
        "colab": {}
      },
      "source": [
        "# Define our function to insert JSON data into database. You will need this \n",
        "# function to quickly insert data!\n",
        "def db_insertion():\n",
        "    curs = conn.cursor()\n",
        "    if curs != None:\n",
        "        try:\n",
        "            curs.execute( sql_string )\n",
        "            conn.commit()\n",
        "            print('\\nfinished INSERT INTO execution')\n",
        "        except Exception as error:\n",
        "            print(\"\\nexecute_sql() error:\", error)\n",
        "            conn.rollback()\n",
        "        #close cursor and connection\n",
        "        curs.close()"
      ],
      "execution_count": null,
      "outputs": []
    },
    {
      "cell_type": "code",
      "metadata": {
        "id": "st3vZNHXntNS",
        "colab_type": "code",
        "colab": {}
      },
      "source": [
        "##########################summary TABLE#######################################"
      ],
      "execution_count": null,
      "outputs": []
    },
    {
      "cell_type": "code",
      "metadata": {
        "id": "i5C8ncubpytd",
        "colab_type": "code",
        "colab": {}
      },
      "source": [
        "# Connect to AWS RDS PostgreSQL DB instance via Psycopg - with secret password\n",
        "conn = psycopg2.connect(host=host, user=user, password=password)"
      ],
      "execution_count": null,
      "outputs": []
    },
    {
      "cell_type": "code",
      "metadata": {
        "id": "46MRWDLkp170",
        "colab_type": "code",
        "colab": {}
      },
      "source": [
        "# Initial Table Creation\n",
        "# drop duplicates\n",
        "drop_table = 'DROP TABLE IF EXISTS summary;'\n",
        "\n",
        "# create table query\n",
        "create_table = '''\n",
        "CREATE TABLE summary (\n",
        "countrycode TEXT,\n",
        "slug TEXT PRIMARY KEY,\n",
        "newconfirmed INTEGER,\n",
        "totalconfirmed INTEGER,\n",
        "newdeaths INTEGER,\n",
        "totaldeaths INTEGER,\n",
        "newrecovered INTEGER,\n",
        "totalrecovered INTEGER,\n",
        "date TIMESTAMP\n",
        ")'''\n",
        "\n",
        "creation_queries = [drop_table, create_table]\n",
        "\n",
        "# Run queries\n",
        "for query in creation_queries:\n",
        "    c = conn.cursor()\n",
        "    c.execute(query)\n",
        "    conn.commit()\n",
        "    c.close()"
      ],
      "execution_count": null,
      "outputs": []
    },
    {
      "cell_type": "code",
      "metadata": {
        "id": "bmutgavhp4cU",
        "colab_type": "code",
        "colab": {}
      },
      "source": [
        "# Put in that sweet data request\n",
        "response = requests.get(\"https://api.covid19api.com/summary\")\n",
        "list_of_dict = response.json()\n",
        "\n",
        "# Just get country data\n",
        "record_list = list_of_dict['Countries']\n",
        "\n",
        "# Separate keys and values\n",
        "columns = [(list(x.keys()))[1:] for x in record_list][0]\n",
        "values = [(list(x.values()))[1:] for x in record_list]"
      ],
      "execution_count": null,
      "outputs": []
    },
    {
      "cell_type": "code",
      "metadata": {
        "id": "6_bs8EB9th95",
        "colab_type": "code",
        "colab": {
          "base_uri": "https://localhost:8080/",
          "height": 170
        },
        "outputId": "635ef2ab-7604-4b8c-d218-868a3fdf16c7"
      },
      "source": [
        "columns"
      ],
      "execution_count": null,
      "outputs": [
        {
          "output_type": "execute_result",
          "data": {
            "text/plain": [
              "['CountryCode',\n",
              " 'Slug',\n",
              " 'NewConfirmed',\n",
              " 'TotalConfirmed',\n",
              " 'NewDeaths',\n",
              " 'TotalDeaths',\n",
              " 'NewRecovered',\n",
              " 'TotalRecovered',\n",
              " 'Date']"
            ]
          },
          "metadata": {
            "tags": []
          },
          "execution_count": 213
        }
      ]
    },
    {
      "cell_type": "code",
      "metadata": {
        "id": "K4uHmKJDp52K",
        "colab_type": "code",
        "colab": {
          "base_uri": "https://localhost:8080/",
          "height": 34
        },
        "outputId": "c7b0d12b-7917-445f-ba48-0e7d72e114b8"
      },
      "source": [
        "values[5]"
      ],
      "execution_count": null,
      "outputs": [
        {
          "output_type": "execute_result",
          "data": {
            "text/plain": [
              "['AD', 'andorra', 4, 717, 1, 37, 13, 248, '2020-04-21T03:15:26Z']"
            ]
          },
          "metadata": {
            "tags": []
          },
          "execution_count": 214
        }
      ]
    },
    {
      "cell_type": "code",
      "metadata": {
        "id": "osZnJKYtp7gw",
        "colab_type": "code",
        "colab": {
          "base_uri": "https://localhost:8080/",
          "height": 34
        },
        "outputId": "ac104ae4-d674-4d20-937b-3933e186c70e"
      },
      "source": [
        "values[20]"
      ],
      "execution_count": null,
      "outputs": [
        {
          "output_type": "execute_result",
          "data": {
            "text/plain": [
              "['BY', 'belarus', 1485, 6264, 4, 51, 20, 514, '2020-04-21T03:15:26Z']"
            ]
          },
          "metadata": {
            "tags": []
          },
          "execution_count": 215
        }
      ]
    },
    {
      "cell_type": "code",
      "metadata": {
        "id": "8SdWuNP6p-c5",
        "colab_type": "code",
        "colab": {
          "base_uri": "https://localhost:8080/",
          "height": 34
        },
        "outputId": "e7afd4db-8de5-4123-902f-63bd372589df"
      },
      "source": [
        "# Use Python to parse the JSON object \n",
        "\n",
        "# value string for the SQL string\n",
        "values_str = ''\n",
        "\n",
        "# enumerate over records' values\n",
        "for i, record in enumerate(values):\n",
        "    #declare empty list for values\n",
        "    val_list = []\n",
        "\n",
        "    # append each value to a new list of values\n",
        "    for v, val in enumerate(record):\n",
        "        if type(val) == str:\n",
        "            val = str(Json(val)).replace('\"','')\n",
        "        val_list += [ str(val) ]\n",
        "\n",
        "    # put parentheses around each record string\n",
        "    values_str += \"(\" + ', '.join( val_list ) + \"),\\n\"\n",
        "\n",
        "# remove the last comma and end SQL with a semicolon\n",
        "values_str = values_str[:-2] + \";\"\n",
        "\n",
        "# Declare an SQL string for postgresql records\n",
        "\n",
        "# concatenate the SQL string\n",
        "table_name = \"summary\"\n",
        "sql_string = \"INSERT INTO %s (%s)\\nVALUES %s\" % (\n",
        "    table_name,\n",
        "    ', '.join(columns),\n",
        "    values_str\n",
        ")\n",
        "\n",
        "len(sql_string)"
      ],
      "execution_count": null,
      "outputs": [
        {
          "output_type": "execute_result",
          "data": {
            "text/plain": [
              "17180"
            ]
          },
          "metadata": {
            "tags": []
          },
          "execution_count": 216
        }
      ]
    },
    {
      "cell_type": "code",
      "metadata": {
        "id": "k-7mHkZfvn7U",
        "colab_type": "code",
        "colab": {
          "base_uri": "https://localhost:8080/",
          "height": 51
        },
        "outputId": "7e698e39-ba56-47d6-b0f4-36b920d31e76"
      },
      "source": [
        "# Insert JSON data into db\n",
        "db_insertion()"
      ],
      "execution_count": null,
      "outputs": [
        {
          "output_type": "stream",
          "text": [
            "\n",
            "finished INSERT INTO execution\n"
          ],
          "name": "stdout"
        }
      ]
    },
    {
      "cell_type": "code",
      "metadata": {
        "id": "RfE6bw0nvpj_",
        "colab_type": "code",
        "colab": {}
      },
      "source": [
        "# Close our connection \n",
        "conn.close()"
      ],
      "execution_count": null,
      "outputs": []
    },
    {
      "cell_type": "code",
      "metadata": {
        "id": "57pSxEogeVhZ",
        "colab_type": "code",
        "colab": {}
      },
      "source": [
        "##########################uscounty TABLE#######################################"
      ],
      "execution_count": null,
      "outputs": []
    },
    {
      "cell_type": "code",
      "metadata": {
        "id": "Omo8hp65eYJL",
        "colab_type": "code",
        "colab": {}
      },
      "source": [
        "# Connect to AWS RDS PostgreSQL DB instance via Psycopg - with secret password\n",
        "conn = psycopg2.connect(host=host, user=user, password=password)"
      ],
      "execution_count": null,
      "outputs": []
    },
    {
      "cell_type": "code",
      "metadata": {
        "id": "tcfU6WrAeaCb",
        "colab_type": "code",
        "colab": {}
      },
      "source": [
        "# Initial Table Creation\n",
        "# drop duplicates\n",
        "drop_table = 'DROP TABLE IF EXISTS uscounties;'\n",
        "\n",
        "# create table query\n",
        "create_table = '''\n",
        "CREATE TABLE uscounties (\n",
        "id SERIAL PRIMARY KEY,\n",
        "country TEXT,\n",
        "countrycode TEXT,\n",
        "province TEXT,\n",
        "city TEXT,\n",
        "citycode TEXT,\n",
        "lat REAL,\n",
        "lon REAL,\n",
        "cases INTEGER,\n",
        "status TEXT,\n",
        "date TIMESTAMP\n",
        ")'''\n",
        "\n",
        "creation_queries = [drop_table, create_table]\n",
        "\n",
        "# Run queries\n",
        "for query in creation_queries:\n",
        "    c = conn.cursor()\n",
        "    c.execute(query)\n",
        "    conn.commit()\n",
        "    c.close()"
      ],
      "execution_count": null,
      "outputs": []
    },
    {
      "cell_type": "code",
      "metadata": {
        "id": "pn1xmW37eb4G",
        "colab_type": "code",
        "colab": {}
      },
      "source": [
        "# Put in that sweet data request\n",
        "response = requests.get(\"https://api.covid19api.com/country/us/status/confirmed/live\")\n",
        "record_list = response.json()\n",
        "\n",
        "# Separate keys and values\n",
        "columns = [(list(x.keys())) for x in record_list][0]\n",
        "values = [(list(x.values())) for x in record_list]"
      ],
      "execution_count": null,
      "outputs": []
    },
    {
      "cell_type": "code",
      "metadata": {
        "id": "-hWIeSlkeeBJ",
        "colab_type": "code",
        "colab": {
          "base_uri": "https://localhost:8080/",
          "height": 187
        },
        "outputId": "0a53e4d4-abfa-4b29-e1b0-7b94046e4e6b"
      },
      "source": [
        "columns"
      ],
      "execution_count": null,
      "outputs": [
        {
          "output_type": "execute_result",
          "data": {
            "text/plain": [
              "['Country',\n",
              " 'CountryCode',\n",
              " 'Province',\n",
              " 'City',\n",
              " 'CityCode',\n",
              " 'Lat',\n",
              " 'Lon',\n",
              " 'Cases',\n",
              " 'Status',\n",
              " 'Date']"
            ]
          },
          "metadata": {
            "tags": []
          },
          "execution_count": 26
        }
      ]
    },
    {
      "cell_type": "code",
      "metadata": {
        "id": "kS1-8jOIeer3",
        "colab_type": "code",
        "colab": {
          "base_uri": "https://localhost:8080/",
          "height": 187
        },
        "outputId": "7c1d019a-2e81-4596-cb8c-54e10f2c7380"
      },
      "source": [
        "values[20]"
      ],
      "execution_count": null,
      "outputs": [
        {
          "output_type": "execute_result",
          "data": {
            "text/plain": [
              "['United States of America',\n",
              " 'US',\n",
              " 'Wyoming',\n",
              " 'Crook',\n",
              " '56011',\n",
              " '44.59',\n",
              " '-104.57',\n",
              " 0,\n",
              " 'confirmed',\n",
              " '2020-01-22T00:00:00Z']"
            ]
          },
          "metadata": {
            "tags": []
          },
          "execution_count": 27
        }
      ]
    },
    {
      "cell_type": "code",
      "metadata": {
        "id": "PS_eXXyxehu6",
        "colab_type": "code",
        "colab": {
          "base_uri": "https://localhost:8080/",
          "height": 34
        },
        "outputId": "9ef6e08a-5157-4c48-bc80-0b15e5d58e29"
      },
      "source": [
        "# Use Python to parse the JSON object \n",
        "\n",
        "# value string for the SQL string\n",
        "values_str = ''\n",
        "\n",
        "# enumerate over records' values\n",
        "for i, record in enumerate(values):\n",
        "    #declare empty list for values\n",
        "    val_list = []\n",
        "\n",
        "    # append each value to a new list of values\n",
        "    for v, val in enumerate(record):\n",
        "        if type(val) == str:\n",
        "            val = str(Json(val)).replace('\"','')\n",
        "        val_list += [ str(val) ]\n",
        "\n",
        "    # put parentheses around each record string\n",
        "    values_str += \"(\" + ', '.join( val_list ) + \"),\\n\"\n",
        "\n",
        "# remove the last comma and end SQL with a semicolon\n",
        "values_str = values_str[:-2] + \";\"\n",
        "\n",
        "# Declare an SQL string for postgresql records\n",
        "\n",
        "# concatenate the SQL string\n",
        "table_name = \"uscounties\"\n",
        "sql_string = \"INSERT INTO %s (%s)\\nVALUES %s\" % (\n",
        "    table_name,\n",
        "    ', '.join(columns),\n",
        "    values_str\n",
        ")\n",
        "\n",
        "len(sql_string)"
      ],
      "execution_count": null,
      "outputs": [
        {
          "output_type": "execute_result",
          "data": {
            "text/plain": [
              "37571429"
            ]
          },
          "metadata": {
            "tags": []
          },
          "execution_count": 28
        }
      ]
    },
    {
      "cell_type": "code",
      "metadata": {
        "id": "ojIAjx4cejq-",
        "colab_type": "code",
        "colab": {
          "base_uri": "https://localhost:8080/",
          "height": 51
        },
        "outputId": "35fcd60b-8a58-4727-ede4-ea1b6807220c"
      },
      "source": [
        "# Insert JSON data into db\n",
        "db_insertion()"
      ],
      "execution_count": null,
      "outputs": [
        {
          "output_type": "stream",
          "text": [
            "\n",
            "finished INSERT INTO execution\n"
          ],
          "name": "stdout"
        }
      ]
    },
    {
      "cell_type": "code",
      "metadata": {
        "id": "2-dUzSCXelVA",
        "colab_type": "code",
        "colab": {}
      },
      "source": [
        "# Close our connection \n",
        "conn.close()"
      ],
      "execution_count": null,
      "outputs": []
    }
  ]
}
