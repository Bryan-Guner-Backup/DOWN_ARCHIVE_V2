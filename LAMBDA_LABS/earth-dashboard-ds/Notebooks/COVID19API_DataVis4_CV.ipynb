{
  "nbformat": 4,
  "nbformat_minor": 0,
  "metadata": {
    "colab": {
      "name": "COVID19API_DataVis4_CV.ipynb",
      "provenance": [],
      "collapsed_sections": []
    },
    "kernelspec": {
      "name": "python3",
      "display_name": "Python 3"
    }
  },
  "cells": [
    {
      "cell_type": "markdown",
      "metadata": {
        "id": "UWQY4dOFuwEC",
        "colab_type": "text"
      },
      "source": [
        "# COVID-19 Data (API).\n",
        "### COVID-19 World Data.\n",
        "[site](https://covid19api.com/) | [API info](https://documenter.getpostman.com/view/10808728/SzS8rjbc?version=latest)\n",
        "\n"
      ]
    },
    {
      "cell_type": "code",
      "metadata": {
        "id": "oZm6OLzp5-Hk",
        "colab_type": "code",
        "colab": {}
      },
      "source": [
        "# necessary imports for notebook.\n",
        "import pandas as pd\n",
        "import numpy as np\n",
        "import requests\n",
        "import json\n",
        "import datetime as dt\n",
        "from datetime import datetime\n",
        "import matplotlib.pyplot as plt\n",
        "import matplotlib.ticker as ticker\n",
        "import matplotlib.animation as animation\n",
        "from IPython.display import HTML"
      ],
      "execution_count": 0,
      "outputs": []
    },
    {
      "cell_type": "code",
      "metadata": {
        "id": "JK-ljUuGpd2h",
        "colab_type": "code",
        "outputId": "80e20801-73f8-4fc7-ba4d-89bd93570c39",
        "colab": {
          "base_uri": "https://localhost:8080/",
          "height": 222
        }
      },
      "source": [
        "# read in the API.\n",
        "''' COVID-19 : Countries Daily Summary Total'''\n",
        "response = requests.get(\"https://api.covid19api.com/all\")\n",
        "print(response.status_code)\n",
        "covid_cs = response.json()\n",
        "covid_countriessummary = pd.json_normalize(covid_cs)\n",
        "print(covid_countriessummary.shape)\n",
        "covid_countriessummary.head()"
      ],
      "execution_count": 13,
      "outputs": [
        {
          "output_type": "stream",
          "text": [
            "200\n",
            "(509820, 12)\n"
          ],
          "name": "stdout"
        },
        {
          "output_type": "execute_result",
          "data": {
            "text/html": [
              "<div>\n",
              "<style scoped>\n",
              "    .dataframe tbody tr th:only-of-type {\n",
              "        vertical-align: middle;\n",
              "    }\n",
              "\n",
              "    .dataframe tbody tr th {\n",
              "        vertical-align: top;\n",
              "    }\n",
              "\n",
              "    .dataframe thead th {\n",
              "        text-align: right;\n",
              "    }\n",
              "</style>\n",
              "<table border=\"1\" class=\"dataframe\">\n",
              "  <thead>\n",
              "    <tr style=\"text-align: right;\">\n",
              "      <th></th>\n",
              "      <th>Country</th>\n",
              "      <th>CountryCode</th>\n",
              "      <th>Province</th>\n",
              "      <th>City</th>\n",
              "      <th>CityCode</th>\n",
              "      <th>Lat</th>\n",
              "      <th>Lon</th>\n",
              "      <th>Confirmed</th>\n",
              "      <th>Deaths</th>\n",
              "      <th>Recovered</th>\n",
              "      <th>Active</th>\n",
              "      <th>Date</th>\n",
              "    </tr>\n",
              "  </thead>\n",
              "  <tbody>\n",
              "    <tr>\n",
              "      <th>0</th>\n",
              "      <td>Afghanistan</td>\n",
              "      <td>AF</td>\n",
              "      <td></td>\n",
              "      <td></td>\n",
              "      <td></td>\n",
              "      <td>33.94</td>\n",
              "      <td>67.71</td>\n",
              "      <td>0</td>\n",
              "      <td>0</td>\n",
              "      <td>0</td>\n",
              "      <td>0</td>\n",
              "      <td>2020-01-22T00:00:00Z</td>\n",
              "    </tr>\n",
              "    <tr>\n",
              "      <th>1</th>\n",
              "      <td>Afghanistan</td>\n",
              "      <td>AF</td>\n",
              "      <td></td>\n",
              "      <td></td>\n",
              "      <td></td>\n",
              "      <td>33.94</td>\n",
              "      <td>67.71</td>\n",
              "      <td>0</td>\n",
              "      <td>0</td>\n",
              "      <td>0</td>\n",
              "      <td>0</td>\n",
              "      <td>2020-01-23T00:00:00Z</td>\n",
              "    </tr>\n",
              "    <tr>\n",
              "      <th>2</th>\n",
              "      <td>Afghanistan</td>\n",
              "      <td>AF</td>\n",
              "      <td></td>\n",
              "      <td></td>\n",
              "      <td></td>\n",
              "      <td>33.94</td>\n",
              "      <td>67.71</td>\n",
              "      <td>0</td>\n",
              "      <td>0</td>\n",
              "      <td>0</td>\n",
              "      <td>0</td>\n",
              "      <td>2020-01-24T00:00:00Z</td>\n",
              "    </tr>\n",
              "    <tr>\n",
              "      <th>3</th>\n",
              "      <td>Afghanistan</td>\n",
              "      <td>AF</td>\n",
              "      <td></td>\n",
              "      <td></td>\n",
              "      <td></td>\n",
              "      <td>33.94</td>\n",
              "      <td>67.71</td>\n",
              "      <td>0</td>\n",
              "      <td>0</td>\n",
              "      <td>0</td>\n",
              "      <td>0</td>\n",
              "      <td>2020-01-25T00:00:00Z</td>\n",
              "    </tr>\n",
              "    <tr>\n",
              "      <th>4</th>\n",
              "      <td>Afghanistan</td>\n",
              "      <td>AF</td>\n",
              "      <td></td>\n",
              "      <td></td>\n",
              "      <td></td>\n",
              "      <td>33.94</td>\n",
              "      <td>67.71</td>\n",
              "      <td>0</td>\n",
              "      <td>0</td>\n",
              "      <td>0</td>\n",
              "      <td>0</td>\n",
              "      <td>2020-01-26T00:00:00Z</td>\n",
              "    </tr>\n",
              "  </tbody>\n",
              "</table>\n",
              "</div>"
            ],
            "text/plain": [
              "       Country CountryCode Province  ... Recovered Active                  Date\n",
              "0  Afghanistan          AF           ...         0      0  2020-01-22T00:00:00Z\n",
              "1  Afghanistan          AF           ...         0      0  2020-01-23T00:00:00Z\n",
              "2  Afghanistan          AF           ...         0      0  2020-01-24T00:00:00Z\n",
              "3  Afghanistan          AF           ...         0      0  2020-01-25T00:00:00Z\n",
              "4  Afghanistan          AF           ...         0      0  2020-01-26T00:00:00Z\n",
              "\n",
              "[5 rows x 12 columns]"
            ]
          },
          "metadata": {
            "tags": []
          },
          "execution_count": 13
        }
      ]
    },
    {
      "cell_type": "code",
      "metadata": {
        "id": "MhNnXUnuUArE",
        "colab_type": "code",
        "colab": {}
      },
      "source": [
        "# new data frame.\n",
        "df = covid_countriessummary.copy()"
      ],
      "execution_count": 0,
      "outputs": []
    },
    {
      "cell_type": "code",
      "metadata": {
        "id": "ACt0zJ7NT_5k",
        "colab_type": "code",
        "colab": {}
      },
      "source": [
        "# clean up the data.\n",
        "df.drop(df[df['Lat'] == '0'].index, inplace = True)\n",
        "df['Date'] = df['Date'].str[:10]\n",
        "df = df.rename(columns={\"CountryCode\": \"Code\"})\n",
        "df = df.drop(columns=['Province', 'City', 'CityCode', 'Active', 'Lat', 'Lon'])\n",
        "df = df[['Date', 'Country', 'Code', 'Confirmed', 'Recovered', 'Deaths']]\n",
        "df = df.groupby(['Date', 'Country', 'Code']).agg({'Confirmed':'sum', 'Deaths': 'sum', 'Recovered': 'sum'}).reset_index()"
      ],
      "execution_count": 0,
      "outputs": []
    },
    {
      "cell_type": "code",
      "metadata": {
        "id": "j3DS3MhKxmFo",
        "colab_type": "code",
        "outputId": "602e7017-39c6-471e-a8a7-e8620ad7b5cb",
        "colab": {
          "base_uri": "https://localhost:8080/",
          "height": 205
        }
      },
      "source": [
        "# final data frame.\n",
        "print(df.shape)\n",
        "df.head()"
      ],
      "execution_count": 16,
      "outputs": [
        {
          "output_type": "stream",
          "text": [
            "(26970, 6)\n"
          ],
          "name": "stdout"
        },
        {
          "output_type": "execute_result",
          "data": {
            "text/html": [
              "<div>\n",
              "<style scoped>\n",
              "    .dataframe tbody tr th:only-of-type {\n",
              "        vertical-align: middle;\n",
              "    }\n",
              "\n",
              "    .dataframe tbody tr th {\n",
              "        vertical-align: top;\n",
              "    }\n",
              "\n",
              "    .dataframe thead th {\n",
              "        text-align: right;\n",
              "    }\n",
              "</style>\n",
              "<table border=\"1\" class=\"dataframe\">\n",
              "  <thead>\n",
              "    <tr style=\"text-align: right;\">\n",
              "      <th></th>\n",
              "      <th>Date</th>\n",
              "      <th>Country</th>\n",
              "      <th>Code</th>\n",
              "      <th>Confirmed</th>\n",
              "      <th>Deaths</th>\n",
              "      <th>Recovered</th>\n",
              "    </tr>\n",
              "  </thead>\n",
              "  <tbody>\n",
              "    <tr>\n",
              "      <th>0</th>\n",
              "      <td>2020-01-22</td>\n",
              "      <td>Afghanistan</td>\n",
              "      <td>AF</td>\n",
              "      <td>0</td>\n",
              "      <td>0</td>\n",
              "      <td>0</td>\n",
              "    </tr>\n",
              "    <tr>\n",
              "      <th>1</th>\n",
              "      <td>2020-01-22</td>\n",
              "      <td>Albania</td>\n",
              "      <td>AL</td>\n",
              "      <td>0</td>\n",
              "      <td>0</td>\n",
              "      <td>0</td>\n",
              "    </tr>\n",
              "    <tr>\n",
              "      <th>2</th>\n",
              "      <td>2020-01-22</td>\n",
              "      <td>Algeria</td>\n",
              "      <td>DZ</td>\n",
              "      <td>0</td>\n",
              "      <td>0</td>\n",
              "      <td>0</td>\n",
              "    </tr>\n",
              "    <tr>\n",
              "      <th>3</th>\n",
              "      <td>2020-01-22</td>\n",
              "      <td>Andorra</td>\n",
              "      <td>AD</td>\n",
              "      <td>0</td>\n",
              "      <td>0</td>\n",
              "      <td>0</td>\n",
              "    </tr>\n",
              "    <tr>\n",
              "      <th>4</th>\n",
              "      <td>2020-01-22</td>\n",
              "      <td>Angola</td>\n",
              "      <td>AO</td>\n",
              "      <td>0</td>\n",
              "      <td>0</td>\n",
              "      <td>0</td>\n",
              "    </tr>\n",
              "  </tbody>\n",
              "</table>\n",
              "</div>"
            ],
            "text/plain": [
              "         Date      Country Code  Confirmed  Deaths  Recovered\n",
              "0  2020-01-22  Afghanistan   AF          0       0          0\n",
              "1  2020-01-22      Albania   AL          0       0          0\n",
              "2  2020-01-22      Algeria   DZ          0       0          0\n",
              "3  2020-01-22      Andorra   AD          0       0          0\n",
              "4  2020-01-22       Angola   AO          0       0          0"
            ]
          },
          "metadata": {
            "tags": []
          },
          "execution_count": 16
        }
      ]
    },
    {
      "cell_type": "code",
      "metadata": {
        "id": "EvZrEPrRcKLE",
        "colab_type": "code",
        "outputId": "a5240325-daa5-405c-9d91-c0ab27dc2e86",
        "colab": {
          "base_uri": "https://localhost:8080/",
          "height": 33
        }
      },
      "source": [
        "# set yesterdays date.\n",
        "yesterday = df['Date'].iloc[-1]\n",
        "df1 = (df[df['Date'].eq(yesterday)].sort_values(by='Deaths', ascending=False).head(20))\n",
        "print(yesterday)"
      ],
      "execution_count": 17,
      "outputs": [
        {
          "output_type": "stream",
          "text": [
            "2020-06-14\n"
          ],
          "name": "stdout"
        }
      ]
    },
    {
      "cell_type": "code",
      "metadata": {
        "id": "1hR1vPDCxWIC",
        "colab_type": "code",
        "outputId": "683af17b-3928-4df5-ee97-cce7be8cada5",
        "colab": {
          "base_uri": "https://localhost:8080/",
          "height": 205
        }
      },
      "source": [
        "# top 20 countries dataframe.\n",
        "countries = df1['Country'].unique()\n",
        "df = df[df['Country'].isin(countries)]\n",
        "print(df.shape)\n",
        "df.head()"
      ],
      "execution_count": 18,
      "outputs": [
        {
          "output_type": "stream",
          "text": [
            "(2900, 6)\n"
          ],
          "name": "stdout"
        },
        {
          "output_type": "execute_result",
          "data": {
            "text/html": [
              "<div>\n",
              "<style scoped>\n",
              "    .dataframe tbody tr th:only-of-type {\n",
              "        vertical-align: middle;\n",
              "    }\n",
              "\n",
              "    .dataframe tbody tr th {\n",
              "        vertical-align: top;\n",
              "    }\n",
              "\n",
              "    .dataframe thead th {\n",
              "        text-align: right;\n",
              "    }\n",
              "</style>\n",
              "<table border=\"1\" class=\"dataframe\">\n",
              "  <thead>\n",
              "    <tr style=\"text-align: right;\">\n",
              "      <th></th>\n",
              "      <th>Date</th>\n",
              "      <th>Country</th>\n",
              "      <th>Code</th>\n",
              "      <th>Confirmed</th>\n",
              "      <th>Deaths</th>\n",
              "      <th>Recovered</th>\n",
              "    </tr>\n",
              "  </thead>\n",
              "  <tbody>\n",
              "    <tr>\n",
              "      <th>16</th>\n",
              "      <td>2020-01-22</td>\n",
              "      <td>Belgium</td>\n",
              "      <td>BE</td>\n",
              "      <td>0</td>\n",
              "      <td>0</td>\n",
              "      <td>0</td>\n",
              "    </tr>\n",
              "    <tr>\n",
              "      <th>23</th>\n",
              "      <td>2020-01-22</td>\n",
              "      <td>Brazil</td>\n",
              "      <td>BR</td>\n",
              "      <td>0</td>\n",
              "      <td>0</td>\n",
              "      <td>0</td>\n",
              "    </tr>\n",
              "    <tr>\n",
              "      <th>30</th>\n",
              "      <td>2020-01-22</td>\n",
              "      <td>Canada</td>\n",
              "      <td>CA</td>\n",
              "      <td>0</td>\n",
              "      <td>0</td>\n",
              "      <td>0</td>\n",
              "    </tr>\n",
              "    <tr>\n",
              "      <th>34</th>\n",
              "      <td>2020-01-22</td>\n",
              "      <td>Chile</td>\n",
              "      <td>CL</td>\n",
              "      <td>0</td>\n",
              "      <td>0</td>\n",
              "      <td>0</td>\n",
              "    </tr>\n",
              "    <tr>\n",
              "      <th>35</th>\n",
              "      <td>2020-01-22</td>\n",
              "      <td>China</td>\n",
              "      <td>CN</td>\n",
              "      <td>548</td>\n",
              "      <td>17</td>\n",
              "      <td>28</td>\n",
              "    </tr>\n",
              "  </tbody>\n",
              "</table>\n",
              "</div>"
            ],
            "text/plain": [
              "          Date  Country Code  Confirmed  Deaths  Recovered\n",
              "16  2020-01-22  Belgium   BE          0       0          0\n",
              "23  2020-01-22   Brazil   BR          0       0          0\n",
              "30  2020-01-22   Canada   CA          0       0          0\n",
              "34  2020-01-22    Chile   CL          0       0          0\n",
              "35  2020-01-22    China   CN        548      17         28"
            ]
          },
          "metadata": {
            "tags": []
          },
          "execution_count": 18
        }
      ]
    },
    {
      "cell_type": "code",
      "metadata": {
        "id": "p4_YxGJuWa0l",
        "colab_type": "code",
        "colab": {}
      },
      "source": [
        "# show bar chart of top 20 countries and the count from yesterday.\n",
        "fig, ax = plt.subplots(figsize=(20, 12))\n",
        "ax.barh(df1['Country'], df1['Deaths'])"
      ],
      "execution_count": 0,
      "outputs": []
    },
    {
      "cell_type": "code",
      "metadata": {
        "id": "5P5N5jV6UhIu",
        "colab_type": "code",
        "outputId": "69c25c84-c8af-407d-f83e-24be7b4bd809",
        "colab": {
          "base_uri": "https://localhost:8080/",
          "height": 69
        }
      },
      "source": [
        "# set the coutry codes to a list.\n",
        "countrycodes = df1['Code'].to_list()\n",
        "# set colors to the list.\n",
        "colors = dict(zip(\n",
        "    (countrycodes),\n",
        "    [\"#adb0ff\", \"#ffb3ff\", \"#90d595\", \"#e48381\", \"#aafbff\",\n",
        "     \"#adb0ff\", \"#ffb3ff\", \"#90d595\", \"#e48381\", \"#aafbff\", \n",
        "     \"#adb0ff\", \"#ffb3ff\", \"#90d595\", \"#e48381\", \"#aafbff\", \n",
        "     \"#adb0ff\", \"#ffb3ff\", \"#90d595\", \"#e48381\", \"#aafbff\", \"#ffb3ff\"]\n",
        "    ))\n",
        "group_lk = df1.set_index('Country')['Code'].to_dict()\n",
        "print(colors)\n",
        "print(group_lk)"
      ],
      "execution_count": 20,
      "outputs": [
        {
          "output_type": "stream",
          "text": [
            "{'US': '#adb0ff', 'BR': '#ffb3ff', 'GB': '#90d595', 'IT': '#e48381', 'FR': '#aafbff', 'ES': '#adb0ff', 'MX': '#ffb3ff', 'CA': '#90d595', 'BE': '#e48381', 'IN': '#aafbff', 'IR': '#adb0ff', 'DE': '#ffb3ff', 'RU': '#90d595', 'PE': '#e48381', 'NL': '#aafbff', 'SE': '#adb0ff', 'TR': '#ffb3ff', 'CN': '#90d595', 'EC': '#e48381', 'CL': '#aafbff'}\n",
            "{'United States of America': 'US', 'Brazil': 'BR', 'United Kingdom': 'GB', 'Italy': 'IT', 'France': 'FR', 'Spain': 'ES', 'Mexico': 'MX', 'Canada': 'CA', 'Belgium': 'BE', 'India': 'IN', 'Iran, Islamic Republic of': 'IR', 'Germany': 'DE', 'Russian Federation': 'RU', 'Peru': 'PE', 'Netherlands': 'NL', 'Sweden': 'SE', 'Turkey': 'TR', 'China': 'CN', 'Ecuador': 'EC', 'Chile': 'CL'}\n"
          ],
          "name": "stdout"
        }
      ]
    },
    {
      "cell_type": "code",
      "metadata": {
        "id": "DbLXP0Nke0Py",
        "colab_type": "code",
        "colab": {}
      },
      "source": [
        "# function to label, color the bar chart.\n",
        "def draw_barchart(datetime):\n",
        "    df1 = df[df['Date'].eq(datetime)].sort_values(by='Deaths', ascending=True).tail(20)\n",
        "    \n",
        "    ax.clear()\n",
        "    ax.barh(df1['Country'], df1['Deaths'], color=[colors[group_lk[x]] for x in df1['Country']])\n",
        "    dx = df1['Deaths'].max() / 200\n",
        "    for i, (Deaths, Country) in enumerate(zip(df1['Deaths'], df1['Country'])):\n",
        "        ax.text(Deaths-dx, i,     Country,                   size=14, weight=600, ha='right', va='bottom')\n",
        "        ax.text(Deaths-dx, i-.25, group_lk[Country],         size=10, color='#333F4B', ha='right', va='baseline')\n",
        "        ax.text(Deaths+dx, i,     f'{Deaths:,.0f}',       size=14, ha='left',  va='center')\n",
        "    ax.text(1, 0.4, datetime, transform=ax.transAxes, color='#777777', size=46, ha='right', weight=800)\n",
        "    ax.text(0, 1.06, 'Deaths Cases (COVID-19)', transform=ax.transAxes, size=12, color='#777777')\n",
        "    ax.xaxis.set_major_formatter(ticker.StrMethodFormatter('{x:,.0f}'))\n",
        "    ax.xaxis.set_ticks_position('top')\n",
        "    ax.tick_params(axis='x', colors='#777777', labelsize=12)\n",
        "    ax.set_yticks([])\n",
        "    ax.margins(0, 0.01)\n",
        "    ax.grid(which='major', axis='x', linestyle='-')\n",
        "    ax.set_axisbelow(True)\n",
        "    ax.text(0, 1.12, 'COVID-19 Deaths cases',\n",
        "            transform=ax.transAxes, size=24, weight=600, ha='left')\n",
        "    ax.text(1, 0, 'by Charles Vanchieri; credit @cvnachieri', transform=ax.transAxes, ha='right',\n",
        "            color='#777777', bbox=dict(facecolor='white', alpha=0.8, edgecolor='white'))\n",
        "    plt.box(False)\n",
        "\n",
        "fig, ax = plt.subplots(figsize=(15, 8))   \n",
        "# use the function on yesterdays date.\n",
        "draw_barchart(yesterday)"
      ],
      "execution_count": 0,
      "outputs": []
    },
    {
      "cell_type": "code",
      "metadata": {
        "id": "pNRnQNyxj8Q3",
        "colab_type": "code",
        "colab": {}
      },
      "source": [
        "# set time and animation.\n",
        "time = list(df['Date'].unique())\n",
        "fig, ax = plt.subplots(figsize=(20, 12))\n",
        "animator = animation.FuncAnimation(fig, draw_barchart, frames=(time), interval=350)\n",
        "HTML(animator.to_jshtml())"
      ],
      "execution_count": 0,
      "outputs": []
    },
    {
      "cell_type": "markdown",
      "metadata": {
        "id": "kMFUYHoapKCf",
        "colab_type": "text"
      },
      "source": [
        "![barchartrace](https://github.com/Lambda-School-Labs/earth-dashboard-ds/blob/feature/updating-notebooks---CV/Notebooks/Images/COVID-19Barchartrace1.png?raw=true)\n",
        "![barchartrace](https://github.com/Lambda-School-Labs/earth-dashboard-ds/blob/feature/updating-notebooks---CV/Notebooks/Images/COVID-19Barchartrace2.png?raw=true)\n",
        "\n",
        "\n"
      ]
    }
  ]
}
