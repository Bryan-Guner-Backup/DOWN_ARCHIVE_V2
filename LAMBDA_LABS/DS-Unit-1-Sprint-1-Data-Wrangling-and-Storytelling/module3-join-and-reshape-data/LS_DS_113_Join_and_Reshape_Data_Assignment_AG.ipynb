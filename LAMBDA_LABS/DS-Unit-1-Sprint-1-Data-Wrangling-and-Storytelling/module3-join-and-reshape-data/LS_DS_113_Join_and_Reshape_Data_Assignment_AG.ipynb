{
 "cells": [
  {
   "cell_type": "markdown",
   "metadata": {},
   "source": [
    "## Autograded Notebook (Canvas & CodeGrade)\n",
    "\n",
    "This notebook will be automatically graded. It is designed to test your answers and award points for the correct answers. Following the instructions for each Task carefully.\n",
    "\n",
    "### Instructions\n",
    "\n",
    "* **Download this notebook** as you would any other ipynb file\n",
    "* **Upload** to Google Colab or work locally (if you have that set-up)\n",
    "* **Delete `raise NotImplementedError()`**\n",
    "* Write your code in the `# YOUR CODE HERE` space\n",
    "* **Execute** the Test cells that contain `assert` statements - these help you check your work (others contain hidden tests that will be checked when you submit through Canvas)\n",
    "* **Save** your notebook when you are finished\n",
    "* **Download** as a `ipynb` file (if working in Colab)\n",
    "* **Upload** your complete notebook to Canvas (there will be additional instructions in Slack and/or Canvas)"
   ]
  },
  {
   "cell_type": "markdown",
   "metadata": {},
   "source": [
    "# Lambda School Data Science - Unit 1 Sprint 1 Module 3\n",
    "\n",
    "## Join and Reshape Data \n",
    "\n",
    "### Module Learning Objectives\n",
    "\n",
    "* Concatenate data using the pandas concat method\n",
    "* Merge data using pandas merge\n",
    "* Define the concept of tidy data and describe the format\n",
    "* Tidy data\n",
    "\n",
    "### Helpful Resources\n",
    "\n",
    "* [Pandas Cheat Sheet](https://github.com/pandas-dev/pandas/blob/master/doc/cheatsheet/Pandas_Cheat_Sheet.pdf)\n",
    "* Python Data Science Handbook\n",
    "    * [Chapter 3.6](https://jakevdp.github.io/PythonDataScienceHandbook/03.06-concat-and-append.html), Combining Datasets: Concat and Append\n",
    "    * [Chapter 3.7](https://jakevdp.github.io/PythonDataScienceHandbook/03.07-merge-and-join.html), Combining Datasets: Merge and Join\n",
    "    * [Chapter 3.8](https://jakevdp.github.io/PythonDataScienceHandbook/03.08-aggregation-and-grouping.html), Aggregation and Grouping\n",
    "    * [Chapter 3.9](https://jakevdp.github.io/PythonDataScienceHandbook/03.09-pivot-tables.html), Pivot Tables"
   ]
  },
  {
   "cell_type": "markdown",
   "metadata": {},
   "source": [
    "## Introduction\n",
    "\n",
    "In this Module Project, we're going to focus on manipulating data: loading multiple datasets from different locations, concatenating, merging, and even the fancy pandas `groupby` method.\n",
    "\n",
    "## Dataset Description\n",
    "\n",
    "You can view the CSV files [here](https://github.com/LambdaSchool/data-science-practice-datasets/tree/main/unit_1/Instacart_small), before you load them into your notebook."
   ]
  },
  {
   "cell_type": "markdown",
   "metadata": {},
   "source": [
    "**Task 1** - Load CSV files\n",
    "\n",
    "We're going to look at the Instacart data and load the files as we need them. The Pandas and numpy import statements have been provided for you as well as the URL for the dataset.\n",
    "\n",
    "* Using the provided URL (`data_url1`) load the product CSV file into a DataFrame called `product_names`.\n",
    "* Print the top five records (or rows) of `product_names`."
   ]
  },
  {
   "cell_type": "code",
   "execution_count": null,
   "metadata": {
    "deletable": false,
    "nbgrader": {
     "cell_type": "code",
     "checksum": "0df9e574dae5253e3ce8f5cd52cf1eb0",
     "grade": false,
     "grade_id": "cell-ef51cab74649e553",
     "locked": false,
     "schema_version": 3,
     "solution": true,
     "task": false
    }
   },
   "outputs": [],
   "source": [
    "# Task 1\n",
    "\n",
    "# Imports \n",
    "import pandas as pd\n",
    "import numpy as np\n",
    "\n",
    "# Dataset URL\n",
    "data_url1 = 'https://raw.githubusercontent.com/LambdaSchool/data-science-practice-datasets/main/unit_1/Instacart_small/product_names_sm.csv'\n",
    "# YOUR CODE HERE\n",
    "raise NotImplementedError()\n",
    "\n",
    "# View the DataFrame\n",
    "product_names.head()"
   ]
  },
  {
   "cell_type": "code",
   "execution_count": null,
   "metadata": {
    "deletable": false,
    "editable": false,
    "nbgrader": {
     "cell_type": "code",
     "checksum": "bea14a7668c2db125da981949f9ca157",
     "grade": true,
     "grade_id": "cell-cf00b9647815499e",
     "locked": true,
     "points": 1,
     "schema_version": 3,
     "solution": false,
     "task": false
    }
   },
   "outputs": [],
   "source": [
    "# Task 1 - Test\n",
    "\n",
    "assert isinstance(product_names, pd.DataFrame), 'Have you created a DataFrame named `product_names`?'\n",
    "assert len(product_names) == 25000\n"
   ]
  },
  {
   "cell_type": "markdown",
   "metadata": {},
   "source": [
    "**Task 2** - DataFrame concatenation\n",
    "\n",
    "Next, we're going to load two additional CSV files. The URLs have been provided so your task is to load the files into the appropriately named DataFrames and then to concatenate them into one DataFrame.\n",
    "\n",
    "* Load the CSV file at `data_url2` into a DataFrame called `order_products_prior`.\n",
    "* Load the CSV file at `data_url3` into a DataFrame called `order_products_train`.\n",
    "* Concatenate `order_products_prior` and `order_products_train` into one DataFrame called `order_products`."
   ]
  },
  {
   "cell_type": "code",
   "execution_count": null,
   "metadata": {
    "deletable": false,
    "nbgrader": {
     "cell_type": "code",
     "checksum": "0e2a4229faf4b498e687f1c24477d172",
     "grade": false,
     "grade_id": "cell-0f442142d6bc8c39",
     "locked": false,
     "schema_version": 3,
     "solution": true,
     "task": false
    }
   },
   "outputs": [],
   "source": [
    "# Task 2\n",
    "\n",
    "# Dataset URLs\n",
    "data_url2 = 'https://raw.githubusercontent.com/LambdaSchool/data-science-practice-datasets/main/unit_1/Instacart_small/order_products_prior_sm.csv'\n",
    "data_url3 = 'https://raw.githubusercontent.com/LambdaSchool/data-science-practice-datasets/main/unit_1/Instacart_small/order_products_train_sm.csv'\n",
    "\n",
    "# YOUR CODE HERE\n",
    "raise NotImplementedError()\n",
    "\n",
    "# Print the head to view your results\n",
    "order_products.head()"
   ]
  },
  {
   "cell_type": "code",
   "execution_count": null,
   "metadata": {
    "deletable": false,
    "editable": false,
    "nbgrader": {
     "cell_type": "code",
     "checksum": "f90e3884b129f04c1f9f5ff1402ba9eb",
     "grade": true,
     "grade_id": "cell-3637e4ba19b79349",
     "locked": true,
     "points": 1,
     "schema_version": 3,
     "solution": false,
     "task": false
    }
   },
   "outputs": [],
   "source": [
    "# Task 2 - Test\n",
    "\n",
    "assert isinstance(order_products, pd.DataFrame), 'Have you created a DataFrame named `order_products`?'\n",
    "assert len(order_products) == 50000\n"
   ]
  },
  {
   "cell_type": "markdown",
   "metadata": {},
   "source": [
    "**Task 3** - Top 10 products\n",
    "\n",
    "Execute the code below to identify the top 10 most ordered products. The `ten_products` variable has been created for you. \n",
    "\n",
    "* Use `type()` to determine the data type of the variable `ten_products`; name the result `data_type`."
   ]
  },
  {
   "cell_type": "code",
   "execution_count": null,
   "metadata": {
    "deletable": false,
    "nbgrader": {
     "cell_type": "code",
     "checksum": "5ab57f98f702afed68d1ff123e802b76",
     "grade": false,
     "grade_id": "cell-ad8e4664b33be149",
     "locked": false,
     "schema_version": 3,
     "solution": true,
     "task": false
    }
   },
   "outputs": [],
   "source": [
    "# Task 3\n",
    "\n",
    "# Top 10 products: ten_products\n",
    "\n",
    "ten_products = [\"Banana\",\n",
    "                \"Bag of Organic Bananas\",\n",
    "                \"Organic Strawberries\",\n",
    "                \"Organic Baby Spinach\",\n",
    "                \"Organic Hass Avocado\",\n",
    "                \"Organic Avocado\",\n",
    "                \"Large Lemon\",\n",
    "                \"Strawberries\",\n",
    "                \"Limes\",\n",
    "                \"Organic Whole Milk\"]\n",
    "\n",
    "# Determine the data type of ten_products\n",
    "\n",
    "# YOUR CODE HERE\n",
    "raise NotImplementedError()"
   ]
  },
  {
   "cell_type": "code",
   "execution_count": null,
   "metadata": {
    "deletable": false,
    "editable": false,
    "nbgrader": {
     "cell_type": "code",
     "checksum": "1881a6de16e1b99ee8079d49df463b3c",
     "grade": true,
     "grade_id": "cell-0e8a931d7088b469",
     "locked": true,
     "points": 1,
     "schema_version": 3,
     "solution": false,
     "task": false
    }
   },
   "outputs": [],
   "source": [
    "# Task 3 - Test\n"
   ]
  },
  {
   "cell_type": "markdown",
   "metadata": {},
   "source": [
    "**Task 4** - DataFrame subset using merge\n",
    "\n",
    "Create a subset of the `product_names` dataset that includes just the top 10 most ordered products. The `ten_products` list has been converted to a DataFrame with the name `ten`. Your task is to merge these DataFrames.\n",
    "\n",
    "* Merge `product_names` and `ten` so the resulting DataFrame only includes the 10 most ordered products.  Name that DataFrame `top_products`."
   ]
  },
  {
   "cell_type": "code",
   "execution_count": null,
   "metadata": {
    "deletable": false,
    "nbgrader": {
     "cell_type": "code",
     "checksum": "a6da1a4baa9907e3083c1618479150ef",
     "grade": false,
     "grade_id": "cell-7818f18ec6921fb0",
     "locked": false,
     "schema_version": 3,
     "solution": true,
     "task": false
    }
   },
   "outputs": [],
   "source": [
    "# Task 4\n",
    "\n",
    "# Convert ten_products to a DataFrame called ten\n",
    "ten = pd.DataFrame(ten_products, columns =['product_name']) \n",
    "\n",
    "# Create a subset of product_names with only the top 10 products.  \n",
    "# Use your merge statement to include only the top 10 products\n",
    "\n",
    "# YOUR CODE HERE\n",
    "raise NotImplementedError()\n",
    "\n",
    "# Print your DataFrame to view the merge results\n",
    "top_products.head()"
   ]
  },
  {
   "cell_type": "code",
   "execution_count": null,
   "metadata": {
    "deletable": false,
    "editable": false,
    "nbgrader": {
     "cell_type": "code",
     "checksum": "9769c64dd865fbdbc362cbcc974844fd",
     "grade": true,
     "grade_id": "cell-e329e3cdc129ba49",
     "locked": true,
     "points": 1,
     "schema_version": 3,
     "solution": false,
     "task": false
    }
   },
   "outputs": [],
   "source": [
    "# Task 4 - Test\n",
    "assert isinstance(top_products, pd.DataFrame), 'Have you created a DataFrame named `top_products`?'\n"
   ]
  },
  {
   "cell_type": "markdown",
   "metadata": {},
   "source": [
    "**Task 5** - More DataFrame merging\n",
    "\n",
    "Now we're going to merge the first DataFrame we created (`order_products`) with the one we just made above (`top_products`). This will result in a DataFrame with only the top 10 most ordered products.\n",
    "\n",
    "* Merge `order_products` and `top_products` and name the resulting DataFrame `final`.\n",
    "* Print the top 20 rows of `final` to view your result."
   ]
  },
  {
   "cell_type": "code",
   "execution_count": null,
   "metadata": {
    "deletable": false,
    "nbgrader": {
     "cell_type": "code",
     "checksum": "4b31e9ae3b32f4b50b9babe55c54d78a",
     "grade": false,
     "grade_id": "cell-977f302dd89af1df",
     "locked": false,
     "schema_version": 3,
     "solution": true,
     "task": false
    }
   },
   "outputs": [],
   "source": [
    "# Task 5\n",
    "\n",
    "# Merge order_products and top_products \n",
    "\n",
    "# YOUR CODE HERE\n",
    "raise NotImplementedError()\n",
    "\n",
    "# Print your final DataFrame\n"
   ]
  },
  {
   "cell_type": "code",
   "execution_count": null,
   "metadata": {
    "deletable": false,
    "editable": false,
    "nbgrader": {
     "cell_type": "code",
     "checksum": "b77bb69c1cd5f1526f18741c2987b57a",
     "grade": true,
     "grade_id": "cell-0c48a0352b6596f5",
     "locked": true,
     "points": 1,
     "schema_version": 3,
     "solution": false,
     "task": false
    }
   },
   "outputs": [],
   "source": [
    "# Task 5 - Test\n",
    "assert isinstance(final, pd.DataFrame), 'Have you created a DataFrame named `final`?'\n"
   ]
  },
  {
   "cell_type": "markdown",
   "metadata": {},
   "source": [
    "**Task 6** - Top 10 products value counts\n",
    "\n",
    "Note that every record in `final` is a single instance in which someone ordered one of the top 10 products.  Your task is to calcluate the number of times each product was ordered.\n",
    "\n",
    "* Calculate the number of times each product was ordered using `value_counts()`. Name the result `food_frequency`.\n",
    "* Assign the most frequently ordered food to the variable `top_item` (your variable should be a string; make sure to use the exact formatting returned above)."
   ]
  },
  {
   "cell_type": "code",
   "execution_count": null,
   "metadata": {
    "deletable": false,
    "nbgrader": {
     "cell_type": "code",
     "checksum": "a8d6e7e16d6bab4e7bc5d15403ea3f2d",
     "grade": false,
     "grade_id": "cell-9a3735ded06b8419",
     "locked": false,
     "schema_version": 3,
     "solution": true,
     "task": false
    }
   },
   "outputs": [],
   "source": [
    "# Task 6\n",
    "\n",
    "# Determine the number of times each product was ordered\n",
    "\n",
    "# YOUR CODE HERE\n",
    "raise NotImplementedError()\n",
    "\n",
    "# View your results\n",
    "food_frequency.head(10)"
   ]
  },
  {
   "cell_type": "code",
   "execution_count": null,
   "metadata": {
    "deletable": false,
    "editable": false,
    "nbgrader": {
     "cell_type": "code",
     "checksum": "9e4427b2ea62006abfe7f6b5d45a9b0e",
     "grade": true,
     "grade_id": "cell-e7858bb55bf086fb",
     "locked": true,
     "points": 1,
     "schema_version": 3,
     "solution": false,
     "task": false
    }
   },
   "outputs": [],
   "source": [
    "# Task 6 - Test\n",
    "assert food_frequency.shape == (10,), 'Check to make sure you merged correctly'\n"
   ]
  },
  {
   "cell_type": "markdown",
   "metadata": {},
   "source": [
    "**Task 7** - Using `groupby()` and `mean()`\n",
    "\n",
    "In this next step, we're going to import one last CSV file and look at the time of day an order was made. Some of the code has been provided for you - your task is to complete the merging and look at the mean time of the top 10 orders.\n",
    "\n",
    "**Completed for you**\n",
    "* Imported `orders_sm.csv` as the DataFrame `orders`.\n",
    "* Merged `orders` and `final` into a DataFrame called `final_times` that only includes the top 10 foods.\n",
    "\n",
    "**Your tasks**\n",
    "* Use the `groupby()` and `mean()` functions to calculate the mean time each product was ordered (`order_hour_of_day`).\n",
    "* Name the results of your calculation `mean_hours`.\n",
    "\n",
    "Note: You might notice some values in `mean_hours` have NaN for the times - this is because these items aren't represented in the smaller dataset we used in this Module Project."
   ]
  },
  {
   "cell_type": "code",
   "execution_count": null,
   "metadata": {
    "deletable": false,
    "nbgrader": {
     "cell_type": "code",
     "checksum": "3f6306538a2456559907f9d90ffd80f9",
     "grade": false,
     "grade_id": "cell-8932129638b4d019",
     "locked": false,
     "schema_version": 3,
     "solution": true,
     "task": false
    }
   },
   "outputs": [],
   "source": [
    "# Task 7\n",
    "\n",
    "# COMPLETED FOR YOU\n",
    "# Import orders.csv and name the DataFrame orders\n",
    "data_url4 = 'https://raw.githubusercontent.com/LambdaSchool/data-science-practice-datasets/main/unit_1/Instacart_small/orders_sm.csv'\n",
    "orders = pd.read_csv(data_url4)\n",
    "# Merge orders and final into the DataFrame final_time\n",
    "final_time = pd.merge(orders, final, on='order_id', how='right')\n",
    "\n",
    "# Use groupby() and mean() to calculate the mean time each product was ordered\n",
    "\n",
    "# YOUR CODE HERE\n",
    "raise NotImplementedError()\n",
    "\n",
    "# View your results\n",
    "mean_hours.head(10)"
   ]
  },
  {
   "cell_type": "code",
   "execution_count": null,
   "metadata": {
    "deletable": false,
    "editable": false,
    "nbgrader": {
     "cell_type": "code",
     "checksum": "12c5dc889aa1e74de2ec02ae4b6492a5",
     "grade": true,
     "grade_id": "cell-22190fff81957bb7",
     "locked": true,
     "points": 1,
     "schema_version": 3,
     "solution": false,
     "task": false
    }
   },
   "outputs": [],
   "source": [
    "# Task 7 - Test\n",
    "assert mean_hours.shape == (10,), 'Check to make sure you merged correctly'\n"
   ]
  },
  {
   "cell_type": "markdown",
   "metadata": {},
   "source": [
    "**Task 8** - Mean order time\n",
    "\n",
    "Using the results from above, determine the mean order time for two of the top ten items: \"Limes\" and \"Organic Baby Spinach\"\n",
    "\n",
    "* Find the mean order time for \"Limes\" and assign it to the variable `time_limes`. Your answer should be a float defined to one decimal place.\n",
    "* Find the mean order time for \"Organic Baby Spinach\" and assign it to the variable `time_spinach`. You answer should be a float defined to one decimal place."
   ]
  },
  {
   "cell_type": "code",
   "execution_count": null,
   "metadata": {
    "deletable": false,
    "nbgrader": {
     "cell_type": "code",
     "checksum": "710e71f05c3f22a2dda049a7f398d590",
     "grade": false,
     "grade_id": "cell-b160e1511b2388db",
     "locked": false,
     "schema_version": 3,
     "solution": true,
     "task": false
    }
   },
   "outputs": [],
   "source": [
    "# Task 8\n",
    "\n",
    "# YOUR CODE HERE\n",
    "raise NotImplementedError()"
   ]
  },
  {
   "cell_type": "markdown",
   "metadata": {},
   "source": [
    "**Task 8 Test**"
   ]
  },
  {
   "cell_type": "code",
   "execution_count": null,
   "metadata": {
    "deletable": false,
    "editable": false,
    "nbgrader": {
     "cell_type": "code",
     "checksum": "03f2008f561ced4f894cd38f52633ab2",
     "grade": true,
     "grade_id": "cell-c138ab110b2bcf90",
     "locked": true,
     "points": 1,
     "schema_version": 3,
     "solution": false,
     "task": false
    }
   },
   "outputs": [],
   "source": [
    "# Task 8 - Test\n"
   ]
  }
 ],
 "metadata": {
  "kernelspec": {
   "display_name": "Python 3",
   "language": "python",
   "name": "python3"
  },
  "language_info": {
   "codemirror_mode": {
    "name": "ipython",
    "version": 3
   },
   "file_extension": ".py",
   "mimetype": "text/x-python",
   "name": "python",
   "nbconvert_exporter": "python",
   "pygments_lexer": "ipython3",
   "version": "3.7.4"
  }
 },
 "nbformat": 4,
 "nbformat_minor": 4
}
