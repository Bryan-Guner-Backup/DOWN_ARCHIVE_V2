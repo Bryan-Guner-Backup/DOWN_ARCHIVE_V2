{
 "metadata": {
  "language_info": {
   "codemirror_mode": {
    "name": "ipython",
    "version": 3
   },
   "file_extension": ".py",
   "mimetype": "text/x-python",
   "name": "python",
   "nbconvert_exporter": "python",
   "pygments_lexer": "ipython3",
   "version": "3.8.5-final"
  },
  "orig_nbformat": 2,
  "kernelspec": {
   "name": "Python 3.8.5 64-bit ('bridges': conda)",
   "display_name": "Python 3.8.5 64-bit ('bridges': conda)",
   "metadata": {
    "interpreter": {
     "hash": "4368c9daf815594993dffb1168695d0cd0ba2a8255d4d6d102b0bfa1e4fa78fe"
    }
   }
  }
 },
 "nbformat": 4,
 "nbformat_minor": 2,
 "cells": [
  {
   "cell_type": "code",
   "execution_count": 1,
   "metadata": {},
   "outputs": [
    {
     "output_type": "execute_result",
     "data": {
      "text/plain": [
       "Index(['Unnamed: 0', 'country', 'province', 'district', 'district_id',\n",
       "       'sector', 'sector_id', 'cell', 'cell_id', 'village', 'village_id',\n",
       "       'name', 'project_code', 'type', 'stage', 'sub_stage',\n",
       "       'Individuals_directly_served', 'span', 'lat', 'long',\n",
       "       'community_served_1', 'community_served_1_id', 'community_served_2',\n",
       "       'community_served_2_id', 'community_served_3', 'community_served_3_id',\n",
       "       'community_served_4', 'community_served_4_id', 'community_served_5',\n",
       "       'community_served_5_id', 'form', 'case_safe_id', 'opportunity_id'],\n",
       "      dtype='object')"
      ]
     },
     "metadata": {},
     "execution_count": 1
    }
   ],
   "source": [
    "import pandas as pd\n",
    "\n",
    "path1 = \"../data/final/B2P_Rwanda_matchedIDs_final_2020-09-24.csv\"\n",
    "\n",
    "df = pd.read_csv(path1)\n",
    "df.columns"
   ]
  },
  {
   "cell_type": "code",
   "execution_count": 2,
   "metadata": {},
   "outputs": [],
   "source": [
    "# variables for average household, mean and median income\n",
    "avg_household = 4.2\n",
    "mean_income_rwf = 1353.81 # per day\n",
    "mean_income_usd = 1.39 # per day\n",
    "median_income = 0 # don't have this information yet"
   ]
  },
  {
   "cell_type": "code",
   "execution_count": 3,
   "metadata": {},
   "outputs": [],
   "source": [
    "df['inc_income'] = (df['Individuals_directly_served'] / avg_household)"
   ]
  },
  {
   "cell_type": "code",
   "execution_count": 4,
   "metadata": {},
   "outputs": [
    {
     "output_type": "execute_result",
     "data": {
      "text/plain": [
       "count    1423.000000\n",
       "mean       12.141686\n",
       "std       154.593943\n",
       "min         0.000000\n",
       "25%         0.000000\n",
       "50%         0.000000\n",
       "75%         0.000000\n",
       "max      4111.904762\n",
       "Name: inc_income, dtype: float64"
      ]
     },
     "metadata": {},
     "execution_count": 4
    }
   ],
   "source": [
    "df['inc_income'].describe()"
   ]
  },
  {
   "cell_type": "code",
   "execution_count": 5,
   "metadata": {},
   "outputs": [],
   "source": [
    "df['inc_income_rwf'] = df['inc_income'] * mean_income_rwf\n",
    "df['inc_income_usd'] = df['inc_income'] * mean_income_usd"
   ]
  },
  {
   "cell_type": "code",
   "execution_count": 17,
   "metadata": {},
   "outputs": [],
   "source": [
    "df['inc_income_rwf'] = df['inc_income_rwf'].astype(float).round(decimals=2)\n",
    "df['inc_income_usd'] = df['inc_income_usd'].astype(float).round(decimals=2)"
   ]
  },
  {
   "cell_type": "code",
   "execution_count": 18,
   "metadata": {},
   "outputs": [],
   "source": [
    "df.to_csv(\"../data/final/B2P_Rwanda_matchedIDs_final_2020-10-07.csv\")"
   ]
  },
  {
   "cell_type": "code",
   "execution_count": null,
   "metadata": {},
   "outputs": [],
   "source": []
  }
 ]
}