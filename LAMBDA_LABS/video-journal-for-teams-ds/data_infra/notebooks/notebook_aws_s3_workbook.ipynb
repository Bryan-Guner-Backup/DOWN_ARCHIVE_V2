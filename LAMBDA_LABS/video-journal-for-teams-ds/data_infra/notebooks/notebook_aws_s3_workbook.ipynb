{
 "cells": [
  {
   "cell_type": "markdown",
   "metadata": {},
   "source": [
    "# Notebook: Working with AWS S3 (for Video Storage)"
   ]
  },
  {
   "cell_type": "markdown",
   "metadata": {},
   "source": [
    "## **Setup:**"
   ]
  },
  {
   "cell_type": "code",
   "execution_count": 1,
   "metadata": {},
   "outputs": [],
   "source": [
    "# Import libraries we will use:\n",
    "import boto3  # boto3 is AWS's Python SDK, by AWS\n",
    "from botocore.exceptions import ClientError\n",
    "from dotenv import load_dotenv\n",
    "import json\n",
    "import logging\n",
    "import os"
   ]
  },
  {
   "cell_type": "code",
   "execution_count": 2,
   "metadata": {},
   "outputs": [],
   "source": [
    "# Get access info from .env file:\n",
    "load_dotenv()\n",
    "\n",
    "AWS_ACCESS_KEY_ID =os.getenv(\"AWS_ACCESS_KEY_ID\")\n",
    "AWS_SECRET_ACCESS_KEY = os.getenv(\"AWS_SECRET_ACCESS_KEY\")\n",
    "\n",
    "S3_BUCKET_NAME = os.getenv(\"S3_BUCKET_NAME\")"
   ]
  },
  {
   "cell_type": "code",
   "execution_count": 3,
   "metadata": {},
   "outputs": [],
   "source": [
    "# Create an S3 Service Resource:\n",
    "s3 = boto3.resource('s3',\n",
    "                    aws_access_key_id=AWS_ACCESS_KEY_ID,\n",
    "                    aws_secret_access_key=AWS_SECRET_ACCESS_KEY\n",
    "                   )\n",
    "\n",
    "# Make an S3 client with boto3:\n",
    "s3_client = boto3.client('s3')  # Automatically loads AWS keys from .env file"
   ]
  },
  {
   "cell_type": "markdown",
   "metadata": {},
   "source": [
    "## Functions: For Working with Our S3 Buckets (for Video Storage):"
   ]
  },
  {
   "cell_type": "code",
   "execution_count": 4,
   "metadata": {},
   "outputs": [],
   "source": [
    "def s3_download_file(bucket, filename, key=None):\n",
    "    \"\"\"\n",
    "    Download the specified file from the specified S3 bucket.\n",
    "\n",
    "    Parameters:\n",
    "    bucket: Name of the bucket to get the file from\n",
    "    filename: File to download\n",
    "    key: S3 key of the file to download\n",
    "\n",
    "    Returns: True if file was downloaded, else False.\n",
    "    \"\"\"\n",
    "\n",
    "    # If S3 key and/or object_name were not specified, fill in based on filename:\n",
    "    if key is None:\n",
    "        key = 'videos/' + filename\n",
    "\n",
    "    # Upload the file to the specified S3 bucket:\n",
    "    try:\n",
    "        response = s3_client.download_file(Bucket=bucket,\n",
    "                                           Filename=filename,\n",
    "                                           Key=key)\n",
    "    except ClientError as e:\n",
    "        logging.error(e)\n",
    "        return False\n",
    "    return True"
   ]
  },
  {
   "cell_type": "code",
   "execution_count": 5,
   "metadata": {},
   "outputs": [],
   "source": [
    "def s3_upload_file(bucket, filename, key=None):\n",
    "    \"\"\"\n",
    "    Upload a file to an S3 bucket.\n",
    "\n",
    "    Parameters:\n",
    "    bucket: Name of the bucket to upload to\n",
    "    filename: File to upload\n",
    "    key: S3 key to upload the file as (e.g., 'videos/<file-name>')\n",
    "\n",
    "    Returns: True if file was uploaded, else False.\n",
    "    \"\"\"\n",
    "\n",
    "    # If S3 key and/or object_name were not specified, fill in based on filename:\n",
    "    if key is None:\n",
    "        key = 'videos/' + filename\n",
    "\n",
    "    # Upload the file to the specified S3 bucket:\n",
    "    try:\n",
    "        response = s3_client.upload_file(Bucket=bucket,\n",
    "                                         Filename=filename,\n",
    "                                         Key=key)\n",
    "    except ClientError as e:\n",
    "        logging.error(e)\n",
    "        return False\n",
    "    return True"
   ]
  },
  {
   "cell_type": "markdown",
   "metadata": {},
   "source": [
    "## Testing Our Functions:"
   ]
  },
  {
   "cell_type": "code",
   "execution_count": null,
   "metadata": {},
   "outputs": [],
   "source": [
    "# Before: No video files in our project directory:"
   ]
  },
  {
   "cell_type": "code",
   "execution_count": 6,
   "metadata": {},
   "outputs": [
    {
     "name": "stdout",
     "output_type": "stream",
     "text": [
      "Notebook_Test_Functions_AWS_SQS_S3_PythonSDK_PostgreSQL_DB.ipynb\n",
      "Notebook_Test_Functions_PostgreSQL_DB.ipynb\n",
      "notebook_aws_s3_workbook.ipynb\n",
      "notebook_aws_sqs_workbook.ipynb\n"
     ]
    }
   ],
   "source": [
    "ls"
   ]
  },
  {
   "cell_type": "code",
   "execution_count": 7,
   "metadata": {},
   "outputs": [],
   "source": [
    "video_s3_filename = 'ALPACAVID-59imNfASe.webm'\n",
    "video_s3_key = 'videos/ALPACAVID-59imNfASe.webm'"
   ]
  },
  {
   "cell_type": "code",
   "execution_count": 8,
   "metadata": {},
   "outputs": [
    {
     "data": {
      "text/plain": [
       "True"
      ]
     },
     "execution_count": 8,
     "metadata": {},
     "output_type": "execute_result"
    }
   ],
   "source": [
    "# Downloads the raw video file from the S3 bucket to your project directory:\n",
    "s3_download_file(bucket=S3_BUCKET_NAME, \n",
    "                 filename=video_s3_filename,\n",
    "                 key=video_s3_key)"
   ]
  },
  {
   "cell_type": "code",
   "execution_count": 10,
   "metadata": {},
   "outputs": [],
   "source": [
    "# After: Raw video file with the above S3 key now downloaded to our project directory:"
   ]
  },
  {
   "cell_type": "code",
   "execution_count": 9,
   "metadata": {},
   "outputs": [
    {
     "name": "stdout",
     "output_type": "stream",
     "text": [
      "ALPACAVID-59imNfASe.webm\n",
      "Notebook_Test_Functions_AWS_SQS_S3_PythonSDK_PostgreSQL_DB.ipynb\n",
      "Notebook_Test_Functions_PostgreSQL_DB.ipynb\n",
      "notebook_aws_s3_workbook.ipynb\n",
      "notebook_aws_sqs_workbook.ipynb\n"
     ]
    }
   ],
   "source": [
    "ls"
   ]
  },
  {
   "cell_type": "markdown",
   "metadata": {},
   "source": [
    " "
   ]
  },
  {
   "cell_type": "markdown",
   "metadata": {},
   "source": [
    "-------"
   ]
  },
  {
   "cell_type": "markdown",
   "metadata": {},
   "source": [
    "## For Reference Only: Other S3 Operations"
   ]
  },
  {
   "cell_type": "code",
   "execution_count": 11,
   "metadata": {},
   "outputs": [],
   "source": [
    "# # FOR REFERENCE ONLY (Not Used Here):\n",
    "# # Other relevant functions for working with a boto3 S3 *resource* \n",
    "# # # (e.g., \"s3\" defined above): \n",
    "\n",
    "# # -------------------------------------------------------\n",
    "\n",
    "# # List all buckets in our S3 account:\n",
    "# for bucket in s3.buckets.all():\n",
    "#     print(bucket.name)\n",
    "\n",
    "# # -------------------------------------------------------\n",
    "\n",
    "# # List all objects in our DS test/development bucket:\n",
    "# for object in s3.Bucket('team-reel-development-ds').objects.all():\n",
    "#     print(object.key)"
   ]
  },
  {
   "cell_type": "code",
   "execution_count": 12,
   "metadata": {},
   "outputs": [
    {
     "name": "stdout",
     "output_type": "stream",
     "text": [
      "alpaca-vids-storage\n",
      "alpaca-vids-storage-staging\n",
      "team-reel-development-ds\n"
     ]
    }
   ],
   "source": [
    "# List all buckets in our S3 account:\n",
    "for bucket in s3.buckets.all():\n",
    "    print(bucket.name)"
   ]
  },
  {
   "cell_type": "code",
   "execution_count": 13,
   "metadata": {},
   "outputs": [
    {
     "name": "stdout",
     "output_type": "stream",
     "text": [
      "avatars/\n",
      "avatars/superhero-1.png\n",
      "avatars/superhero-10.png\n",
      "avatars/superhero-11.png\n",
      "avatars/superhero-12.png\n",
      "avatars/superhero-2.png\n",
      "avatars/superhero-3.png\n",
      "avatars/superhero-4.png\n",
      "avatars/superhero-5.png\n",
      "avatars/superhero-6.png\n",
      "avatars/superhero-7.png\n",
      "avatars/superhero-8.png\n",
      "avatars/superhero-9.png\n",
      "photos/\n",
      "photos/ALPACAPIC--GvgKrXP.jpeg\n",
      "photos/ALPACAPIC-10nSlXqAc.jpeg\n",
      "photos/ALPACAPIC-24Vxap8xZ.jpeg\n",
      "photos/ALPACAPIC-2r5MGVreh.jpeg\n",
      "photos/ALPACAPIC-AmbH9VTpE.jpeg\n",
      "photos/ALPACAPIC-F4M-ykBrv.png\n",
      "photos/ALPACAPIC-FN-xTqK2.jpeg\n",
      "photos/ALPACAPIC-Hj3uXNozR.jpeg\n",
      "photos/ALPACAPIC-Hj5ufn-M.jpeg\n",
      "photos/ALPACAPIC-JCTndS1n3.png\n",
      "photos/ALPACAPIC-JyWS4Do-F.png\n",
      "photos/ALPACAPIC-MLaW1fhf.jpeg\n",
      "photos/ALPACAPIC-NNW3Y5pz0.png\n",
      "photos/ALPACAPIC-Os83NRcS.png\n",
      "photos/ALPACAPIC-StrGzZx7.gif\n",
      "photos/ALPACAPIC-TKsBJyTQ1.jpeg\n",
      "photos/ALPACAPIC-V8pVTqaO.jpeg\n",
      "photos/ALPACAPIC-cVqwHt1P9.jpeg\n",
      "photos/ALPACAPIC-c_jxSbYVh.jpeg\n",
      "photos/ALPACAPIC-cqdYAsr5I.jpeg\n",
      "photos/ALPACAPIC-g8HCuuTC2.jpeg\n",
      "photos/ALPACAPIC-gPZ1NF3CL.jpeg\n",
      "photos/ALPACAPIC-lnee1AYuW.jpeg\n",
      "photos/ALPACAPIC-vtgQDBPt.jpeg\n",
      "photos/ALPACAPIC-yM4SdFmg2.png\n",
      "photos/ALPACAPIC-yt8yjTrHp.jpeg\n",
      "videos/\n",
      "videos/ALPACAVID--7svnYlca.webm\n",
      "videos/ALPACAVID-2E2cOLT2-.webm\n",
      "videos/ALPACAVID-4Nv2BiOdU.webm\n",
      "videos/ALPACAVID-59imNfASe.webm\n",
      "videos/ALPACAVID-5jAjlUh1_.webm\n",
      "videos/ALPACAVID-86Iztw3_.webm\n",
      "videos/ALPACAVID-8FhBlps2.webm\n",
      "videos/ALPACAVID-8PnaBQvtZ.webm\n",
      "videos/ALPACAVID-8bVFKH0lu.webm\n",
      "videos/ALPACAVID-9zuIgyQo.webm\n",
      "videos/ALPACAVID-AKJ9GADkT.webm\n",
      "videos/ALPACAVID-Bqtc1YRky.webm\n",
      "videos/ALPACAVID-EpV8rudeP.webm\n",
      "videos/ALPACAVID-H4Sj5KM1t.webm\n",
      "videos/ALPACAVID-HQW0V_REP.webm\n",
      "videos/ALPACAVID-I8K6uKK4.webm\n",
      "videos/ALPACAVID-IV4hPEIv.webm\n",
      "videos/ALPACAVID-IqiaRlfd4.webm\n",
      "videos/ALPACAVID-OPXcwOQ2.webm\n",
      "videos/ALPACAVID-OmLoUUxKj.webm\n",
      "videos/ALPACAVID-PFz5-JWjy.webm\n",
      "videos/ALPACAVID-PXw4hkmL.webm\n",
      "videos/ALPACAVID-Rh_zBeMLJ.webm\n",
      "videos/ALPACAVID-SaHNan3kz.webm\n",
      "videos/ALPACAVID-SjBblOX7.webm\n",
      "videos/ALPACAVID-VsjV25xa5.webm\n",
      "videos/ALPACAVID-Z_Sn1U0T.webm\n",
      "videos/ALPACAVID-bYSo5mHPM.webm\n",
      "videos/ALPACAVID-cospCJta.webm\n",
      "videos/ALPACAVID-dWaS8HpA.webm\n",
      "videos/ALPACAVID-gJmn4O_ud.webm\n",
      "videos/ALPACAVID-i7swK-Wzc.webm\n",
      "videos/ALPACAVID-l-EJgZEjU.webm\n",
      "videos/ALPACAVID-l3Vlyt5vJ.webm\n",
      "videos/ALPACAVID-p8MYJKVKy.webm\n",
      "videos/ALPACAVID-poye16OO.webm\n",
      "videos/ALPACAVID-raVlI-RHa.webm\n",
      "videos/ALPACAVID-wHgVXLxaK.webm\n",
      "videos/ALPACAVID-x7-kYmNuf.webm\n"
     ]
    }
   ],
   "source": [
    "# List all objects in our DS test/development bucket:\n",
    "for object in s3.Bucket('team-reel-development-ds').objects.all():\n",
    "    print(object.key)"
   ]
  },
  {
   "cell_type": "code",
   "execution_count": 14,
   "metadata": {},
   "outputs": [],
   "source": [
    "# # FOR REFERENCE ONLY (Not Used Here):\n",
    "# # Other relevant functions for working with a boto3 S3 *client* \n",
    "# # (e.g., 's3_client' defined above): \n",
    "\n",
    "# # -------------------------------------------------------\n",
    "\n",
    "# # Show all S3 buckets in our account:\n",
    "# s3_client.list_buckets()\n",
    "\n",
    "# # -------------------------------------------------------\n",
    "\n",
    "# # Print the name of each S3 bucket in our account:\n",
    "# for bucket in s3_client.list_buckets()['Buckets']:\n",
    "#     print(bucket['Name'])\n",
    "\n",
    "# # -------------------------------------------------------\n",
    "\n",
    "# # List all objects (files) in a specified S3 bucket):\n",
    "# bucket_subfolder = 'videos'\n",
    "# objects_in_bucket = s3_client.list_objects_v2(Bucket=S3_BUCKET_NAME, \n",
    "#                                               Prefix=bucket_subfolder + '/')\n",
    "# objects_in_bucket['Contents']\n",
    "\n",
    "# # -------------------------------------------------------\n",
    "\n",
    "# # Download a file from specified S3 bucket:\n",
    "\n",
    "# # Using the S3 boto3 client:\n",
    "# s3_client.download_file(Bucket=S3_BUCKET_NAME, \n",
    "#                         Key='videos/ALPACAVID-59imNfASe.webm', \n",
    "#                         Filename='ALPACAVID-59imNfASe.webm'\n",
    "#                        )\n",
    "\n",
    "# # # ALTERNATIVE syntax for the same, using the boto3 Resource directly (instead of making a client too):\n",
    "# # s3.meta.client.download_file(Bucket=S3_BUCKET_NAME, \n",
    "# #                              Key='videos/ALPACAVID-59imNfASe.webm', \n",
    "# #                              Filename='ALPACAVID-59imNfASe.webm'\n",
    "# #                             )\n",
    "\n",
    "# # -------------------------------------------------------\n",
    "\n",
    "# # Upload file to S3 (add to specified bucket):\n",
    "\n",
    "# test128_upload = s3_client.upload_file(Bucket=S3_BUCKET_NAME, \n",
    "#                                        Filename='ALPACAVID-59imNfASe.webm', \n",
    "#                                        Key='videos/ALPACAVID-59imNfASe.webm'\n",
    "#                                       )"
   ]
  }
 ],
 "metadata": {
  "kernelspec": {
   "display_name": "Python 3",
   "language": "python",
   "name": "python3"
  },
  "language_info": {
   "codemirror_mode": {
    "name": "ipython",
    "version": 3
   },
   "file_extension": ".py",
   "mimetype": "text/x-python",
   "name": "python",
   "nbconvert_exporter": "python",
   "pygments_lexer": "ipython3",
   "version": "3.7.6"
  }
 },
 "nbformat": 4,
 "nbformat_minor": 4
}
