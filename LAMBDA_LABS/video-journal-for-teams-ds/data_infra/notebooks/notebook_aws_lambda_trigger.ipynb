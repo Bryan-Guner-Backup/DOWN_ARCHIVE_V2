{
 "cells": [
  {
   "cell_type": "markdown",
   "metadata": {},
   "source": [
    "# **Notebook: AWS Lambda Function**"
   ]
  },
  {
   "cell_type": "markdown",
   "metadata": {},
   "source": [
    "# Trigger for: TeamReel DS SQS Queue --> DS API Endpoint analyze_new_video():"
   ]
  },
  {
   "cell_type": "markdown",
   "metadata": {},
   "source": [
    "## Setup:"
   ]
  },
  {
   "cell_type": "code",
   "execution_count": 77,
   "metadata": {},
   "outputs": [],
   "source": [
    "# pip/pipenv install requests"
   ]
  },
  {
   "cell_type": "code",
   "execution_count": 38,
   "metadata": {},
   "outputs": [
    {
     "data": {
      "text/plain": [
       "True"
      ]
     },
     "execution_count": 38,
     "metadata": {},
     "output_type": "execute_result"
    }
   ],
   "source": [
    "# Import modules/libraries we will use:\n",
    "\n",
    "# Import external/third-party libraries we will use:\n",
    "import json\n",
    "from dotenv import load_dotenv\n",
    "import os\n",
    "import requests\n",
    "\n",
    "# Get access info from .env file:\n",
    "load_dotenv()"
   ]
  },
  {
   "cell_type": "code",
   "execution_count": 39,
   "metadata": {},
   "outputs": [],
   "source": [
    "# TeamReel DS API Endpoints:\n",
    "api_url = os.getenv(\"TEAMREEL_DS_API_URL\")\n",
    "endpoint_home = \"\"\n",
    "endpoint_analyze_new_video = \"analyze_new_video\"\n",
    "endpoint_get_user_performance = \"get_user_performance\"\n",
    "endpoint_get_prompt_top_responses = \"get_prompt_top_responses\"\n",
    "endpoint_get_video_analysis = \"get_video_analysis\""
   ]
  },
  {
   "cell_type": "markdown",
   "metadata": {},
   "source": [
    "## Functions for Using Our TeamReel DS API Endpoints:"
   ]
  },
  {
   "cell_type": "code",
   "execution_count": 48,
   "metadata": {},
   "outputs": [],
   "source": [
    "def ds_api_home(url:str):\n",
    "    \"\"\"\n",
    "    Get request to our TeamReel DS API's home (base) route.\n",
    "    \"\"\"\n",
    "    \n",
    "    # Request to home route:\n",
    "    response = requests.get(url=url)\n",
    "\n",
    "    # Response:\n",
    "    print(f\"Response: {response.ok} with status code {response.status_code}\")\n",
    "    print(f\"From URL: {response.url}\")\n",
    "    \n",
    "    return response.content"
   ]
  },
  {
   "cell_type": "code",
   "execution_count": 49,
   "metadata": {},
   "outputs": [],
   "source": [
    "def ds_api_analyze_new_video(url:str, request_body_dict:dict):\n",
    "    \"\"\"\n",
    "    Get request to our TeamReel DS API's /get_user_performance endpoint.\n",
    "    \"\"\"\n",
    "    \n",
    "    # Request to get_user_performance endpoint:\n",
    "    response = requests.post(url = url, \n",
    "                            json = request_body_dict)\n",
    "\n",
    "    # Response:\n",
    "    print(f\"Response OK?: {response.ok}, with status code {response.status_code}\")\n",
    "    print(f\"From URL: {response.url}\")\n",
    "    \n",
    "    if response.text == 'No new videos uploaded since last check.':\n",
    "        return response.text\n",
    "    else:\n",
    "        return response.json()"
   ]
  },
  {
   "cell_type": "code",
   "execution_count": 50,
   "metadata": {},
   "outputs": [],
   "source": [
    "def ds_api_get_user_performance(url:str, request_body_dict:dict):\n",
    "    \"\"\"\n",
    "    Get request to our TeamReel DS API's /get_user_performance endpoint.\n",
    "    \"\"\"\n",
    "    \n",
    "    # Request to get_user_performance endpoint:\n",
    "    response = requests.post(url = url, \n",
    "                            json = request_body_dict)\n",
    "\n",
    "    # Response:\n",
    "    print(f\"Response OK?: {response.ok}, with status code {response.status_code}\")\n",
    "    print(f\"From URL: {response.url}\")\n",
    "    \n",
    "    return response.json()"
   ]
  },
  {
   "cell_type": "code",
   "execution_count": 51,
   "metadata": {},
   "outputs": [],
   "source": [
    "def ds_api_get_video_analysis(url:str, request_body_dict:dict):\n",
    "    \"\"\"\n",
    "    Get request to our TeamReel DS API's /get_video_analysis endpoint.\n",
    "    \"\"\"\n",
    "    \n",
    "    # Request to get_user_performance endpoint:\n",
    "    response = requests.post(url = url, \n",
    "                            json = request_body_dict)\n",
    "\n",
    "    # Response:\n",
    "    print(f\"Response OK?: {response.ok}, with status code {response.status_code}\")\n",
    "    print(f\"From URL: {response.url}\")\n",
    "    \n",
    "    return response.json()"
   ]
  },
  {
   "cell_type": "code",
   "execution_count": 52,
   "metadata": {},
   "outputs": [],
   "source": [
    "def ds_api_get_prompt_top_responses(url:str, request_body_dict:dict):\n",
    "    \"\"\"\n",
    "    Get request to our TeamReel DS API's /get_prompt_top_responses endpoint.\n",
    "    \"\"\"\n",
    "    \n",
    "    # Request to get_user_performance endpoint:\n",
    "    response = requests.post(url = url, \n",
    "                            json = request_body_dict)\n",
    "\n",
    "    # Response:\n",
    "    print(f\"Response OK?: {response.ok}, with status code {response.status_code}\")\n",
    "    print(f\"From URL: {response.url}\")\n",
    "    \n",
    "    return response.json()"
   ]
  },
  {
   "cell_type": "markdown",
   "metadata": {},
   "source": [
    "## Test Our DS API Endpoints (Using the Functions Above):"
   ]
  },
  {
   "cell_type": "code",
   "execution_count": 53,
   "metadata": {},
   "outputs": [
    {
     "name": "stdout",
     "output_type": "stream",
     "text": [
      "Response: True with status code 200\n",
      "From URL: https://team-reel-ds-api.herokuapp.com/\n"
     ]
    },
    {
     "data": {
      "text/plain": [
       "b'<!-- Comment: This is our home or base route template. -->\\n\\n<!DOCTYPE html>\\n<html>\\n  <head>\\n    <title>Welcome to the Team Reel Interview Analysis API!</title>\\n    <link rel=\"stylesheet\" href=\"https://unpkg.com/picnic\">\\n  </head>\\n\\n  <body>\\n    <h1>Welcome to the Team Reel Interview Analysis API!</h1>\\n    <h2>Endpoints:\\n</h2>\\n    <h3>For DS/ML Internal Use:</h3>\\n    <ul>\\n      <li>/analyze_new_video&#39;: This endpoint gets the new video and\\n    its DB info --&gt; analyzes the video using our ML functions (+ also gets\\n    any human feedback on that video from the TeamReel DB) --&gt; adds/updates\\n    the analysis for that video in the &#39;video_feedback&#39; table in our DB.\\n    Triggered by AWS Lambda function when any new video is uploaded by a user.\\n\\n    Pipeline: TeamReel user uploads new video in front-end -&gt; save to our S3\\n    bucket -&gt; S3 posts notification by adding message to our SQS queue\\n    -&gt; AWS Lambda function checks SQS queue for messages -&gt; AWS Lambda\\n    function calls this API endpoint to trigger video analysis whenever\\n    there is any message (video waiting to be processed) in SQS).\\n\\n    Returns true if received.</li>\\n    </ul>\\n\\n    <h3>For Front-end (Web, iOS, Android) to Get Info (Analysis):</h3>\\n    <ul>\\n      <li>/analyze_new_video&#39;: This endpoint gets the new video and\\n    its DB info --&gt; analyzes the video using our ML functions (+ also gets\\n    any human feedback on that video from the TeamReel DB) --&gt; adds/updates\\n    the analysis for that video in the &#39;video_feedback&#39; table in our DB.\\n    Triggered by AWS Lambda function when any new video is uploaded by a user.\\n\\n    Pipeline: TeamReel user uploads new video in front-end -&gt; save to our S3\\n    bucket -&gt; S3 posts notification by adding message to our SQS queue\\n    -&gt; AWS Lambda function checks SQS queue for messages -&gt; AWS Lambda\\n    function calls this API endpoint to trigger video analysis whenever\\n    there is any message (video waiting to be processed) in SQS).\\n\\n    Returns true if received.</li>\\n      <li>/get_user_performance: Takes in a JSON with a TeamReel\\n    user_id (the &#39;id&#39; in our DB&#39;s &#39;users&#39; table), and returns a JSON with\\n    analysis of that user&#39;s interview performance to date.</li>\\n      <li>/get_prompt_top_responses: Takes in a JSON with a TeamReel\\n    prompt_id (the id in our DB&#39;s prompts table), and returns a JSON with\\n    that prompt&#39;s top 3 video responses.</li>\\n      <li>/get_video_analysis: Takes in a JSON with a TeamReel\\n    video_id (the id in our DB&#39;s videos table), and returns a JSON with\\n    the performance analysis for that video.</li>\\n    </ul>\\n  </body>\\n</html>'"
      ]
     },
     "execution_count": 53,
     "metadata": {},
     "output_type": "execute_result"
    }
   ],
   "source": [
    "# DS API endpoint: home (base route)\n",
    "ds_api_home(url = api_url)"
   ]
  },
  {
   "cell_type": "code",
   "execution_count": 54,
   "metadata": {},
   "outputs": [
    {
     "name": "stdout",
     "output_type": "stream",
     "text": [
      "Response OK?: True, with status code 200\n",
      "From URL: https://team-reel-ds-api.herokuapp.com/analyze_new_video\n"
     ]
    },
    {
     "data": {
      "text/plain": [
       "'No new videos uploaded since last check.'"
      ]
     },
     "execution_count": 54,
     "metadata": {},
     "output_type": "execute_result"
    }
   ],
   "source": [
    "# DS API endpoint: /analyze_new_video\n",
    "ds_api_analyze_new_video(url = api_url + endpoint_analyze_new_video, \n",
    "                         request_body_dict = {\"any_random_key\": \"any value\"})"
   ]
  },
  {
   "cell_type": "code",
   "execution_count": 55,
   "metadata": {},
   "outputs": [
    {
     "name": "stdout",
     "output_type": "stream",
     "text": [
      "Response OK?: True, with status code 200\n",
      "From URL: https://team-reel-ds-api.herokuapp.com/get_user_performance\n"
     ]
    },
    {
     "data": {
      "text/plain": [
       "{'charts': {'overall_score_breakdown_chart': {'data': [{'marker': {'color': 'rgb(106,81,163)'},\n",
       "     'name': '11-14 m/s',\n",
       "     'r': [77.5, 72.5, 70, 45, 22.5, 42.5, 40, 62.5],\n",
       "     't': ['North', 'N-E', 'East', 'S-E', 'South', 'S-W', 'West', 'N-W'],\n",
       "     'type': 'area'},\n",
       "    {'marker': {'color': 'rgb(158,154,200)'},\n",
       "     'name': '8-11 m/s',\n",
       "     'r': [57.5, 50, 45, 35, 20, 22.5, 37.5, 55],\n",
       "     't': ['North', 'N-E', 'East', 'S-E', 'South', 'S-W', 'West', 'N-W'],\n",
       "     'type': 'area'},\n",
       "    {'marker': {'color': 'rgb(203,201,226)'},\n",
       "     'name': '5-8 m/s',\n",
       "     'r': [40, 30, 30, 35, 7.5, 7.5, 32.5, 40],\n",
       "     't': ['North', 'N-E', 'East', 'S-E', 'South', 'S-W', 'West', 'N-W'],\n",
       "     'type': 'area'},\n",
       "    {'font': {'family': 'Arial, sans-serif', 'size': 16},\n",
       "     'marker': {'color': 'rgb(242,240,247)'},\n",
       "     'name': '< 5 m/s',\n",
       "     'r': [20, 7.5, 15, 22.5, 2.5, 2.5, 12.5, 22.5],\n",
       "     't': ['North', 'N-E', 'East', 'S-E', 'South', 'S-W', 'West', 'N-W'],\n",
       "     'type': 'area'}],\n",
       "   'layout': {'font': {'family': 'Arial, sans-serif', 'size': 16},\n",
       "    'orientation': 270,\n",
       "    'radialaxis': {'ticksuffix': '%'},\n",
       "    'showlegend': False,\n",
       "    'title': {'text': 'Wind Speed Distribution in Laurel, NE'}}},\n",
       "  'overall_score_progress_chart': {'data': [{'line': {'color': 'rgb(255, 127, 14)',\n",
       "      'shape': 'spline',\n",
       "      'width': 3},\n",
       "     'mode': 'lines',\n",
       "     'name': 'iOS & Android',\n",
       "     'type': 'scatter',\n",
       "     'uid': '45c0a4',\n",
       "     'x': ['2007-12-01',\n",
       "      '2008-12-01',\n",
       "      '2009-12-01',\n",
       "      '2010-12-01',\n",
       "      '2011-12-01',\n",
       "      '2012-12-01',\n",
       "      '2013-12-01',\n",
       "      '2014-12-01',\n",
       "      '2015-12-01'],\n",
       "     'y': ['0',\n",
       "      '45560506.663365364',\n",
       "      '91145081.21192169',\n",
       "      '232447635.15836716',\n",
       "      '580348915.5698586',\n",
       "      '1182888421.2842617',\n",
       "      '1928559640.2194986',\n",
       "      '2578825762.2643065',\n",
       "      '3022276546.8773637']},\n",
       "    {'line': {'color': 'rgb(102, 102, 102)', 'shape': 'spline', 'width': 3},\n",
       "     'mode': 'lines',\n",
       "     'name': 'PCs',\n",
       "     'type': 'scatter',\n",
       "     'uid': 'fc8c63',\n",
       "     'x': ['2007-12-01',\n",
       "      '2008-12-01',\n",
       "      '2009-12-01',\n",
       "      '2010-12-01',\n",
       "      '2011-12-01',\n",
       "      '2012-12-01',\n",
       "      '2013-12-01',\n",
       "      '2014-12-01',\n",
       "      '2015-12-01'],\n",
       "     'y': ['970368995.0626459',\n",
       "      '1095570133.817442',\n",
       "      '1236607941.026805',\n",
       "      '1346092750.7529802',\n",
       "      '1471269821.6225882',\n",
       "      '1517022871.3674688',\n",
       "      '1546770777.4614573',\n",
       "      '1512907263.0000963',\n",
       "      '1463183012.1989794']}],\n",
       "   'frames': [],\n",
       "   'layout': {'annotations': [{'arrowcolor': 'rgba(68, 68, 68, 0)',\n",
       "      'ax': -246,\n",
       "      'ay': -164,\n",
       "      'font': {'color': 'rgb(129, 129, 126)', 'size': 14},\n",
       "      'text': '<b>Estimated global install base (bn)</b>'}],\n",
       "    'autosize': False,\n",
       "    'height': 350,\n",
       "    'legend': {'bgcolor': 'rgba(242, 242, 242, 0)',\n",
       "     'traceorder': 'reversed',\n",
       "     'x': -0.24796901053454015,\n",
       "     'y': 0.9713068181818182},\n",
       "    'margin': {'b': 20, 'l': 175, 'r': 80, 't': 20},\n",
       "    'paper_bgcolor': 'rgb(242, 242, 242)',\n",
       "    'plot_bgcolor': 'rgb(242, 242, 242)',\n",
       "    'title': '\\xa0',\n",
       "    'width': 1000,\n",
       "    'xaxis': {'autorange': True,\n",
       "     'range': [1193687871762.1562, 1448946000000],\n",
       "     'showgrid': False,\n",
       "     'tickformat': '',\n",
       "     'title': '\\xa0',\n",
       "     'type': 'date'},\n",
       "    'yaxis': {'autorange': False,\n",
       "     'gridcolor': 'rgb(208, 208, 208)',\n",
       "     'range': [-100000000, 3600000000],\n",
       "     'ticksuffix': '  ',\n",
       "     'title': '\\xa0',\n",
       "     'type': 'linear'}}}},\n",
       " 'prompt_id': 85,\n",
       " 'scores': {'human_audio_quality': 4.4,\n",
       "  'human_delivery_and_presentation': 3.4,\n",
       "  'human_response_quality': 4.7,\n",
       "  'human_visual_environment': 3.2,\n",
       "  'ml_attitude': 4.5,\n",
       "  'ml_background_noise': 3.9,\n",
       "  'ml_facial_centering': 3.7,\n",
       "  'ml_speaking_speed': 4.1,\n",
       "  'overall_performance_score': 4.3},\n",
       " 'scores_progress': {'overall_performance': [2.3, 3.5, 4.0, 4.3],\n",
       "  'times': ['2020-06-11 16:23:43.657000+0000',\n",
       "   '2020-06-11 16:23:43.657000+0000',\n",
       "   '2020-06-11 16:23:43.657000+0000',\n",
       "   '2020-06-11 16:23:43.657000+0000']},\n",
       " 'user_id': 201,\n",
       " 'video_id': 162}"
      ]
     },
     "execution_count": 55,
     "metadata": {},
     "output_type": "execute_result"
    }
   ],
   "source": [
    "# DS API endpoint: /get_user_performance\n",
    "ds_api_get_user_performance(url = api_url + endpoint_get_user_performance, \n",
    "                            request_body_dict = {\"user_id\": 201})"
   ]
  },
  {
   "cell_type": "code",
   "execution_count": 56,
   "metadata": {},
   "outputs": [
    {
     "name": "stdout",
     "output_type": "stream",
     "text": [
      "Response OK?: True, with status code 200\n",
      "From URL: https://team-reel-ds-api.herokuapp.com/get_video_analysis\n"
     ]
    },
    {
     "data": {
      "text/plain": [
       "{'prompt_id': 85,\n",
       " 'scores': {'human_audio_quality': 4.4,\n",
       "  'human_delivery_and_presentation': 3.4,\n",
       "  'human_response_quality': 4.7,\n",
       "  'human_visual_environment': 3.2,\n",
       "  'ml_attitude': 4.5,\n",
       "  'ml_background_noise': 3.9,\n",
       "  'ml_facial_centering': 3.7,\n",
       "  'ml_speaking_speed': 4.1,\n",
       "  'overall_performance_score': 4.3},\n",
       " 'user_id': 201,\n",
       " 'video_id': 162}"
      ]
     },
     "execution_count": 56,
     "metadata": {},
     "output_type": "execute_result"
    }
   ],
   "source": [
    "# DS API endpoint: /get_video_analysis\n",
    "ds_api_get_user_performance(url = api_url + endpoint_get_video_analysis, \n",
    "                            request_body_dict = {\"video_id\": 156})"
   ]
  },
  {
   "cell_type": "code",
   "execution_count": 57,
   "metadata": {},
   "outputs": [
    {
     "name": "stdout",
     "output_type": "stream",
     "text": [
      "Response OK?: True, with status code 200\n",
      "From URL: https://team-reel-ds-api.herokuapp.com/get_prompt_top_responses\n"
     ]
    },
    {
     "data": {
      "text/plain": [
       "{'prompt_id': 85,\n",
       " 'video_responses_top_3': [{'score_overall_performance': 4.3,\n",
       "   'user_id': 201,\n",
       "   'video_id': 162,\n",
       "   'video_s3_filename': 'ALPACAVID-Q8H6aTJWG.mp4',\n",
       "   'video_s3_key': 'videos/ALPACAVID-Q8H6aTJWG.mp4'},\n",
       "  {'score_overall_performance': 4.3,\n",
       "   'user_id': 201,\n",
       "   'video_id': 162,\n",
       "   'video_s3_filename': 'ALPACAVID-Q8H6aTJWG.mp4',\n",
       "   'video_s3_key': 'videos/ALPACAVID-Q8H6aTJWG.mp4'},\n",
       "  {'score_overall_performance': 4.3,\n",
       "   'user_id': 201,\n",
       "   'video_id': 162,\n",
       "   'video_s3_filename': 'ALPACAVID-Q8H6aTJWG.mp4',\n",
       "   'video_s3_key': 'videos/ALPACAVID-Q8H6aTJWG.mp4'}]}"
      ]
     },
     "execution_count": 57,
     "metadata": {},
     "output_type": "execute_result"
    }
   ],
   "source": [
    "# DS API endpoint: get_prompt_top_responses\n",
    "ds_api_get_user_performance(url = api_url + endpoint_get_prompt_top_responses, \n",
    "                            request_body_dict = {\"prompt_id\": 85})"
   ]
  }
 ],
 "metadata": {
  "kernelspec": {
   "display_name": "Python 3",
   "language": "python",
   "name": "python3"
  },
  "language_info": {
   "codemirror_mode": {
    "name": "ipython",
    "version": 3
   },
   "file_extension": ".py",
   "mimetype": "text/x-python",
   "name": "python",
   "nbconvert_exporter": "python",
   "pygments_lexer": "ipython3",
   "version": "3.7.0"
  }
 },
 "nbformat": 4,
 "nbformat_minor": 4
}
