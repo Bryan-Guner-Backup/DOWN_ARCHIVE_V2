{
 "cells": [
  {
   "cell_type": "markdown",
   "metadata": {},
   "source": [
    "# Notebook: Testing Our data_infra Package"
   ]
  },
  {
   "cell_type": "markdown",
   "metadata": {},
   "source": [
    "## data_infra Package: PostgreSQL DB; AWS SQS, S3, etc."
   ]
  },
  {
   "cell_type": "code",
   "execution_count": 21,
   "metadata": {},
   "outputs": [],
   "source": [
    "# NOTE: First make sure you are in the TeamReel DS parent directory \n",
    "# (not the 'notebooks_modeling' directory):"
   ]
  },
  {
   "cell_type": "code",
   "execution_count": 22,
   "metadata": {},
   "outputs": [
    {
     "name": "stdout",
     "output_type": "stream",
     "text": [
      "LICENSE                              \u001b[34mdummy-test-api\u001b[m\u001b[m/\n",
      "README.md                            notebook_data_infra_functions.ipynb\n",
      "\u001b[34mdata_infra\u001b[m\u001b[m/                          \u001b[34mnotebooks_modeling\u001b[m\u001b[m/\n"
     ]
    }
   ],
   "source": [
    "ls"
   ]
  },
  {
   "cell_type": "markdown",
   "metadata": {},
   "source": [
    " "
   ]
  },
  {
   "cell_type": "markdown",
   "metadata": {},
   "source": [
    "------------------------"
   ]
  },
  {
   "cell_type": "markdown",
   "metadata": {},
   "source": [
    "### get_next_video(): Database Info & Raw Video File"
   ]
  },
  {
   "cell_type": "markdown",
   "metadata": {},
   "source": [
    "Gets the next newly uploaded video from our queue, downloads it to the project folder, queries our database for info about that video, prompt and user, and returns that info in a Python dictionary."
   ]
  },
  {
   "cell_type": "code",
   "execution_count": 23,
   "metadata": {},
   "outputs": [],
   "source": [
    "# Import:\n",
    "# (Note: Make sure you are in the TeamReel DS parent directory, not 'notebooks_modeling'.)\n",
    "from data_infra import get_next_video"
   ]
  },
  {
   "cell_type": "code",
   "execution_count": 24,
   "metadata": {},
   "outputs": [
    {
     "name": "stdout",
     "output_type": "stream",
     "text": [
      "Help on function get_next_video in module data_infra.data_pipelines:\n",
      "\n",
      "get_next_video()\n",
      "    Gets the next newly uploaded video from our queue, downloads it to the\n",
      "    project folder, queries our database for information about that video,\n",
      "    prompt and user, and returns that info in a Python dictionary.\n",
      "    \n",
      "    (1) Checks our TeamReel AWS SQS queue for new messages (our S3 bucket\n",
      "    sends a new message to SQS everytime any user uploads a new video);\n",
      "    (2) Downloads the raw video file from S3 to your project directory; and\n",
      "    (3) Gets relevant info about that video, prompt and user from our PostgreSQL DB.\n",
      "    \n",
      "    Returns\n",
      "    -------\n",
      "    - If queue has >=1 messages in it: A dictionary with all relevant info\n",
      "    about that video, prompt, and user from our DB.\n",
      "    - If queue is empty: String: \"No messages in queue.\"\n",
      "\n"
     ]
    }
   ],
   "source": [
    "help(get_next_video)"
   ]
  },
  {
   "cell_type": "code",
   "execution_count": 25,
   "metadata": {},
   "outputs": [
    {
     "data": {
      "text/plain": [
       "{'video': {'video_id': 115,\n",
       "  'title': 'HELLO WORLD',\n",
       "  's3_key': 'videos/ALPACAVID-wHgVXLxaK.webm',\n",
       "  's3_filename': 'ALPACAVID-wHgVXLxaK.webm',\n",
       "  'created_at': datetime.datetime(2020, 3, 19, 20, 24, 24, 129000, tzinfo=psycopg2.tz.FixedOffsetTimezone(offset=0, name=None)),\n",
       "  'updated_at': datetime.datetime(2020, 3, 19, 20, 24, 24, 129000, tzinfo=psycopg2.tz.FixedOffsetTimezone(offset=0, name=None))},\n",
       " 'prompt': {'prompt_id': 45,\n",
       "  'question': 'What is you cant think of a question to ask? is there somewhere where you can go to for examples?'},\n",
       " 'user': {'user_id': 143,\n",
       "  'first_name': 'Carlos',\n",
       "  'last_name': 'Hernandez',\n",
       "  'name': 'Carlos Hernandez',\n",
       "  'username': 'carloshernandez'}}"
      ]
     },
     "execution_count": 25,
     "metadata": {},
     "output_type": "execute_result"
    }
   ],
   "source": [
    "video_info = get_next_video()\n",
    "video_info"
   ]
  },
  {
   "cell_type": "code",
   "execution_count": 35,
   "metadata": {},
   "outputs": [],
   "source": [
    "# And now the raw video file is in our project folder too:"
   ]
  },
  {
   "cell_type": "code",
   "execution_count": 26,
   "metadata": {},
   "outputs": [
    {
     "name": "stdout",
     "output_type": "stream",
     "text": [
      "ALPACAVID-wHgVXLxaK.webm             \u001b[34mdummy-test-api\u001b[m\u001b[m/\n",
      "LICENSE                              notebook_data_infra_functions.ipynb\n",
      "README.md                            \u001b[34mnotebooks_modeling\u001b[m\u001b[m/\n",
      "\u001b[34mdata_infra\u001b[m\u001b[m/\n"
     ]
    }
   ],
   "source": [
    "ls"
   ]
  },
  {
   "cell_type": "markdown",
   "metadata": {},
   "source": [
    " "
   ]
  },
  {
   "cell_type": "markdown",
   "metadata": {},
   "source": [
    "------------------"
   ]
  },
  {
   "cell_type": "markdown",
   "metadata": {},
   "source": [
    "### get_video_info(video_s3_key=______): Database Info Only"
   ]
  },
  {
   "cell_type": "markdown",
   "metadata": {},
   "source": [
    "Gets the video, prompt and user info for the specified video (using the input video_s3_key string) from our DB, and returns it in a Python dictionary. Does NOT download the video file."
   ]
  },
  {
   "cell_type": "code",
   "execution_count": 29,
   "metadata": {},
   "outputs": [],
   "source": [
    "# Import:\n",
    "# (Note: Make sure you are in the TeamReel DS parent directory, not 'notebooks_modeling'.)\n",
    "from data_infra import get_video_info"
   ]
  },
  {
   "cell_type": "code",
   "execution_count": 34,
   "metadata": {},
   "outputs": [
    {
     "name": "stdout",
     "output_type": "stream",
     "text": [
      "Help on function get_video_info in module data_infra.postgresql_db_functions:\n",
      "\n",
      "get_video_info(video_s3_key: str)\n",
      "    Using the video's S3 key, looks up info for that video, user and prompt\n",
      "    in our PostgreSQL database, and returns all info in a dictionary with\n",
      "    the following top-level keys:\n",
      "    {\n",
      "        'video': {\n",
      "            info for the video itself\n",
      "        },\n",
      "        'prompt': {\n",
      "            info for the prompt the video was responding to\n",
      "        },\n",
      "        'user': {\n",
      "            includes info for the user who posted the video\n",
      "        }\n",
      "    }\n",
      "\n"
     ]
    }
   ],
   "source": [
    "help(get_video_info)"
   ]
  },
  {
   "cell_type": "code",
   "execution_count": 37,
   "metadata": {},
   "outputs": [
    {
     "data": {
      "text/plain": [
       "{'video': {'video_id': 134,\n",
       "  'title': 'Kyla Oyamot',\n",
       "  's3_key': 'videos/ALPACAVID-i7swK-Wzc.webm',\n",
       "  's3_filename': 'ALPACAVID-i7swK-Wzc.webm',\n",
       "  'created_at': datetime.datetime(2020, 5, 5, 16, 22, 56, 852000, tzinfo=psycopg2.tz.FixedOffsetTimezone(offset=0, name=None)),\n",
       "  'updated_at': datetime.datetime(2020, 5, 5, 16, 22, 56, 852000, tzinfo=psycopg2.tz.FixedOffsetTimezone(offset=0, name=None))},\n",
       " 'prompt': {'prompt_id': 65,\n",
       "  'question': 'What is your first impression of Labs'},\n",
       " 'user': {'user_id': 185,\n",
       "  'first_name': 'Kyla',\n",
       "  'last_name': 'O',\n",
       "  'name': 'Kyla O',\n",
       "  'username': 'kylao'}}"
      ]
     },
     "execution_count": 37,
     "metadata": {},
     "output_type": "execute_result"
    }
   ],
   "source": [
    "video_info = get_video_info(video_s3_key='videos/ALPACAVID-i7swK-Wzc.webm')\n",
    "video_info"
   ]
  },
  {
   "cell_type": "markdown",
   "metadata": {},
   "source": [
    " "
   ]
  },
  {
   "cell_type": "markdown",
   "metadata": {},
   "source": [
    "---------------------------"
   ]
  },
  {
   "cell_type": "markdown",
   "metadata": {},
   "source": [
    "### get_feedback_for_video(video_id=_____): All feedback on that video"
   ]
  },
  {
   "cell_type": "code",
   "execution_count": 31,
   "metadata": {},
   "outputs": [],
   "source": [
    "# Import:\n",
    "# (Note: Make sure you are in the TeamReel DS parent directory, not 'notebooks_modeling'.)\n",
    "from data_infra import get_feedback_for_video"
   ]
  },
  {
   "cell_type": "code",
   "execution_count": 32,
   "metadata": {},
   "outputs": [
    {
     "name": "stdout",
     "output_type": "stream",
     "text": [
      "Help on function get_feedback_for_video in module data_infra.postgresql_db_functions:\n",
      "\n",
      "get_feedback_for_video(video_id: int)\n",
      "    Using the video's video_id in our database, looks up and\n",
      "    returns all feedback on that video.\n",
      "\n"
     ]
    }
   ],
   "source": [
    "help(get_feedback_for_video)"
   ]
  },
  {
   "cell_type": "code",
   "execution_count": 38,
   "metadata": {},
   "outputs": [
    {
     "data": {
      "text/html": [
       "<div>\n",
       "<style scoped>\n",
       "    .dataframe tbody tr th:only-of-type {\n",
       "        vertical-align: middle;\n",
       "    }\n",
       "\n",
       "    .dataframe tbody tr th {\n",
       "        vertical-align: top;\n",
       "    }\n",
       "\n",
       "    .dataframe thead th {\n",
       "        text-align: right;\n",
       "    }\n",
       "</style>\n",
       "<table border=\"1\" class=\"dataframe\">\n",
       "  <thead>\n",
       "    <tr style=\"text-align: right;\">\n",
       "      <th></th>\n",
       "      <th>id</th>\n",
       "      <th>post</th>\n",
       "      <th>video_id</th>\n",
       "      <th>owner_id</th>\n",
       "      <th>created_at</th>\n",
       "      <th>updated_at</th>\n",
       "      <th>viewed</th>\n",
       "    </tr>\n",
       "  </thead>\n",
       "  <tbody>\n",
       "    <tr>\n",
       "      <th>0</th>\n",
       "      <td>135</td>\n",
       "      <td>this is cool!</td>\n",
       "      <td>134</td>\n",
       "      <td>191</td>\n",
       "      <td>2020-05-05 16:23:30.411000+00:00</td>\n",
       "      <td>2020-05-05 16:23:30.411000+00:00</td>\n",
       "      <td>True</td>\n",
       "    </tr>\n",
       "    <tr>\n",
       "      <th>1</th>\n",
       "      <td>136</td>\n",
       "      <td>Great eye contact!</td>\n",
       "      <td>134</td>\n",
       "      <td>199</td>\n",
       "      <td>2020-05-05 16:23:37.899000+00:00</td>\n",
       "      <td>2020-05-05 16:23:37.899000+00:00</td>\n",
       "      <td>True</td>\n",
       "    </tr>\n",
       "    <tr>\n",
       "      <th>2</th>\n",
       "      <td>137</td>\n",
       "      <td>Feedback</td>\n",
       "      <td>134</td>\n",
       "      <td>192</td>\n",
       "      <td>2020-05-05 16:23:52.631000+00:00</td>\n",
       "      <td>2020-05-05 16:23:52.631000+00:00</td>\n",
       "      <td>True</td>\n",
       "    </tr>\n",
       "    <tr>\n",
       "      <th>3</th>\n",
       "      <td>138</td>\n",
       "      <td>feedback</td>\n",
       "      <td>134</td>\n",
       "      <td>200</td>\n",
       "      <td>2020-05-05 16:24:16.773000+00:00</td>\n",
       "      <td>2020-05-05 16:24:16.773000+00:00</td>\n",
       "      <td>True</td>\n",
       "    </tr>\n",
       "    <tr>\n",
       "      <th>4</th>\n",
       "      <td>139</td>\n",
       "      <td>feedback\\n</td>\n",
       "      <td>134</td>\n",
       "      <td>193</td>\n",
       "      <td>2020-05-05 16:24:44.452000+00:00</td>\n",
       "      <td>2020-05-05 16:24:44.452000+00:00</td>\n",
       "      <td>True</td>\n",
       "    </tr>\n",
       "  </tbody>\n",
       "</table>\n",
       "</div>"
      ],
      "text/plain": [
       "    id                post  video_id  owner_id  \\\n",
       "0  135       this is cool!       134       191   \n",
       "1  136  Great eye contact!       134       199   \n",
       "2  137            Feedback       134       192   \n",
       "3  138            feedback       134       200   \n",
       "4  139          feedback\\n       134       193   \n",
       "\n",
       "                        created_at                       updated_at  viewed  \n",
       "0 2020-05-05 16:23:30.411000+00:00 2020-05-05 16:23:30.411000+00:00    True  \n",
       "1 2020-05-05 16:23:37.899000+00:00 2020-05-05 16:23:37.899000+00:00    True  \n",
       "2 2020-05-05 16:23:52.631000+00:00 2020-05-05 16:23:52.631000+00:00    True  \n",
       "3 2020-05-05 16:24:16.773000+00:00 2020-05-05 16:24:16.773000+00:00    True  \n",
       "4 2020-05-05 16:24:44.452000+00:00 2020-05-05 16:24:44.452000+00:00    True  "
      ]
     },
     "execution_count": 38,
     "metadata": {},
     "output_type": "execute_result"
    }
   ],
   "source": [
    "get_feedback_for_video(video_id=134)"
   ]
  },
  {
   "cell_type": "markdown",
   "metadata": {},
   "source": [
    "----------------------------"
   ]
  },
  {
   "cell_type": "markdown",
   "metadata": {},
   "source": [
    "### get_feedback_for_user(user_id=int): All feedback on all of that user's videos"
   ]
  },
  {
   "cell_type": "code",
   "execution_count": 39,
   "metadata": {},
   "outputs": [],
   "source": [
    "# Import:\n",
    "# (Note: Make sure you are in the TeamReel DS parent directory, not 'notebooks_modeling'.)\n",
    "from data_infra import get_feedback_for_user"
   ]
  },
  {
   "cell_type": "code",
   "execution_count": 40,
   "metadata": {},
   "outputs": [
    {
     "name": "stdout",
     "output_type": "stream",
     "text": [
      "Help on function get_feedback_for_user in module data_infra.postgresql_db_functions:\n",
      "\n",
      "get_feedback_for_user(user_id: int)\n",
      "    Using the user's user_id in our database (= 'owner_id' in the 'feedback' table),\n",
      "    looks up and returns all feedback on all of that user's videos.\n",
      "\n"
     ]
    }
   ],
   "source": [
    "help(get_feedback_for_user)"
   ]
  },
  {
   "cell_type": "code",
   "execution_count": 41,
   "metadata": {},
   "outputs": [
    {
     "data": {
      "text/html": [
       "<div>\n",
       "<style scoped>\n",
       "    .dataframe tbody tr th:only-of-type {\n",
       "        vertical-align: middle;\n",
       "    }\n",
       "\n",
       "    .dataframe tbody tr th {\n",
       "        vertical-align: top;\n",
       "    }\n",
       "\n",
       "    .dataframe thead th {\n",
       "        text-align: right;\n",
       "    }\n",
       "</style>\n",
       "<table border=\"1\" class=\"dataframe\">\n",
       "  <thead>\n",
       "    <tr style=\"text-align: right;\">\n",
       "      <th></th>\n",
       "      <th>id</th>\n",
       "      <th>post</th>\n",
       "      <th>video_id</th>\n",
       "      <th>owner_id</th>\n",
       "      <th>created_at</th>\n",
       "      <th>updated_at</th>\n",
       "      <th>viewed</th>\n",
       "    </tr>\n",
       "  </thead>\n",
       "  <tbody>\n",
       "    <tr>\n",
       "      <th>0</th>\n",
       "      <td>134</td>\n",
       "      <td>If you did nothing, nothing would have been done.</td>\n",
       "      <td>130</td>\n",
       "      <td>185</td>\n",
       "      <td>2020-04-29 19:51:30.622000+00:00</td>\n",
       "      <td>2020-04-29 19:51:30.622000+00:00</td>\n",
       "      <td>True</td>\n",
       "    </tr>\n",
       "    <tr>\n",
       "      <th>1</th>\n",
       "      <td>140</td>\n",
       "      <td>Great eye contact!</td>\n",
       "      <td>135</td>\n",
       "      <td>185</td>\n",
       "      <td>2020-05-05 21:35:28.962000+00:00</td>\n",
       "      <td>2020-05-05 21:35:28.962000+00:00</td>\n",
       "      <td>True</td>\n",
       "    </tr>\n",
       "  </tbody>\n",
       "</table>\n",
       "</div>"
      ],
      "text/plain": [
       "    id                                               post  video_id  owner_id  \\\n",
       "0  134  If you did nothing, nothing would have been done.       130       185   \n",
       "1  140                                 Great eye contact!       135       185   \n",
       "\n",
       "                        created_at                       updated_at  viewed  \n",
       "0 2020-04-29 19:51:30.622000+00:00 2020-04-29 19:51:30.622000+00:00    True  \n",
       "1 2020-05-05 21:35:28.962000+00:00 2020-05-05 21:35:28.962000+00:00    True  "
      ]
     },
     "execution_count": 41,
     "metadata": {},
     "output_type": "execute_result"
    }
   ],
   "source": [
    "get_feedback_for_user(user_id=185)"
   ]
  }
 ],
 "metadata": {
  "kernelspec": {
   "display_name": "Python 3",
   "language": "python",
   "name": "python3"
  },
  "language_info": {
   "codemirror_mode": {
    "name": "ipython",
    "version": 3
   },
   "file_extension": ".py",
   "mimetype": "text/x-python",
   "name": "python",
   "nbconvert_exporter": "python",
   "pygments_lexer": "ipython3",
   "version": "3.7.6"
  }
 },
 "nbformat": 4,
 "nbformat_minor": 4
}
