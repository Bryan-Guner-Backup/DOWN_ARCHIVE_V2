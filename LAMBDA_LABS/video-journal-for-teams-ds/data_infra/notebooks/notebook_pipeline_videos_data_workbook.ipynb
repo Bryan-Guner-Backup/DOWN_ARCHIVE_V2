{
 "cells": [
  {
   "cell_type": "markdown",
   "metadata": {},
   "source": [
    "# Notebook: Working with AWS (S3, SQS, Python SDK) and Our PostgreSQL Database:"
   ]
  },
  {
   "cell_type": "markdown",
   "metadata": {},
   "source": [
    "## **Setup:**"
   ]
  },
  {
   "cell_type": "code",
   "execution_count": 2,
   "metadata": {},
   "outputs": [],
   "source": [
    "# Import external modules, packages, libraries we will use:\n",
    "from dotenv import load_dotenv\n",
    "import json\n",
    "import os\n",
    "\n",
    "# # Import internal modules, packages, libraries for this project:\n",
    "# from .aws_sqs_functions import sqs_queue_get_next_item\n",
    "# from .aws_s3_functions import s3_download_file\n",
    "# from .postgresql_db_functions import get_video_info"
   ]
  },
  {
   "cell_type": "code",
   "execution_count": null,
   "metadata": {},
   "outputs": [],
   "source": [
    "# Get access info from .env file:\n",
    "load_dotenv()\n",
    "\n",
    "S3_BUCKET_NAME = os.getenv(\"S3_BUCKET_NAME\")"
   ]
  },
  {
   "cell_type": "markdown",
   "metadata": {},
   "source": [
    "## **Functions for TeamReel Project:**"
   ]
  },
  {
   "cell_type": "code",
   "execution_count": null,
   "metadata": {},
   "outputs": [],
   "source": [
    "def get_next_video():\n",
    "    \"\"\"\n",
    "    Gets the next newly uploaded video from our queue, downloads it to the\n",
    "    project folder, queries our database for information about that video,\n",
    "    prompt and user, and returns that info in a Python dictionary.\n",
    "\n",
    "    (1) Checks our TeamReel AWS SQS queue for new messages (our S3 bucket\n",
    "    sends a new message to SQS everytime any user uploads a new video);\n",
    "    (2) Downloads the raw video file from S3 to your project directory; and\n",
    "    (3) Gets relevant info about that video, prompt and user from our PostgreSQL DB.\n",
    "\n",
    "    Returns\n",
    "    -------\n",
    "    - If queue has >=1 messages in it: A dictionary with all relevant info\n",
    "    about that video, prompt, and user from our DB.\n",
    "    - If queue is empty: String: \"No messages in queue.\"\n",
    "    \"\"\"\n",
    "\n",
    "    # Get next message from SQS queue\n",
    "    # (messages are auto-added by our S3 bucket each time a new video is uploaded to our S3 bucket):\n",
    "    message = sqs_queue_get_next_item()\n",
    "\n",
    "    # Check to see if queue is empty:\n",
    "    if message == \"No messages in queue.\":\n",
    "        return \"No messages in queue.\"\n",
    "\n",
    "    # If queue has messages (is not empty):\n",
    "    else:\n",
    "\n",
    "        # Message info, for deleting it after processing below:\n",
    "        receipt_handle = message['ReceiptHandle']\n",
    "        message_id_sqs = message['MessageId']\n",
    "\n",
    "        # Get video's S3 key and filename from the SQS message:\n",
    "        video_s3_key = json.loads(message['Body'])['Records'][0]['s3']['object']['key']\n",
    "        video_s3_filename = video_s3_key.split('/')[-1]\n",
    "\n",
    "        # -----------------------------------------------------------------------\n",
    "\n",
    "        # Downloads the raw video file from the S3 bucket to your project directory:\n",
    "        s3_download_file(bucket=S3_BUCKET_NAME,\n",
    "                         filename=video_s3_filename,\n",
    "                         key=video_s3_key)\n",
    "\n",
    "        video_info = get_video_info(video_s3_key)\n",
    "\n",
    "        # Delete the message now that we have received and processed it:\n",
    "        sqs_delete_message_from_queue(receipt_handle=receipt_handle)\n",
    "\n",
    "        return video_info"
   ]
  },
  {
   "cell_type": "markdown",
   "metadata": {},
   "source": [
    "## Pipeline: Testing Above Pipeline:"
   ]
  },
  {
   "cell_type": "code",
   "execution_count": 16,
   "metadata": {},
   "outputs": [
    {
     "data": {
      "text/plain": [
       "{'video': {'video_id': 115,\n",
       "  'title': 'HELLO WORLD',\n",
       "  's3_key': 'videos/ALPACAVID-wHgVXLxaK.webm',\n",
       "  's3_filename': 'ALPACAVID-wHgVXLxaK.webm',\n",
       "  'created_at': datetime.datetime(2020, 3, 19, 20, 24, 24, 129000, tzinfo=psycopg2.tz.FixedOffsetTimezone(offset=0, name=None)),\n",
       "  'updated_at': datetime.datetime(2020, 3, 19, 20, 24, 24, 129000, tzinfo=psycopg2.tz.FixedOffsetTimezone(offset=0, name=None))},\n",
       " 'prompt': {'prompt_id': 45,\n",
       "  'question': 'What is you cant think of a question to ask? is there somewhere where you can go to for examples?'},\n",
       " 'user': {'user_id': 143,\n",
       "  'first_name': 'Carlos',\n",
       "  'last_name': 'Hernandez',\n",
       "  'name': 'Carlos Hernandez',\n",
       "  'username': 'carloshernandez'}}"
      ]
     },
     "execution_count": 16,
     "metadata": {},
     "output_type": "execute_result"
    }
   ],
   "source": [
    "# # This will call the above functions to:\n",
    "# # (1) get the next message in the SQS queue (from S3 notification of any new video upload); \n",
    "# # (2) download the raw video file to the project directory; \n",
    "# # (3) delete the message in our SQS queue after processing it; \n",
    "# # (4) return a dictionary with info about that video, prompt and user from our DB:\n",
    "\n",
    "# video_info = get_next_video()\n",
    "# video_info"
   ]
  }
 ],
 "metadata": {
  "kernelspec": {
   "display_name": "Python 3",
   "language": "python",
   "name": "python3"
  },
  "language_info": {
   "codemirror_mode": {
    "name": "ipython",
    "version": 3
   },
   "file_extension": ".py",
   "mimetype": "text/x-python",
   "name": "python",
   "nbconvert_exporter": "python",
   "pygments_lexer": "ipython3",
   "version": "3.7.0"
  }
 },
 "nbformat": 4,
 "nbformat_minor": 4
}
