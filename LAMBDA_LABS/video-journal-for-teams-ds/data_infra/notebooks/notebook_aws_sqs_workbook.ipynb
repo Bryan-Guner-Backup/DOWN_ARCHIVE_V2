{
 "cells": [
  {
   "cell_type": "markdown",
   "metadata": {},
   "source": [
    "# Notebook: Working with AWS SQS Queues"
   ]
  },
  {
   "cell_type": "markdown",
   "metadata": {},
   "source": [
    "## **Setup:**"
   ]
  },
  {
   "cell_type": "code",
   "execution_count": 2,
   "metadata": {},
   "outputs": [],
   "source": [
    "# Import libraries we will use:\n",
    "import boto3  # boto3 is AWS's Python SDK, by AWS\n",
    "from botocore.exceptions import ClientError\n",
    "from dotenv import load_dotenv\n",
    "import json\n",
    "import os"
   ]
  },
  {
   "cell_type": "code",
   "execution_count": 3,
   "metadata": {},
   "outputs": [],
   "source": [
    "# Get access info from .env file:\n",
    "load_dotenv()\n",
    "\n",
    "AWS_ACCESS_KEY_ID =os.getenv(\"AWS_ACCESS_KEY_ID\")\n",
    "AWS_SECRET_ACCESS_KEY = os.getenv(\"AWS_SECRET_ACCESS_KEY\")\n",
    "\n",
    "SQS_QUEUE_NAME = os.getenv(\"SQS_QUEUE_NAME\")"
   ]
  },
  {
   "cell_type": "code",
   "execution_count": 4,
   "metadata": {},
   "outputs": [],
   "source": [
    "# Create an SQS Service Resource:\n",
    "sqs = boto3.resource('sqs',\n",
    "                     aws_access_key_id=AWS_ACCESS_KEY_ID,\n",
    "                     aws_secret_access_key=AWS_SECRET_ACCESS_KEY\n",
    "                    )\n",
    "\n",
    "# Create a client object for SQS, using the access keys in our .env file:\n",
    "sqs_client = boto3.client('sqs',\n",
    "                          aws_access_key_id=AWS_ACCESS_KEY_ID,\n",
    "                          aws_secret_access_key=AWS_SECRET_ACCESS_KEY\n",
    "                         )\n",
    "\n",
    "# Get our queue from SQS:\n",
    "queue = sqs.get_queue_by_name(QueueName=SQS_QUEUE_NAME)"
   ]
  },
  {
   "cell_type": "code",
   "execution_count": 7,
   "metadata": {},
   "outputs": [
    {
     "data": {
      "text/plain": [
       "'https://queue.amazonaws.com/474033564844/queue_development_ds'"
      ]
     },
     "execution_count": 7,
     "metadata": {},
     "output_type": "execute_result"
    }
   ],
   "source": [
    "queue.url"
   ]
  },
  {
   "cell_type": "markdown",
   "metadata": {},
   "source": [
    "## Functions: For Working with Our TeamReel SQS Queues:"
   ]
  },
  {
   "cell_type": "code",
   "execution_count": 34,
   "metadata": {},
   "outputs": [],
   "source": [
    "def sqs_queue_get_next_item():\n",
    "    \"\"\"\n",
    "    Gets the next message from our AWS SQS (Simple Queue Service) queue, and returns it.\n",
    "    \"\"\"\n",
    "\n",
    "    # Get next message from SQS queue\n",
    "    # (messages are auto-added by our S3 bucket each time a new video is uploaded to our S3 bucket):\n",
    "    message = sqs_client.receive_message(QueueUrl=queue.url,\n",
    "                                         MaxNumberOfMessages=1,\n",
    "                                         MessageAttributeNames=['All']\n",
    "                                        )\n",
    "\n",
    "    # Check to see if queue is empty:\n",
    "    if message == []:\n",
    "        return \"No messages in queue.\"\n",
    "    elif (type(message) is dict) and ('Messages' not in message.keys()):\n",
    "        return \"No messages in queue.\"\n",
    "\n",
    "    # If queue has messages (is not empty):\n",
    "    else:\n",
    "        message = message['Messages'][0]\n",
    "        return message"
   ]
  },
  {
   "cell_type": "code",
   "execution_count": null,
   "metadata": {},
   "outputs": [],
   "source": [
    "def sqs_delete_message_from_queue(receipt_handle:str):\n",
    "    \"\"\"\n",
    "    Deletes a just-received message from the queue. (Note: Valid only within\n",
    "    30 seconds of receiving the message, because that is our SQS queue's\n",
    "    visibility timeout. So it is ideal to delete the message in the same run\n",
    "    or same code cell during which you received the message).\n",
    "    \"\"\"\n",
    "    \n",
    "    # Delete message received from SQS queue:\n",
    "    sqs_client.delete_message(\n",
    "        QueueUrl=queue.url,\n",
    "        ReceiptHandle=receipt_handle\n",
    "    )\n",
    "\n",
    "    return True"
   ]
  },
  {
   "cell_type": "markdown",
   "metadata": {},
   "source": [
    "## Testing Our Functions:"
   ]
  },
  {
   "cell_type": "code",
   "execution_count": 35,
   "metadata": {},
   "outputs": [
    {
     "data": {
      "text/plain": [
       "{'MessageId': 'd599669d-e507-428e-96c3-6bad27c600b4',\n",
       " 'ReceiptHandle': 'AQEBnJTmXB5363WSRdIE1t7BG3wOhlL5Je5GRqPH+Hqy8DwdZhrK9YxJrWr4LR0Ez1uJLpMnaMzvGQVav75QeAjzMMYj/tpLUyc0SdcxBrVrIkYYtmSOyIp0Kh+KhrOdgPM1ZdswpWuyzA605q4MJ9iUNt1t5Xd8pEGJ8b0OVGk7yS/zdxQ+zfvXwqsQ7ndw3Qw4Ik+i9sLARHDUzOTS6Dc+7WG3tMXtK/UU251UYhpRFO9IL2yJifxWmlnn2BqVbNmaw5fAs4KiSOd/9gBN8nkuLoihfTv21ur7gQ6XzLeViuXm7oDsF6o8zbo9Xrt9gEo89lK6zjbciaAGT1ViGd9VaHn7joCPuF0UBazHhzyM8th/SDLA3dkIbfZiH8kSzkzfoD+K3QqU3irOIzCsbA+IKg==',\n",
       " 'MD5OfBody': '632b9d3661358fba836b88b5857f4014',\n",
       " 'Body': '{\"Records\":[{\"eventVersion\":\"2.1\",\"eventSource\":\"aws:s3\",\"awsRegion\":\"us-east-1\",\"eventTime\":\"2020-05-28T02:27:12.131Z\",\"eventName\":\"ObjectCreated:Copy\",\"userIdentity\":{\"principalId\":\"AWS:AIDAW4XU2FSWDTS26574E\"},\"requestParameters\":{\"sourceIPAddress\":\"189.146.161.165\"},\"responseElements\":{\"x-amz-request-id\":\"C81C267E29676160\",\"x-amz-id-2\":\"NLaxVEC9WCinAK+uORggDR9OX2VBnqKKJPxajMKgH8TlDVBSQFr24haC+3Fq9mGMyFh8YiO3vSYgjuvHzECpADjWW8UrYAS+\"},\"s3\":{\"s3SchemaVersion\":\"1.0\",\"configurationId\":\"s3-new-video-notification-to-sqs-queue\",\"bucket\":{\"name\":\"team-reel-development-ds\",\"ownerIdentity\":{\"principalId\":\"A1PHJARGKGUIZF\"},\"arn\":\"arn:aws:s3:::team-reel-development-ds\"},\"object\":{\"key\":\"videos/ALPACAVID-wHgVXLxaK.webm\",\"size\":368954,\"eTag\":\"2dbdf0e83139422b0577a20644f79be6\",\"sequencer\":\"005ECF2185C04C07CB\"}}}]}'}"
      ]
     },
     "execution_count": 35,
     "metadata": {},
     "output_type": "execute_result"
    }
   ],
   "source": [
    "sqs_queue_get_next_item()"
   ]
  },
  {
   "cell_type": "markdown",
   "metadata": {},
   "source": [
    " "
   ]
  },
  {
   "cell_type": "markdown",
   "metadata": {},
   "source": [
    "-------------"
   ]
  },
  {
   "cell_type": "markdown",
   "metadata": {},
   "source": [
    "## For Reference Only: Other SQS Operations"
   ]
  },
  {
   "cell_type": "code",
   "execution_count": 36,
   "metadata": {},
   "outputs": [],
   "source": [
    "# # FOR REFERENCE ONLY (Not Used Here):\n",
    "# # Resource objects: Other Relevant Functions for Service *RESOURCE* Objects:\n",
    "\n",
    "# # -------------------------------------------------------\n",
    "\n",
    "# # Create an SQS Resource object (already done above):\n",
    "# sqs = boto3.resource('sqs', \n",
    "#                      aws_access_key_id=AWS_ACCESS_KEY_ID, \n",
    "#                      aws_secret_access_key=AWS_SECRET_ACCESS_KEY\n",
    "#                     )\n",
    "\n",
    "# # -------------------------------------------------------\n",
    "\n",
    "# # List all queues we have in SQS:\n",
    "# for queue in sqs.queues.all():\n",
    "#     print(queue)\n",
    "\n",
    "# # -------------------------------------------------------\n",
    "\n",
    "# # Create a new SQS queue: Standard queue:\n",
    "# queue = sqs.create_queue(QueueName='queue_development_ds_123')\n",
    "\n",
    "# # -------------------------------------------------------\n",
    "\n",
    "# # OR create a new SQS queue: FIFO queue:\n",
    "# queue_test_ds = sqs.create_queue(QueueName='queue_test_ds_123.fifo', \n",
    "#                                  Attributes={\n",
    "#                                      'FifoQueue': 'true', \n",
    "#                                      'ContentBasedDeduplication': 'true'\n",
    "#                                  }\n",
    "#                                 )"
   ]
  },
  {
   "cell_type": "code",
   "execution_count": 37,
   "metadata": {},
   "outputs": [],
   "source": [
    "# # FOR REFERENCE ONLY (Not Used Here):\n",
    "# # Client objects: Other Relevant Functions for Service *CLIENT* Objects:\n",
    "\n",
    "# # -------------------------------------------------------\n",
    "\n",
    "# # Most notable functions for SQS Client objects:\n",
    "\n",
    "# # 'create_queue':\n",
    "# # Similar syntax and usage to create_queue() for an SQS Resource (see above).\n",
    "\n",
    "# # -------------------------------------------------------\n",
    "\n",
    "# # Add message to SQS queue: \n",
    "# # METHOD 1: Message content in MessageBody as a stringified JSON:\n",
    "# sent_message = sqs_client.send_message(QueueUrl=queue.url, \n",
    "#                                        MessageBody=str(message_json), \n",
    "#                                        MessageAttributes=None\n",
    "#                                       )\n",
    "\n",
    "# # Add message to SQS queue: \n",
    "# # METHOD 2: Message content in MessageAttributes as keys, AWS SQS style:\n",
    "# sent_message = sqs_client.send_message(QueueUrl=queue.url, \n",
    "#                                        MessageBody=\"New video uploaded\", \n",
    "#                                        # FifoQueue ONLY: MessageGroupId=\"MessageGroupTeamReel\", \n",
    "#                                        # FifoQueue ONLY: MessageDeduplicationId=\"MessageDeduplicationId1234567892\", \n",
    "#                                        MessageAttributes={\n",
    "#                                            \"video_info\": {\n",
    "#                                                \"DataType\": \"String\", \n",
    "#                                                \"StringValue\": \"user6739820\"\n",
    "#                                            }, \n",
    "#                                            \"prompt_id\": {\n",
    "#                                                \"DataType\": \"String\", \n",
    "#                                                \"StringValue\": \"prompt24850295\"\n",
    "#                                            }, \n",
    "#                                            \"video_id\": {\n",
    "#                                                \"DataType\": \"String\", \n",
    "#                                                \"StringValue\": \"video2548560\"\n",
    "#                                            }, \n",
    "#                                            \"video_s3_key\": {\n",
    "#                                                \"DataType\": \"String\", \n",
    "#                                                \"StringValue\": \"videos/ALPACAVID-l3Vlyt5vJ.webm\"\n",
    "#                                            }, \n",
    "#                                            \"video_s3_filename\": {\n",
    "#                                                \"DataType\": \"String\", \n",
    "#                                                \"StringValue\": \"ALPACAVID-l3Vlyt5vJ.webm\"\n",
    "#                                            }\n",
    "#                                        }\n",
    "#                                       )\n",
    "\n",
    "# # -------------------------------------------------------\n",
    "\n",
    "# # 'delete_message'\n",
    "\n",
    "# # 'delete_message_batch'\n",
    "\n",
    "# # 'delete_queue'\n",
    "\n",
    "# # 'get_queue_attributes'\n",
    "\n",
    "# # 'get_queue_url'\n",
    "\n",
    "# # 'get_waiter'\n",
    "\n",
    "# # 'list_dead_letter_source_queues'\n",
    "\n",
    "# # 'list_queues'\n",
    "\n",
    "# # 'meta'\n",
    "\n",
    "# # 'receive_message'\n",
    "\n",
    "# # 'send_message'\n",
    "\n",
    "# # 'send_message_batch'\n",
    "\n",
    "# # 'waiter_names'"
   ]
  },
  {
   "cell_type": "code",
   "execution_count": 38,
   "metadata": {},
   "outputs": [],
   "source": [
    "# # FOR REFERENCE ONLY (Not Used Here):\n",
    "# # Queue objects: Other Relevant Functions at for *QUEUE* objects:\n",
    "\n",
    "# # -------------------------------------------------------\n",
    "\n",
    "# # Get our queue from an SQS service Resource \n",
    "# # (here, \"sqs\" is the service Resource we established above with the above sqs = boto3.resource(____) code):\n",
    "# queue = sqs.get_queue_by_name(QueueName=SQS_QUEUE_NAME)\n",
    "# queue\n",
    "\n",
    "# # Get URL of queue:\n",
    "# queue.url\n",
    "\n",
    "# # Get other attributes of queue:\n",
    "# queue.attributes\n",
    "\n",
    "# queue.attributes.get('Policy')\n",
    "# # Alternative syntax: queue.attributes['Policy']\n",
    "\n",
    "# queue.attributes.get('DelaySeconds')\n",
    "# # Alternative syntax: queue.attributes['DelaySeconds']\n",
    "\n",
    "# queue.attributes.get('QueueArn').split(':')[-1]\n",
    "# # Alternate syntax for above: queue.attributes['QueueArn'].split(':')[-1]\n",
    "\n",
    "# # Get messages from the queue (up to 10 messages, as per the \n",
    "# # MaxNumberOfMessages param below):\n",
    "# messages = queue.receive_messages(QueueUrl=queue.url, \n",
    "#                                   MaxNumberOfMessages=10, \n",
    "#                                   MessageAttributeNames=['All']\n",
    "#                                  )"
   ]
  },
  {
   "cell_type": "code",
   "execution_count": 48,
   "metadata": {},
   "outputs": [
    {
     "data": {
      "text/plain": [
       "{'Records': [{'eventVersion': '2.1',\n",
       "   'eventSource': 'aws:s3',\n",
       "   'awsRegion': 'us-east-1',\n",
       "   'eventTime': '2020-05-28T02:27:12.131Z',\n",
       "   'eventName': 'ObjectCreated:Copy',\n",
       "   'userIdentity': {'principalId': 'AWS:AIDAW4XU2FSWDTS26574E'},\n",
       "   'requestParameters': {'sourceIPAddress': '189.146.161.165'},\n",
       "   'responseElements': {'x-amz-request-id': 'C81C267E29676160',\n",
       "    'x-amz-id-2': 'NLaxVEC9WCinAK+uORggDR9OX2VBnqKKJPxajMKgH8TlDVBSQFr24haC+3Fq9mGMyFh8YiO3vSYgjuvHzECpADjWW8UrYAS+'},\n",
       "   's3': {'s3SchemaVersion': '1.0',\n",
       "    'configurationId': 's3-new-video-notification-to-sqs-queue',\n",
       "    'bucket': {'name': 'team-reel-development-ds',\n",
       "     'ownerIdentity': {'principalId': 'A1PHJARGKGUIZF'},\n",
       "     'arn': 'arn:aws:s3:::team-reel-development-ds'},\n",
       "    'object': {'key': 'videos/ALPACAVID-wHgVXLxaK.webm',\n",
       "     'size': 368954,\n",
       "     'eTag': '2dbdf0e83139422b0577a20644f79be6',\n",
       "     'sequencer': '005ECF2185C04C07CB'}}}]}"
      ]
     },
     "execution_count": 48,
     "metadata": {},
     "output_type": "execute_result"
    }
   ],
   "source": [
    "# Get all messages from SQS queue (which are auto-added by our S3 bucket \n",
    "# each time a new video is uploaded to our S3 bucket):\n",
    "messages_all = queue.receive_messages(QueueUrl=queue.url, \n",
    "                                      MaxNumberOfMessages=10, \n",
    "                                      MessageAttributeNames=['All']\n",
    "                                     )\n",
    "\n",
    "# Get the content of the first message \n",
    "# (assuming the message is from an S3 bucket notification -> content is \n",
    "# stored in MessageBody and not in MessageAttributes):\n",
    "message_01_json = json.loads(messages_all[0].body)\n",
    "message_01_json"
   ]
  },
  {
   "cell_type": "code",
   "execution_count": 49,
   "metadata": {},
   "outputs": [
    {
     "data": {
      "text/plain": [
       "'videos/ALPACAVID-wHgVXLxaK.webm'"
      ]
     },
     "execution_count": 49,
     "metadata": {},
     "output_type": "execute_result"
    }
   ],
   "source": [
    "# Getting specific info from the raw message above:\n",
    "video_s3_key = message_01_json['Records'][0]['s3']['object']['key']\n",
    "video_s3_key"
   ]
  },
  {
   "cell_type": "code",
   "execution_count": 50,
   "metadata": {},
   "outputs": [],
   "source": [
    "# # FOR REFERENCE ONLY (Not Used Here):\n",
    "# # Message objects: Other Relevant Functions at for *MESSAGE* objects:\n",
    "\n",
    "# # -------------------------------------------------------\n",
    "\n",
    "# # Start with any message (here, we get the first message from the list our \n",
    "# # above queue.receive_messages() call returned):\n",
    "# message = messages[0]\n",
    "\n",
    "# # Get the message's SQS id:\n",
    "# message.message_id\n",
    "\n",
    "# # Get the message body (usually the JSON with the message's main info is stored here):\n",
    "# message.body\n",
    "# # Turn the message body string into a JSON (Python dictionary) we can work with more easily:\n",
    "# json.loads(message.body)\n",
    "\n",
    "# # Get the message's attributes (the content of the message can also be stored as key:value pairs in \n",
    "# # MessageAttributes, so if it's not stored in MessageBody as a str(JSON) then check here):\n",
    "# message.message_attributes\n",
    "\n",
    "# # Which SQS queue does the message come from, and what is that queue's URL?:\n",
    "# message.Queue()\n",
    "# message.queue_url\n",
    "\n",
    "# # Get the message's receipt handle (this is what you need to delete the message from the queue):\n",
    "# message.receipt_handle\n",
    "\n",
    "# # Delete the message from the queue:\n",
    "# # (Note: You may need to input the message's receipt_handle, in which case you need to \n",
    "# # both get the message and delete it in the same code cell or .py file, because a \n",
    "# # receipt_handle is only valid for 1-10 ms or similar):\n",
    "# message.delete"
   ]
  }
 ],
 "metadata": {
  "kernelspec": {
   "display_name": "Python 3",
   "language": "python",
   "name": "python3"
  },
  "language_info": {
   "codemirror_mode": {
    "name": "ipython",
    "version": 3
   },
   "file_extension": ".py",
   "mimetype": "text/x-python",
   "name": "python",
   "nbconvert_exporter": "python",
   "pygments_lexer": "ipython3",
   "version": "3.7.6"
  }
 },
 "nbformat": 4,
 "nbformat_minor": 4
}
